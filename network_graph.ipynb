{
  "cells": [
    {
      "cell_type": "markdown",
      "metadata": {
        "id": "7e5JavIpWcr0"
      },
      "source": [
        "<table class=\"tfo-notebook-buttons\" align=\"left\">\n",
        "  <td>\n",
        "    <a target=\"_blank\" href=\"https://colab.research.google.com/github/ENEE439d-TEXTML/TextML/blob/master/network_graph.ipynb\"><img src=\"https://www.tensorflow.org/images/colab_logo_32px.png\" />Run in Google Colab</a>\n",
        "  </td>\n",
        "  <td>\n",
        "    <a target=\"_blank\" href=\"https://github.com/ENEE439d-TEXTML/TextML/blob/master/network_graph.ipynb\"><img src=\"https://www.tensorflow.org/images/GitHub-Mark-32px.png\" />View source on GitHub</a>\n",
        "  </td>\n",
        "</table>"
      ]
    },
    {
      "cell_type": "markdown",
      "metadata": {
        "id": "PrebiTbjWcr2"
      },
      "source": [
        "# Run through of this tutorial to figure out network drawing and clustering \n",
        "#https://towardsdatascience.com/visualizing-networks-in-python-d70f4cbeb259 "
      ]
    },
    {
      "cell_type": "code",
      "execution_count": 1,
      "metadata": {
        "id": "-CnPwueMWcr3"
      },
      "outputs": [],
      "source": [
        "import pandas as pd\n",
        "import numpy as np\n",
        "import networkx as nx\n",
        "import matplotlib.pyplot as plt\n",
        "%matplotlib inline"
      ]
    },
    {
      "cell_type": "code",
      "execution_count": 26,
      "metadata": {
        "colab": {
          "base_uri": "https://localhost:8080/",
          "height": 376
        },
        "id": "S2YN2W_JWcr4",
        "outputId": "07820604-303e-4c2f-83b1-b86d4465a6d9"
      },
      "outputs": [
        {
          "output_type": "stream",
          "name": "stdout",
          "text": [
            "[ 0  1  2  3  4  5  6  7  8  9 10]\n",
            "[[10  3  6  0  8 10  4  4  1  3  7  1  4  2  5  1  2  2  2  9 10  6]\n",
            " [ 1  7  4  5  8  0  1  7  5  5  5  7  9  9  0  5  8  5  6  2 10  4]]\n",
            "[0.2162067  0.06932506 0.88632352 0.12708799 0.74877375 0.34340674\n",
            " 0.19257517 0.76015217 0.01868696 0.6405758  0.50280144 0.7758769\n",
            " 0.50160427 0.59960887 0.88839514 0.64320076 0.40088911 0.76949313\n",
            " 0.69918902 0.94905498 0.9705005  0.89162253]\n",
            "{'s': [10, 3, 6, 0, 8, 10, 4, 4, 1, 3, 7, 1, 4, 2, 5, 1, 2, 2, 2, 9, 10, 6], 'd': [1, 7, 4, 5, 8, 0, 1, 7, 5, 5, 5, 7, 9, 9, 0, 5, 8, 5, 6, 2, 10, 4], 'w': [0.21620669601478415, 0.0693250597561369, 0.886323518377741, 0.12708798503786278, 0.7487737481836605, 0.3434067411695947, 0.1925751744846942, 0.7601521699494349, 0.018686963898131626, 0.6405757976177454, 0.5028014383685293, 0.7758768957787177, 0.5016042717019478, 0.5996088725886222, 0.8883951361473967, 0.6432007609547842, 0.4008891126243759, 0.7694931280378782, 0.6991890186913255, 0.9490549801761969, 0.9705004954655284, 0.891622530206632]}\n"
          ]
        },
        {
          "output_type": "execute_result",
          "data": {
            "text/plain": [
              "    s  d         w\n",
              "0  10  1  0.216207\n",
              "1   3  7  0.069325\n",
              "2   6  4  0.886324\n",
              "3   0  5  0.127088\n",
              "4   8  8  0.748774"
            ],
            "text/html": [
              "\n",
              "  <div id=\"df-f42bc9ca-09ed-4dae-80c5-8acb183cb0b4\">\n",
              "    <div class=\"colab-df-container\">\n",
              "      <div>\n",
              "<style scoped>\n",
              "    .dataframe tbody tr th:only-of-type {\n",
              "        vertical-align: middle;\n",
              "    }\n",
              "\n",
              "    .dataframe tbody tr th {\n",
              "        vertical-align: top;\n",
              "    }\n",
              "\n",
              "    .dataframe thead th {\n",
              "        text-align: right;\n",
              "    }\n",
              "</style>\n",
              "<table border=\"1\" class=\"dataframe\">\n",
              "  <thead>\n",
              "    <tr style=\"text-align: right;\">\n",
              "      <th></th>\n",
              "      <th>s</th>\n",
              "      <th>d</th>\n",
              "      <th>w</th>\n",
              "    </tr>\n",
              "  </thead>\n",
              "  <tbody>\n",
              "    <tr>\n",
              "      <th>0</th>\n",
              "      <td>10</td>\n",
              "      <td>1</td>\n",
              "      <td>0.216207</td>\n",
              "    </tr>\n",
              "    <tr>\n",
              "      <th>1</th>\n",
              "      <td>3</td>\n",
              "      <td>7</td>\n",
              "      <td>0.069325</td>\n",
              "    </tr>\n",
              "    <tr>\n",
              "      <th>2</th>\n",
              "      <td>6</td>\n",
              "      <td>4</td>\n",
              "      <td>0.886324</td>\n",
              "    </tr>\n",
              "    <tr>\n",
              "      <th>3</th>\n",
              "      <td>0</td>\n",
              "      <td>5</td>\n",
              "      <td>0.127088</td>\n",
              "    </tr>\n",
              "    <tr>\n",
              "      <th>4</th>\n",
              "      <td>8</td>\n",
              "      <td>8</td>\n",
              "      <td>0.748774</td>\n",
              "    </tr>\n",
              "  </tbody>\n",
              "</table>\n",
              "</div>\n",
              "      <button class=\"colab-df-convert\" onclick=\"convertToInteractive('df-f42bc9ca-09ed-4dae-80c5-8acb183cb0b4')\"\n",
              "              title=\"Convert this dataframe to an interactive table.\"\n",
              "              style=\"display:none;\">\n",
              "        \n",
              "  <svg xmlns=\"http://www.w3.org/2000/svg\" height=\"24px\"viewBox=\"0 0 24 24\"\n",
              "       width=\"24px\">\n",
              "    <path d=\"M0 0h24v24H0V0z\" fill=\"none\"/>\n",
              "    <path d=\"M18.56 5.44l.94 2.06.94-2.06 2.06-.94-2.06-.94-.94-2.06-.94 2.06-2.06.94zm-11 1L8.5 8.5l.94-2.06 2.06-.94-2.06-.94L8.5 2.5l-.94 2.06-2.06.94zm10 10l.94 2.06.94-2.06 2.06-.94-2.06-.94-.94-2.06-.94 2.06-2.06.94z\"/><path d=\"M17.41 7.96l-1.37-1.37c-.4-.4-.92-.59-1.43-.59-.52 0-1.04.2-1.43.59L10.3 9.45l-7.72 7.72c-.78.78-.78 2.05 0 2.83L4 21.41c.39.39.9.59 1.41.59.51 0 1.02-.2 1.41-.59l7.78-7.78 2.81-2.81c.8-.78.8-2.07 0-2.86zM5.41 20L4 18.59l7.72-7.72 1.47 1.35L5.41 20z\"/>\n",
              "  </svg>\n",
              "      </button>\n",
              "      \n",
              "  <style>\n",
              "    .colab-df-container {\n",
              "      display:flex;\n",
              "      flex-wrap:wrap;\n",
              "      gap: 12px;\n",
              "    }\n",
              "\n",
              "    .colab-df-convert {\n",
              "      background-color: #E8F0FE;\n",
              "      border: none;\n",
              "      border-radius: 50%;\n",
              "      cursor: pointer;\n",
              "      display: none;\n",
              "      fill: #1967D2;\n",
              "      height: 32px;\n",
              "      padding: 0 0 0 0;\n",
              "      width: 32px;\n",
              "    }\n",
              "\n",
              "    .colab-df-convert:hover {\n",
              "      background-color: #E2EBFA;\n",
              "      box-shadow: 0px 1px 2px rgba(60, 64, 67, 0.3), 0px 1px 3px 1px rgba(60, 64, 67, 0.15);\n",
              "      fill: #174EA6;\n",
              "    }\n",
              "\n",
              "    [theme=dark] .colab-df-convert {\n",
              "      background-color: #3B4455;\n",
              "      fill: #D2E3FC;\n",
              "    }\n",
              "\n",
              "    [theme=dark] .colab-df-convert:hover {\n",
              "      background-color: #434B5C;\n",
              "      box-shadow: 0px 1px 3px 1px rgba(0, 0, 0, 0.15);\n",
              "      filter: drop-shadow(0px 1px 2px rgba(0, 0, 0, 0.3));\n",
              "      fill: #FFFFFF;\n",
              "    }\n",
              "  </style>\n",
              "\n",
              "      <script>\n",
              "        const buttonEl =\n",
              "          document.querySelector('#df-f42bc9ca-09ed-4dae-80c5-8acb183cb0b4 button.colab-df-convert');\n",
              "        buttonEl.style.display =\n",
              "          google.colab.kernel.accessAllowed ? 'block' : 'none';\n",
              "\n",
              "        async function convertToInteractive(key) {\n",
              "          const element = document.querySelector('#df-f42bc9ca-09ed-4dae-80c5-8acb183cb0b4');\n",
              "          const dataTable =\n",
              "            await google.colab.kernel.invokeFunction('convertToInteractive',\n",
              "                                                     [key], {});\n",
              "          if (!dataTable) return;\n",
              "\n",
              "          const docLinkHtml = 'Like what you see? Visit the ' +\n",
              "            '<a target=\"_blank\" href=https://colab.research.google.com/notebooks/data_table.ipynb>data table notebook</a>'\n",
              "            + ' to learn more about interactive tables.';\n",
              "          element.innerHTML = '';\n",
              "          dataTable['output_type'] = 'display_data';\n",
              "          await google.colab.output.renderOutput(dataTable, element);\n",
              "          const docLink = document.createElement('div');\n",
              "          docLink.innerHTML = docLinkHtml;\n",
              "          element.appendChild(docLink);\n",
              "        }\n",
              "      </script>\n",
              "    </div>\n",
              "  </div>\n",
              "  "
            ]
          },
          "metadata": {},
          "execution_count": 26
        }
      ],
      "source": [
        "nodes=11\n",
        "cof=2\n",
        "node_list= np.linspace(0,10,nodes, dtype=int)\n",
        "print(node_list)\n",
        "pairs= np.random.choice(node_list,(cof,nodes*cof))\n",
        "print(pairs)\n",
        "weights= np.random.rand(len(pairs[0]))\n",
        "print(weights)\n",
        "d={'s':list(pairs[0]),'d':list(pairs[1]),'w':list(weights)}\n",
        "df= pd.DataFrame.from_dict(d)\n",
        "df.head()"
      ]
    },
    {
      "cell_type": "code",
      "source": [
        "G = nx.from_pandas_edgelist(df,source='s',target='d',edge_attr='w')\n",
        "print(\"No of unique characters:\", len(G.nodes))\n",
        "print(\"No of connections:\", len(G.edges))"
      ],
      "metadata": {
        "colab": {
          "base_uri": "https://localhost:8080/"
        },
        "id": "30Ewr1qlaRos",
        "outputId": "1370714d-b386-47cc-dcbc-cd15d146153f"
      },
      "execution_count": 27,
      "outputs": [
        {
          "output_type": "stream",
          "name": "stdout",
          "text": [
            "No of unique characters: 11\n",
            "No of connections: 18\n"
          ]
        }
      ]
    },
    {
      "cell_type": "code",
      "source": [
        "# all graph options\n",
        "graphs_viz_options = [nx.draw, nx.draw_networkx, nx.draw_circular, nx.draw_kamada_kawai, nx.draw_random, nx.draw_shell, nx.draw_spring]\n",
        "i=0\n",
        "# plot\n",
        "plt.figure(figsize=(8,6), dpi=100) \n",
        "graphs_viz_options[i](G)"
      ],
      "metadata": {
        "colab": {
          "base_uri": "https://localhost:8080/",
          "height": 636
        },
        "id": "dr4L5FEKal2n",
        "outputId": "e2b30bab-596a-46c5-e584-90b0d4a802f4"
      },
      "execution_count": 28,
      "outputs": [
        {
          "output_type": "display_data",
          "data": {
            "text/plain": [
              "<Figure size 800x600 with 1 Axes>"
            ],
            "image/png": "[encoded data removed]"
          },
          "metadata": {}
        }
      ]
    },
    {
      "cell_type": "markdown",
      "source": [
        "# Text recoloring "
      ],
      "metadata": {
        "id": "osw8ACgwcoF6"
      }
    },
    {
      "cell_type": "code",
      "source": [
        "print(\"\\033[44;33mHello World!\\033[m\")"
      ],
      "metadata": {
        "colab": {
          "base_uri": "https://localhost:8080/"
        },
        "id": "JDK5SCFHbi64",
        "outputId": "33301b08-70a6-4e27-d0c9-9a33a04b2bfe"
      },
      "execution_count": 31,
      "outputs": [
        {
          "output_type": "stream",
          "name": "stdout",
          "text": [
            "\u001b[44;33mHello World!\u001b[m\n"
          ]
        }
      ]
    },
    {
      "cell_type": "code",
      "source": [
        "def colored(r, g, b, text):\n",
        "    return \"\\033[48;2;{};{};{}m{} \\033[38;2;255;255;255m\".format(r, g, b, text)\n",
        "  \n",
        "text = 'Hello, World'\n",
        "colored_text = colored(255, 0, 0, text)\n",
        "print(colored_text)\n",
        "\n",
        "#or\n",
        "\n",
        "print(colored(255, 0, 0, 'Hello, World'))"
      ],
      "metadata": {
        "colab": {
          "base_uri": "https://localhost:8080/"
        },
        "id": "cl4EJI3LcxC8",
        "outputId": "1ee7d007-da41-4b8c-8554-2060c91594ae"
      },
      "execution_count": 37,
      "outputs": [
        {
          "output_type": "stream",
          "name": "stdout",
          "text": [
            "\u001b[48;32;255;0;0mHello, World \u001b[38;2;255;255;255m\n",
            "\u001b[48;32;255;0;0mHello, World \u001b[38;2;255;255;255m\n"
          ]
        }
      ]
    }
  ],
  "metadata": {
    "language_info": {
      "name": "python"
    },
    "orig_nbformat": 4,
    "colab": {
      "name": "network_graph.ipynb",
      "provenance": []
    },
    "kernelspec": {
      "name": "python3",
      "display_name": "Python 3"
    }
  },
  "nbformat": 4,
  "nbformat_minor": 0
}