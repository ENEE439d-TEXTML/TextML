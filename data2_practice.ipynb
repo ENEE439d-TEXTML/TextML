{
  "nbformat": 4,
  "nbformat_minor": 0,
  "metadata": {
    "colab": {
      "name": "data2_practice.ipynb",
      "provenance": [],
      "collapsed_sections": []
    },
    "kernelspec": {
      "name": "python3",
      "display_name": "Python 3"
    },
    "language_info": {
      "name": "python"
    },
    "accelerator": "GPU"
  },
  "cells": [
    {
      "cell_type": "code",
      "execution_count": 31,
      "metadata": {
        "colab": {
          "base_uri": "https://localhost:8080/"
        },
        "id": "asSq0OdN_BQQ",
        "outputId": "331dcd9e-df18-452c-f0d3-f66995ad3070"
      },
      "outputs": [
        {
          "output_type": "stream",
          "name": "stdout",
          "text": [
            "Drive already mounted at /content/drive; to attempt to forcibly remount, call drive.mount(\"/content/drive\", force_remount=True).\n"
          ]
        }
      ],
      "source": [
        "from keras.datasets import imdb\n",
        "import pandas as pd\n",
        "import numpy as np\n",
        "from keras.layers import LSTM, Activation, Dropout, Dense, Input\n",
        "from keras.layers.embeddings import Embedding\n",
        "from keras.models import Model\n",
        "import string\n",
        "import re\n",
        "from keras.preprocessing.text import Tokenizer\n",
        "from sklearn.preprocessing import LabelBinarizer\n",
        "from keras.preprocessing.sequence import pad_sequences\n",
        "import keras\n",
        "from sklearn.model_selection import train_test_split\n",
        "from google.colab import drive\n",
        "drive.mount('/content/drive')\n",
        "\n",
        "data2  = pd.read_csv(\"/content/drive/MyDrive/Maryland/4 Spring/ENEE439D/Text-ML/Jie_Tang_1_Article_All_Part40002.csv\", header=None)\n",
        "\n",
        "imdbdata = pd.read_csv(\"/content/drive/MyDrive/Maryland/4 Spring/ENEE439D/Text-ML/IMDB Dataset.csv\")"
      ]
    },
    {
      "cell_type": "code",
      "source": [
        "sentencedata2 = data2[2]\n",
        "sentencedata2[14]\n"
      ],
      "metadata": {
        "colab": {
          "base_uri": "https://localhost:8080/",
          "height": 35
        },
        "id": "TdJwe50V_rKp",
        "outputId": "93d8e047-13b4-40a3-c113-197b9327e4dd"
      },
      "execution_count": 32,
      "outputs": [
        {
          "output_type": "execute_result",
          "data": {
            "text/plain": [
              "'MATLAB is used as a calculation platform.'"
            ],
            "application/vnd.google.colaboratory.intrinsic+json": {
              "type": "string"
            }
          },
          "metadata": {},
          "execution_count": 32
        }
      ]
    },
    {
      "cell_type": "code",
      "source": [
        "notempty = sentencedata2.notna()\n",
        "notempty"
      ],
      "metadata": {
        "colab": {
          "base_uri": "https://localhost:8080/"
        },
        "id": "CdNkq6LfCrRD",
        "outputId": "e7d6a16a-2d5a-4c73-f620-2e008467be50"
      },
      "execution_count": 23,
      "outputs": [
        {
          "output_type": "execute_result",
          "data": {
            "text/plain": [
              "0       True\n",
              "1      False\n",
              "2      False\n",
              "3      False\n",
              "4      False\n",
              "       ...  \n",
              "121    False\n",
              "122    False\n",
              "123    False\n",
              "124    False\n",
              "125    False\n",
              "Name: 2, Length: 126, dtype: bool"
            ]
          },
          "metadata": {},
          "execution_count": 23
        }
      ]
    },
    {
      "cell_type": "code",
      "source": [
        "sentencedata2=sentencedata2[notempty]\n",
        "sentencedata2 =sentencedata2.drop([0,0])\n"
      ],
      "metadata": {
        "colab": {
          "base_uri": "https://localhost:8080/"
        },
        "id": "DdzES64BEjBc",
        "outputId": "c1805c69-ab54-4628-a58d-ee904d3402e8"
      },
      "execution_count": 38,
      "outputs": [
        {
          "output_type": "execute_result",
          "data": {
            "text/plain": [
              "10     This paper presents a modeling of the mechanic...\n",
              "11     The whole structure is divided into fundamenta...\n",
              "12     These elements are connected via both lumped n...\n",
              "13     The thermo-mechanical and/or the electromagnet...\n",
              "14             MATLAB is used as a calculation platform.\n",
              "                             ...                        \n",
              "111    As shown from the results, a significant therm...\n",
              "112    In this paper, a system-level analytical model...\n",
              "113    Results shows that significant thermally induc...\n",
              "114    Experiments and FEM simulations show good agre...\n",
              "115    The accuracy of this system-level nodal modeli...\n",
              "Name: 2, Length: 105, dtype: object"
            ]
          },
          "metadata": {},
          "execution_count": 38
        }
      ]
    }
  ]
}