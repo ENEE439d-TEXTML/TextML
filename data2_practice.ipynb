{
  "cells": [
    {
      "cell_type": "markdown",
      "metadata": {},
      "source": [
        "<table class=\"tfo-notebook-buttons\" align=\"left\">\n",
        "  <td>\n",
        "    <a target=\"_blank\" href=\"https://colab.research.google.com/github/ENEE439d-TEXTML/TextML/blob/master/data2_practice.ipynb\"><img src=\"https://www.tensorflow.org/images/colab_logo_32px.png\" />Run in Google Colab</a>\n",
        "  </td>\n",
        "  <td>\n",
        "    <a target=\"_blank\" href=\"https://github.com/ENEE439d-TEXTML/TextML/blob/master/data2_practice.ipynb\"><img src=\"https://www.tensorflow.org/images/GitHub-Mark-32px.png\" />View source on GitHub</a>\n",
        "  </td>\n",
        "</table>   "
      ]
    },
    {
      "cell_type": "code",
      "execution_count": 31,
      "metadata": {
        "colab": {
          "base_uri": "https://localhost:8080/"
        },
        "id": "asSq0OdN_BQQ",
        "outputId": "331dcd9e-df18-452c-f0d3-f66995ad3070"
      },
      "outputs": [
        {
          "name": "stdout",
          "output_type": "stream",
          "text": [
            "Drive already mounted at /content/drive; to attempt to forcibly remount, call drive.mount(\"/content/drive\", force_remount=True).\n"
          ]
        }
      ],
      "source": [
        "from keras.datasets import imdb\n",
        "import pandas as pd\n",
        "import numpy as np\n",
        "from keras.layers import LSTM, Activation, Dropout, Dense, Input\n",
        "from keras.layers.embeddings import Embedding\n",
        "from keras.models import Model\n",
        "import string\n",
        "import re\n",
        "from keras.preprocessing.text import Tokenizer\n",
        "from sklearn.preprocessing import LabelBinarizer\n",
        "from keras.preprocessing.sequence import pad_sequences\n",
        "import keras\n",
        "from sklearn.model_selection import train_test_split\n",
        "from google.colab import drive\n",
        "drive.mount('/content/drive')\n",
        "\n",
        "data2  = pd.read_csv(\"/content/drive/MyDrive/Maryland/4 Spring/ENEE439D/Text-ML/Jie_Tang_1_Article_All_Part40002.csv\", header=None)\n",
        "\n",
        "imdbdata = pd.read_csv(\"/content/drive/MyDrive/Maryland/4 Spring/ENEE439D/Text-ML/IMDB Dataset.csv\")"
      ]
    },
    {
      "cell_type": "code",
      "execution_count": 32,
      "metadata": {
        "colab": {
          "base_uri": "https://localhost:8080/",
          "height": 35
        },
        "id": "TdJwe50V_rKp",
        "outputId": "93d8e047-13b4-40a3-c113-197b9327e4dd"
      },
      "outputs": [
        {
          "data": {
            "application/vnd.google.colaboratory.intrinsic+json": {
              "type": "string"
            },
            "text/plain": [
              "'MATLAB is used as a calculation platform.'"
            ]
          },
          "execution_count": 32,
          "metadata": {},
          "output_type": "execute_result"
        }
      ],
      "source": [
        "sentencedata2 = data2[2]\n",
        "sentencedata2[14]\n"
      ]
    },
    {
      "cell_type": "code",
      "execution_count": 23,
      "metadata": {
        "colab": {
          "base_uri": "https://localhost:8080/"
        },
        "id": "CdNkq6LfCrRD",
        "outputId": "e7d6a16a-2d5a-4c73-f620-2e008467be50"
      },
      "outputs": [
        {
          "data": {
            "text/plain": [
              "0       True\n",
              "1      False\n",
              "2      False\n",
              "3      False\n",
              "4      False\n",
              "       ...  \n",
              "121    False\n",
              "122    False\n",
              "123    False\n",
              "124    False\n",
              "125    False\n",
              "Name: 2, Length: 126, dtype: bool"
            ]
          },
          "execution_count": 23,
          "metadata": {},
          "output_type": "execute_result"
        }
      ],
      "source": [
        "notempty = sentencedata2.notna()\n",
        "notempty"
      ]
    },
    {
      "cell_type": "code",
      "execution_count": 38,
      "metadata": {
        "colab": {
          "base_uri": "https://localhost:8080/"
        },
        "id": "DdzES64BEjBc",
        "outputId": "c1805c69-ab54-4628-a58d-ee904d3402e8"
      },
      "outputs": [
        {
          "data": {
            "text/plain": [
              "10     This paper presents a modeling of the mechanic...\n",
              "11     The whole structure is divided into fundamenta...\n",
              "12     These elements are connected via both lumped n...\n",
              "13     The thermo-mechanical and/or the electromagnet...\n",
              "14             MATLAB is used as a calculation platform.\n",
              "                             ...                        \n",
              "111    As shown from the results, a significant therm...\n",
              "112    In this paper, a system-level analytical model...\n",
              "113    Results shows that significant thermally induc...\n",
              "114    Experiments and FEM simulations show good agre...\n",
              "115    The accuracy of this system-level nodal modeli...\n",
              "Name: 2, Length: 105, dtype: object"
            ]
          },
          "execution_count": 38,
          "metadata": {},
          "output_type": "execute_result"
        }
      ],
      "source": [
        "sentencedata2=sentencedata2[notempty]\n",
        "sentencedata2 =sentencedata2.drop([0,0])\n"
      ]
    }
  ],
  "metadata": {
    "accelerator": "GPU",
    "colab": {
      "collapsed_sections": [],
      "name": "data2_practice.ipynb",
      "provenance": []
    },
    "kernelspec": {
      "display_name": "Python 3",
      "name": "python3"
    },
    "language_info": {
      "name": "python"
    }
  },
  "nbformat": 4,
  "nbformat_minor": 0
}
