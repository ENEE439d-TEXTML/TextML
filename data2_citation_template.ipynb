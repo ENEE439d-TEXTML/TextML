{
  "nbformat": 4,
  "nbformat_minor": 0,
  "metadata": {
    "colab": {
      "name": "data2_citation_template.ipynb",
      "provenance": [],
      "collapsed_sections": [],
      "authorship_tag": "ABX9TyNrY396kGOh+wsQRxOsVnnH",
      "include_colab_link": true
    },
    "kernelspec": {
      "name": "python3",
      "display_name": "Python 3"
    },
    "language_info": {
      "name": "python"
    },
    "accelerator": "GPU"
  },
  "cells": [
    {
      "cell_type": "markdown",
      "metadata": {
        "id": "view-in-github",
        "colab_type": "text"
      },
      "source": [
        "<a href=\"https://colab.research.google.com/github/ENEE439d-TEXTML/TextML/blob/master/data2_citation_template.ipynb\" target=\"_parent\"><img src=\"https://colab.research.google.com/assets/colab-badge.svg\" alt=\"Open In Colab\"/></a>"
      ]
    },
    {
      "cell_type": "code",
      "execution_count": 2,
      "metadata": {
        "colab": {
          "base_uri": "https://localhost:8080/"
        },
        "id": "asSq0OdN_BQQ",
        "outputId": "8eb33db0-45b8-4067-b73b-f92238e9b063"
      },
      "outputs": [
        {
          "output_type": "stream",
          "name": "stdout",
          "text": [
            "Mounted at /content/drive\n"
          ]
        }
      ],
      "source": [
        "from keras.datasets import imdb\n",
        "import pandas as pd\n",
        "import numpy as np\n",
        "from keras.layers import LSTM, Activation, Dropout, Dense, Input\n",
        "from keras.layers.embeddings import Embedding\n",
        "from keras.models import Model\n",
        "import string\n",
        "import re\n",
        "from keras.preprocessing.text import Tokenizer\n",
        "from sklearn.preprocessing import LabelBinarizer\n",
        "from keras.preprocessing.sequence import pad_sequences\n",
        "import keras\n",
        "from sklearn.model_selection import train_test_split\n",
        "from google.colab import drive\n",
        "drive.mount('/content/drive')\n",
        "\n"
      ]
    },
    {
      "cell_type": "code",
      "source": [
        "address = \"/content/drive/MyDrive/Maryland/4 Spring/ENEE439D/Text-ML/Jie_Tang_1_Article_All_Part00000.csv\"\n",
        "oldnum = \"00000\"\n",
        "#list of csv numbers in drive\n",
        "numbers = [\"40002\",\"40009\", \"40010\", \"40011\"]\n",
        "frequency_list = []\n",
        "cite_list = []\n",
        "\n",
        "for number in numbers:\n",
        "  address = address.replace(oldnum, number)\n",
        "  oldnum = number\n",
        "  #read in csv\n",
        "  data2  = pd.read_csv(address, header=None)\n",
        "  \n",
        "\n",
        "\n",
        "  #extract columns\n",
        "  column0 = data2[0] #title data\n",
        "  column1 = data2[1] #section data\n",
        "  sentencedata2 = data2[2] #actual sentences\n",
        "\n",
        "# The following section is used to extract the number of papers that are referenced in an article\n",
        "  y = 0\n",
        "  for x in column0:\n",
        "    if x == 'references': #find where the number of references are listed\n",
        "      break\n",
        "    y = y+1 #increment iterator\n",
        "  references = column1[y] #references = column1[column0 == 'references']\n",
        "\n",
        "\n",
        "\n",
        "\n",
        "  #create array that is length of number of references in order to keep track of how many times referenced\n",
        "  frequency = np.zeros(int(references))\n",
        "\n",
        "\n",
        "  notempty = sentencedata2.notna() #find nonempty sentences\n",
        "  sentencedata2=sentencedata2[notempty]\n",
        "  \n",
        "  citations = []\n",
        "  for sentence in sentencedata2:\n",
        "    matches = re.findall(\"\\[\\d+\\]\",sentence) # find [#]\n",
        "    if  matches: #if a reference is found\n",
        "      #increment frequency array at given spot based on reference found\n",
        "      for match in matches:\n",
        "        match = int(match.strip(\"[]\")) \n",
        "        frequency[match-1] = frequency[match-1] + 1\n",
        "\n",
        "      #store sentence in list\n",
        "      citations.append(sentence)\n",
        "\n",
        "  print(citations)\n",
        "  print(frequency)\n",
        "  \n",
        "  #store list in list\n",
        "  cite_list.append(citations)\n",
        "  frequency_list.append(frequency)\n",
        "  \n",
        "\n",
        "#cite_list\n",
        "#print(frequency_list)"
      ],
      "metadata": {
        "colab": {
          "base_uri": "https://localhost:8080/"
        },
        "id": "g4GSThiq0OsP",
        "outputId": "02b21dba-42bd-415e-a280-ba9791d6a29f"
      },
      "execution_count": 14,
      "outputs": [
        {
          "output_type": "stream",
          "name": "stdout",
          "text": [
            "['One of the major factors is the thermal stress and strain induced in packaging process [1],[2].', 'In previous research works, some mainly focused on the packaging effect on the electromechanical characteristics of conventional MEMS devices such as pull-in voltage [3].', 'Others only pay attention to the influence of different packaging structures and packaging materials on the microwave performance of RF MEMS devices [4],[5].', 'It can be seen from Fig. 1 that beam-like elements constitute the major mechanical parts of the model, including the switch beam, chip substrate, adhesive layer, and package substrate [6].', 'In the E-M domain, the phase shifter can well be modeled as an equivalent circuit of a cascade combination of the two elements, as shown in Fig. 4 [7], [8].']\n",
            "[1. 1. 1. 1. 1. 1. 1. 1. 0.]\n",
            "['The first MEMS gyroscope was introduced by the Draper Laboratory in the early 90’s [1].', 'The performance of micro-gyroscopes is limited by long-term drift, where current state-of-the-art uses temperature compensation to minimize the long-term drift [2]–[3][4][5].', 'The effect of temperature induced die warpage on an anodically vacuum packaged gyroscope has been measured by Moiré interferometry in [6].', 'Temperature induced stress changes the gyroscope resonance frequencies and the sensitivity to stress was reduced by switching from a fixed-fixed to folded beam suspension [6], [7].', 'Analog Devices minimized the effect of stress on their MEMS accelerometers by carefully designing the anchor locations [8].', 'The interaction between the MEMS and package is also important; for example, thermally induced stress can be as high as 50 MPa, and the die-mount adhesive has to be thick and very compliant for the least stress transferred to the die [9].', 'A distributed system-level nodal modeling of the die bonding process has been studied and experimentally modeled for its effects on a microbridge in [10].', 'A compliant metal interposer that isolates the MEMS structure from package stress has been shown in [11].', 'The center to periphery connection is established by folded springs that relieve the stress [12].', 'Yet another approach to minimize the stress is mounting the MEMS die just from the center using elongated structures [13].', 'A simpler and more practical implementation of this method is simply mounting the MEMS to the package just from the center using a solder preform [14].', 'In addition to optimizing the die attach to minimize the stress effects, stress relief structures can be formed around the periphery of the MEMS die by etching cavities [15].', 'The Hemispherical Resonator Gyroscope (HRG) is an example of a topology that suppresses stress propagation from the substrate to the gyroscope structure [16].', 'Similar design approaches have been applied to planar MEMS gyroscopes [2], [17].', 'In addition, even constant temperature testing of the state-of-the-art MEMS gyroscopes exhibit long term drift [18], [19].', 'Our initial work simulated and experimentally verified the pure stress effects on MEMS gyroscope frequencies using a four-point test bed [20].', 'Our system-level simulation approach couples finite element analysis (FEA) of the first-level packaging and circuit simulation of the device to model the environmental stress and temperature effects on the gyroscope system’s zero rate output (ZRO) and scale factor (SF) [21].', 'The effect of stress on the ZRO and SF of a vacuum packaged MEMS gyroscope with an open-loop sense mode was characterized experimentally using on-chip stress and temperature sensors [22].', 'We continue experiments using the silicon-on-insulator (SOI) MEMS gyroscope and on-chip stress and temperature sensors as in [22], and show that the long-term drift of the gyroscope can be greatly reduced by using stress compensation.', 'We published our initial stress compensation results with external stress applied to the gyroscope package in [23].', 'The shaped frequency tuning combs (Fig.1.b) are used to tune the fabrication originated drive and sense frequency mismatches [24]; the shaped nonlinearity tuning fingers (Fig. 1.c) are used to tune the softening nonlinearity in the drive mode at high displacements [25]; and straight fingers (Fig. 1.d) are used to drive and sense the gyroscope.', 'It is designed to be three-fold symmetric, i.e., symmetric in the x , y , and diagonal axes similar to [26].', 'The anisotropy of the E is found as 5% for 90° rotation on a nominal E of 168.9 GPa by calculating the Miller indices of the 5° cut <111> silicon, and using the equations in [27].', 'If an external stress is applied as in Figure 2.b, mode-x springs experience longitudinal stress changing their spring constant significantly more compared to the mode-y springs [20].', 'To overcome the uneven stress distribution on the two modes, the gyroscope is mounted 45° as shown in Figure 11 with respect to the package so that the external stress is distributed symmetrically between the two principal axes [24].', 'The gyroscope die is first soldered into a 40-pin ceramic dual-inline package (DIP40) at room temperature in a stress-free way using Nanofoil [28] and then chip pad connections are wirebonded to the package.', 'The in-house getters are developed based on [29].', 'The GF for highly doped p-type silicon is 60 [30].', 'Mechanical characterization used a four-point bending test bed in an Instron machine that applies a controlled load [20], with results given in Figure 8. The DIP40 is placed directly under a bending load that results in compressive stress in the die.', 'One way to solve this problem is to bias V_{\\\\mathrm {DD}} and ground of the stress sensors around V_{\\\\mathrm {PM{}}} (e.g., V_{\\\\mathrm {DD}}=V_{\\\\mathrm {PM}} , GND =V_{\\\\mathrm {PM}}-V_{\\\\mathrm {BIAS}} in Figure 4) [22], but that approach requires sequentially turning on the voltages and leads to catastrophic results for stress sensors in case of a turn-on error.', 'The drive resonance frequency can also be used as a temperature sensor [3], but using the stress-free on-chip temperature sensor allows observation of the stress effects on drive resonance frequency.', 'We used the architecture in the IEEE standards [31] that is shown in Figure 12. A phase locked loop (PLL) and an amplitude control loop act on the drive mode to lock into the resonance and fix the drive displacement, respectively.', 'Drive gap asymmetry creates a force in the sense direction that is indistinguishable from the Coriolis force [21], [32].', 'State-of-the-art ovenized gyroscopes exhibit similar drift trends [18].']\n",
            "[1. 2. 2. 1. 1. 2. 1. 1. 1. 1. 1. 1. 1. 1. 1. 1. 1. 2. 1. 3. 2. 3. 1. 2.\n",
            " 1. 1. 1. 1. 1. 1. 1. 1.]\n",
            "['With the developments in technology, the requirement for the accuracy and environmental adaptability of MEMS devices has significantly increased [1], [2].', 'Some MEMS devices such as gyroscope [3], [4], pressure sensor [5], [6], and accelerometer [7] work on the principle of force conversion.', 'However, thermal deformation directly leads to output error [8].', 'Structural stress will cause stiffness asymmetry, coupling modal motion, and frequency drift [9].', 'Thus, the performance of the device will be worse under the condition of variable temperature [10]–[11][12].', 'Generally, a main source of thermal deformation is the coefficient of thermal expansion (CTE) mismatch [13]–[14][15] For most solid materials, when the temperature of an object with a length L changes, the free thermal expanding is defined by \\\\begin{equation*} \\\\frac {dL}{dT}=\\\\alpha _{T} L\\\\tag{1}\\\\end{equation*} where \\\\alpha _{T} is the coefficient of thermal expansion (CTE) of the object and T_{0} is the reference temperature.', '[13]–[14][15][16]. There are three commonly used methods to reduce the stress. (1) Material selection: Materials whose CTE is similar to silicon are selected to complete the MEMS device packaging [18]–[19][20]. (2) Packaging method: The effect of die-bonding process on MEMS device performance was studied.', 'Experimentally model used a distributed system-level nodal modeling in [21].', 'The research works in [22]–[23][24] focused on the attachment process such as the attachment area, attachment position, and four-dot die-attach process. (3) Stress isolation structures: Low stress packaging of micro machine accelerometer is reported in [9].', 'Stress relief structures formed around the periphery of the MEMS die was proposed in [9], [25]–[26][27].', 'A packaging-stress isolation structure designed on the handle layer of SOI is presented in [28], [29].', 'Besides, a two orthogonal stress-immunity structure [30] were designed to improve the temperature robustness of double-clamped MEMS sensors.', 'The external angular velocity can be obtained by measuring the Coriolis force [3], [4].', 'As shown in Fig. 1(a), it is common to find clamped-clamped structures in the design of MEMS gyroscope [29].', 'It should be noted that out-of-plane deformation occurs even for the gyroscope without any packaging, and deformation increases after packaging [17].', 'As shown in Fig.3, the center supported quadruple mass gyroscope (CSQMG) is a typical MEMS device as described above [31], [32].', 'According to the CTE data provided in [10], the CTE of Si and glass is shown in the Fig. 7. Pyrex7740 Glass CTE \\\\alpha _{glass} is larger than that of Si CTE \\\\alpha _{Si} before 109.5°, resulting in more thermal expansion on substrate glass.']\n",
            "[1. 1. 2. 2. 1. 1. 1. 1. 3. 2. 1. 1. 2. 2. 2. 1. 1. 1. 1. 1. 1. 1. 1. 1.\n",
            " 1. 1. 1. 1. 2. 1. 1. 1.]\n",
            "['They are electromagnetic [1], thermal [2], acoustic [3], pressure difference [4], vortex [5], turbine [6], rotameter [7], Coriolis [8], positive displacement [9], and so on.', '\\\\$\\\\\\\\$ \\\\$ 5000 [10].', '\\\\$\\\\\\\\$ \\\\$ 300 [11].', 'Recent advancements in the massive MEMS manufacturing along with the maturity of the IC industry have paved the way for the design and fabrication of low-cost microsized flow sensors that can be produced in mass numbers with a more economical terminal price. MEMS flow sensors in the recent decade have been developed for various applications from biomedical to aerospace [12].', 'Microcantilevers are highly sensitive sensing elements that, in the capacitive mode, are almost independent of environment thermal fluctuations [13].', 'The first silicon-based microcantilever sensor with the principle of aerodynamics forces was designed and fabricated by Su et al. [14] and Wang et al. [15], in which, by polysilicon strain gages, airflow was measured in a range from 0 to 6 m/s with a sensitivity of \\\\$7.4\\\\times 10^{-6}\\\\$ l/m/s2.', 'Afterward, a highly sensitive microcantilever sensor was designed in 2002, based on the piezoresistive principle with 0.7–21-m/s range of flow measurement and 0.65–\\\\$4.49\\\\times 10 ^{-5}\\\\$ -l/m/s sensitivity [16].', 'In this sensor, the dynamic range improved substantially to over 45 m/s, and the sensitivity was reported \\\\$0.0284~\\\\Omega \\\\$ /m/s [17].', 'A self-bent microcantilever structure was first introduced by Zhang et al., in which two silicon dioxide layers (from SOI wafer) sandwich a piezoresistive layer for sensing [16].', 'The effect of microcantilever shape was investigated, and the outcome of research suggested that the triangular microcantilevers are the best option as they are more sensitive compared to other shapes due to high loads that they experience under flow pressure and resultant shear stresses [18]–[19][20].', 'The simulation experiments revealed that a short triangular strip cantilever and cylinder-ellipsoid nylon head produced considerable stress in the structure of the sensor, which leads to an ultrasensitive sensor that can be adapted to measure the fluctuations in the ocean turbulences [21].', 'There are various models of piezoresistive diaphragm-based designs for MEMS flow sensors (polymeric [22], [23] and nonpolymeric) [24], [25].', 'For instance, blind cavefish used some sensory pillar-like structures on their outer skin to detect the flow velocity, pressure, and direction to navigate through a dark ocean where the fish could not see anything [26], [27].', 'The physical principle of thermal flow sensors working is very attractive for gas monitoring and liquid detection in the corresponding industry [28], [29].', 'The positive aspect of these sensors is that they can operate without the need for any mechanical movement, which makes their fabrication simple and, consequently, keeps the final cost significantly low [30], [31].', 'These sensors are limited in temperature control feedback as it is needed to maintain temperature meticulously, which, sometimes, is a challenging issue in unwanted conditions of flow regime and turbulences inlet/outlet region due to flow condition variations [32].', 'The thermal flow sensors fall within mainly three groups that are hot-wire [33], hot-film (that manipulate temperature and heat power) [34-69], calorimetric [35], [36] (that analyses the heat profile around the heater), and, last but not least, time-of-flight sensors [7], [37].', 'Recently, there has been an interest in the integration of MEMS flow sensors to high-load gas/liquid pipelines in the industry, which necessitates the usage of bypass channels [38].', 'According to Sensiron Company, which is one of the leading companies in developing flow sensors, using bypass helps to avoid the effects of inlet condition and more importantly enables dust removal due to the effect of inertial [38].', 'Omron Electronic Components Company has also introduced a new design for a bypass that integrates the MEMS flow sensor with a bypass system to take the advantage of higher dynamic range and also the clean sampling that the bypass provides [39].', 'In a general view, MEMS flow sensor manufacturers are not interested in position MEMS flow sensor in direct contact with the flow, as the very tiny dust might affect the operation of the sensor and cause failure; thus, this is the main reason to incorporate MEMS sensor with a specific bypass system [38].', 'A limited number of works have been devoted to microcantilever MEMS flow sensors in capacitive mode [12].', 'Nguyen et al. [13] designed a pedal-shaped comb style for the placement of microcantilevers for the measurement of gas flow sensors in pipelines.', 'Nguyen et al. [13] demonstrated a nonlinear relation between velocity and capacitance, while, here, we have shown a linear dependence between the capacitance and the flow velocity.', 'The cantilever will undergo a fluctuating motion under the airflow even in the small gap of \\\\$2~\\\\mu \\\\text{m}\\\\$ [40]–[41][42].', 'The mathematical procedures to derive (1) and (2) are elaborated more in other work [43].', 'Equations (1) and (2) are based on the same boundary conditions in [43].', 'Further information and steps to be followed accordingly for ordering the fabrication from CMC can be found in [44] and [45].', 'Fig. 2 demonstrates the layout of a chip, which shows multisized microbeam elements in the chip and the layers [46].', 'This polysilicon layer is patterned by first mask and reactive ion etching, and then, the first oxide layer with a thickness of \\\\$2~\\\\mu \\\\text{m}\\\\$ is added [45], [46].', 'Almost all the required materials, design kits, and the standard process are explained well in the tutorial provided by CMC Microsystem Company [44]–[45][46].', 'If the sensor is placed in the flow without minibypass, some high-and low-pressure zones will be created under and above the microcantilever that contributes to the unwanted vibrations in the microbeam, which leads to noisy responses [40]–[41][42].', 'The mechanical behavior of microcantilevers has been formulated in Section II, and the modified couple stress theory [47] has been utilized for this purpose.', 'Recently, it was reported that this model is the most accurate beam model for the prediction of dynamics and statics of microbeams [47]–[48][49].']\n",
            "[1. 1. 1. 1. 1. 1. 2. 1. 1. 1. 1. 2. 3. 1. 1. 2. 1. 1. 1. 1. 1. 1. 1. 1.\n",
            " 1. 1. 1. 1. 1. 1. 1. 1. 1. 0. 1. 1. 1. 3. 1. 2. 2. 2. 2. 2. 3. 3. 2. 1.\n",
            " 1.]\n"
          ]
        }
      ]
    }
  ]
}