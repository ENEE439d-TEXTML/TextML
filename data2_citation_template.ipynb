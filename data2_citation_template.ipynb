{
  "nbformat": 4,
  "nbformat_minor": 0,
  "metadata": {
    "colab": {
      "name": "data2_citation_template.ipynb",
      "provenance": [],
      "collapsed_sections": [],
      "authorship_tag": "ABX9TyMnJKn3afcz8tb0FJV2CpG6",
      "include_colab_link": true
    },
    "kernelspec": {
      "name": "python3",
      "display_name": "Python 3"
    },
    "language_info": {
      "name": "python"
    },
    "accelerator": "GPU"
  },
  "cells": [
    {
      "cell_type": "markdown",
      "metadata": {
        "id": "view-in-github",
        "colab_type": "text"
      },
      "source": [
        "<a href=\"https://colab.research.google.com/github/ENEE439d-TEXTML/TextML/blob/master/data2_citation_template.ipynb\" target=\"_parent\"><img src=\"https://colab.research.google.com/assets/colab-badge.svg\" alt=\"Open In Colab\"/></a>"
      ]
    },
    {
      "cell_type": "code",
      "execution_count": null,
      "metadata": {
        "colab": {
          "base_uri": "https://localhost:8080/"
        },
        "id": "asSq0OdN_BQQ",
        "outputId": "c33df89d-8a30-4c9e-8707-36b1ce6cbbb6"
      },
      "outputs": [
        {
          "output_type": "stream",
          "name": "stdout",
          "text": [
            "Mounted at /content/drive\n"
          ]
        }
      ],
      "source": [
        "from keras.datasets import imdb\n",
        "import pandas as pd\n",
        "import numpy as np\n",
        "from keras.layers import LSTM, Activation, Dropout, Dense, Input\n",
        "from keras.layers.embeddings import Embedding\n",
        "from keras.models import Model\n",
        "import string\n",
        "import re\n",
        "from keras.preprocessing.text import Tokenizer\n",
        "from sklearn.preprocessing import LabelBinarizer\n",
        "from keras.preprocessing.sequence import pad_sequences\n",
        "import keras\n",
        "from sklearn.model_selection import train_test_split\n",
        "from google.colab import drive\n",
        "drive.mount('/content/drive')\n",
        "\n"
      ]
    },
    {
      "cell_type": "code",
      "source": [
        "address = \"/content/drive/MyDrive/Maryland/4 Spring/ENEE439D/Text-ML/Jie_Tang_1_Article_All_Part00000.csv\"\n",
        "oldnum = \"00000\"\n",
        "numbers = [\"40002\",\"40009\", \"40010\", \"40011\"]\n",
        "cite_list = []\n",
        "for number in numbers:\n",
        "  address = address.replace(oldnum, number)\n",
        "  oldnum = number\n",
        "  data2  = pd.read_csv(address, header=None)\n",
        "\n",
        "  sentencedata2 = data2[2]\n",
        "  notempty = sentencedata2.notna()\n",
        "\n",
        "  import re\n",
        "  cite = re.compile(\"\\[\\d+\\]\")\n",
        "  sentencedata2=sentencedata2[notempty]\n",
        "  citations = []\n",
        "  for sentence in sentencedata2:\n",
        "    if re.search(\"\\[\\d+\\]\",sentence):\n",
        "      citations.append(sentence)\n",
        "  cite_list.append(citations)\n",
        "\n",
        "cite_list[2]"
      ],
      "metadata": {
        "colab": {
          "base_uri": "https://localhost:8080/"
        },
        "id": "g4GSThiq0OsP",
        "outputId": "4b831467-6c7b-43cd-95f5-bb9c5390ac23"
      },
      "execution_count": null,
      "outputs": [
        {
          "output_type": "execute_result",
          "data": {
            "text/plain": [
              "['With the developments in technology, the requirement for the accuracy and environmental adaptability of MEMS devices has significantly increased [1], [2].',\n",
              " 'Some MEMS devices such as gyroscope [3], [4], pressure sensor [5], [6], and accelerometer [7] work on the principle of force conversion.',\n",
              " 'However, thermal deformation directly leads to output error [8].',\n",
              " 'Structural stress will cause stiffness asymmetry, coupling modal motion, and frequency drift [9].',\n",
              " 'Thus, the performance of the device will be worse under the condition of variable temperature [10]–[11][12].',\n",
              " 'Generally, a main source of thermal deformation is the coefficient of thermal expansion (CTE) mismatch [13]–[14][15] For most solid materials, when the temperature of an object with a length L changes, the free thermal expanding is defined by \\\\begin{equation*} \\\\frac {dL}{dT}=\\\\alpha _{T} L\\\\tag{1}\\\\end{equation*} where \\\\alpha _{T} is the coefficient of thermal expansion (CTE) of the object and T_{0} is the reference temperature.',\n",
              " '[13]–[14][15][16]. There are three commonly used methods to reduce the stress. (1) Material selection: Materials whose CTE is similar to silicon are selected to complete the MEMS device packaging [18]–[19][20]. (2) Packaging method: The effect of die-bonding process on MEMS device performance was studied.',\n",
              " 'Experimentally model used a distributed system-level nodal modeling in [21].',\n",
              " 'The research works in [22]–[23][24] focused on the attachment process such as the attachment area, attachment position, and four-dot die-attach process. (3) Stress isolation structures: Low stress packaging of micro machine accelerometer is reported in [9].',\n",
              " 'Stress relief structures formed around the periphery of the MEMS die was proposed in [9], [25]–[26][27].',\n",
              " 'A packaging-stress isolation structure designed on the handle layer of SOI is presented in [28], [29].',\n",
              " 'Besides, a two orthogonal stress-immunity structure [30] were designed to improve the temperature robustness of double-clamped MEMS sensors.',\n",
              " 'The external angular velocity can be obtained by measuring the Coriolis force [3], [4].',\n",
              " 'As shown in Fig. 1(a), it is common to find clamped-clamped structures in the design of MEMS gyroscope [29].',\n",
              " 'It should be noted that out-of-plane deformation occurs even for the gyroscope without any packaging, and deformation increases after packaging [17].',\n",
              " 'As shown in Fig.3, the center supported quadruple mass gyroscope (CSQMG) is a typical MEMS device as described above [31], [32].',\n",
              " 'According to the CTE data provided in [10], the CTE of Si and glass is shown in the Fig. 7. Pyrex7740 Glass CTE \\\\alpha _{glass} is larger than that of Si CTE \\\\alpha _{Si} before 109.5°, resulting in more thermal expansion on substrate glass.']"
            ]
          },
          "metadata": {},
          "execution_count": 12
        }
      ]
    }
  ]
}