{
  "cells": [
    {
      "cell_type": "markdown",
      "metadata": {
        "id": "8h7Lr7k5d1jd"
      },
      "source": [
        "<table class=\"tfo-notebook-buttons\" align=\"left\">\n",
        "  <td>\n",
        "    <a target=\"_blank\" href=\"https://colab.research.google.com/github/ENEE439d-TEXTML/TextML/blob/master/input.ipynb\"><img src=\"https://www.tensorflow.org/images/colab_logo_32px.png\" />Run in Google Colab</a>\n",
        "  </td>\n",
        "  <td>\n",
        "    <a target=\"_blank\" href=\"https://github.com/ENEE439d-TEXTML/TextML/blob/master/input.ipynb\"><img src=\"https://www.tensorflow.org/images/GitHub-Mark-32px.png\" />View source on GitHub</a>\n",
        "  </td>\n",
        "</table>"
      ]
    },
    {
      "cell_type": "markdown",
      "metadata": {
        "id": "aPiicLOUd1jj"
      },
      "source": [
        "# Imports"
      ]
    },
    {
      "cell_type": "code",
      "source": [
        "!pip install -q -U \"tensorflow-text==2.8.*\" # A dependency of the preprocessing for BERT inputs\n",
        "!pip install -q tf-models-official==2.7.0 # For adamW\n",
        "!pip install focal-loss # focal loss implmnetion for tf\n",
        "!pip install pdfminer.six #pdf text extratction"
      ],
      "metadata": {
        "colab": {
          "base_uri": "https://localhost:8080/"
        },
        "id": "52FpqTzrPr-t",
        "outputId": "5e566534-6316-47d2-ac5e-f6dbb84d5d9f"
      },
      "execution_count": 99,
      "outputs": [
        {
          "output_type": "stream",
          "name": "stdout",
          "text": [
            "Requirement already satisfied: focal-loss in /usr/local/lib/python3.7/dist-packages (0.0.7)\n",
            "Requirement already satisfied: tensorflow>=2.2 in /usr/local/lib/python3.7/dist-packages (from focal-loss) (2.8.0)\n",
            "Requirement already satisfied: keras<2.9,>=2.8.0rc0 in /usr/local/lib/python3.7/dist-packages (from tensorflow>=2.2->focal-loss) (2.8.0)\n",
            "Requirement already satisfied: libclang>=9.0.1 in /usr/local/lib/python3.7/dist-packages (from tensorflow>=2.2->focal-loss) (14.0.1)\n",
            "Requirement already satisfied: typing-extensions>=3.6.6 in /usr/local/lib/python3.7/dist-packages (from tensorflow>=2.2->focal-loss) (4.2.0)\n",
            "Requirement already satisfied: wrapt>=1.11.0 in /usr/local/lib/python3.7/dist-packages (from tensorflow>=2.2->focal-loss) (1.14.0)\n",
            "Requirement already satisfied: six>=1.12.0 in /usr/local/lib/python3.7/dist-packages (from tensorflow>=2.2->focal-loss) (1.15.0)\n",
            "Requirement already satisfied: keras-preprocessing>=1.1.1 in /usr/local/lib/python3.7/dist-packages (from tensorflow>=2.2->focal-loss) (1.1.2)\n",
            "Requirement already satisfied: astunparse>=1.6.0 in /usr/local/lib/python3.7/dist-packages (from tensorflow>=2.2->focal-loss) (1.6.3)\n",
            "Requirement already satisfied: absl-py>=0.4.0 in /usr/local/lib/python3.7/dist-packages (from tensorflow>=2.2->focal-loss) (1.0.0)\n",
            "Requirement already satisfied: numpy>=1.20 in /usr/local/lib/python3.7/dist-packages (from tensorflow>=2.2->focal-loss) (1.21.6)\n",
            "Requirement already satisfied: h5py>=2.9.0 in /usr/local/lib/python3.7/dist-packages (from tensorflow>=2.2->focal-loss) (3.1.0)\n",
            "Requirement already satisfied: termcolor>=1.1.0 in /usr/local/lib/python3.7/dist-packages (from tensorflow>=2.2->focal-loss) (1.1.0)\n",
            "Requirement already satisfied: flatbuffers>=1.12 in /usr/local/lib/python3.7/dist-packages (from tensorflow>=2.2->focal-loss) (2.0)\n",
            "Requirement already satisfied: protobuf>=3.9.2 in /usr/local/lib/python3.7/dist-packages (from tensorflow>=2.2->focal-loss) (3.17.3)\n",
            "Requirement already satisfied: grpcio<2.0,>=1.24.3 in /usr/local/lib/python3.7/dist-packages (from tensorflow>=2.2->focal-loss) (1.44.0)\n",
            "Requirement already satisfied: tensorflow-io-gcs-filesystem>=0.23.1 in /usr/local/lib/python3.7/dist-packages (from tensorflow>=2.2->focal-loss) (0.25.0)\n",
            "Requirement already satisfied: google-pasta>=0.1.1 in /usr/local/lib/python3.7/dist-packages (from tensorflow>=2.2->focal-loss) (0.2.0)\n",
            "Requirement already satisfied: tensorboard<2.9,>=2.8 in /usr/local/lib/python3.7/dist-packages (from tensorflow>=2.2->focal-loss) (2.8.0)\n",
            "Requirement already satisfied: gast>=0.2.1 in /usr/local/lib/python3.7/dist-packages (from tensorflow>=2.2->focal-loss) (0.5.3)\n",
            "Requirement already satisfied: tf-estimator-nightly==2.8.0.dev2021122109 in /usr/local/lib/python3.7/dist-packages (from tensorflow>=2.2->focal-loss) (2.8.0.dev2021122109)\n",
            "Requirement already satisfied: opt-einsum>=2.3.2 in /usr/local/lib/python3.7/dist-packages (from tensorflow>=2.2->focal-loss) (3.3.0)\n",
            "Requirement already satisfied: setuptools in /usr/local/lib/python3.7/dist-packages (from tensorflow>=2.2->focal-loss) (57.4.0)\n",
            "Requirement already satisfied: wheel<1.0,>=0.23.0 in /usr/local/lib/python3.7/dist-packages (from astunparse>=1.6.0->tensorflow>=2.2->focal-loss) (0.37.1)\n",
            "Requirement already satisfied: cached-property in /usr/local/lib/python3.7/dist-packages (from h5py>=2.9.0->tensorflow>=2.2->focal-loss) (1.5.2)\n",
            "Requirement already satisfied: tensorboard-data-server<0.7.0,>=0.6.0 in /usr/local/lib/python3.7/dist-packages (from tensorboard<2.9,>=2.8->tensorflow>=2.2->focal-loss) (0.6.1)\n",
            "Requirement already satisfied: tensorboard-plugin-wit>=1.6.0 in /usr/local/lib/python3.7/dist-packages (from tensorboard<2.9,>=2.8->tensorflow>=2.2->focal-loss) (1.8.1)\n",
            "Requirement already satisfied: requests<3,>=2.21.0 in /usr/local/lib/python3.7/dist-packages (from tensorboard<2.9,>=2.8->tensorflow>=2.2->focal-loss) (2.23.0)\n",
            "Requirement already satisfied: google-auth-oauthlib<0.5,>=0.4.1 in /usr/local/lib/python3.7/dist-packages (from tensorboard<2.9,>=2.8->tensorflow>=2.2->focal-loss) (0.4.6)\n",
            "Requirement already satisfied: markdown>=2.6.8 in /usr/local/lib/python3.7/dist-packages (from tensorboard<2.9,>=2.8->tensorflow>=2.2->focal-loss) (3.3.6)\n",
            "Requirement already satisfied: werkzeug>=0.11.15 in /usr/local/lib/python3.7/dist-packages (from tensorboard<2.9,>=2.8->tensorflow>=2.2->focal-loss) (1.0.1)\n",
            "Requirement already satisfied: google-auth<3,>=1.6.3 in /usr/local/lib/python3.7/dist-packages (from tensorboard<2.9,>=2.8->tensorflow>=2.2->focal-loss) (1.35.0)\n",
            "Requirement already satisfied: cachetools<5.0,>=2.0.0 in /usr/local/lib/python3.7/dist-packages (from google-auth<3,>=1.6.3->tensorboard<2.9,>=2.8->tensorflow>=2.2->focal-loss) (4.2.4)\n",
            "Requirement already satisfied: pyasn1-modules>=0.2.1 in /usr/local/lib/python3.7/dist-packages (from google-auth<3,>=1.6.3->tensorboard<2.9,>=2.8->tensorflow>=2.2->focal-loss) (0.2.8)\n",
            "Requirement already satisfied: rsa<5,>=3.1.4 in /usr/local/lib/python3.7/dist-packages (from google-auth<3,>=1.6.3->tensorboard<2.9,>=2.8->tensorflow>=2.2->focal-loss) (4.8)\n",
            "Requirement already satisfied: requests-oauthlib>=0.7.0 in /usr/local/lib/python3.7/dist-packages (from google-auth-oauthlib<0.5,>=0.4.1->tensorboard<2.9,>=2.8->tensorflow>=2.2->focal-loss) (1.3.1)\n",
            "Requirement already satisfied: importlib-metadata>=4.4 in /usr/local/lib/python3.7/dist-packages (from markdown>=2.6.8->tensorboard<2.9,>=2.8->tensorflow>=2.2->focal-loss) (4.11.3)\n",
            "Requirement already satisfied: zipp>=0.5 in /usr/local/lib/python3.7/dist-packages (from importlib-metadata>=4.4->markdown>=2.6.8->tensorboard<2.9,>=2.8->tensorflow>=2.2->focal-loss) (3.8.0)\n",
            "Requirement already satisfied: pyasn1<0.5.0,>=0.4.6 in /usr/local/lib/python3.7/dist-packages (from pyasn1-modules>=0.2.1->google-auth<3,>=1.6.3->tensorboard<2.9,>=2.8->tensorflow>=2.2->focal-loss) (0.4.8)\n",
            "Requirement already satisfied: certifi>=2017.4.17 in /usr/local/lib/python3.7/dist-packages (from requests<3,>=2.21.0->tensorboard<2.9,>=2.8->tensorflow>=2.2->focal-loss) (2021.10.8)\n",
            "Requirement already satisfied: chardet<4,>=3.0.2 in /usr/local/lib/python3.7/dist-packages (from requests<3,>=2.21.0->tensorboard<2.9,>=2.8->tensorflow>=2.2->focal-loss) (3.0.4)\n",
            "Requirement already satisfied: idna<3,>=2.5 in /usr/local/lib/python3.7/dist-packages (from requests<3,>=2.21.0->tensorboard<2.9,>=2.8->tensorflow>=2.2->focal-loss) (2.10)\n",
            "Requirement already satisfied: urllib3!=1.25.0,!=1.25.1,<1.26,>=1.21.1 in /usr/local/lib/python3.7/dist-packages (from requests<3,>=2.21.0->tensorboard<2.9,>=2.8->tensorflow>=2.2->focal-loss) (1.24.3)\n",
            "Requirement already satisfied: oauthlib>=3.0.0 in /usr/local/lib/python3.7/dist-packages (from requests-oauthlib>=0.7.0->google-auth-oauthlib<0.5,>=0.4.1->tensorboard<2.9,>=2.8->tensorflow>=2.2->focal-loss) (3.2.0)\n",
            "Requirement already satisfied: pdfminer.six in /usr/local/lib/python3.7/dist-packages (20220506)\n",
            "Requirement already satisfied: cryptography~=36.0.0 in /usr/local/lib/python3.7/dist-packages (from pdfminer.six) (36.0.2)\n",
            "Requirement already satisfied: charset-normalizer~=2.0.0 in /usr/local/lib/python3.7/dist-packages (from pdfminer.six) (2.0.12)\n",
            "Requirement already satisfied: cffi>=1.12 in /usr/local/lib/python3.7/dist-packages (from cryptography~=36.0.0->pdfminer.six) (1.15.0)\n",
            "Requirement already satisfied: pycparser in /usr/local/lib/python3.7/dist-packages (from cffi>=1.12->cryptography~=36.0.0->pdfminer.six) (2.21)\n"
          ]
        }
      ]
    },
    {
      "cell_type": "code",
      "execution_count": 100,
      "metadata": {
        "id": "BPnv0Vlcd3KI"
      },
      "outputs": [],
      "source": [
        "import pandas as pd #basic imports\n",
        "import numpy as np\n",
        "from tqdm import tqdm\n",
        "import tensorflow as tf\n",
        "from tensorflow import keras\n",
        "from keras import layers\n",
        "import re"
      ]
    },
    {
      "cell_type": "code",
      "source": [
        "from sklearn.model_selection import train_test_split # https://www.tensorflow.org/text/tutorials/classify_text_with_bert\n",
        "import tensorflow_hub as hub\n",
        "import tensorflow_text as text\n",
        "from official.nlp import optimization, bert  # to create AdamW optimizer\n",
        "from focal_loss import SparseCategoricalFocalLoss\n",
        "import official.nlp.bert.tokenization"
      ],
      "metadata": {
        "id": "dkxbtcKbP4AU"
      },
      "execution_count": 101,
      "outputs": []
    },
    {
      "cell_type": "code",
      "source": [
        "from io import StringIO\n",
        "\n",
        "from pdfminer.converter import TextConverter\n",
        "from pdfminer.layout import LAParams\n",
        "from pdfminer.pdfdocument import PDFDocument\n",
        "from pdfminer.pdfinterp import PDFResourceManager, PDFPageInterpreter\n",
        "from pdfminer.pdfpage import PDFPage\n",
        "from pdfminer.pdfparser import PDFParser"
      ],
      "metadata": {
        "id": "Xx7DXy_KYgAE"
      },
      "execution_count": 102,
      "outputs": []
    },
    {
      "cell_type": "markdown",
      "source": [
        "# Data read in"
      ],
      "metadata": {
        "id": "Q-Dc1EsOuQA0"
      }
    },
    {
      "cell_type": "code",
      "execution_count": 103,
      "metadata": {
        "colab": {
          "base_uri": "https://localhost:8080/"
        },
        "id": "465BADPxeNII",
        "outputId": "5d78c9a1-bf44-46b2-d840-18aacd1bef7c"
      },
      "outputs": [
        {
          "output_type": "stream",
          "name": "stdout",
          "text": [
            "Drive already mounted at /content/drive; to attempt to forcibly remount, call drive.mount(\"/content/drive\", force_remount=True).\n"
          ]
        }
      ],
      "source": [
        "from google.colab import drive\n",
        "drive.mount('/content/drive')"
      ]
    },
    {
      "cell_type": "code",
      "execution_count": 104,
      "metadata": {
        "colab": {
          "base_uri": "https://localhost:8080/",
          "height": 206
        },
        "id": "Sk1zTIA6eOM5",
        "outputId": "6eb70d12-e2df-4c85-d985-2f033c18b846"
      },
      "outputs": [
        {
          "output_type": "execute_result",
          "data": {
            "text/plain": [
              "  cited_paper  label                                               text\n",
              "0    A00-2024      0  We analyzed a set of articles and identified s...\n",
              "1    A00-2024      0  Table 3: Example compressions Compression AvgL...\n",
              "2    A00-2024      0  5.3 Related works and discussion Our two-step ...\n",
              "3    A00-2024      0  (1999) proposed a summarization system based o...\n",
              "4    A00-2024      0  We found that the deletion of lead parts did n..."
            ],
            "text/html": [
              "\n",
              "  <div id=\"df-082aff95-0166-4a04-8c36-7d9df1b7419f\">\n",
              "    <div class=\"colab-df-container\">\n",
              "      <div>\n",
              "<style scoped>\n",
              "    .dataframe tbody tr th:only-of-type {\n",
              "        vertical-align: middle;\n",
              "    }\n",
              "\n",
              "    .dataframe tbody tr th {\n",
              "        vertical-align: top;\n",
              "    }\n",
              "\n",
              "    .dataframe thead th {\n",
              "        text-align: right;\n",
              "    }\n",
              "</style>\n",
              "<table border=\"1\" class=\"dataframe\">\n",
              "  <thead>\n",
              "    <tr style=\"text-align: right;\">\n",
              "      <th></th>\n",
              "      <th>cited_paper</th>\n",
              "      <th>label</th>\n",
              "      <th>text</th>\n",
              "    </tr>\n",
              "  </thead>\n",
              "  <tbody>\n",
              "    <tr>\n",
              "      <th>0</th>\n",
              "      <td>A00-2024</td>\n",
              "      <td>0</td>\n",
              "      <td>We analyzed a set of articles and identified s...</td>\n",
              "    </tr>\n",
              "    <tr>\n",
              "      <th>1</th>\n",
              "      <td>A00-2024</td>\n",
              "      <td>0</td>\n",
              "      <td>Table 3: Example compressions Compression AvgL...</td>\n",
              "    </tr>\n",
              "    <tr>\n",
              "      <th>2</th>\n",
              "      <td>A00-2024</td>\n",
              "      <td>0</td>\n",
              "      <td>5.3 Related works and discussion Our two-step ...</td>\n",
              "    </tr>\n",
              "    <tr>\n",
              "      <th>3</th>\n",
              "      <td>A00-2024</td>\n",
              "      <td>0</td>\n",
              "      <td>(1999) proposed a summarization system based o...</td>\n",
              "    </tr>\n",
              "    <tr>\n",
              "      <th>4</th>\n",
              "      <td>A00-2024</td>\n",
              "      <td>0</td>\n",
              "      <td>We found that the deletion of lead parts did n...</td>\n",
              "    </tr>\n",
              "  </tbody>\n",
              "</table>\n",
              "</div>\n",
              "      <button class=\"colab-df-convert\" onclick=\"convertToInteractive('df-082aff95-0166-4a04-8c36-7d9df1b7419f')\"\n",
              "              title=\"Convert this dataframe to an interactive table.\"\n",
              "              style=\"display:none;\">\n",
              "        \n",
              "  <svg xmlns=\"http://www.w3.org/2000/svg\" height=\"24px\"viewBox=\"0 0 24 24\"\n",
              "       width=\"24px\">\n",
              "    <path d=\"M0 0h24v24H0V0z\" fill=\"none\"/>\n",
              "    <path d=\"M18.56 5.44l.94 2.06.94-2.06 2.06-.94-2.06-.94-.94-2.06-.94 2.06-2.06.94zm-11 1L8.5 8.5l.94-2.06 2.06-.94-2.06-.94L8.5 2.5l-.94 2.06-2.06.94zm10 10l.94 2.06.94-2.06 2.06-.94-2.06-.94-.94-2.06-.94 2.06-2.06.94z\"/><path d=\"M17.41 7.96l-1.37-1.37c-.4-.4-.92-.59-1.43-.59-.52 0-1.04.2-1.43.59L10.3 9.45l-7.72 7.72c-.78.78-.78 2.05 0 2.83L4 21.41c.39.39.9.59 1.41.59.51 0 1.02-.2 1.41-.59l7.78-7.78 2.81-2.81c.8-.78.8-2.07 0-2.86zM5.41 20L4 18.59l7.72-7.72 1.47 1.35L5.41 20z\"/>\n",
              "  </svg>\n",
              "      </button>\n",
              "      \n",
              "  <style>\n",
              "    .colab-df-container {\n",
              "      display:flex;\n",
              "      flex-wrap:wrap;\n",
              "      gap: 12px;\n",
              "    }\n",
              "\n",
              "    .colab-df-convert {\n",
              "      background-color: #E8F0FE;\n",
              "      border: none;\n",
              "      border-radius: 50%;\n",
              "      cursor: pointer;\n",
              "      display: none;\n",
              "      fill: #1967D2;\n",
              "      height: 32px;\n",
              "      padding: 0 0 0 0;\n",
              "      width: 32px;\n",
              "    }\n",
              "\n",
              "    .colab-df-convert:hover {\n",
              "      background-color: #E2EBFA;\n",
              "      box-shadow: 0px 1px 2px rgba(60, 64, 67, 0.3), 0px 1px 3px 1px rgba(60, 64, 67, 0.15);\n",
              "      fill: #174EA6;\n",
              "    }\n",
              "\n",
              "    [theme=dark] .colab-df-convert {\n",
              "      background-color: #3B4455;\n",
              "      fill: #D2E3FC;\n",
              "    }\n",
              "\n",
              "    [theme=dark] .colab-df-convert:hover {\n",
              "      background-color: #434B5C;\n",
              "      box-shadow: 0px 1px 3px 1px rgba(0, 0, 0, 0.15);\n",
              "      filter: drop-shadow(0px 1px 2px rgba(0, 0, 0, 0.3));\n",
              "      fill: #FFFFFF;\n",
              "    }\n",
              "  </style>\n",
              "\n",
              "      <script>\n",
              "        const buttonEl =\n",
              "          document.querySelector('#df-082aff95-0166-4a04-8c36-7d9df1b7419f button.colab-df-convert');\n",
              "        buttonEl.style.display =\n",
              "          google.colab.kernel.accessAllowed ? 'block' : 'none';\n",
              "\n",
              "        async function convertToInteractive(key) {\n",
              "          const element = document.querySelector('#df-082aff95-0166-4a04-8c36-7d9df1b7419f');\n",
              "          const dataTable =\n",
              "            await google.colab.kernel.invokeFunction('convertToInteractive',\n",
              "                                                     [key], {});\n",
              "          if (!dataTable) return;\n",
              "\n",
              "          const docLinkHtml = 'Like what you see? Visit the ' +\n",
              "            '<a target=\"_blank\" href=https://colab.research.google.com/notebooks/data_table.ipynb>data table notebook</a>'\n",
              "            + ' to learn more about interactive tables.';\n",
              "          element.innerHTML = '';\n",
              "          dataTable['output_type'] = 'display_data';\n",
              "          await google.colab.output.renderOutput(dataTable, element);\n",
              "          const docLink = document.createElement('div');\n",
              "          docLink.innerHTML = docLinkHtml;\n",
              "          element.appendChild(docLink);\n",
              "        }\n",
              "      </script>\n",
              "    </div>\n",
              "  </div>\n",
              "  "
            ]
          },
          "metadata": {},
          "execution_count": 104
        }
      ],
      "source": [
        "filepath = '/content/drive/MyDrive/Text-ML/full_sentiment_dataset.csv' #'data.csv'\n",
        "df= pd.read_csv(filepath)\n",
        "df1=df.drop(['no','paper','context_a','context_b'],axis=1)\n",
        "df1.head()"
      ]
    },
    {
      "cell_type": "code",
      "source": [
        "df1['label'].value_counts()"
      ],
      "metadata": {
        "colab": {
          "base_uri": "https://localhost:8080/"
        },
        "id": "ImSOYF6Py2J8",
        "outputId": "be2d3b91-6b1b-4710-cfec-d2b0f925f131"
      },
      "execution_count": 105,
      "outputs": [
        {
          "output_type": "execute_result",
          "data": {
            "text/plain": [
              " 0    7627\n",
              " 1     829\n",
              "-1     280\n",
              "Name: label, dtype: int64"
            ]
          },
          "metadata": {},
          "execution_count": 105
        }
      ]
    },
    {
      "cell_type": "markdown",
      "source": [
        "# Filtering by regex"
      ],
      "metadata": {
        "id": "FHIvNaLfuUoe"
      }
    },
    {
      "cell_type": "code",
      "execution_count": 106,
      "metadata": {
        "colab": {
          "base_uri": "https://localhost:8080/"
        },
        "id": "Ytc03_FI-b5L",
        "outputId": "99cf582a-5207-4cc7-c6fd-53e17a4a2666"
      },
      "outputs": [
        {
          "output_type": "stream",
          "name": "stdout",
          "text": [
            "\\[*\\]|\\(\\d{4}\\)|\\(?((\\(?((\\w+, )*(\\w+ )+)((and|&) ((\\w+ *))?)?,? \\(?\\d{4}\\)?|((\\w+, )*(\\w+ )+)et al\\. ?,? \\(?\\d{4}\\)?\\)?)((; )|( (and|&) ))*)+\n"
          ]
        }
      ],
      "source": [
        "context=df1['text']\n",
        "\n",
        "re1= \"\\(((([A-Za-z]+ *)+(, \\d+))+(; )*)+\\)\" # matches author and author, year\n",
        "re_year=\",? \\(?\\d{4}\\)?\" # match , {4 digits} which may be wrapped in () \n",
        "re_and=\"(and|&) \"\n",
        "re_auth=\"((\\w+, )*(\\w+ )+)\"\n",
        "re_et= re_auth+\"et al\\. ?\"+re_year # matches author et al. , year\n",
        "re_2a= re_auth+\"(\"+re_and+\"((\\w+ *))?)?\"+re_year # matches author and author, year\n",
        "re_sep=\"((; )|( \"+re_and+\"))*\"# match the '; ' gap or ' and ' gap\n",
        "re_para_year=\"\\(\\d{4}\\)\"\n",
        "re_in_brack=\"\\[*\\]\"\n",
        "re_apa =re_in_brack+\"|\"+re_para_year+\"|\"+\"\\(?(\"+\"(\\(?\"+re_2a+\"|\"+re_et+\"\\)?)\"+re_sep+\")+\"\n",
        "print(re_apa)"
      ]
    },
    {
      "cell_type": "code",
      "execution_count": 107,
      "metadata": {
        "id": "NEZIAWQtykDg"
      },
      "outputs": [],
      "source": [
        "def remove_matches(text,regex=re_apa):\n",
        "  text1=text\n",
        "  rem_len=0\n",
        "  pattern= re.compile(regex)\n",
        "  while True:\n",
        "    matches=pattern.search(text1)\n",
        "    #print(matches)\n",
        "    if matches == None:\n",
        "      break\n",
        "\n",
        "    spn=matches.span()\n",
        "    text1=text1[0:spn[0]]+text1[spn[1]:-1]\n",
        "    cit_len=spn[1]-spn[0]\n",
        "    rem_len+=cit_len\n",
        "  \n",
        "  if len(text) >0:\n",
        "    percent_removed=rem_len/len(text)\n",
        "  else:\n",
        "    percent_removed=1\n",
        "  return text1,percent_removed \n",
        "\n",
        "# print(context[5])\n",
        "# remove_citation(context[5],regex=re_apa)"
      ]
    },
    {
      "cell_type": "code",
      "execution_count": 108,
      "metadata": {
        "id": "TmjjH1gp9A6T"
      },
      "outputs": [],
      "source": [
        "output=df1['text'].apply(lambda x: remove_matches(text=x,regex=re_apa)) #df['col1'] = df.apply(lambda x: complex_function(x['col1']), axis=1)\n",
        "df_o = pd.DataFrame(list(output), columns =['clean','p_rem'])\n",
        "output_1=df_o['clean'].apply(lambda x: remove_matches(text=x,regex='[^\\w_0-9 ]+')) \n",
        "df_o_1 = pd.DataFrame(list(output_1), columns =['clean','p_rem'])\n",
        "#df_o.head()\n",
        "\n",
        "df1['text_clean']=df_o_1['clean']\n",
        "df1['text_clean_len']=df_o_1['clean'].apply(len)\n",
        "df1['p_rem']=df_o['p_rem']"
      ]
    },
    {
      "cell_type": "code",
      "source": [
        "df1"
      ],
      "metadata": {
        "colab": {
          "base_uri": "https://localhost:8080/",
          "height": 424
        },
        "id": "OVt3NtaJDDrx",
        "outputId": "0c380576-919b-45ec-e535-a9adf96a72bd"
      },
      "execution_count": 109,
      "outputs": [
        {
          "output_type": "execute_result",
          "data": {
            "text/plain": [
              "     cited_paper  label                                               text  \\\n",
              "0       A00-2024      0  We analyzed a set of articles and identified s...   \n",
              "1       A00-2024      0  Table 3: Example compressions Compression AvgL...   \n",
              "2       A00-2024      0  5.3 Related works and discussion Our two-step ...   \n",
              "3       A00-2024      0  (1999) proposed a summarization system based o...   \n",
              "4       A00-2024      0  We found that the deletion of lead parts did n...   \n",
              "...          ...    ...                                                ...   \n",
              "8731    W96-0213      1  He has achieved state-of-the art results by ap...   \n",
              "8732    W96-0213      0  B = (Brill and Wu, 1998); M = (Magerman, 1995)...   \n",
              "8733    W96-0213      0  The model we use is similar to that of (Ratnap...   \n",
              "8734    W96-0213      1  Our model exploits the same kind of tag-n-gram...   \n",
              "8735    W96-0213      0  In that table, TBL stands for Brill's transfor...   \n",
              "\n",
              "                                             text_clean  text_clean_len  \\\n",
              "0     We analyzed a set of articles and identified s...             425   \n",
              "1     Table 3 Example compressions Compression AvgLe...             229   \n",
              "2     53 Related works and discussion Our twostep mo...             105   \n",
              "3      proposed a summarization system based on the ...             321   \n",
              "4     We found that the deletion of lead parts did n...              73   \n",
              "...                                                 ...             ...   \n",
              "8731  He has achieved stateofthe art results by appl...             139   \n",
              "8732   B  M  Magerman 1995 O  our data R  Ratnaparkhi 1              48   \n",
              "8733  The model we use is similar to that of Ratnapa...              55   \n",
              "8734  Our model exploits the same kind of tagngram i...             157   \n",
              "8735  In that table TBL stands for Brills transforma...             288   \n",
              "\n",
              "         p_rem  \n",
              "0     0.098765  \n",
              "1     0.260745  \n",
              "2     0.308176  \n",
              "3     0.078804  \n",
              "4     0.408000  \n",
              "...        ...  \n",
              "8731  0.151515  \n",
              "8732  0.421488  \n",
              "8733  0.000000  \n",
              "8734  0.000000  \n",
              "8735  0.000000  \n",
              "\n",
              "[8736 rows x 6 columns]"
            ],
            "text/html": [
              "\n",
              "  <div id=\"df-2b56ce6a-4e8f-4959-bd3c-cdccda157d96\">\n",
              "    <div class=\"colab-df-container\">\n",
              "      <div>\n",
              "<style scoped>\n",
              "    .dataframe tbody tr th:only-of-type {\n",
              "        vertical-align: middle;\n",
              "    }\n",
              "\n",
              "    .dataframe tbody tr th {\n",
              "        vertical-align: top;\n",
              "    }\n",
              "\n",
              "    .dataframe thead th {\n",
              "        text-align: right;\n",
              "    }\n",
              "</style>\n",
              "<table border=\"1\" class=\"dataframe\">\n",
              "  <thead>\n",
              "    <tr style=\"text-align: right;\">\n",
              "      <th></th>\n",
              "      <th>cited_paper</th>\n",
              "      <th>label</th>\n",
              "      <th>text</th>\n",
              "      <th>text_clean</th>\n",
              "      <th>text_clean_len</th>\n",
              "      <th>p_rem</th>\n",
              "    </tr>\n",
              "  </thead>\n",
              "  <tbody>\n",
              "    <tr>\n",
              "      <th>0</th>\n",
              "      <td>A00-2024</td>\n",
              "      <td>0</td>\n",
              "      <td>We analyzed a set of articles and identified s...</td>\n",
              "      <td>We analyzed a set of articles and identified s...</td>\n",
              "      <td>425</td>\n",
              "      <td>0.098765</td>\n",
              "    </tr>\n",
              "    <tr>\n",
              "      <th>1</th>\n",
              "      <td>A00-2024</td>\n",
              "      <td>0</td>\n",
              "      <td>Table 3: Example compressions Compression AvgL...</td>\n",
              "      <td>Table 3 Example compressions Compression AvgLe...</td>\n",
              "      <td>229</td>\n",
              "      <td>0.260745</td>\n",
              "    </tr>\n",
              "    <tr>\n",
              "      <th>2</th>\n",
              "      <td>A00-2024</td>\n",
              "      <td>0</td>\n",
              "      <td>5.3 Related works and discussion Our two-step ...</td>\n",
              "      <td>53 Related works and discussion Our twostep mo...</td>\n",
              "      <td>105</td>\n",
              "      <td>0.308176</td>\n",
              "    </tr>\n",
              "    <tr>\n",
              "      <th>3</th>\n",
              "      <td>A00-2024</td>\n",
              "      <td>0</td>\n",
              "      <td>(1999) proposed a summarization system based o...</td>\n",
              "      <td>proposed a summarization system based on the ...</td>\n",
              "      <td>321</td>\n",
              "      <td>0.078804</td>\n",
              "    </tr>\n",
              "    <tr>\n",
              "      <th>4</th>\n",
              "      <td>A00-2024</td>\n",
              "      <td>0</td>\n",
              "      <td>We found that the deletion of lead parts did n...</td>\n",
              "      <td>We found that the deletion of lead parts did n...</td>\n",
              "      <td>73</td>\n",
              "      <td>0.408000</td>\n",
              "    </tr>\n",
              "    <tr>\n",
              "      <th>...</th>\n",
              "      <td>...</td>\n",
              "      <td>...</td>\n",
              "      <td>...</td>\n",
              "      <td>...</td>\n",
              "      <td>...</td>\n",
              "      <td>...</td>\n",
              "    </tr>\n",
              "    <tr>\n",
              "      <th>8731</th>\n",
              "      <td>W96-0213</td>\n",
              "      <td>1</td>\n",
              "      <td>He has achieved state-of-the art results by ap...</td>\n",
              "      <td>He has achieved stateofthe art results by appl...</td>\n",
              "      <td>139</td>\n",
              "      <td>0.151515</td>\n",
              "    </tr>\n",
              "    <tr>\n",
              "      <th>8732</th>\n",
              "      <td>W96-0213</td>\n",
              "      <td>0</td>\n",
              "      <td>B = (Brill and Wu, 1998); M = (Magerman, 1995)...</td>\n",
              "      <td>B  M  Magerman 1995 O  our data R  Ratnaparkhi 1</td>\n",
              "      <td>48</td>\n",
              "      <td>0.421488</td>\n",
              "    </tr>\n",
              "    <tr>\n",
              "      <th>8733</th>\n",
              "      <td>W96-0213</td>\n",
              "      <td>0</td>\n",
              "      <td>The model we use is similar to that of (Ratnap...</td>\n",
              "      <td>The model we use is similar to that of Ratnapa...</td>\n",
              "      <td>55</td>\n",
              "      <td>0.000000</td>\n",
              "    </tr>\n",
              "    <tr>\n",
              "      <th>8734</th>\n",
              "      <td>W96-0213</td>\n",
              "      <td>1</td>\n",
              "      <td>Our model exploits the same kind of tag-n-gram...</td>\n",
              "      <td>Our model exploits the same kind of tagngram i...</td>\n",
              "      <td>157</td>\n",
              "      <td>0.000000</td>\n",
              "    </tr>\n",
              "    <tr>\n",
              "      <th>8735</th>\n",
              "      <td>W96-0213</td>\n",
              "      <td>0</td>\n",
              "      <td>In that table, TBL stands for Brill's transfor...</td>\n",
              "      <td>In that table TBL stands for Brills transforma...</td>\n",
              "      <td>288</td>\n",
              "      <td>0.000000</td>\n",
              "    </tr>\n",
              "  </tbody>\n",
              "</table>\n",
              "<p>8736 rows × 6 columns</p>\n",
              "</div>\n",
              "      <button class=\"colab-df-convert\" onclick=\"convertToInteractive('df-2b56ce6a-4e8f-4959-bd3c-cdccda157d96')\"\n",
              "              title=\"Convert this dataframe to an interactive table.\"\n",
              "              style=\"display:none;\">\n",
              "        \n",
              "  <svg xmlns=\"http://www.w3.org/2000/svg\" height=\"24px\"viewBox=\"0 0 24 24\"\n",
              "       width=\"24px\">\n",
              "    <path d=\"M0 0h24v24H0V0z\" fill=\"none\"/>\n",
              "    <path d=\"M18.56 5.44l.94 2.06.94-2.06 2.06-.94-2.06-.94-.94-2.06-.94 2.06-2.06.94zm-11 1L8.5 8.5l.94-2.06 2.06-.94-2.06-.94L8.5 2.5l-.94 2.06-2.06.94zm10 10l.94 2.06.94-2.06 2.06-.94-2.06-.94-.94-2.06-.94 2.06-2.06.94z\"/><path d=\"M17.41 7.96l-1.37-1.37c-.4-.4-.92-.59-1.43-.59-.52 0-1.04.2-1.43.59L10.3 9.45l-7.72 7.72c-.78.78-.78 2.05 0 2.83L4 21.41c.39.39.9.59 1.41.59.51 0 1.02-.2 1.41-.59l7.78-7.78 2.81-2.81c.8-.78.8-2.07 0-2.86zM5.41 20L4 18.59l7.72-7.72 1.47 1.35L5.41 20z\"/>\n",
              "  </svg>\n",
              "      </button>\n",
              "      \n",
              "  <style>\n",
              "    .colab-df-container {\n",
              "      display:flex;\n",
              "      flex-wrap:wrap;\n",
              "      gap: 12px;\n",
              "    }\n",
              "\n",
              "    .colab-df-convert {\n",
              "      background-color: #E8F0FE;\n",
              "      border: none;\n",
              "      border-radius: 50%;\n",
              "      cursor: pointer;\n",
              "      display: none;\n",
              "      fill: #1967D2;\n",
              "      height: 32px;\n",
              "      padding: 0 0 0 0;\n",
              "      width: 32px;\n",
              "    }\n",
              "\n",
              "    .colab-df-convert:hover {\n",
              "      background-color: #E2EBFA;\n",
              "      box-shadow: 0px 1px 2px rgba(60, 64, 67, 0.3), 0px 1px 3px 1px rgba(60, 64, 67, 0.15);\n",
              "      fill: #174EA6;\n",
              "    }\n",
              "\n",
              "    [theme=dark] .colab-df-convert {\n",
              "      background-color: #3B4455;\n",
              "      fill: #D2E3FC;\n",
              "    }\n",
              "\n",
              "    [theme=dark] .colab-df-convert:hover {\n",
              "      background-color: #434B5C;\n",
              "      box-shadow: 0px 1px 3px 1px rgba(0, 0, 0, 0.15);\n",
              "      filter: drop-shadow(0px 1px 2px rgba(0, 0, 0, 0.3));\n",
              "      fill: #FFFFFF;\n",
              "    }\n",
              "  </style>\n",
              "\n",
              "      <script>\n",
              "        const buttonEl =\n",
              "          document.querySelector('#df-2b56ce6a-4e8f-4959-bd3c-cdccda157d96 button.colab-df-convert');\n",
              "        buttonEl.style.display =\n",
              "          google.colab.kernel.accessAllowed ? 'block' : 'none';\n",
              "\n",
              "        async function convertToInteractive(key) {\n",
              "          const element = document.querySelector('#df-2b56ce6a-4e8f-4959-bd3c-cdccda157d96');\n",
              "          const dataTable =\n",
              "            await google.colab.kernel.invokeFunction('convertToInteractive',\n",
              "                                                     [key], {});\n",
              "          if (!dataTable) return;\n",
              "\n",
              "          const docLinkHtml = 'Like what you see? Visit the ' +\n",
              "            '<a target=\"_blank\" href=https://colab.research.google.com/notebooks/data_table.ipynb>data table notebook</a>'\n",
              "            + ' to learn more about interactive tables.';\n",
              "          element.innerHTML = '';\n",
              "          dataTable['output_type'] = 'display_data';\n",
              "          await google.colab.output.renderOutput(dataTable, element);\n",
              "          const docLink = document.createElement('div');\n",
              "          docLink.innerHTML = docLinkHtml;\n",
              "          element.appendChild(docLink);\n",
              "        }\n",
              "      </script>\n",
              "    </div>\n",
              "  </div>\n",
              "  "
            ]
          },
          "metadata": {},
          "execution_count": 109
        }
      ]
    },
    {
      "cell_type": "markdown",
      "source": [
        "# Remove under and over sized samples\n",
        "large samples appear to be poorly written"
      ],
      "metadata": {
        "id": "pkNPWqAHKLxb"
      }
    },
    {
      "cell_type": "code",
      "source": [
        "def getMidLen(data,label,labelKey='label',lenKey='text_clean_len',lowMod=1,highMod=1):\n",
        "  df1 =data.loc[data[labelKey] == label]\n",
        "  neu_mean=np.mean(list(df1[lenKey]))\n",
        "  neu_std=np.std(list(df1[lenKey]))\n",
        "  df1_no_high = df1.loc[df1[lenKey] < highMod*(neu_mean +neu_std)]\n",
        "  # print(neu_mean)\n",
        "  # print(neu_std)\n",
        "\n",
        "  while neu_std > neu_mean:\n",
        "    neu_mean=np.mean(list(df1_no_high['text_clean_len']))\n",
        "    neu_std=np.std(list(df1_no_high['text_clean_len']))\n",
        "    # print(neu_mean)\n",
        "    # print(neu_std)\n",
        "    df1_no_high = df1.loc[df1['text_clean_len'] < highMod*(neu_mean +neu_std)]\n",
        "\n",
        "  df1_mid = df1_no_high.loc[df1_no_high['text_clean_len'] > lowMod*(neu_mean -neu_std)]\n",
        "\n",
        "  return df1_mid\n",
        "\n",
        "df2 = df1.loc[df1['p_rem'] < .5] #keep sampels with less than half of it are citation\n",
        "\n",
        "df_neu=getMidLen(df2,0,lowMod=2)\n",
        "df_pos=getMidLen(df2,1,lowMod=1,highMod=2)\n",
        "df_neg=getMidLen(df2,-1,lowMod=1,highMod=2)\n",
        "df3= pd.concat([df_neg,df_neu,df_pos])\n",
        "df3['label'].value_counts()"
      ],
      "metadata": {
        "colab": {
          "base_uri": "https://localhost:8080/"
        },
        "id": "bq-BsMfleXID",
        "outputId": "6a27635b-e951-4c82-f365-cfa3e65dc898"
      },
      "execution_count": 110,
      "outputs": [
        {
          "output_type": "execute_result",
          "data": {
            "text/plain": [
              " 0    2524\n",
              " 1     746\n",
              "-1     246\n",
              "Name: label, dtype: int64"
            ]
          },
          "metadata": {},
          "execution_count": 110
        }
      ]
    },
    {
      "cell_type": "code",
      "source": [
        "def catagorize(data,labelKey='label'):\n",
        "  rows=len(data.index)\n",
        "  onehots=np.zeros((rows,3),dtype=int)\n",
        "  for i,lab in enumerate(data[labelKey]):\n",
        "    onehots[i][lab+1]=1\n",
        "  return onehots\n",
        "\n",
        "hots=catagorize(df3)\n",
        "df3['label_onehot']=list(hots)\n",
        "df3['label_index']=df3['label']+1"
      ],
      "metadata": {
        "id": "VnsKnaB0AU4i"
      },
      "execution_count": 111,
      "outputs": []
    },
    {
      "cell_type": "code",
      "source": [
        "freq= np.array(list(df3['label_index'].value_counts(normalize=True,sort=False)))\n",
        "print(freq)\n",
        "class_ratio= 1/freq\n",
        "class_ratio"
      ],
      "metadata": {
        "id": "Mbn2dX1C2Ixs",
        "outputId": "ff805d42-0f63-4203-fb01-5ee5be951304",
        "colab": {
          "base_uri": "https://localhost:8080/"
        }
      },
      "execution_count": 112,
      "outputs": [
        {
          "output_type": "stream",
          "name": "stdout",
          "text": [
            "[0.06996587 0.71786121 0.21217292]\n"
          ]
        },
        {
          "output_type": "execute_result",
          "data": {
            "text/plain": [
              "array([14.29268293,  1.39302694,  4.71313673])"
            ]
          },
          "metadata": {},
          "execution_count": 112
        }
      ]
    },
    {
      "cell_type": "markdown",
      "source": [
        "#Load Model"
      ],
      "metadata": {
        "id": "QtrXZF4_unOo"
      }
    },
    {
      "cell_type": "code",
      "source": [
        "X_train, X_test, y_train, y_test = train_test_split(list(df3['text_clean']), list(df3['label_index']), test_size=0.2, random_state=42)\n",
        "X_train= [[s] for s in X_train]\n",
        "X_test= [[s] for s in X_test]\n",
        "y_train=[[s] for s in list(y_train)]\n",
        "y_test=[[s] for s in list(y_test)]"
      ],
      "metadata": {
        "id": "kKtJq5Baj1Wl"
      },
      "execution_count": 113,
      "outputs": []
    },
    {
      "cell_type": "code",
      "source": [
        "#@title Choose a BERT model to fine-tune (Taken from tutorial)\n",
        "\n",
        "bert_model_name = 'small_bert/bert_en_uncased_L-4_H-512_A-8'  #@param [\"bert_en_uncased_L-12_H-768_A-12\", \"bert_en_cased_L-12_H-768_A-12\", \"bert_multi_cased_L-12_H-768_A-12\", \"small_bert/bert_en_uncased_L-2_H-128_A-2\", \"small_bert/bert_en_uncased_L-2_H-256_A-4\", \"small_bert/bert_en_uncased_L-2_H-512_A-8\", \"small_bert/bert_en_uncased_L-2_H-768_A-12\", \"small_bert/bert_en_uncased_L-4_H-128_A-2\", \"small_bert/bert_en_uncased_L-4_H-256_A-4\", \"small_bert/bert_en_uncased_L-4_H-512_A-8\", \"small_bert/bert_en_uncased_L-4_H-768_A-12\", \"small_bert/bert_en_uncased_L-6_H-128_A-2\", \"small_bert/bert_en_uncased_L-6_H-256_A-4\", \"small_bert/bert_en_uncased_L-6_H-512_A-8\", \"small_bert/bert_en_uncased_L-6_H-768_A-12\", \"small_bert/bert_en_uncased_L-8_H-128_A-2\", \"small_bert/bert_en_uncased_L-8_H-256_A-4\", \"small_bert/bert_en_uncased_L-8_H-512_A-8\", \"small_bert/bert_en_uncased_L-8_H-768_A-12\", \"small_bert/bert_en_uncased_L-10_H-128_A-2\", \"small_bert/bert_en_uncased_L-10_H-256_A-4\", \"small_bert/bert_en_uncased_L-10_H-512_A-8\", \"small_bert/bert_en_uncased_L-10_H-768_A-12\", \"small_bert/bert_en_uncased_L-12_H-128_A-2\", \"small_bert/bert_en_uncased_L-12_H-256_A-4\", \"small_bert/bert_en_uncased_L-12_H-512_A-8\", \"small_bert/bert_en_uncased_L-12_H-768_A-12\", \"albert_en_base\", \"electra_small\", \"electra_base\", \"experts_pubmed\", \"experts_wiki_books\", \"talking-heads_base\"]\n",
        "\n",
        "map_name_to_handle = {\n",
        "    'bert_en_uncased_L-12_H-768_A-12':\n",
        "        'https://tfhub.dev/tensorflow/bert_en_uncased_L-12_H-768_A-12/3',\n",
        "    'bert_en_cased_L-12_H-768_A-12':\n",
        "        'https://tfhub.dev/tensorflow/bert_en_cased_L-12_H-768_A-12/3',\n",
        "    'bert_multi_cased_L-12_H-768_A-12':\n",
        "        'https://tfhub.dev/tensorflow/bert_multi_cased_L-12_H-768_A-12/3',\n",
        "    'small_bert/bert_en_uncased_L-2_H-128_A-2':\n",
        "        'https://tfhub.dev/tensorflow/small_bert/bert_en_uncased_L-2_H-128_A-2/1',\n",
        "    'small_bert/bert_en_uncased_L-2_H-256_A-4':\n",
        "        'https://tfhub.dev/tensorflow/small_bert/bert_en_uncased_L-2_H-256_A-4/1',\n",
        "    'small_bert/bert_en_uncased_L-2_H-512_A-8':\n",
        "        'https://tfhub.dev/tensorflow/small_bert/bert_en_uncased_L-2_H-512_A-8/1',\n",
        "    'small_bert/bert_en_uncased_L-2_H-768_A-12':\n",
        "        'https://tfhub.dev/tensorflow/small_bert/bert_en_uncased_L-2_H-768_A-12/1',\n",
        "    'small_bert/bert_en_uncased_L-4_H-128_A-2':\n",
        "        'https://tfhub.dev/tensorflow/small_bert/bert_en_uncased_L-4_H-128_A-2/1',\n",
        "    'small_bert/bert_en_uncased_L-4_H-256_A-4':\n",
        "        'https://tfhub.dev/tensorflow/small_bert/bert_en_uncased_L-4_H-256_A-4/1',\n",
        "    'small_bert/bert_en_uncased_L-4_H-512_A-8':\n",
        "        'https://tfhub.dev/tensorflow/small_bert/bert_en_uncased_L-4_H-512_A-8/1',\n",
        "    'small_bert/bert_en_uncased_L-4_H-768_A-12':\n",
        "        'https://tfhub.dev/tensorflow/small_bert/bert_en_uncased_L-4_H-768_A-12/1',\n",
        "    'small_bert/bert_en_uncased_L-6_H-128_A-2':\n",
        "        'https://tfhub.dev/tensorflow/small_bert/bert_en_uncased_L-6_H-128_A-2/1',\n",
        "    'small_bert/bert_en_uncased_L-6_H-256_A-4':\n",
        "        'https://tfhub.dev/tensorflow/small_bert/bert_en_uncased_L-6_H-256_A-4/1',\n",
        "    'small_bert/bert_en_uncased_L-6_H-512_A-8':\n",
        "        'https://tfhub.dev/tensorflow/small_bert/bert_en_uncased_L-6_H-512_A-8/1',\n",
        "    'small_bert/bert_en_uncased_L-6_H-768_A-12':\n",
        "        'https://tfhub.dev/tensorflow/small_bert/bert_en_uncased_L-6_H-768_A-12/1',\n",
        "    'small_bert/bert_en_uncased_L-8_H-128_A-2':\n",
        "        'https://tfhub.dev/tensorflow/small_bert/bert_en_uncased_L-8_H-128_A-2/1',\n",
        "    'small_bert/bert_en_uncased_L-8_H-256_A-4':\n",
        "        'https://tfhub.dev/tensorflow/small_bert/bert_en_uncased_L-8_H-256_A-4/1',\n",
        "    'small_bert/bert_en_uncased_L-8_H-512_A-8':\n",
        "        'https://tfhub.dev/tensorflow/small_bert/bert_en_uncased_L-8_H-512_A-8/1',\n",
        "    'small_bert/bert_en_uncased_L-8_H-768_A-12':\n",
        "        'https://tfhub.dev/tensorflow/small_bert/bert_en_uncased_L-8_H-768_A-12/1',\n",
        "    'small_bert/bert_en_uncased_L-10_H-128_A-2':\n",
        "        'https://tfhub.dev/tensorflow/small_bert/bert_en_uncased_L-10_H-128_A-2/1',\n",
        "    'small_bert/bert_en_uncased_L-10_H-256_A-4':\n",
        "        'https://tfhub.dev/tensorflow/small_bert/bert_en_uncased_L-10_H-256_A-4/1',\n",
        "    'small_bert/bert_en_uncased_L-10_H-512_A-8':\n",
        "        'https://tfhub.dev/tensorflow/small_bert/bert_en_uncased_L-10_H-512_A-8/1',\n",
        "    'small_bert/bert_en_uncased_L-10_H-768_A-12':\n",
        "        'https://tfhub.dev/tensorflow/small_bert/bert_en_uncased_L-10_H-768_A-12/1',\n",
        "    'small_bert/bert_en_uncased_L-12_H-128_A-2':\n",
        "        'https://tfhub.dev/tensorflow/small_bert/bert_en_uncased_L-12_H-128_A-2/1',\n",
        "    'small_bert/bert_en_uncased_L-12_H-256_A-4':\n",
        "        'https://tfhub.dev/tensorflow/small_bert/bert_en_uncased_L-12_H-256_A-4/1',\n",
        "    'small_bert/bert_en_uncased_L-12_H-512_A-8':\n",
        "        'https://tfhub.dev/tensorflow/small_bert/bert_en_uncased_L-12_H-512_A-8/1',\n",
        "    'small_bert/bert_en_uncased_L-12_H-768_A-12':\n",
        "        'https://tfhub.dev/tensorflow/small_bert/bert_en_uncased_L-12_H-768_A-12/1',\n",
        "    'albert_en_base':\n",
        "        'https://tfhub.dev/tensorflow/albert_en_base/2',\n",
        "    'electra_small':\n",
        "        'https://tfhub.dev/google/electra_small/2',\n",
        "    'electra_base':\n",
        "        'https://tfhub.dev/google/electra_base/2',\n",
        "    'experts_pubmed':\n",
        "        'https://tfhub.dev/google/experts/bert/pubmed/2',\n",
        "    'experts_wiki_books':\n",
        "        'https://tfhub.dev/google/experts/bert/wiki_books/2',\n",
        "    'talking-heads_base':\n",
        "        'https://tfhub.dev/tensorflow/talkheads_ggelu_bert_en_base/1',\n",
        "}\n",
        "\n",
        "map_model_to_preprocess = {\n",
        "    'bert_en_uncased_L-12_H-768_A-12':\n",
        "        'https://tfhub.dev/tensorflow/bert_en_uncased_preprocess/3',\n",
        "    'bert_en_cased_L-12_H-768_A-12':\n",
        "        'https://tfhub.dev/tensorflow/bert_en_cased_preprocess/3',\n",
        "    'small_bert/bert_en_uncased_L-2_H-128_A-2':\n",
        "        'https://tfhub.dev/tensorflow/bert_en_uncased_preprocess/3',\n",
        "    'small_bert/bert_en_uncased_L-2_H-256_A-4':\n",
        "        'https://tfhub.dev/tensorflow/bert_en_uncased_preprocess/3',\n",
        "    'small_bert/bert_en_uncased_L-2_H-512_A-8':\n",
        "        'https://tfhub.dev/tensorflow/bert_en_uncased_preprocess/3',\n",
        "    'small_bert/bert_en_uncased_L-2_H-768_A-12':\n",
        "        'https://tfhub.dev/tensorflow/bert_en_uncased_preprocess/3',\n",
        "    'small_bert/bert_en_uncased_L-4_H-128_A-2':\n",
        "        'https://tfhub.dev/tensorflow/bert_en_uncased_preprocess/3',\n",
        "    'small_bert/bert_en_uncased_L-4_H-256_A-4':\n",
        "        'https://tfhub.dev/tensorflow/bert_en_uncased_preprocess/3',\n",
        "    'small_bert/bert_en_uncased_L-4_H-512_A-8':\n",
        "        'https://tfhub.dev/tensorflow/bert_en_uncased_preprocess/3',\n",
        "    'small_bert/bert_en_uncased_L-4_H-768_A-12':\n",
        "        'https://tfhub.dev/tensorflow/bert_en_uncased_preprocess/3',\n",
        "    'small_bert/bert_en_uncased_L-6_H-128_A-2':\n",
        "        'https://tfhub.dev/tensorflow/bert_en_uncased_preprocess/3',\n",
        "    'small_bert/bert_en_uncased_L-6_H-256_A-4':\n",
        "        'https://tfhub.dev/tensorflow/bert_en_uncased_preprocess/3',\n",
        "    'small_bert/bert_en_uncased_L-6_H-512_A-8':\n",
        "        'https://tfhub.dev/tensorflow/bert_en_uncased_preprocess/3',\n",
        "    'small_bert/bert_en_uncased_L-6_H-768_A-12':\n",
        "        'https://tfhub.dev/tensorflow/bert_en_uncased_preprocess/3',\n",
        "    'small_bert/bert_en_uncased_L-8_H-128_A-2':\n",
        "        'https://tfhub.dev/tensorflow/bert_en_uncased_preprocess/3',\n",
        "    'small_bert/bert_en_uncased_L-8_H-256_A-4':\n",
        "        'https://tfhub.dev/tensorflow/bert_en_uncased_preprocess/3',\n",
        "    'small_bert/bert_en_uncased_L-8_H-512_A-8':\n",
        "        'https://tfhub.dev/tensorflow/bert_en_uncased_preprocess/3',\n",
        "    'small_bert/bert_en_uncased_L-8_H-768_A-12':\n",
        "        'https://tfhub.dev/tensorflow/bert_en_uncased_preprocess/3',\n",
        "    'small_bert/bert_en_uncased_L-10_H-128_A-2':\n",
        "        'https://tfhub.dev/tensorflow/bert_en_uncased_preprocess/3',\n",
        "    'small_bert/bert_en_uncased_L-10_H-256_A-4':\n",
        "        'https://tfhub.dev/tensorflow/bert_en_uncased_preprocess/3',\n",
        "    'small_bert/bert_en_uncased_L-10_H-512_A-8':\n",
        "        'https://tfhub.dev/tensorflow/bert_en_uncased_preprocess/3',\n",
        "    'small_bert/bert_en_uncased_L-10_H-768_A-12':\n",
        "        'https://tfhub.dev/tensorflow/bert_en_uncased_preprocess/3',\n",
        "    'small_bert/bert_en_uncased_L-12_H-128_A-2':\n",
        "        'https://tfhub.dev/tensorflow/bert_en_uncased_preprocess/3',\n",
        "    'small_bert/bert_en_uncased_L-12_H-256_A-4':\n",
        "        'https://tfhub.dev/tensorflow/bert_en_uncased_preprocess/3',\n",
        "    'small_bert/bert_en_uncased_L-12_H-512_A-8':\n",
        "        'https://tfhub.dev/tensorflow/bert_en_uncased_preprocess/3',\n",
        "    'small_bert/bert_en_uncased_L-12_H-768_A-12':\n",
        "        'https://tfhub.dev/tensorflow/bert_en_uncased_preprocess/3',\n",
        "    'bert_multi_cased_L-12_H-768_A-12':\n",
        "        'https://tfhub.dev/tensorflow/bert_multi_cased_preprocess/3',\n",
        "    'albert_en_base':\n",
        "        'https://tfhub.dev/tensorflow/albert_en_preprocess/3',\n",
        "    'electra_small':\n",
        "        'https://tfhub.dev/tensorflow/bert_en_uncased_preprocess/3',\n",
        "    'electra_base':\n",
        "        'https://tfhub.dev/tensorflow/bert_en_uncased_preprocess/3',\n",
        "    'experts_pubmed':\n",
        "        'https://tfhub.dev/tensorflow/bert_en_uncased_preprocess/3',\n",
        "    'experts_wiki_books':\n",
        "        'https://tfhub.dev/tensorflow/bert_en_uncased_preprocess/3',\n",
        "    'talking-heads_base':\n",
        "        'https://tfhub.dev/tensorflow/bert_en_uncased_preprocess/3',\n",
        "}\n",
        "\n",
        "tfhub_handle_encoder = map_name_to_handle[bert_model_name]\n",
        "tfhub_handle_preprocess = map_model_to_preprocess[bert_model_name]\n",
        "\n",
        "print(f'BERT model selected           : {tfhub_handle_encoder}')\n",
        "print(f'Preprocess model auto-selected: {tfhub_handle_preprocess}')"
      ],
      "metadata": {
        "id": "9WK-J5dQpprm",
        "colab": {
          "base_uri": "https://localhost:8080/"
        },
        "outputId": "fc687c56-83eb-4e7f-9eb2-68c69642414b"
      },
      "execution_count": 114,
      "outputs": [
        {
          "output_type": "stream",
          "name": "stdout",
          "text": [
            "BERT model selected           : https://tfhub.dev/tensorflow/small_bert/bert_en_uncased_L-4_H-512_A-8/1\n",
            "Preprocess model auto-selected: https://tfhub.dev/tensorflow/bert_en_uncased_preprocess/3\n"
          ]
        }
      ]
    },
    {
      "cell_type": "markdown",
      "source": [
        "## check model passes"
      ],
      "metadata": {
        "id": "91uobQaIu-iE"
      }
    },
    {
      "cell_type": "code",
      "source": [
        "bert_preprocess_model = hub.KerasLayer(tfhub_handle_preprocess)"
      ],
      "metadata": {
        "id": "YINTv-Uu8HP5"
      },
      "execution_count": 115,
      "outputs": []
    },
    {
      "cell_type": "code",
      "source": [
        "text_test = X_train[1]\n",
        "text_preprocessed = bert_preprocess_model(text_test)\n",
        "\n",
        "print(f'Keys       : {list(text_preprocessed.keys())}')\n",
        "print(f'Shape      : {text_preprocessed[\"input_word_ids\"].shape}')\n",
        "print(f'Word Ids   : {text_preprocessed[\"input_word_ids\"][0, :12]}')\n",
        "print(f'Input Mask : {text_preprocessed[\"input_mask\"][0, :12]}')\n",
        "print(f'Type Ids   : {text_preprocessed[\"input_type_ids\"][0, :12]}')"
      ],
      "metadata": {
        "colab": {
          "base_uri": "https://localhost:8080/"
        },
        "id": "AGAgJwGg08-j",
        "outputId": "749f90f6-1fc2-413f-c9a4-7000e8e91afe"
      },
      "execution_count": 116,
      "outputs": [
        {
          "output_type": "stream",
          "name": "stdout",
          "text": [
            "Keys       : ['input_mask', 'input_word_ids', 'input_type_ids']\n",
            "Shape      : (1, 128)\n",
            "Word Ids   : [  101  1999  5688 11416  6024  4275  2024  4738  2000 25845  1996  4101]\n",
            "Input Mask : [1 1 1 1 1 1 1 1 1 1 1 1]\n",
            "Type Ids   : [0 0 0 0 0 0 0 0 0 0 0 0]\n"
          ]
        }
      ]
    },
    {
      "cell_type": "code",
      "source": [
        "bert_model = hub.KerasLayer(tfhub_handle_encoder)"
      ],
      "metadata": {
        "id": "U2o1JW9b9MHu"
      },
      "execution_count": 117,
      "outputs": []
    },
    {
      "cell_type": "code",
      "source": [
        "bert_results = bert_model(text_preprocessed)\n",
        "\n",
        "print(f'Loaded BERT: {tfhub_handle_encoder}')\n",
        "print(f'Pooled Outputs Shape:{bert_results[\"pooled_output\"].shape}')\n",
        "print(f'Pooled Outputs Values:{bert_results[\"pooled_output\"][0, :12]}')\n",
        "print(f'Sequence Outputs Shape:{bert_results[\"sequence_output\"].shape}')\n",
        "print(f'Sequence Outputs Values:{bert_results[\"sequence_output\"][0, :12]}')"
      ],
      "metadata": {
        "colab": {
          "base_uri": "https://localhost:8080/"
        },
        "id": "HW0iEt6Z9PKt",
        "outputId": "e49abc80-9db0-463c-c2bb-2569c37fde1b"
      },
      "execution_count": 118,
      "outputs": [
        {
          "output_type": "stream",
          "name": "stdout",
          "text": [
            "Loaded BERT: https://tfhub.dev/tensorflow/small_bert/bert_en_uncased_L-4_H-512_A-8/1\n",
            "Pooled Outputs Shape:(1, 512)\n",
            "Pooled Outputs Values:[ 0.99835694 -0.7678578  -0.21300124  0.08411987 -0.08593949  0.98550844\n",
            "  0.9732349  -0.8306031  -0.55687106 -0.95725054 -0.3960305  -0.94115573]\n",
            "Sequence Outputs Shape:(1, 128, 512)\n",
            "Sequence Outputs Values:[[ 3.8915187e-01  2.3267061e-01  6.1780311e-02 ... -9.2866874e-01\n",
            "   4.3027106e-01  8.3279318e-01]\n",
            " [ 4.5310837e-01  7.2308904e-01 -3.2866317e-01 ... -1.1163950e-04\n",
            "  -3.3482751e-01  5.7274055e-01]\n",
            " [-2.5876865e-01  1.4199525e+00 -4.2525381e-01 ...  4.9038833e-01\n",
            "   1.4491324e-01  5.7048750e-01]\n",
            " ...\n",
            " [ 2.6529512e-01 -2.3668993e-01  8.4921330e-02 ...  2.0211086e-02\n",
            "   3.9103544e-01  8.9449620e-01]\n",
            " [ 2.9499257e-01  5.8424294e-01 -6.7344594e-01 ... -1.6148384e+00\n",
            "   1.3211843e+00 -6.0517174e-01]\n",
            " [-1.8697177e-01  5.2527428e-01  9.2377967e-01 ... -5.6088662e-01\n",
            "   1.0293359e+00 -7.8856331e-01]]\n"
          ]
        }
      ]
    },
    {
      "cell_type": "markdown",
      "source": [
        "## full model setup"
      ],
      "metadata": {
        "id": "GSyS6XhXvGXZ"
      }
    },
    {
      "cell_type": "code",
      "source": [
        "def build_classifier_model():\n",
        "  text_input = tf.keras.layers.Input(shape=(), dtype=tf.string, name='text')\n",
        "  preprocessing_layer = hub.KerasLayer(tfhub_handle_preprocess, name='preprocessing')\n",
        "  encoder_inputs = preprocessing_layer(text_input)\n",
        "  encoder = hub.KerasLayer(tfhub_handle_encoder, trainable=True, name='BERT_encoder')\n",
        "  outputs = encoder(encoder_inputs)\n",
        "  net = outputs['pooled_output']\n",
        "  net = tf.keras.layers.Dropout(0.1)(net)\n",
        "  net = tf.keras.layers.Dense(3, activation='softmax', name='classifier')(net)\n",
        "  return tf.keras.Model(text_input, net)"
      ],
      "metadata": {
        "id": "XWtmKUBu_3kJ"
      },
      "execution_count": 119,
      "outputs": []
    },
    {
      "cell_type": "code",
      "source": [
        "classifier_model = build_classifier_model()"
      ],
      "metadata": {
        "id": "Z17Cu4Awc3jA"
      },
      "execution_count": 120,
      "outputs": []
    },
    {
      "cell_type": "markdown",
      "source": [
        "## check loss function"
      ],
      "metadata": {
        "id": "KgOUUHifvD3o"
      }
    },
    {
      "cell_type": "code",
      "source": [
        "bert_raw_result = classifier_model(tf.constant(text_test))\n",
        "print(bert_raw_result)\n",
        "\n",
        "l =  SparseCategoricalFocalLoss(gamma=2,class_weight=class_ratio)\n",
        "test =tf.convert_to_tensor([1.0])\n",
        "l(test,bert_raw_result)"
      ],
      "metadata": {
        "id": "jHqpunBDTKym",
        "outputId": "4117fdc7-ece9-4c13-ccf8-099c3c53c804",
        "colab": {
          "base_uri": "https://localhost:8080/"
        }
      },
      "execution_count": 121,
      "outputs": [
        {
          "output_type": "stream",
          "name": "stdout",
          "text": [
            "tf.Tensor([[0.09427555 0.03744136 0.8682831 ]], shape=(1, 3), dtype=float32)\n"
          ]
        },
        {
          "output_type": "execute_result",
          "data": {
            "text/plain": [
              "<tf.Tensor: shape=(), dtype=float32, numpy=4.2398114>"
            ]
          },
          "metadata": {},
          "execution_count": 121
        }
      ]
    },
    {
      "cell_type": "markdown",
      "source": [
        "# Train Save and Log"
      ],
      "metadata": {
        "id": "hTEGlj9RvLg4"
      }
    },
    {
      "cell_type": "code",
      "source": [
        "epochs = 5\n",
        "steps_per_epoch = 200 #tf.data.experimental.cardinality(X_train).numpy()\n",
        "num_train_steps = steps_per_epoch * epochs\n",
        "num_warmup_steps = int(0.1*num_train_steps)\n",
        "\n",
        "init_lr = 2e-5\n",
        "optimizer = optimization.create_optimizer(init_lr=init_lr,\n",
        "                                          num_train_steps=num_train_steps,\n",
        "                                          num_warmup_steps=num_warmup_steps,\n",
        "                                          optimizer_type='adamw')\n",
        "\n",
        "# def auc_wrapper(y_true,y_pred):\n",
        "#   print(y_true,y_pred)\n",
        "\n",
        "#   y_true=tf.reshape(y_true,[1])\n",
        "#   print(y_true)\n",
        "#   y_true= tf.cast(y_true, tf.int32)\n",
        "#   print(y_true)\n",
        "#   y_true=tf.one_hot(y_true,depth=3)\n",
        "#   print(y_true)\n",
        "#   return tf.keras.metrics.AUC(multi_label=True)(y_true,y_pred)\n",
        "\n",
        "\n",
        "loss =  SparseCategoricalFocalLoss(gamma=2,class_weight=class_ratio) #tf.keras.losses.MeanSquaredError()\n",
        "metrics = [tf.keras.metrics.SparseCategoricalAccuracy()]#, auc_wrapper]#, tf.keras.metrics.AUC(multi_label=True)]\n",
        "\n",
        "\n",
        "classifier_model.compile(optimizer=optimizer,\n",
        "                         loss=loss,\n",
        "                         metrics=metrics)\n",
        "\n",
        "callbacks = [\n",
        "    keras.callbacks.ModelCheckpoint(\n",
        "        filepath=\"citation_BERT_{epoch}\",\n",
        "        save_best_only=True,  # Only save a model if `val_loss` has improved.\n",
        "        monitor=\"val_sparse_categorical_accuracy\",\n",
        "        verbose=1\n",
        "    ),\n",
        "    tf.keras.callbacks.TensorBoard('./logs', update_freq=1)\n",
        "]\n"
      ],
      "metadata": {
        "id": "MB9Af5RMCuqP"
      },
      "execution_count": 122,
      "outputs": []
    },
    {
      "cell_type": "code",
      "source": [
        "# print(f'Training model with {tfhub_handle_encoder}')\n",
        "# history = classifier_model.fit(x=X_train,y=y_train, validation_data=(X_test,y_test),epochs=epochs,callbacks= callbacks, verbose=True)"
      ],
      "metadata": {
        "id": "89v_3XqEE3HN"
      },
      "execution_count": 123,
      "outputs": []
    },
    {
      "cell_type": "code",
      "source": [
        "# classifier_model.save_weights(''/content/drive/MyDrive/Text-ML/checkpoint1')"
      ],
      "metadata": {
        "id": "Pox0n2xZjdtX"
      },
      "execution_count": 124,
      "outputs": []
    },
    {
      "cell_type": "markdown",
      "source": [
        "## Inspect model"
      ],
      "metadata": {
        "id": "Z_fseNCGvY4V"
      }
    },
    {
      "cell_type": "code",
      "source": [
        "# Load the TensorBoard notebook extension\n",
        "%load_ext tensorboard"
      ],
      "metadata": {
        "id": "00eGEQhDdMUK",
        "outputId": "998b6294-e6ec-4622-97ca-2a153e1d2214",
        "colab": {
          "base_uri": "https://localhost:8080/"
        }
      },
      "execution_count": 125,
      "outputs": [
        {
          "output_type": "stream",
          "name": "stdout",
          "text": [
            "The tensorboard extension is already loaded. To reload it, use:\n",
            "  %reload_ext tensorboard\n"
          ]
        }
      ]
    },
    {
      "cell_type": "code",
      "source": [
        "#%tensorboard --logdir=logs"
      ],
      "metadata": {
        "id": "Gszh9ZNBbQXe"
      },
      "execution_count": 126,
      "outputs": []
    },
    {
      "cell_type": "code",
      "source": [
        "classifier_model.load_weights('/content/drive/MyDrive/Text-ML/checkpoint')"
      ],
      "metadata": {
        "colab": {
          "base_uri": "https://localhost:8080/"
        },
        "id": "IMRXTmWvmBNn",
        "outputId": "90c7a6a1-5d05-466d-c3d7-be10509c2f89"
      },
      "execution_count": 127,
      "outputs": [
        {
          "output_type": "execute_result",
          "data": {
            "text/plain": [
              "<tensorflow.python.training.tracking.util.CheckpointLoadStatus at 0x7f82acc3f0d0>"
            ]
          },
          "metadata": {},
          "execution_count": 127
        }
      ]
    },
    {
      "cell_type": "code",
      "source": [
        "# preds=classifier_model.predict(X_train,verbose=1)"
      ],
      "metadata": {
        "id": "vCgZJCYsvdMe"
      },
      "execution_count": 128,
      "outputs": []
    },
    {
      "cell_type": "code",
      "source": [
        "# preds_t=classifier_model.predict(X_test,verbose=1)"
      ],
      "metadata": {
        "id": "Wu5a35I1wlOi"
      },
      "execution_count": 129,
      "outputs": []
    },
    {
      "cell_type": "code",
      "source": [
        "import seaborn as sns; sns.set_theme()"
      ],
      "metadata": {
        "id": "Q-NxIjYJx8S1"
      },
      "execution_count": 130,
      "outputs": []
    },
    {
      "cell_type": "code",
      "source": [
        "# c_mat=tf.math.confusion_matrix(np.argmax(preds,-1),y_train)\n",
        "# ax = sns.heatmap(c_mat,annot=True,linewidths=.5)"
      ],
      "metadata": {
        "id": "_5R4bXyzxoql"
      },
      "execution_count": 131,
      "outputs": []
    },
    {
      "cell_type": "code",
      "source": [
        "# c_mat=tf.math.confusion_matrix(np.argmax(preds_t,-1),y_test)\n",
        "# ax = sns.heatmap(c_mat,annot=True,linewidths=.5)"
      ],
      "metadata": {
        "id": "RPkpGRdDyCz6"
      },
      "execution_count": 132,
      "outputs": []
    },
    {
      "cell_type": "markdown",
      "source": [
        "# Get attention colorings"
      ],
      "metadata": {
        "id": "ZRca_y_Kvq86"
      }
    },
    {
      "cell_type": "markdown",
      "source": [
        "https://towardsdatascience.com/deconstructing-bert-part-2-visualizing-the-inner-workings-of-attention-60a16d86b5c1\n"
      ],
      "metadata": {
        "id": "aSNvnkyoJdqA"
      }
    },
    {
      "cell_type": "code",
      "source": [
        "classifier_model.layers"
      ],
      "metadata": {
        "id": "PR_gDYEQofck",
        "outputId": "2ef9ab73-d810-4fea-e530-b487141a9ae3",
        "colab": {
          "base_uri": "https://localhost:8080/"
        }
      },
      "execution_count": 133,
      "outputs": [
        {
          "output_type": "execute_result",
          "data": {
            "text/plain": [
              "[<keras.engine.input_layer.InputLayer at 0x7f829e584dd0>,\n",
              " <tensorflow_hub.keras_layer.KerasLayer at 0x7f82aa8eee50>,\n",
              " <tensorflow_hub.keras_layer.KerasLayer at 0x7f82aa8ee350>,\n",
              " <keras.layers.core.dropout.Dropout at 0x7f829cafd510>,\n",
              " <keras.layers.core.dense.Dense at 0x7f829cb98b90>]"
            ]
          },
          "metadata": {},
          "execution_count": 133
        }
      ]
    },
    {
      "cell_type": "code",
      "source": [
        "from official.nlp import bert \n",
        "import official.nlp.bert.tokenization"
      ],
      "metadata": {
        "id": "bC2uW7zrx7VR"
      },
      "execution_count": 134,
      "outputs": []
    },
    {
      "cell_type": "code",
      "source": [
        "tokenizer = bert.tokenization.FullTokenizer(vocab_file='/content/drive/MyDrive/Text-ML/vocab.txt')\n",
        "preprocesser_model = keras.Model(inputs=classifier_model.input,outputs=classifier_model.get_layer('preprocessing').output)\n",
        "encoder_model = keras.Model(inputs=classifier_model.input,outputs=classifier_model.get_layer('BERT_encoder').output)"
      ],
      "metadata": {
        "id": "Lnb_ie7zxpbc"
      },
      "execution_count": 135,
      "outputs": []
    },
    {
      "cell_type": "code",
      "source": [
        "print(\"Vocab size:\", len(tokenizer.vocab))"
      ],
      "metadata": {
        "id": "mjgJ0WAwRjYb",
        "outputId": "0853e3b5-9817-44ee-83ec-495b8576a281",
        "colab": {
          "base_uri": "https://localhost:8080/"
        }
      },
      "execution_count": 136,
      "outputs": [
        {
          "output_type": "stream",
          "name": "stdout",
          "text": [
            "Vocab size: 30522\n"
          ]
        }
      ]
    },
    {
      "cell_type": "markdown",
      "source": [
        "## Attnetion token mapping"
      ],
      "metadata": {
        "id": "z7DPKDmPI9yL"
      }
    },
    {
      "cell_type": "code",
      "source": [
        "def get_attn(context,prep,encoder): # assume stirng array input\n",
        "  t_context=tf.convert_to_tensor(context)\n",
        "\n",
        "  p_out=prep(t_context)\n",
        "  #print(p_out)\n",
        "  stop_index=0\n",
        "  while(stop_index< p_out[\"input_mask\"].shape[1] and p_out[\"input_mask\"][0][stop_index] == 1):\n",
        "    stop_index+=1\n",
        "  \n",
        "  if stop_index >= 128:\n",
        "    stop_index=127\n",
        "\n",
        "  output = encoder(t_context)\n",
        "  #print(output[\"sequence_output\"].shape)\n",
        "  valid_entries=output[\"sequence_output\"][:,1:stop_index-1,:]\n",
        "  a=tf.math.reduce_mean(valid_entries,-1)\n",
        "  mean=tf.math.reduce_mean(a,-1,keepdims=True)\n",
        "  std=tf.math.reduce_std(a,-1,keepdims=True)\n",
        "  a1=(a-mean)/std\n",
        "\n",
        "  return a1"
      ],
      "metadata": {
        "id": "NC_Cyexu9TQI"
      },
      "execution_count": 137,
      "outputs": []
    },
    {
      "cell_type": "code",
      "source": [
        "def get_attn_for_words(context,tokenizer,prep,encoder):\n",
        "  attn = get_attn(context,prep,encoder).numpy()\n",
        "  tokens = tokenizer.tokenize(context[0]) \n",
        "\n",
        "  indicies=np.ones((len(tokens)),dtype=int)\n",
        "  for i,tok in enumerate(tokens):\n",
        "    if '##' in tok:\n",
        "      indicies[i]=0\n",
        "\n",
        "  full_words=tokens.copy()\n",
        "  ix=-1\n",
        "  for i,tok in enumerate(tokens):\n",
        "    if not indicies[i]:\n",
        "      attn[0][ix]+=attn[0][i]\n",
        "      full_words[ix]+=tok[2:]\n",
        "    else:\n",
        "      ix=i\n",
        "\n",
        "  t_f=tf.convert_to_tensor(full_words) #stores as byte string...\n",
        "  masked_f=tf.boolean_mask(t_f,indicies)\n",
        "  t_a=tf.convert_to_tensor(attn)[0]\n",
        "  masked_a=tf.boolean_mask(t_a[:len(indicies)],indicies)\n",
        "  \n",
        "\n",
        "  return masked_f.numpy(),masked_a.numpy()\n",
        "\n",
        "#words, at=get_attn_for_words(processed,tokenizer,preprocesser_model,encoder_model)"
      ],
      "metadata": {
        "id": "iyhKVIiY121W"
      },
      "execution_count": 138,
      "outputs": []
    },
    {
      "cell_type": "markdown",
      "source": [
        "## converters and annotation"
      ],
      "metadata": {
        "id": "kj_6JUFQIvG9"
      }
    },
    {
      "cell_type": "code",
      "source": [
        "def process_for_input(raw_context):\n",
        "  c1,_ =remove_matches(text=raw_context,regex=re_apa)\n",
        "  c2,_ =remove_matches(text=c1,regex='[^\\w_\\-0-9 ]+')\n",
        "  return [c2]\n",
        "\n",
        "#process_for_input(example)"
      ],
      "metadata": {
        "id": "PTVxz5uFJZyI"
      },
      "execution_count": 139,
      "outputs": []
    },
    {
      "cell_type": "code",
      "source": [
        "def conv_bytes_strs(words):\n",
        "  return [w.decode('UTF-8') for w in list(words)]"
      ],
      "metadata": {
        "id": "uFUPhtLDH5SS"
      },
      "execution_count": 140,
      "outputs": []
    },
    {
      "cell_type": "code",
      "source": [
        "def conv_to_color(attn): #blue pos red neg\n",
        "  rgbs = np.zeros((len(attn),3),dtype=int)\n",
        "  for i,score in enumerate(attn):\n",
        "    if score < 0:\n",
        "      rgbs[i][0]=-255*score//2\n",
        "    else:\n",
        "      rgbs[i][2]=255*score//2\n",
        "  \n",
        "  return rgbs"
      ],
      "metadata": {
        "id": "yDhvZkOFMFJ3"
      },
      "execution_count": 141,
      "outputs": []
    },
    {
      "cell_type": "code",
      "source": [
        "def coloring(text,fore=None,back=None):\n",
        "    txt=text\n",
        "    if fore != None and fore[0] != -1:\n",
        "      txt = \"\\033[38;2;{};{};{}m\".format(fore[0], fore[1], fore[2])+txt\n",
        "    if back != None and back[0] != -1:\n",
        "      txt = \"\\033[48;2;{};{};{}m\".format(back[0], back[1], back[2])+txt\n",
        "    return txt\n",
        "\n",
        "#print(coloring('Hello',back=[500,0,0]) + coloring('Hello', back=(0,0,255)))"
      ],
      "metadata": {
        "id": "X8GvqhLvOR8H"
      },
      "execution_count": 142,
      "outputs": []
    },
    {
      "cell_type": "markdown",
      "source": [
        "## full pipeline"
      ],
      "metadata": {
        "id": "spUdAeqoI0Ve"
      }
    },
    {
      "cell_type": "code",
      "source": [
        "def color_by_attn(text,toker,preper,encoder):\n",
        "  all_words_original=text.split()\n",
        "  all_words=text.lower().split()\n",
        "  processed= process_for_input(text)\n",
        "\n",
        "  words, at=get_attn_for_words(processed,tokenizer,preprocesser_model,encoder_model)\n",
        "\n",
        "  ws=conv_bytes_strs(words)\n",
        "  conv=conv_to_color(at)\n",
        "  mapping=dict(zip(ws,conv))\n",
        "  orig_mapping=dict(zip(all_words,all_words_original))\n",
        "\n",
        "  for i,w in enumerate(all_words):\n",
        "    if w not in mapping:\n",
        "      mapping[w]=[0,0,0] #make black\n",
        "    else:\n",
        "      mapping[w]=list(mapping[w])\n",
        "\n",
        "  colored=[coloring(orig_mapping[word],fore=[255,255,255],back=mapping[word]) for word in all_words]\n",
        "  printed=' '.join(colored)\n",
        "  return printed\n",
        "\n",
        "example=list(df3['text'])[0]\n",
        "p=color_by_attn(example,tokenizer,preprocesser_model,encoder_model)\n",
        "print(p)\n",
        "p"
      ],
      "metadata": {
        "colab": {
          "base_uri": "https://localhost:8080/",
          "height": 1000
        },
        "id": "hossOHKtZ1Wn",
        "outputId": "935958f4-9884-435d-e32d-6a7c7cbb9013"
      },
      "execution_count": 143,
      "outputs": [
        {
          "output_type": "stream",
          "name": "stdout",
          "text": [
            "\u001b[48;2;12;0;0m\u001b[38;2;255;255;255mMany \u001b[48;2;0;0;108m\u001b[38;2;255;255;255mapproaches \u001b[48;2;0;0;102m\u001b[38;2;255;255;255mfor \u001b[48;2;140;0;0m\u001b[38;2;255;255;255mPOS \u001b[48;2;103;0;0m\u001b[38;2;255;255;255mtagging \u001b[48;2;0;0;60m\u001b[38;2;255;255;255mhave \u001b[48;2;22;0;0m\u001b[38;2;255;255;255mbeen \u001b[48;2;188;0;0m\u001b[38;2;255;255;255mdeveloped \u001b[48;2;0;0;46m\u001b[38;2;255;255;255min \u001b[48;2;29;0;0m\u001b[38;2;255;255;255mthe \u001b[48;2;0;0;0m\u001b[38;2;255;255;255mpast, \u001b[48;2;0;0;281m\u001b[38;2;255;255;255mincluding \u001b[48;2;0;0;0m\u001b[38;2;255;255;255mrule-based \u001b[48;2;103;0;0m\u001b[38;2;255;255;255mtagging \u001b[48;2;0;0;0m\u001b[38;2;255;255;255m(Brill, \u001b[48;2;0;0;0m\u001b[38;2;255;255;255m1995), \u001b[48;2;9;0;0m\u001b[38;2;255;255;255mHMM \u001b[48;2;316;0;0m\u001b[38;2;255;255;255mtaggers \u001b[48;2;0;0;0m\u001b[38;2;255;255;255m(Brants, \u001b[48;2;0;0;0m\u001b[38;2;255;255;255m2000; \u001b[48;2;0;0;0m\u001b[38;2;255;255;255mCutting \u001b[48;2;0;0;0m\u001b[38;2;255;255;255mand \u001b[48;2;0;0;0m\u001b[38;2;255;255;255mothers, \u001b[48;2;0;0;0m\u001b[38;2;255;255;255m1992), \u001b[48;2;0;0;0m\u001b[38;2;255;255;255mmaximum-entropy \u001b[48;2;0;0;41m\u001b[38;2;255;255;255mmodels \u001b[48;2;0;0;0m\u001b[38;2;255;255;255m(Rathnaparki, \u001b[48;2;0;0;0m\u001b[38;2;255;255;255m1996), \u001b[48;2;0;0;97m\u001b[38;2;255;255;255mcyclic \u001b[48;2;61;0;0m\u001b[38;2;255;255;255mdependency \u001b[48;2;0;0;45m\u001b[38;2;255;255;255mnetworks \u001b[48;2;0;0;0m\u001b[38;2;255;255;255m(Toutanova \u001b[48;2;0;0;0m\u001b[38;2;255;255;255met \u001b[48;2;0;0;0m\u001b[38;2;255;255;255mal. \u001b[48;2;0;0;0m\u001b[38;2;255;255;255m, \u001b[48;2;0;0;0m\u001b[38;2;255;255;255m2003), \u001b[48;2;0;0;0m\u001b[38;2;255;255;255mmemory-based \u001b[48;2;0;0;84m\u001b[38;2;255;255;255mlearning \u001b[48;2;0;0;0m\u001b[38;2;255;255;255m(Daelemans \u001b[48;2;0;0;0m\u001b[38;2;255;255;255met \u001b[48;2;0;0;0m\u001b[38;2;255;255;255mal. \u001b[48;2;0;0;0m\u001b[38;2;255;255;255m, \u001b[48;2;0;0;0m\u001b[38;2;255;255;255m1996), \u001b[48;2;0;0;0m\u001b[38;2;255;255;255metc. \u001b[48;2;0;0;15m\u001b[38;2;255;255;255mall \u001b[48;2;0;0;258m\u001b[38;2;255;255;255mof \u001b[48;2;0;0;186m\u001b[38;2;255;255;255mthese \u001b[48;2;0;0;108m\u001b[38;2;255;255;255mapproaches \u001b[48;2;0;0;110m\u001b[38;2;255;255;255mrequire \u001b[48;2;215;0;0m\u001b[38;2;255;255;255meither \u001b[48;2;0;0;217m\u001b[38;2;255;255;255ma \u001b[48;2;207;0;0m\u001b[38;2;255;255;255mlarge \u001b[48;2;0;0;46m\u001b[38;2;255;255;255mamount \u001b[48;2;0;0;258m\u001b[38;2;255;255;255mof \u001b[48;2;70;0;0m\u001b[38;2;255;255;255mannotated \u001b[48;2;77;0;0m\u001b[38;2;255;255;255mtraining \u001b[48;2;166;0;0m\u001b[38;2;255;255;255mdata \u001b[48;2;0;0;0m\u001b[38;2;255;255;255m(for \u001b[48;2;50;0;0m\u001b[38;2;255;255;255msupervised \u001b[48;2;0;0;0m\u001b[38;2;255;255;255mtagging) \u001b[48;2;0;0;93m\u001b[38;2;255;255;255mor \u001b[48;2;0;0;217m\u001b[38;2;255;255;255ma \u001b[48;2;467;0;0m\u001b[38;2;255;255;255mlexicon \u001b[48;2;0;0;9m\u001b[38;2;255;255;255mlisting \u001b[48;2;0;0;15m\u001b[38;2;255;255;255mall \u001b[48;2;0;0;81m\u001b[38;2;255;255;255mpossible \u001b[48;2;45;0;0m\u001b[38;2;255;255;255mtags \u001b[48;2;0;0;102m\u001b[38;2;255;255;255mfor \u001b[48;2;0;0;114m\u001b[38;2;255;255;255meach \u001b[48;2;117;0;0m\u001b[38;2;255;255;255mword \u001b[48;2;0;0;0m\u001b[38;2;255;255;255m(for \u001b[48;2;0;0;0m\u001b[38;2;255;255;255munsupervised \u001b[48;2;0;0;0m\u001b[38;2;255;255;255mtagging).\n"
          ]
        },
        {
          "output_type": "execute_result",
          "data": {
            "text/plain": [
              "'\\x1b[48;2;12;0;0m\\x1b[38;2;255;255;255mMany \\x1b[48;2;0;0;108m\\x1b[38;2;255;255;255mapproaches \\x1b[48;2;0;0;102m\\x1b[38;2;255;255;255mfor \\x1b[48;2;140;0;0m\\x1b[38;2;255;255;255mPOS \\x1b[48;2;103;0;0m\\x1b[38;2;255;255;255mtagging \\x1b[48;2;0;0;60m\\x1b[38;2;255;255;255mhave \\x1b[48;2;22;0;0m\\x1b[38;2;255;255;255mbeen \\x1b[48;2;188;0;0m\\x1b[38;2;255;255;255mdeveloped \\x1b[48;2;0;0;46m\\x1b[38;2;255;255;255min \\x1b[48;2;29;0;0m\\x1b[38;2;255;255;255mthe \\x1b[48;2;0;0;0m\\x1b[38;2;255;255;255mpast, \\x1b[48;2;0;0;281m\\x1b[38;2;255;255;255mincluding \\x1b[48;2;0;0;0m\\x1b[38;2;255;255;255mrule-based \\x1b[48;2;103;0;0m\\x1b[38;2;255;255;255mtagging \\x1b[48;2;0;0;0m\\x1b[38;2;255;255;255m(Brill, \\x1b[48;2;0;0;0m\\x1b[38;2;255;255;255m1995), \\x1b[48;2;9;0;0m\\x1b[38;2;255;255;255mHMM \\x1b[48;2;316;0;0m\\x1b[38;2;255;255;255mtaggers \\x1b[48;2;0;0;0m\\x1b[38;2;255;255;255m(Brants, \\x1b[48;2;0;0;0m\\x1b[38;2;255;255;255m2000; \\x1b[48;2;0;0;0m\\x1b[38;2;255;255;255mCutting \\x1b[48;2;0;0;0m\\x1b[38;2;255;255;255mand \\x1b[48;2;0;0;0m\\x1b[38;2;255;255;255mothers, \\x1b[48;2;0;0;0m\\x1b[38;2;255;255;255m1992), \\x1b[48;2;0;0;0m\\x1b[38;2;255;255;255mmaximum-entropy \\x1b[48;2;0;0;41m\\x1b[38;2;255;255;255mmodels \\x1b[48;2;0;0;0m\\x1b[38;2;255;255;255m(Rathnaparki, \\x1b[48;2;0;0;0m\\x1b[38;2;255;255;255m1996), \\x1b[48;2;0;0;97m\\x1b[38;2;255;255;255mcyclic \\x1b[48;2;61;0;0m\\x1b[38;2;255;255;255mdependency \\x1b[48;2;0;0;45m\\x1b[38;2;255;255;255mnetworks \\x1b[48;2;0;0;0m\\x1b[38;2;255;255;255m(Toutanova \\x1b[48;2;0;0;0m\\x1b[38;2;255;255;255met \\x1b[48;2;0;0;0m\\x1b[38;2;255;255;255mal. \\x1b[48;2;0;0;0m\\x1b[38;2;255;255;255m, \\x1b[48;2;0;0;0m\\x1b[38;2;255;255;255m2003), \\x1b[48;2;0;0;0m\\x1b[38;2;255;255;255mmemory-based \\x1b[48;2;0;0;84m\\x1b[38;2;255;255;255mlearning \\x1b[48;2;0;0;0m\\x1b[38;2;255;255;255m(Daelemans \\x1b[48;2;0;0;0m\\x1b[38;2;255;255;255met \\x1b[48;2;0;0;0m\\x1b[38;2;255;255;255mal. \\x1b[48;2;0;0;0m\\x1b[38;2;255;255;255m, \\x1b[48;2;0;0;0m\\x1b[38;2;255;255;255m1996), \\x1b[48;2;0;0;0m\\x1b[38;2;255;255;255metc. \\x1b[48;2;0;0;15m\\x1b[38;2;255;255;255mall \\x1b[48;2;0;0;258m\\x1b[38;2;255;255;255mof \\x1b[48;2;0;0;186m\\x1b[38;2;255;255;255mthese \\x1b[48;2;0;0;108m\\x1b[38;2;255;255;255mapproaches \\x1b[48;2;0;0;110m\\x1b[38;2;255;255;255mrequire \\x1b[48;2;215;0;0m\\x1b[38;2;255;255;255meither \\x1b[48;2;0;0;217m\\x1b[38;2;255;255;255ma \\x1b[48;2;207;0;0m\\x1b[38;2;255;255;255mlarge \\x1b[48;2;0;0;46m\\x1b[38;2;255;255;255mamount \\x1b[48;2;0;0;258m\\x1b[38;2;255;255;255mof \\x1b[48;2;70;0;0m\\x1b[38;2;255;255;255mannotated \\x1b[48;2;77;0;0m\\x1b[38;2;255;255;255mtraining \\x1b[48;2;166;0;0m\\x1b[38;2;255;255;255mdata \\x1b[48;2;0;0;0m\\x1b[38;2;255;255;255m(for \\x1b[48;2;50;0;0m\\x1b[38;2;255;255;255msupervised \\x1b[48;2;0;0;0m\\x1b[38;2;255;255;255mtagging) \\x1b[48;2;0;0;93m\\x1b[38;2;255;255;255mor \\x1b[48;2;0;0;217m\\x1b[38;2;255;255;255ma \\x1b[48;2;467;0;0m\\x1b[38;2;255;255;255mlexicon \\x1b[48;2;0;0;9m\\x1b[38;2;255;255;255mlisting \\x1b[48;2;0;0;15m\\x1b[38;2;255;255;255mall \\x1b[48;2;0;0;81m\\x1b[38;2;255;255;255mpossible \\x1b[48;2;45;0;0m\\x1b[38;2;255;255;255mtags \\x1b[48;2;0;0;102m\\x1b[38;2;255;255;255mfor \\x1b[48;2;0;0;114m\\x1b[38;2;255;255;255meach \\x1b[48;2;117;0;0m\\x1b[38;2;255;255;255mword \\x1b[48;2;0;0;0m\\x1b[38;2;255;255;255m(for \\x1b[48;2;0;0;0m\\x1b[38;2;255;255;255munsupervised \\x1b[48;2;0;0;0m\\x1b[38;2;255;255;255mtagging).'"
            ],
            "application/vnd.google.colaboratory.intrinsic+json": {
              "type": "string"
            }
          },
          "metadata": {},
          "execution_count": 143
        }
      ]
    },
    {
      "cell_type": "code",
      "source": [
        "print('test')"
      ],
      "metadata": {
        "id": "r3D3FipbOOxP",
        "outputId": "5219b975-d5f8-4f54-f452-087293d2d57d",
        "colab": {
          "base_uri": "https://localhost:8080/"
        }
      },
      "execution_count": 144,
      "outputs": [
        {
          "output_type": "stream",
          "name": "stdout",
          "text": [
            "test\n"
          ]
        }
      ]
    },
    {
      "cell_type": "markdown",
      "source": [
        "# PDF text extratction\n"
      ],
      "metadata": {
        "id": "TD_FQ6ioGFGs"
      }
    },
    {
      "cell_type": "code",
      "source": [
        "def convert_pdf_to_string(file_path):\n",
        "\toutput_string = StringIO()\n",
        "\twith open(file_path, 'rb') as in_file:\n",
        "\t    parser = PDFParser(in_file)\n",
        "\t    doc = PDFDocument(parser)\n",
        "\t    rsrcmgr = PDFResourceManager()\n",
        "\t    device = TextConverter(rsrcmgr, output_string, laparams=LAParams())\n",
        "\t    interpreter = PDFPageInterpreter(rsrcmgr, device)\n",
        "\t    for page in PDFPage.create_pages(doc):\n",
        "\t        interpreter.process_page(page)\n",
        "\n",
        "\treturn(output_string.getvalue())\n",
        " \n",
        "def sent_extract(sample):\n",
        "\tdelims=re.findall('\\. [A-Z]',sample)\n",
        "\tsents=re.split('\\. [A-Z]',sample)\n",
        "\n",
        "\tsents[0]=sents[0]+'.'\n",
        "\tfor i,s in enumerate(sents[1:]):\n",
        "\t\tsents[i+1]=delims[i][2]+s+'.'\n",
        "\treturn sents\n",
        "\n",
        "def pdf_text_extract(path):\n",
        "  text=convert_pdf_to_string(path)\n",
        "  text1 = text.replace('\\x0c','')\n",
        "  text2 = text1.split('.\\n\\n')\n",
        "  refine=[t.replace('\\n',' ') for t in text2]\n",
        "  r=[]\n",
        "  for t in refine:\n",
        "    r+=sent_extract(t)\n",
        "  return r\n",
        "\n",
        "path='/content/drive/MyDrive/Text-ML/phocus.pdf'\n",
        "text=pdf_text_extract(path)\n"
      ],
      "metadata": {
        "id": "HkUe38wlJSov"
      },
      "execution_count": 145,
      "outputs": []
    },
    {
      "cell_type": "code",
      "source": [
        "title_end=0\n",
        "ref_start=len(text)-1\n",
        "while '©' not in text[title_end]:\n",
        "  title_end+=1\n",
        "while 'REFERENCES' not in text[ref_start]:\n",
        "  ref_start-=1\n",
        "content=text[3:ref_start]\n"
      ],
      "metadata": {
        "id": "O9lsV2ij-2vn"
      },
      "execution_count": 182,
      "outputs": []
    },
    {
      "cell_type": "code",
      "source": [
        "def text_class(text,model):\n",
        "  codes=tf.constant([[-1.0,0.0,1.0]])\n",
        "  pred=model.predict(text)[0]\n",
        "  i=tf.argmax(pred)\n",
        "  res=codes*pred\n",
        "  score=tf.math.reduce_mean(res,-1)[0].numpy()\n",
        "  classification=codes[0,i].numpy()\n",
        "  max_confidence=pred[i]\n",
        "  return classification,max_confidence,score,pred"
      ],
      "metadata": {
        "id": "Uc5Sg-uKYigY"
      },
      "execution_count": 178,
      "outputs": []
    },
    {
      "cell_type": "markdown",
      "source": [
        "# Coloring of a PDF"
      ],
      "metadata": {
        "id": "_Td1mswaCOFg"
      }
    },
    {
      "cell_type": "code",
      "source": [
        "errs=[]\n",
        "for i,t in enumerate(content):\n",
        "  try:\n",
        "    c,conf,sc,raw=text_class([t],classifier_model)\n",
        "    print(i,c,conf,sc,color_by_attn(t,tokenizer,preprocesser_model,encoder_model))\n",
        "  except Exception:\n",
        "    errs.append(i)"
      ],
      "metadata": {
        "colab": {
          "base_uri": "https://localhost:8080/"
        },
        "id": "AcFhtVjoCRTh",
        "outputId": "1b9a2427-2dc7-4d9d-bc31-e125de1745bc"
      },
      "execution_count": 183,
      "outputs": [
        {
          "output_type": "stream",
          "name": "stdout",
          "text": [
            "0 0.0 0.97032386 0.0088360645 \u001b[48;2;152;0;0m\u001b[38;2;255;255;255mPhocus \u001b[48;2;107;0;0m\u001b[38;2;255;255;255manalyzes \u001b[48;2;0;0;215m\u001b[38;2;255;255;255mthe \u001b[48;2;38;0;0m\u001b[38;2;255;255;255msentence \u001b[48;2;6;0;0m\u001b[38;2;255;255;255mcontaining \u001b[48;2;0;0;162m\u001b[38;2;255;255;255ma \u001b[48;2;0;0;156m\u001b[38;2;255;255;255mcitation \u001b[48;2;156;0;0m\u001b[38;2;255;255;255mand \u001b[48;2;0;0;113m\u001b[38;2;255;255;255mits \u001b[48;2;45;0;0m\u001b[38;2;255;255;255mcontexts \u001b[48;2;0;0;182m\u001b[38;2;255;255;255mto \u001b[48;2;181;0;0m\u001b[38;2;255;255;255mpredict \u001b[48;2;0;0;215m\u001b[38;2;255;255;255mthe \u001b[48;2;5;0;0m\u001b[38;2;255;255;255msentiment \u001b[48;2;146;0;0m\u001b[38;2;255;255;255mtowards \u001b[48;2;0;0;215m\u001b[38;2;255;255;255mthe \u001b[48;2;51;0;0m\u001b[38;2;255;255;255mcorresponding \u001b[48;2;0;0;0m\u001b[38;2;255;255;255mreference.\n",
            "1 0.0 0.96873647 0.007595146 \u001b[48;2;0;0;150m\u001b[38;2;255;255;255mCombining \u001b[48;2;0;0;117m\u001b[38;2;255;255;255mothers \u001b[48;2;0;0;0m\u001b[38;2;255;255;255mfactors, \u001b[48;2;354;0;0m\u001b[38;2;255;255;255mPhocus \u001b[48;2;139;0;0m\u001b[38;2;255;255;255mclassifies \u001b[48;2;4;0;0m\u001b[38;2;255;255;255mcitations \u001b[48;2;0;0;0m\u001b[38;2;255;255;255mcoarsely, \u001b[48;2;55;0;0m\u001b[38;2;255;255;255mranks \u001b[48;2;0;0;51m\u001b[38;2;255;255;255mall \u001b[48;2;18;0;0m\u001b[38;2;255;255;255mreferences \u001b[48;2;0;0;116m\u001b[38;2;255;255;255mwithin \u001b[48;2;0;0;156m\u001b[38;2;255;255;255ma \u001b[48;2;0;0;0m\u001b[38;2;255;255;255mpaper, \u001b[48;2;0;0;38m\u001b[38;2;255;255;255mand \u001b[48;2;43;0;0m\u001b[38;2;255;255;255mutilizes \u001b[48;2;0;0;219m\u001b[38;2;255;255;255mthe \u001b[48;2;69;0;0m\u001b[38;2;255;255;255mresults \u001b[48;2;0;0;225m\u001b[38;2;255;255;255mof \u001b[48;2;0;0;219m\u001b[38;2;255;255;255mthe \u001b[48;2;84;0;0m\u001b[38;2;255;255;255mclassifier \u001b[48;2;0;0;38m\u001b[38;2;255;255;255mand \u001b[48;2;0;0;219m\u001b[38;2;255;255;255mthe \u001b[48;2;0;0;0m\u001b[38;2;255;255;255mrank- \u001b[48;2;253;0;0m\u001b[38;2;255;255;255ming \u001b[48;2;41;0;0m\u001b[38;2;255;255;255mmodel \u001b[48;2;0;0;194m\u001b[38;2;255;255;255mto \u001b[48;2;38;0;0m\u001b[38;2;255;255;255mget \u001b[48;2;0;0;219m\u001b[38;2;255;255;255mthe \u001b[48;2;292;0;0m\u001b[38;2;255;255;255mlocal \u001b[48;2;121;0;0m\u001b[38;2;255;255;255minfluential \u001b[48;2;252;0;0m\u001b[38;2;255;255;255mfactor \u001b[48;2;0;0;225m\u001b[38;2;255;255;255mof \u001b[48;2;0;0;156m\u001b[38;2;255;255;255ma \u001b[48;2;82;0;0m\u001b[38;2;255;255;255mreference \u001b[48;2;0;0;194m\u001b[38;2;255;255;255mto \u001b[48;2;0;0;219m\u001b[38;2;255;255;255mthe \u001b[48;2;0;0;41m\u001b[38;2;255;255;255mciting \u001b[48;2;0;0;0m\u001b[38;2;255;255;255mpaper.\n",
            "2 1.0 0.8788816 0.28950587 \u001b[48;2;0;0;61m\u001b[38;2;255;255;255mthe \u001b[48;2;129;0;0m\u001b[38;2;255;255;255mglobal \u001b[48;2;64;0;0m\u001b[38;2;255;255;255minfluential \u001b[48;2;214;0;0m\u001b[38;2;255;255;255mfactor \u001b[48;2;0;0;164m\u001b[38;2;255;255;255mof \u001b[48;2;0;0;61m\u001b[38;2;255;255;255mthe \u001b[48;2;45;0;0m\u001b[38;2;255;255;255mreference \u001b[48;2;0;0;30m\u001b[38;2;255;255;255mto \u001b[48;2;0;0;61m\u001b[38;2;255;255;255mthe \u001b[48;2;0;0;116m\u001b[38;2;255;255;255mciting \u001b[48;2;0;0;99m\u001b[38;2;255;255;255mpaper \u001b[48;2;133;0;0m\u001b[38;2;255;255;255mis \u001b[48;2;0;0;61m\u001b[38;2;255;255;255mthe \u001b[48;2;202;0;0m\u001b[38;2;255;255;255mproduct \u001b[48;2;0;0;164m\u001b[38;2;255;255;255mof \u001b[48;2;0;0;61m\u001b[38;2;255;255;255mthe \u001b[48;2;141;0;0m\u001b[38;2;255;255;255mlocal \u001b[48;2;64;0;0m\u001b[38;2;255;255;255minfluential \u001b[48;2;214;0;0m\u001b[38;2;255;255;255mfactor \u001b[48;2;107;0;0m\u001b[38;2;255;255;255mand \u001b[48;2;0;0;61m\u001b[38;2;255;255;255mthe \u001b[48;2;196;0;0m\u001b[38;2;255;255;255mtotal \u001b[48;2;64;0;0m\u001b[38;2;255;255;255minfluential \u001b[48;2;214;0;0m\u001b[38;2;255;255;255mfactor \u001b[48;2;0;0;164m\u001b[38;2;255;255;255mof \u001b[48;2;0;0;61m\u001b[38;2;255;255;255mthe \u001b[48;2;0;0;116m\u001b[38;2;255;255;255mciting \u001b[48;2;0;0;0m\u001b[38;2;255;255;255mpaper.\n",
            "3 1.0 0.89268345 0.28786 \u001b[48;2;0;0;0m\u001b[38;2;255;255;255mConsequently, \u001b[48;2;0;0;210m\u001b[38;2;255;255;255man \u001b[48;2;0;0;0m\u001b[38;2;255;255;255mauthor’s \u001b[48;2;18;0;0m\u001b[38;2;255;255;255macademic \u001b[48;2;48;0;0m\u001b[38;2;255;255;255minfluential \u001b[48;2;275;0;0m\u001b[38;2;255;255;255mfactor \u001b[48;2;33;0;0m\u001b[38;2;255;255;255mis \u001b[48;2;0;0;158m\u001b[38;2;255;255;255mthe \u001b[48;2;0;0;34m\u001b[38;2;255;255;255msum \u001b[48;2;0;0;274m\u001b[38;2;255;255;255mof \u001b[48;2;0;0;0m\u001b[38;2;255;255;255mone’s \u001b[48;2;0;0;147m\u001b[38;2;255;255;255mcontributions \u001b[48;2;0;0;139m\u001b[38;2;255;255;255mto \u001b[48;2;48;0;0m\u001b[38;2;255;255;255meach \u001b[48;2;32;0;0m\u001b[38;2;255;255;255mpaper \u001b[48;2;31;0;0m\u001b[38;2;255;255;255mone \u001b[48;2;0;0;0m\u001b[38;2;255;255;255mco-authors.\n",
            "4 0.0 0.946888 0.015526607 \u001b[48;2;94;0;0m\u001b[38;2;255;255;255mKEYWORDS \u001b[48;2;14;0;0m\u001b[38;2;255;255;255mcitation \u001b[48;2;0;0;0m\u001b[38;2;255;255;255mclassification, \u001b[48;2;0;0;62m\u001b[38;2;255;255;255msentiment \u001b[48;2;0;0;0m\u001b[38;2;255;255;255manalysis, \u001b[48;2;84;0;0m\u001b[38;2;255;255;255macademic \u001b[48;2;86;0;0m\u001b[38;2;255;255;255minfluential \u001b[48;2;0;0;0m\u001b[38;2;255;255;255mfac- \u001b[48;2;0;0;0m\u001b[38;2;255;255;255mtor, \u001b[48;2;187;0;0m\u001b[38;2;255;255;255mdata \u001b[48;2;5;0;0m\u001b[38;2;255;255;255mmining \u001b[48;2;108;0;0m\u001b[38;2;255;255;255mFigure \u001b[48;2;0;0;0m\u001b[38;2;255;255;255m1: \u001b[48;2;22;0;0m\u001b[38;2;255;255;255mthe \u001b[48;2;0;0;37m\u001b[38;2;255;255;255mnumber \u001b[48;2;0;0;181m\u001b[38;2;255;255;255mof \u001b[48;2;0;0;6m\u001b[38;2;255;255;255mnew \u001b[48;2;0;0;86m\u001b[38;2;255;255;255mpublications \u001b[48;2;0;0;197m\u001b[38;2;255;255;255mon \u001b[48;2;6;0;0m\u001b[38;2;255;255;255mIEEE \u001b[48;2;0;0;341m\u001b[38;2;255;255;255mXplore \u001b[48;2;0;0;169m\u001b[38;2;255;255;255meach \u001b[48;2;138;0;0m\u001b[38;2;255;255;255myear \u001b[48;2;153;0;0m\u001b[38;2;255;255;255mfrom \u001b[48;2;189;0;0m\u001b[38;2;255;255;255m2000 \u001b[48;2;115;0;0m\u001b[38;2;255;255;255mto \u001b[48;2;0;0;0m\u001b[38;2;255;255;255m2021.\n",
            "5 1.0 0.79292434 0.25800478 \u001b[48;2;0;0;134m\u001b[38;2;255;255;255m1 \u001b[48;2;48;0;0m\u001b[38;2;255;255;255mINTRODUCTION \u001b[48;2;56;0;0m\u001b[38;2;255;255;255mThe \u001b[48;2;47;0;0m\u001b[38;2;255;255;255mnumber \u001b[48;2;0;0;224m\u001b[38;2;255;255;255mof \u001b[48;2;0;0;111m\u001b[38;2;255;255;255mpapers \u001b[48;2;0;0;32m\u001b[38;2;255;255;255mpublished \u001b[48;2;0;0;145m\u001b[38;2;255;255;255meach \u001b[48;2;225;0;0m\u001b[38;2;255;255;255myear \u001b[48;2;53;0;0m\u001b[38;2;255;255;255mhas \u001b[48;2;166;0;0m\u001b[38;2;255;255;255mgrown \u001b[48;2;0;0;0m\u001b[38;2;255;255;255mgreatly.\n",
            "6 1.0 0.6783642 0.14259882 \u001b[48;2;3;0;0m\u001b[38;2;255;255;255mFor \u001b[48;2;0;0;0m\u001b[38;2;255;255;255mexample, \u001b[48;2;0;0;242m\u001b[38;2;255;255;255mas \u001b[48;2;0;0;153m\u001b[38;2;255;255;255mshown \u001b[48;2;0;0;256m\u001b[38;2;255;255;255min \u001b[48;2;208;0;0m\u001b[38;2;255;255;255mFigure \u001b[48;2;0;0;0m\u001b[38;2;255;255;255m1, \u001b[48;2;0;0;24m\u001b[38;2;255;255;255mthe \u001b[48;2;96;0;0m\u001b[38;2;255;255;255mnumber \u001b[48;2;0;0;103m\u001b[38;2;255;255;255mof \u001b[48;2;89;0;0m\u001b[38;2;255;255;255mnew \u001b[48;2;83;0;0m\u001b[38;2;255;255;255mpapers \u001b[48;2;0;0;155m\u001b[38;2;255;255;255mon \u001b[48;2;97;0;0m\u001b[38;2;255;255;255mIEEE \u001b[48;2;0;0;50m\u001b[38;2;255;255;255mXplore1 \u001b[48;2;192;0;0m\u001b[38;2;255;255;255mincreases \u001b[48;2;137;0;0m\u001b[38;2;255;255;255msharply \u001b[48;2;77;0;0m\u001b[38;2;255;255;255mover \u001b[48;2;0;0;24m\u001b[38;2;255;255;255mthe \u001b[48;2;0;0;0m\u001b[38;2;255;255;255mdecade.\n",
            "7 1.0 0.79561603 0.21536537 \u001b[48;2;61;0;0m\u001b[38;2;255;255;255mPaper \u001b[48;2;242;0;0m\u001b[38;2;255;255;255mboom \u001b[48;2;0;0;69m\u001b[38;2;255;255;255min \u001b[48;2;17;0;0m\u001b[38;2;255;255;255macademic \u001b[48;2;15;0;0m\u001b[38;2;255;255;255mfields \u001b[48;2;164;0;0m\u001b[38;2;255;255;255mresults \u001b[48;2;0;0;69m\u001b[38;2;255;255;255min \u001b[48;2;0;0;28m\u001b[38;2;255;255;255mmany \u001b[48;2;0;0;159m\u001b[38;2;255;255;255msevere \u001b[48;2;0;0;0m\u001b[38;2;255;255;255mproblems.\n",
            "8 0.0 0.80980843 0.05311099 \u001b[48;2;104;0;0m\u001b[38;2;255;255;255mCortes \u001b[48;2;0;0;145m\u001b[38;2;255;255;255met \u001b[48;2;0;0;0m\u001b[38;2;255;255;255mal. \u001b[48;2;0;0;0m\u001b[38;2;255;255;255m[10] \u001b[48;2;0;0;253m\u001b[38;2;255;255;255mexamine \u001b[48;2;102;0;0m\u001b[38;2;255;255;255m2014 \u001b[48;2;483;0;0m\u001b[38;2;255;255;255mNeurIPS \u001b[48;2;0;0;77m\u001b[38;2;255;255;255mand \u001b[48;2;36;0;0m\u001b[38;2;255;255;255mfind \u001b[48;2;0;0;36m\u001b[38;2;255;255;255mthat \u001b[48;2;0;0;4m\u001b[38;2;255;255;255mit \u001b[48;2;0;0;42m\u001b[38;2;255;255;255mis \u001b[48;2;170;0;0m\u001b[38;2;255;255;255mnot \u001b[48;2;0;0;59m\u001b[38;2;255;255;255mable \u001b[48;2;0;0;0m\u001b[38;2;255;255;255mto \u001b[48;2;30;0;0m\u001b[38;2;255;255;255mpick \u001b[48;2;140;0;0m\u001b[38;2;255;255;255mout \u001b[48;2;0;0;134m\u001b[38;2;255;255;255mexcellent \u001b[48;2;0;0;0m\u001b[38;2;255;255;255mresearches, \u001b[48;2;0;0;77m\u001b[38;2;255;255;255mand \u001b[48;2;0;0;44m\u001b[38;2;255;255;255mcould \u001b[48;2;0;0;75m\u001b[38;2;255;255;255midentify \u001b[48;2;0;0;184m\u001b[38;2;255;255;255mterrible \u001b[48;2;0;0;0m\u001b[38;2;255;255;255mpapers.\n",
            "9 1.0 0.5197999 0.13796368 \u001b[48;2;0;0;40m\u001b[38;2;255;255;255mChu \u001b[48;2;0;0;101m\u001b[38;2;255;255;255met \u001b[48;2;0;0;0m\u001b[38;2;255;255;255mal. \u001b[48;2;0;0;0m\u001b[38;2;255;255;255m[8] \u001b[48;2;0;0;137m\u001b[38;2;255;255;255mreveal \u001b[48;2;0;0;107m\u001b[38;2;255;255;255mthat \u001b[48;2;0;0;41m\u001b[38;2;255;255;255mtoo \u001b[48;2;204;0;0m\u001b[38;2;255;255;255mmany \u001b[48;2;0;0;27m\u001b[38;2;255;255;255mpapers \u001b[48;2;0;0;17m\u001b[38;2;255;255;255mpublished \u001b[48;2;0;0;29m\u001b[38;2;255;255;255meach \u001b[48;2;222;0;0m\u001b[38;2;255;255;255myear \u001b[48;2;0;0;192m\u001b[38;2;255;255;255min \u001b[48;2;0;0;90m\u001b[38;2;255;255;255ma \u001b[48;2;0;0;49m\u001b[38;2;255;255;255mfield \u001b[48;2;421;0;0m\u001b[38;2;255;255;255mhinder \u001b[48;2;149;0;0m\u001b[38;2;255;255;255mits \u001b[48;2;0;0;0m\u001b[38;2;255;255;255mdevelopment.\n",
            "10 -1.0 0.6319473 -0.15233155 \u001b[48;2;0;0;39m\u001b[38;2;255;255;255mThey \u001b[48;2;201;0;0m\u001b[38;2;255;255;255mstate \u001b[48;2;115;0;0m\u001b[38;2;255;255;255mthis \u001b[48;2;0;0;0m\u001b[38;2;255;255;255mopinion \u001b[48;2;0;0;239m\u001b[38;2;255;255;255min \u001b[48;2;0;0;20m\u001b[38;2;255;255;255mtwo \u001b[48;2;0;0;0m\u001b[38;2;255;255;255maspects.\n",
            "11 0.0 0.73324126 0.014166887 \u001b[48;2;0;0;0m\u001b[38;2;255;255;255mFirst, \u001b[48;2;4;0;0m\u001b[38;2;255;255;255mresearchers \u001b[48;2;0;0;71m\u001b[38;2;255;255;255mare \u001b[48;2;128;0;0m\u001b[38;2;255;255;255mbusy \u001b[48;2;66;0;0m\u001b[38;2;255;255;255mcoping \u001b[48;2;0;0;248m\u001b[38;2;255;255;255mwith \u001b[48;2;0;0;30m\u001b[38;2;255;255;255ma \u001b[48;2;0;0;23m\u001b[38;2;255;255;255mlot \u001b[48;2;0;0;300m\u001b[38;2;255;255;255mof \u001b[48;2;0;0;0m\u001b[38;2;255;255;255mpapers, \u001b[48;2;63;0;0m\u001b[38;2;255;255;255mbut \u001b[48;2;0;0;0m\u001b[38;2;255;255;255mdon’t \u001b[48;2;0;0;143m\u001b[38;2;255;255;255mhave \u001b[48;2;0;0;29m\u001b[38;2;255;255;255menough \u001b[48;2;56;0;0m\u001b[38;2;255;255;255mtime \u001b[48;2;0;0;103m\u001b[38;2;255;255;255mto \u001b[48;2;32;0;0m\u001b[38;2;255;255;255mfully \u001b[48;2;0;0;70m\u001b[38;2;255;255;255mlearn \u001b[48;2;0;0;27m\u001b[38;2;255;255;255mnovel \u001b[48;2;0;0;0m\u001b[38;2;255;255;255mideas; \u001b[48;2;0;0;0m\u001b[38;2;255;255;255mSecond, \u001b[48;2;0;0;120m\u001b[38;2;255;255;255mthe \u001b[48;2;167;0;0m\u001b[38;2;255;255;255mfocused \u001b[48;2;43;0;0m\u001b[38;2;255;255;255mattention \u001b[48;2;0;0;34m\u001b[38;2;255;255;255mon \u001b[48;2;0;0;30m\u001b[38;2;255;255;255ma \u001b[48;2;0;0;39m\u001b[38;2;255;255;255mpromising \u001b[48;2;72;0;0m\u001b[38;2;255;255;255midea \u001b[48;2;143;0;0m\u001b[38;2;255;255;255mmight \u001b[48;2;0;0;69m\u001b[38;2;255;255;255mbe \u001b[48;2;175;0;0m\u001b[38;2;255;255;255mbroken \u001b[48;2;329;0;0m\u001b[38;2;255;255;255mup \u001b[48;2;139;0;0m\u001b[38;2;255;255;255mby \u001b[48;2;0;0;120m\u001b[38;2;255;255;255mthe \u001b[48;2;0;0;11m\u001b[38;2;255;255;255mdeluge \u001b[48;2;0;0;300m\u001b[38;2;255;255;255mof \u001b[48;2;32;0;0m\u001b[38;2;255;255;255mnew \u001b[48;2;0;0;0m\u001b[38;2;255;255;255mideas.\n",
            "12 0.0 0.97182673 0.008266438 \u001b[48;2;0;0;0m\u001b[38;2;255;255;255m∗Authors \u001b[48;2;11;0;0m\u001b[38;2;255;255;255mcontributed \u001b[48;2;0;0;0m\u001b[38;2;255;255;255mequally \u001b[48;2;131;0;0m\u001b[38;2;255;255;255mto \u001b[48;2;83;0;0m\u001b[38;2;255;255;255mthis \u001b[48;2;0;0;0m\u001b[38;2;255;255;255mresearch. \u001b[48;2;0;0;0m\u001b[38;2;255;255;255m†Corresponding \u001b[48;2;50;0;0m\u001b[38;2;255;255;255mauthor \u001b[48;2;0;0;0m\u001b[38;2;255;255;255m1https://ieeexplore.ieee.org/Xplore/home.jsp \u001b[48;2;0;0;34m\u001b[38;2;255;255;255mReference \u001b[48;2;0;0;0m\u001b[38;2;255;255;255mFormat: \u001b[48;2;0;0;135m\u001b[38;2;255;255;255mXinrong \u001b[48;2;0;0;0m\u001b[38;2;255;255;255mZhang, \u001b[48;2;111;0;0m\u001b[38;2;255;255;255mZihou \u001b[48;2;0;0;0m\u001b[38;2;255;255;255mRen, \u001b[48;2;80;0;0m\u001b[38;2;255;255;255mXi \u001b[48;2;0;0;0m\u001b[38;2;255;255;255mLi, \u001b[48;2;298;0;0m\u001b[38;2;255;255;255mShuqi \u001b[48;2;0;0;0m\u001b[38;2;255;255;255mLiu, \u001b[48;2;276;0;0m\u001b[38;2;255;255;255mYunlong \u001b[48;2;0;0;0m\u001b[38;2;255;255;255mDeng, \u001b[48;2;307;0;0m\u001b[38;2;255;255;255mYadi \u001b[48;2;0;0;0m\u001b[38;2;255;255;255mXiao, \u001b[48;2;0;0;8m\u001b[38;2;255;255;255mYuxing \u001b[48;2;0;0;0m\u001b[38;2;255;255;255mHan, \u001b[48;2;0;0;79m\u001b[38;2;255;255;255mand \u001b[48;2;0;0;0m\u001b[38;2;255;255;255mJiangtao \u001b[48;2;0;0;0m\u001b[38;2;255;255;255mWen. \u001b[48;2;0;0;0m\u001b[38;2;255;255;255m2022.\n",
            "13 1.0 0.6571463 0.21818984 \u001b[48;2;0;0;0m\u001b[38;2;255;255;255mPhocus: \u001b[48;2;0;0;145m\u001b[38;2;255;255;255mPicking \u001b[48;2;0;0;54m\u001b[38;2;255;255;255mValuable \u001b[48;2;174;0;0m\u001b[38;2;255;255;255mResearch \u001b[48;2;0;0;30m\u001b[38;2;255;255;255mfrom \u001b[48;2;0;0;58m\u001b[38;2;255;255;255ma \u001b[48;2;180;0;0m\u001b[38;2;255;255;255mSea \u001b[48;2;0;0;217m\u001b[38;2;255;255;255mof \u001b[48;2;0;0;0m\u001b[38;2;255;255;255mCitations.\n",
            "14 0.0 0.946273 0.013567789 \u001b[48;2;0;0;147m\u001b[38;2;255;255;255mIn \u001b[48;2;0;0;43m\u001b[38;2;255;255;255mProceedings \u001b[48;2;0;0;108m\u001b[38;2;255;255;255mof \u001b[48;2;0;0;0m\u001b[38;2;255;255;255m. \u001b[48;2;0;0;0m\u001b[38;2;255;255;255m, \u001b[48;2;122;0;0m\u001b[38;2;255;255;255m7 \u001b[48;2;0;0;0m\u001b[38;2;255;255;255mpages.\n"
          ]
        },
        {
          "output_type": "stream",
          "name": "stderr",
          "text": [
            "/usr/local/lib/python3.7/dist-packages/ipykernel_launcher.py:7: RuntimeWarning: invalid value encountered in double_scalars\n",
            "  import sys\n"
          ]
        },
        {
          "output_type": "stream",
          "name": "stdout",
          "text": [
            "16 0.0 0.85409486 0.04505445 \u001b[48;2;0;0;0m\u001b[38;2;255;255;255m, \u001b[48;2;0;0;0m\u001b[38;2;255;255;255m, \u001b[48;2;147;0;0m\u001b[38;2;255;255;255mZhang \u001b[48;2;67;0;0m\u001b[38;2;255;255;255mand \u001b[48;2;50;0;0m\u001b[38;2;255;255;255mWen \u001b[48;2;0;0;225m\u001b[38;2;255;255;255met \u001b[48;2;0;0;0m\u001b[38;2;255;255;255mal.\n",
            "17 1.0 0.7908597 0.24104619 \u001b[48;2;78;0;0m\u001b[38;2;255;255;255mthe \u001b[48;2;10;0;0m\u001b[38;2;255;255;255mreason \u001b[48;2;9;0;0m\u001b[38;2;255;255;255mfor \u001b[48;2;78;0;0m\u001b[38;2;255;255;255mthe \u001b[48;2;9;0;0m\u001b[38;2;255;255;255msharp \u001b[48;2;125;0;0m\u001b[38;2;255;255;255mincrease \u001b[48;2;0;0;192m\u001b[38;2;255;255;255min \u001b[48;2;0;0;114m\u001b[38;2;255;255;255mpapers \u001b[48;2;34;0;0m\u001b[38;2;255;255;255mis \u001b[48;2;0;0;224m\u001b[38;2;255;255;255mthat \u001b[48;2;113;0;0m\u001b[38;2;255;255;255mevaluation \u001b[48;2;22;0;0m\u001b[38;2;255;255;255mmetrics \u001b[48;2;9;0;0m\u001b[38;2;255;255;255mfor \u001b[48;2;141;0;0m\u001b[38;2;255;255;255mresearchers \u001b[48;2;0;0;16m\u001b[38;2;255;255;255mand \u001b[48;2;45;0;0m\u001b[38;2;255;255;255mscholars \u001b[48;2;288;0;0m\u001b[38;2;255;255;255mfocus \u001b[48;2;63;0;0m\u001b[38;2;255;255;255mon \u001b[48;2;78;0;0m\u001b[38;2;255;255;255mthe \u001b[48;2;57;0;0m\u001b[38;2;255;255;255mnumber \u001b[48;2;0;0;230m\u001b[38;2;255;255;255mof \u001b[48;2;0;0;0m\u001b[38;2;255;255;255mpapers.\n",
            "18 1.0 0.6612781 0.21966016 \u001b[48;2;0;0;87m\u001b[38;2;255;255;255mFrom \u001b[48;2;0;0;73m\u001b[38;2;255;255;255mthe \u001b[48;2;0;0;100m\u001b[38;2;255;255;255mscientific \u001b[48;2;0;0;0m\u001b[38;2;255;255;255moutput, \u001b[48;2;0;0;0m\u001b[38;2;255;255;255mresearch \u001b[48;2;0;0;0m\u001b[38;2;255;255;255mfunding, \u001b[48;2;139;0;0m\u001b[38;2;255;255;255mto \u001b[48;2;0;0;73m\u001b[38;2;255;255;255mthe \u001b[48;2;238;0;0m\u001b[38;2;255;255;255mevaluation \u001b[48;2;0;0;222m\u001b[38;2;255;255;255mof \u001b[48;2;141;0;0m\u001b[38;2;255;255;255mprofessional \u001b[48;2;0;0;0m\u001b[38;2;255;255;255mrank, \u001b[48;2;0;0;157m\u001b[38;2;255;255;255mpapers \u001b[48;2;0;0;5m\u001b[38;2;255;255;255mplay \u001b[48;2;0;0;180m\u001b[38;2;255;255;255ma \u001b[48;2;0;0;187m\u001b[38;2;255;255;255mvery \u001b[48;2;0;0;39m\u001b[38;2;255;255;255mimportant \u001b[48;2;0;0;0m\u001b[38;2;255;255;255mrole, \u001b[48;2;0;0;21m\u001b[38;2;255;255;255mand \u001b[48;2;0;0;73m\u001b[38;2;255;255;255mthe \u001b[48;2;49;0;0m\u001b[38;2;255;255;255mmore \u001b[48;2;0;0;0m\u001b[38;2;255;255;255mpapers, \u001b[48;2;0;0;73m\u001b[38;2;255;255;255mthe \u001b[48;2;0;0;0m\u001b[38;2;255;255;255mbetter.\n",
            "19 0.0 0.35513052 -0.013098121 \u001b[48;2;0;0;0m\u001b[38;2;255;255;255mHowever, \u001b[48;2;0;0;121m\u001b[38;2;255;255;255mIt \u001b[48;2;0;0;66m\u001b[38;2;255;255;255mis \u001b[48;2;60;0;0m\u001b[38;2;255;255;255mtime \u001b[48;2;0;0;24m\u001b[38;2;255;255;255mto \u001b[48;2;0;0;178m\u001b[38;2;255;255;255mmake \u001b[48;2;0;0;0m\u001b[38;2;255;255;255mchanges.\n",
            "20 -1.0 0.7646931 -0.22506176 \u001b[48;2;0;0;89m\u001b[38;2;255;255;255mQuantitative \u001b[48;2;0;0;69m\u001b[38;2;255;255;255mmetrics \u001b[48;2;0;0;128m\u001b[38;2;255;255;255mcould \u001b[48;2;279;0;0m\u001b[38;2;255;255;255mnot \u001b[48;2;247;0;0m\u001b[38;2;255;255;255mevaluate \u001b[48;2;0;0;52m\u001b[38;2;255;255;255mthe \u001b[48;2;48;0;0m\u001b[38;2;255;255;255mreal \u001b[48;2;14;0;0m\u001b[38;2;255;255;255macademic \u001b[48;2;139;0;0m\u001b[38;2;255;255;255mimpact \u001b[48;2;0;0;37m\u001b[38;2;255;255;255mof \u001b[48;2;0;0;188m\u001b[38;2;255;255;255ma \u001b[48;2;46;0;0m\u001b[38;2;255;255;255mscholar \u001b[48;2;0;0;99m\u001b[38;2;255;255;255mor \u001b[48;2;0;0;188m\u001b[38;2;255;255;255ma \u001b[48;2;0;0;0m\u001b[38;2;255;255;255mpaper.\n",
            "21 -1.0 0.6145573 -0.14348972 \u001b[48;2;27;0;0m\u001b[38;2;255;255;255mThey \u001b[48;2;43;0;0m\u001b[38;2;255;255;255mignore \u001b[48;2;0;0;51m\u001b[38;2;255;255;255mthe \u001b[48;2;8;0;0m\u001b[38;2;255;255;255messential \u001b[48;2;216;0;0m\u001b[38;2;255;255;255mdifferences \u001b[48;2;149;0;0m\u001b[38;2;255;255;255mbetween \u001b[48;2;0;0;0m\u001b[38;2;255;255;255mcitations, \u001b[48;2;0;0;153m\u001b[38;2;255;255;255mwhich \u001b[48;2;0;0;146m\u001b[38;2;255;255;255mis \u001b[48;2;0;0;189m\u001b[38;2;255;255;255ma \u001b[48;2;0;0;100m\u001b[38;2;255;255;255mfatal \u001b[48;2;0;0;0m\u001b[38;2;255;255;255merror.\n",
            "22 1.0 0.4984742 0.13902035 \u001b[48;2;632;0;0m\u001b[38;2;255;255;255mSeglen \u001b[48;2;0;0;110m\u001b[38;2;255;255;255mexpresses \u001b[48;2;23;0;0m\u001b[38;2;255;255;255mstrong \u001b[48;2;0;0;29m\u001b[38;2;255;255;255mopposition \u001b[48;2;11;0;0m\u001b[38;2;255;255;255mto \u001b[48;2;0;0;0m\u001b[38;2;255;255;255mim- \u001b[48;2;13;0;0m\u001b[38;2;255;255;255mpact \u001b[48;2;0;0;56m\u001b[38;2;255;255;255mfactors \u001b[48;2;0;0;158m\u001b[38;2;255;255;255mthat \u001b[48;2;65;0;0m\u001b[38;2;255;255;255mmeasure \u001b[48;2;0;0;111m\u001b[38;2;255;255;255mthe \u001b[48;2;66;0;0m\u001b[38;2;255;255;255macademic \u001b[48;2;114;0;0m\u001b[38;2;255;255;255minfluence \u001b[48;2;0;0;126m\u001b[38;2;255;255;255mof \u001b[48;2;86;0;0m\u001b[38;2;255;255;255mjournals \u001b[48;2;0;0;7m\u001b[38;2;255;255;255mfor \u001b[48;2;96;0;0m\u001b[38;2;255;255;255mcommittees \u001b[48;2;0;0;64m\u001b[38;2;255;255;255mseldom \u001b[48;2;0;0;101m\u001b[38;2;255;255;255mhave \u001b[48;2;0;0;111m\u001b[38;2;255;255;255mthe \u001b[48;2;0;0;0m\u001b[38;2;255;255;255mspecialist’ \u001b[48;2;78;0;0m\u001b[38;2;255;255;255minsights \u001b[48;2;11;0;0m\u001b[38;2;255;255;255mto \u001b[48;2;0;0;79m\u001b[38;2;255;255;255massess \u001b[48;2;78;0;0m\u001b[38;2;255;255;255mprimary \u001b[48;2;0;0;0m\u001b[38;2;255;255;255mresearches[31].\n",
            "23 1.0 0.8753026 0.29053912 \u001b[48;2;253;0;0m\u001b[38;2;255;255;255mWe \u001b[48;2;0;0;106m\u001b[38;2;255;255;255mpropose \u001b[48;2;0;0;0m\u001b[38;2;255;255;255mPhocus, \u001b[48;2;0;0;164m\u001b[38;2;255;255;255ma \u001b[48;2;141;0;0m\u001b[38;2;255;255;255mnovel \u001b[48;2;140;0;0m\u001b[38;2;255;255;255mevaluation \u001b[48;2;0;0;34m\u001b[38;2;255;255;255mmechanism \u001b[48;2;0;0;2m\u001b[38;2;255;255;255mfor \u001b[48;2;97;0;0m\u001b[38;2;255;255;255mscholars \u001b[48;2;74;0;0m\u001b[38;2;255;255;255mand \u001b[48;2;0;0;0m\u001b[38;2;255;255;255mpublications.\n",
            "24 0.0 0.9123971 0.027458189 \u001b[48;2;326;0;0m\u001b[38;2;255;255;255mPhocus \u001b[48;2;201;0;0m\u001b[38;2;255;255;255manalyzes \u001b[48;2;0;0;99m\u001b[38;2;255;255;255mthe \u001b[48;2;71;0;0m\u001b[38;2;255;255;255msentence \u001b[48;2;59;0;0m\u001b[38;2;255;255;255mcontaining \u001b[48;2;0;0;70m\u001b[38;2;255;255;255ma \u001b[48;2;0;0;91m\u001b[38;2;255;255;255mcitation \u001b[48;2;192;0;0m\u001b[38;2;255;255;255mand \u001b[48;2;0;0;70m\u001b[38;2;255;255;255mits \u001b[48;2;30;0;0m\u001b[38;2;255;255;255mcontexts \u001b[48;2;0;0;142m\u001b[38;2;255;255;255mto \u001b[48;2;185;0;0m\u001b[38;2;255;255;255mpredict \u001b[48;2;0;0;99m\u001b[38;2;255;255;255mthe \u001b[48;2;0;0;195m\u001b[38;2;255;255;255msentiment \u001b[48;2;10;0;0m\u001b[38;2;255;255;255mpolarity \u001b[48;2;81;0;0m\u001b[38;2;255;255;255mtowards \u001b[48;2;0;0;99m\u001b[38;2;255;255;255mthe \u001b[48;2;0;0;0m\u001b[38;2;255;255;255mcorre- \u001b[48;2;0;0;178m\u001b[38;2;255;255;255msponding \u001b[48;2;0;0;0m\u001b[38;2;255;255;255mreference.\n",
            "25 0.0 0.9785463 0.0027522917 \u001b[48;2;0;0;0m\u001b[38;2;255;255;255mBesides, \u001b[48;2;53;0;0m\u001b[38;2;255;255;255mPhocus \u001b[48;2;40;0;0m\u001b[38;2;255;255;255malso \u001b[48;2;220;0;0m\u001b[38;2;255;255;255mconsiders \u001b[48;2;6;0;0m\u001b[38;2;255;255;255mthe \u001b[48;2;202;0;0m\u001b[38;2;255;255;255mtotal \u001b[48;2;0;0;118m\u001b[38;2;255;255;255mnumber \u001b[48;2;0;0;216m\u001b[38;2;255;255;255mof \u001b[48;2;0;0;0m\u001b[38;2;255;255;255mcitations, \u001b[48;2;6;0;0m\u001b[38;2;255;255;255mthe \u001b[48;2;0;0;118m\u001b[38;2;255;255;255mnumber \u001b[48;2;0;0;216m\u001b[38;2;255;255;255mof \u001b[48;2;0;0;93m\u001b[38;2;255;255;255mcitations \u001b[48;2;144;0;0m\u001b[38;2;255;255;255mper \u001b[48;2;0;0;0m\u001b[38;2;255;255;255msentence, \u001b[48;2;56;0;0m\u001b[38;2;255;255;255mauthor \u001b[48;2;0;0;0m\u001b[38;2;255;255;255moverlap, \u001b[48;2;147;0;0m\u001b[38;2;255;255;255mand \u001b[48;2;6;0;0m\u001b[38;2;255;255;255mthe \u001b[48;2;0;0;118m\u001b[38;2;255;255;255mnumber \u001b[48;2;0;0;216m\u001b[38;2;255;255;255mof \u001b[48;2;0;0;0m\u001b[38;2;255;255;255mreferences, \u001b[48;2;35;0;0m\u001b[38;2;255;255;255msimilar \u001b[48;2;0;0;0m\u001b[38;2;255;255;255mto \u001b[48;2;0;0;0m\u001b[38;2;255;255;255m[35].\n",
            "26 0.0 0.9917836 0.002050985 \u001b[48;2;74;0;0m\u001b[38;2;255;255;255mGiven \u001b[48;2;0;0;112m\u001b[38;2;255;255;255mthose \u001b[48;2;74;0;0m\u001b[38;2;255;255;255mfactors \u001b[48;2;0;0;0m\u001b[38;2;255;255;255mabove, \u001b[48;2;128;0;0m\u001b[38;2;255;255;255mPhocus \u001b[48;2;0;0;104m\u001b[38;2;255;255;255muses \u001b[48;2;25;0;0m\u001b[38;2;255;255;255mNaive \u001b[48;2;454;0;0m\u001b[38;2;255;255;255mBayesian \u001b[48;2;77;0;0m\u001b[38;2;255;255;255mClassifier \u001b[48;2;0;0;134m\u001b[38;2;255;255;255mto \u001b[48;2;14;0;0m\u001b[38;2;255;255;255mdivide \u001b[48;2;16;0;0m\u001b[38;2;255;255;255mcitations \u001b[48;2;295;0;0m\u001b[38;2;255;255;255mcoarsely \u001b[48;2;39;0;0m\u001b[38;2;255;255;255minto \u001b[48;2;140;0;0m\u001b[38;2;255;255;255m4 \u001b[48;2;40;0;0m\u001b[38;2;255;255;255mcategories \u001b[48;2;28;0;0m\u001b[38;2;255;255;255mand \u001b[48;2;0;0;11m\u001b[38;2;255;255;255mutilizes \u001b[48;2;0;0;100m\u001b[38;2;255;255;255mthe \u001b[48;2;0;0;280m\u001b[38;2;255;255;255mLambdaMART \u001b[48;2;0;0;121m\u001b[38;2;255;255;255mmodel \u001b[48;2;0;0;134m\u001b[38;2;255;255;255mto \u001b[48;2;0;0;74m\u001b[38;2;255;255;255msort \u001b[48;2;33;0;0m\u001b[38;2;255;255;255mall \u001b[48;2;0;0;9m\u001b[38;2;255;255;255mreferences \u001b[48;2;0;0;126m\u001b[38;2;255;255;255mwithin \u001b[48;2;0;0;239m\u001b[38;2;255;255;255ma \u001b[48;2;0;0;0m\u001b[38;2;255;255;255mpaper.\n",
            "27 0.0 0.92985606 0.02201722 \u001b[48;2;0;0;145m\u001b[38;2;255;255;255mCombining \u001b[48;2;0;0;173m\u001b[38;2;255;255;255mthe \u001b[48;2;0;0;71m\u001b[38;2;255;255;255mcategories \u001b[48;2;0;0;84m\u001b[38;2;255;255;255mand \u001b[48;2;0;0;173m\u001b[38;2;255;255;255mthe \u001b[48;2;68;0;0m\u001b[38;2;255;255;255mranking \u001b[48;2;0;0;0m\u001b[38;2;255;255;255mresults, \u001b[48;2;0;0;33m\u001b[38;2;255;255;255mevery \u001b[48;2;226;0;0m\u001b[38;2;255;255;255mreference \u001b[48;2;63;0;0m\u001b[38;2;255;255;255mgets \u001b[48;2;98;0;0m\u001b[38;2;255;255;255mits \u001b[48;2;225;0;0m\u001b[38;2;255;255;255mlocal \u001b[48;2;120;0;0m\u001b[38;2;255;255;255minfluential \u001b[48;2;206;0;0m\u001b[38;2;255;255;255mfactor \u001b[48;2;16;0;0m\u001b[38;2;255;255;255mwithin \u001b[48;2;0;0;0m\u001b[38;2;255;255;255m[−1, \u001b[48;2;0;0;0m\u001b[38;2;255;255;255m1], \u001b[48;2;0;0;26m\u001b[38;2;255;255;255mrelated \u001b[48;2;0;0;142m\u001b[38;2;255;255;255mto \u001b[48;2;0;0;173m\u001b[38;2;255;255;255mthe \u001b[48;2;0;0;63m\u001b[38;2;255;255;255mciting \u001b[48;2;0;0;0m\u001b[38;2;255;255;255mpaper.\n",
            "28 1.0 0.8788816 0.28950587 \u001b[48;2;0;0;61m\u001b[38;2;255;255;255mthe \u001b[48;2;129;0;0m\u001b[38;2;255;255;255mglobal \u001b[48;2;64;0;0m\u001b[38;2;255;255;255minfluential \u001b[48;2;214;0;0m\u001b[38;2;255;255;255mfactor \u001b[48;2;0;0;164m\u001b[38;2;255;255;255mof \u001b[48;2;0;0;61m\u001b[38;2;255;255;255mthe \u001b[48;2;45;0;0m\u001b[38;2;255;255;255mreference \u001b[48;2;0;0;30m\u001b[38;2;255;255;255mto \u001b[48;2;0;0;61m\u001b[38;2;255;255;255mthe \u001b[48;2;0;0;116m\u001b[38;2;255;255;255mciting \u001b[48;2;0;0;99m\u001b[38;2;255;255;255mpaper \u001b[48;2;133;0;0m\u001b[38;2;255;255;255mis \u001b[48;2;0;0;61m\u001b[38;2;255;255;255mthe \u001b[48;2;202;0;0m\u001b[38;2;255;255;255mproduct \u001b[48;2;0;0;164m\u001b[38;2;255;255;255mof \u001b[48;2;0;0;61m\u001b[38;2;255;255;255mthe \u001b[48;2;141;0;0m\u001b[38;2;255;255;255mlocal \u001b[48;2;64;0;0m\u001b[38;2;255;255;255minfluential \u001b[48;2;214;0;0m\u001b[38;2;255;255;255mfactor \u001b[48;2;107;0;0m\u001b[38;2;255;255;255mand \u001b[48;2;0;0;61m\u001b[38;2;255;255;255mthe \u001b[48;2;196;0;0m\u001b[38;2;255;255;255mtotal \u001b[48;2;64;0;0m\u001b[38;2;255;255;255minfluential \u001b[48;2;214;0;0m\u001b[38;2;255;255;255mfactor \u001b[48;2;0;0;164m\u001b[38;2;255;255;255mof \u001b[48;2;0;0;61m\u001b[38;2;255;255;255mthe \u001b[48;2;0;0;116m\u001b[38;2;255;255;255mciting \u001b[48;2;0;0;0m\u001b[38;2;255;255;255mpaper.\n",
            "29 1.0 0.87765086 0.28859717 \u001b[48;2;0;0;0m\u001b[38;2;255;255;255mConsequently, \u001b[48;2;0;0;185m\u001b[38;2;255;255;255man \u001b[48;2;0;0;0m\u001b[38;2;255;255;255mauthor’s \u001b[48;2;45;0;0m\u001b[38;2;255;255;255macademic \u001b[48;2;72;0;0m\u001b[38;2;255;255;255minfluential \u001b[48;2;292;0;0m\u001b[38;2;255;255;255mfactor \u001b[48;2;124;0;0m\u001b[38;2;255;255;255mis \u001b[48;2;0;0;27m\u001b[38;2;255;255;255mthe \u001b[48;2;0;0;14m\u001b[38;2;255;255;255msum \u001b[48;2;0;0;227m\u001b[38;2;255;255;255mof \u001b[48;2;0;0;28m\u001b[38;2;255;255;255mhis \u001b[48;2;0;0;139m\u001b[38;2;255;255;255mcontributions \u001b[48;2;0;0;128m\u001b[38;2;255;255;255mto \u001b[48;2;0;0;155m\u001b[38;2;255;255;255meach \u001b[48;2;5;0;0m\u001b[38;2;255;255;255mpaper \u001b[48;2;185;0;0m\u001b[38;2;255;255;255mhe \u001b[48;2;0;0;0m\u001b[38;2;255;255;255mco-authors.\n",
            "30 0.0 0.94158244 0.019186905 \u001b[48;2;0;0;48m\u001b[38;2;255;255;255m2 \u001b[48;2;0;0;92m\u001b[38;2;255;255;255mRELATED \u001b[48;2;178;0;0m\u001b[38;2;255;255;255mwork \u001b[48;2;0;0;80m\u001b[38;2;255;255;255mOur \u001b[48;2;178;0;0m\u001b[38;2;255;255;255mwork \u001b[48;2;0;0;88m\u001b[38;2;255;255;255minvolves \u001b[48;2;181;0;0m\u001b[38;2;255;255;255mcitation \u001b[48;2;0;0;0m\u001b[38;2;255;255;255mclassification, \u001b[48;2;0;0;0m\u001b[38;2;255;255;255maspect-based \u001b[48;2;0;0;10m\u001b[38;2;255;255;255msentiment \u001b[48;2;0;0;0m\u001b[38;2;255;255;255manalysis, \u001b[48;2;75;0;0m\u001b[38;2;255;255;255mranking \u001b[48;2;0;0;31m\u001b[38;2;255;255;255mmodel \u001b[48;2;24;0;0m\u001b[38;2;255;255;255mand \u001b[48;2;124;0;0m\u001b[38;2;255;255;255mevaluation \u001b[48;2;155;0;0m\u001b[38;2;255;255;255mmetrics \u001b[48;2;28;0;0m\u001b[38;2;255;255;255mfor \u001b[48;2;0;0;0m\u001b[38;2;255;255;255macademics, \u001b[48;2;0;0;160m\u001b[38;2;255;255;255mwhich \u001b[48;2;22;0;0m\u001b[38;2;255;255;255mwill \u001b[48;2;0;0;137m\u001b[38;2;255;255;255mbe \u001b[48;2;52;0;0m\u001b[38;2;255;255;255mintroduced \u001b[48;2;0;0;275m\u001b[38;2;255;255;255min \u001b[48;2;0;0;371m\u001b[38;2;255;255;255msubsections \u001b[48;2;0;0;161m\u001b[38;2;255;255;255mbelow \u001b[48;2;0;0;0m\u001b[38;2;255;255;255mrespectively.\n",
            "31 1.0 0.6417008 0.21264964 \u001b[48;2;0;0;0m\u001b[38;2;255;255;255m2.1 \u001b[48;2;0;0;12m\u001b[38;2;255;255;255mcitation \u001b[48;2;0;0;91m\u001b[38;2;255;255;255mClassification \u001b[48;2;0;0;233m\u001b[38;2;255;255;255mIn \u001b[48;2;0;0;0m\u001b[38;2;255;255;255mfact, \u001b[48;2;41;0;0m\u001b[38;2;255;255;255mthere \u001b[48;2;61;0;0m\u001b[38;2;255;255;255mare \u001b[48;2;261;0;0m\u001b[38;2;255;255;255malready \u001b[48;2;216;0;0m\u001b[38;2;255;255;255mmany \u001b[48;2;0;0;100m\u001b[38;2;255;255;255mkinds \u001b[48;2;0;0;240m\u001b[38;2;255;255;255mof \u001b[48;2;14;0;0m\u001b[38;2;255;255;255mresearch \u001b[48;2;0;0;129m\u001b[38;2;255;255;255mthat \u001b[48;2;0;0;65m\u001b[38;2;255;255;255mhave \u001b[48;2;130;0;0m\u001b[38;2;255;255;255mfocused \u001b[48;2;55;0;0m\u001b[38;2;255;255;255mon \u001b[48;2;0;0;12m\u001b[38;2;255;255;255mcitation \u001b[48;2;0;0;0m\u001b[38;2;255;255;255mclassification.\n",
            "32 0.0 0.97224665 0.008993822 \u001b[48;2;0;0;6m\u001b[38;2;255;255;255mFor \u001b[48;2;0;0;0m\u001b[38;2;255;255;255mexample, \u001b[48;2;618;0;0m\u001b[38;2;255;255;255mTeufel \u001b[48;2;0;0;187m\u001b[38;2;255;255;255met \u001b[48;2;0;0;0m\u001b[38;2;255;255;255mal. \u001b[48;2;0;0;0m\u001b[38;2;255;255;255m[33] \u001b[48;2;0;0;1m\u001b[38;2;255;255;255mclassify \u001b[48;2;40;0;0m\u001b[38;2;255;255;255mcitation \u001b[48;2;0;0;13m\u001b[38;2;255;255;255mintents \u001b[48;2;15;0;0m\u001b[38;2;255;255;255minto \u001b[48;2;195;0;0m\u001b[38;2;255;255;255m12 \u001b[48;2;0;0;0m\u001b[38;2;255;255;255mclasses, \u001b[48;2;0;0;200m\u001b[38;2;255;255;255musing \u001b[48;2;0;0;57m\u001b[38;2;255;255;255msimple \u001b[48;2;0;0;156m\u001b[38;2;255;255;255mregular \u001b[48;2;0;0;45m\u001b[38;2;255;255;255mmatch \u001b[48;2;0;0;9m\u001b[38;2;255;255;255mto \u001b[48;2;0;0;0m\u001b[38;2;255;255;255mex- \u001b[48;2;112;0;0m\u001b[38;2;255;255;255mtract \u001b[48;2;0;0;0m\u001b[38;2;255;255;255mfeatures.\n",
            "33 1.0 0.56511694 0.18044184 \u001b[48;2;222;0;0m\u001b[38;2;255;255;255mValenzuela \u001b[48;2;0;0;138m\u001b[38;2;255;255;255met \u001b[48;2;0;0;0m\u001b[38;2;255;255;255mal. \u001b[48;2;0;0;0m\u001b[38;2;255;255;255m[35] \u001b[48;2;65;0;0m\u001b[38;2;255;255;255mdivide \u001b[48;2;0;0;162m\u001b[38;2;255;255;255mcitations \u001b[48;2;0;0;6m\u001b[38;2;255;255;255minto \u001b[48;2;260;0;0m\u001b[38;2;255;255;255m4 \u001b[48;2;0;0;0m\u001b[38;2;255;255;255mclasses: \u001b[48;2;128;0;0m\u001b[38;2;255;255;255mhighly \u001b[48;2;0;0;0m\u001b[38;2;255;255;255minfluential, \u001b[48;2;0;0;0m\u001b[38;2;255;255;255mbackground, \u001b[48;2;109;0;0m\u001b[38;2;255;255;255mmethod \u001b[48;2;0;0;104m\u001b[38;2;255;255;255mand \u001b[48;2;106;0;0m\u001b[38;2;255;255;255mresults \u001b[48;2;0;0;0m\u001b[38;2;255;255;255mcitations, \u001b[48;2;0;0;5m\u001b[38;2;255;255;255musing \u001b[48;2;203;0;0m\u001b[38;2;255;255;255mSVM \u001b[48;2;0;0;289m\u001b[38;2;255;255;255mwith \u001b[48;2;173;0;0m\u001b[38;2;255;255;255man \u001b[48;2;208;0;0m\u001b[38;2;255;255;255mRBF \u001b[48;2;137;0;0m\u001b[38;2;255;255;255mkernel \u001b[48;2;0;0;104m\u001b[38;2;255;255;255mand \u001b[48;2;128;0;0m\u001b[38;2;255;255;255mrandom \u001b[48;2;0;0;0m\u001b[38;2;255;255;255mforests, \u001b[48;2;158;0;0m\u001b[38;2;255;255;255mtaking \u001b[48;2;126;0;0m\u001b[38;2;255;255;255m13 \u001b[48;2;0;0;38m\u001b[38;2;255;255;255mfeatures \u001b[48;2;0;0;6m\u001b[38;2;255;255;255minto \u001b[48;2;0;0;0m\u001b[38;2;255;255;255mconsideration: \u001b[48;2;0;0;100m\u001b[38;2;255;255;255mtotal \u001b[48;2;0;0;36m\u001b[38;2;255;255;255mnumber \u001b[48;2;0;0;242m\u001b[38;2;255;255;255mof \u001b[48;2;0;0;59m\u001b[38;2;255;255;255mdirect \u001b[48;2;0;0;0m\u001b[38;2;255;255;255mcitations, \u001b[48;2;0;0;36m\u001b[38;2;255;255;255mnumber \u001b[48;2;0;0;242m\u001b[38;2;255;255;255mof \u001b[48;2;0;0;59m\u001b[38;2;255;255;255mdirect \u001b[48;2;0;0;0m\u001b[38;2;255;255;255mcita- \u001b[48;2;157;0;0m\u001b[38;2;255;255;255mtions \u001b[48;2;1;0;0m\u001b[38;2;255;255;255mper \u001b[48;2;0;0;0m\u001b[38;2;255;255;255msection, \u001b[48;2;0;0;68m\u001b[38;2;255;255;255mthe \u001b[48;2;0;0;100m\u001b[38;2;255;255;255mtotal \u001b[48;2;0;0;36m\u001b[38;2;255;255;255mnumber \u001b[48;2;0;0;242m\u001b[38;2;255;255;255mof \u001b[48;2;0;0;30m\u001b[38;2;255;255;255mindirect \u001b[48;2;0;0;162m\u001b[38;2;255;255;255mcitations \u001b[48;2;0;0;104m\u001b[38;2;255;255;255mand \u001b[48;2;0;0;36m\u001b[38;2;255;255;255mnumber \u001b[48;2;0;0;242m\u001b[38;2;255;255;255mof \u001b[48;2;0;0;30m\u001b[38;2;255;255;255mindirect \u001b[48;2;0;0;162m\u001b[38;2;255;255;255mcitations \u001b[48;2;1;0;0m\u001b[38;2;255;255;255mper \u001b[48;2;0;0;0m\u001b[38;2;255;255;255msection, \u001b[48;2;8;0;0m\u001b[38;2;255;255;255mauthor \u001b[48;2;0;0;0m\u001b[38;2;255;255;255moverlap, \u001b[48;2;107;0;0m\u001b[38;2;255;255;255mis \u001b[48;2;180;0;0m\u001b[38;2;255;255;255mconsidered \u001b[48;2;0;0;0m\u001b[38;2;255;255;255mhelp- \u001b[48;2;0;0;0m\u001b[38;2;255;255;255mful, \u001b[48;2;0;0;88m\u001b[38;2;255;255;255mcitation \u001b[48;2;72;0;0m\u001b[38;2;255;255;255mappears \u001b[48;2;0;0;96m\u001b[38;2;255;255;255min \u001b[48;2;83;0;0m\u001b[38;2;255;255;255mtable \u001b[48;2;0;0;104m\u001b[38;2;255;255;255mand \u001b[48;2;0;0;0m\u001b[38;2;255;255;255mcaption, \u001b[48;2;0;0;0m\u001b[38;2;255;255;255m1/number \u001b[48;2;0;0;242m\u001b[38;2;255;255;255mof \u001b[48;2;0;0;0m\u001b[38;2;255;255;255mreferences, \u001b[48;2;0;0;36m\u001b[38;2;255;255;255mnumber \u001b[48;2;0;0;242m\u001b[38;2;255;255;255mof \u001b[48;2;0;0;45m\u001b[38;2;255;255;255mpaper \u001b[48;2;0;0;0m\u001b[38;2;255;255;255mcitations/all \u001b[48;2;0;0;0m\u001b[38;2;255;255;255mcitations, \u001b[48;2;0;0;68m\u001b[38;2;255;255;255mthe \u001b[48;2;46;0;0m\u001b[38;2;255;255;255msimilarity \u001b[48;2;145;0;0m\u001b[38;2;255;255;255mbetween \u001b[48;2;0;0;0m\u001b[38;2;255;255;255mab- \u001b[48;2;0;0;0m\u001b[38;2;255;255;255mstracts, \u001b[48;2;0;0;0m\u001b[38;2;255;255;255mPageRank[28], \u001b[48;2;0;0;36m\u001b[38;2;255;255;255mnumber \u001b[48;2;0;0;242m\u001b[38;2;255;255;255mof \u001b[48;2;0;0;100m\u001b[38;2;255;255;255mtotal \u001b[48;2;0;0;195m\u001b[38;2;255;255;255mciting \u001b[48;2;0;0;92m\u001b[38;2;255;255;255mpapers \u001b[48;2;0;0;23m\u001b[38;2;255;255;255mafter \u001b[48;2;0;0;456m\u001b[38;2;255;255;255mtransitive \u001b[48;2;0;0;0m\u001b[38;2;255;255;255mclosure, \u001b[48;2;0;0;104m\u001b[38;2;255;255;255mand \u001b[48;2;0;0;0m\u001b[38;2;255;255;255mfield \u001b[48;2;0;0;242m\u001b[38;2;255;255;255mof \u001b[48;2;0;0;68m\u001b[38;2;255;255;255mthe \u001b[48;2;0;0;0m\u001b[38;2;255;255;255mcited \u001b[48;2;0;0;0m\u001b[38;2;255;255;255mpaper.\n",
            "34 0.0 0.99115163 0.002753796 \u001b[48;2;62;0;0m\u001b[38;2;255;255;255mWhile \u001b[48;2;0;0;332m\u001b[38;2;255;255;255mJurgens \u001b[48;2;0;0;226m\u001b[38;2;255;255;255met \u001b[48;2;0;0;0m\u001b[38;2;255;255;255mal. \u001b[48;2;0;0;0m\u001b[38;2;255;255;255m[20] \u001b[48;2;0;0;63m\u001b[38;2;255;255;255mdefine \u001b[48;2;96;0;0m\u001b[38;2;255;255;255m7 \u001b[48;2;51;0;0m\u001b[38;2;255;255;255mclasses \u001b[48;2;0;0;222m\u001b[38;2;255;255;255mof \u001b[48;2;70;0;0m\u001b[38;2;255;255;255mcitation \u001b[48;2;0;0;0m\u001b[38;2;255;255;255mintents: \u001b[48;2;0;0;0m\u001b[38;2;255;255;255mbackground, \u001b[48;2;0;0;0m\u001b[38;2;255;255;255mmotivation, \u001b[48;2;0;0;0m\u001b[38;2;255;255;255muses, \u001b[48;2;0;0;0m\u001b[38;2;255;255;255mextension, \u001b[48;2;0;0;0m\u001b[38;2;255;255;255mcontinuation, \u001b[48;2;0;0;50m\u001b[38;2;255;255;255mcomparison \u001b[48;2;0;0;94m\u001b[38;2;255;255;255mor \u001b[48;2;0;0;0m\u001b[38;2;255;255;255mcontrast, \u001b[48;2;0;0;36m\u001b[38;2;255;255;255mand \u001b[48;2;0;0;0m\u001b[38;2;255;255;255mfuture, \u001b[48;2;0;0;184m\u001b[38;2;255;255;255mwith \u001b[48;2;0;0;60m\u001b[38;2;255;255;255ma \u001b[48;2;116;0;0m\u001b[38;2;255;255;255mRandom \u001b[48;2;294;0;0m\u001b[38;2;255;255;255mForest \u001b[48;2;40;0;0m\u001b[38;2;255;255;255mclassifier \u001b[48;2;242;0;0m\u001b[38;2;255;255;255mtrained \u001b[48;2;0;0;68m\u001b[38;2;255;255;255musing \u001b[48;2;102;0;0m\u001b[38;2;255;255;255m4 \u001b[48;2;7;0;0m\u001b[38;2;255;255;255mtypes \u001b[48;2;0;0;222m\u001b[38;2;255;255;255mof \u001b[48;2;0;0;0m\u001b[38;2;255;255;255mfeatures: \u001b[48;2;0;0;30m\u001b[38;2;255;255;255mstructural \u001b[48;2;0;0;0m\u001b[38;2;255;255;255mfea- \u001b[48;2;0;0;0m\u001b[38;2;255;255;255mtures, \u001b[48;2;0;0;0m\u001b[38;2;255;255;255mlexical, \u001b[48;2;39;0;0m\u001b[38;2;255;255;255mmorphological \u001b[48;2;0;0;36m\u001b[38;2;255;255;255mand \u001b[48;2;41;0;0m\u001b[38;2;255;255;255mgrammatical \u001b[48;2;0;0;0m\u001b[38;2;255;255;255mfeatures, \u001b[48;2;0;0;0m\u001b[38;2;255;255;255mfield, \u001b[48;2;0;0;36m\u001b[38;2;255;255;255mand \u001b[48;2;0;0;0m\u001b[38;2;255;255;255musage.\n",
            "35 0.0 0.9426451 0.019008486 \u001b[48;2;90;0;0m\u001b[38;2;255;255;255mCohan \u001b[48;2;0;0;283m\u001b[38;2;255;255;255met \u001b[48;2;0;0;0m\u001b[38;2;255;255;255mal. \u001b[48;2;0;0;0m\u001b[38;2;255;255;255m[9] \u001b[48;2;0;0;175m\u001b[38;2;255;255;255mpropose \u001b[48;2;0;0;107m\u001b[38;2;255;255;255ma \u001b[48;2;728;0;0m\u001b[38;2;255;255;255mmultitask \u001b[48;2;72;0;0m\u001b[38;2;255;255;255mmodel \u001b[48;2;0;0;99m\u001b[38;2;255;255;255musing \u001b[48;2;388;0;0m\u001b[38;2;255;255;255mBiLSTM \u001b[48;2;0;0;51m\u001b[38;2;255;255;255mand \u001b[48;2;47;0;0m\u001b[38;2;255;255;255mattention \u001b[48;2;118;0;0m\u001b[38;2;255;255;255mmechanism \u001b[48;2;0;0;92m\u001b[38;2;255;255;255mto \u001b[48;2;115;0;0m\u001b[38;2;255;255;255mclassify \u001b[48;2;0;0;80m\u001b[38;2;255;255;255mcitation \u001b[48;2;0;0;220m\u001b[38;2;255;255;255mintents \u001b[48;2;0;0;146m\u001b[38;2;255;255;255mthat \u001b[48;2;0;0;214m\u001b[38;2;255;255;255mis \u001b[48;2;36;0;0m\u001b[38;2;255;255;255mthe \u001b[48;2;166;0;0m\u001b[38;2;255;255;255mprimary \u001b[48;2;0;0;15m\u001b[38;2;255;255;255mtask \u001b[48;2;0;0;51m\u001b[38;2;255;255;255mand \u001b[48;2;84;0;0m\u001b[38;2;255;255;255mpredict \u001b[48;2;36;0;0m\u001b[38;2;255;255;255mthe \u001b[48;2;0;0;53m\u001b[38;2;255;255;255msection \u001b[48;2;51;0;0m\u001b[38;2;255;255;255mwhere \u001b[48;2;36;0;0m\u001b[38;2;255;255;255mthe \u001b[48;2;0;0;80m\u001b[38;2;255;255;255mcitation \u001b[48;2;11;0;0m\u001b[38;2;255;255;255moccurs \u001b[48;2;0;0;51m\u001b[38;2;255;255;255mand \u001b[48;2;51;0;0m\u001b[38;2;255;255;255mwhere \u001b[48;2;0;0;107m\u001b[38;2;255;255;255ma \u001b[48;2;3;0;0m\u001b[38;2;255;255;255msentence \u001b[48;2;204;0;0m\u001b[38;2;255;255;255mneeds \u001b[48;2;0;0;107m\u001b[38;2;255;255;255ma \u001b[48;2;0;0;80m\u001b[38;2;255;255;255mcitation \u001b[48;2;0;0;146m\u001b[38;2;255;255;255mthat \u001b[48;2;0;0;214m\u001b[38;2;255;255;255mis \u001b[48;2;154;0;0m\u001b[38;2;255;255;255mauxiliary \u001b[48;2;76;0;0m\u001b[38;2;255;255;255mtasks \u001b[48;2;0;0;51m\u001b[38;2;255;255;255mand \u001b[48;2;0;0;214m\u001b[38;2;255;255;255mis \u001b[48;2;0;0;59m\u001b[38;2;255;255;255mused \u001b[48;2;0;0;92m\u001b[38;2;255;255;255mto \u001b[48;2;125;0;0m\u001b[38;2;255;255;255massist \u001b[48;2;36;0;0m\u001b[38;2;255;255;255mthe \u001b[48;2;166;0;0m\u001b[38;2;255;255;255mprimary \u001b[48;2;0;0;0m\u001b[38;2;255;255;255mtask2.\n",
            "36 0.0 0.81042385 0.05909823 \u001b[48;2;23;0;0m\u001b[38;2;255;255;255mThey \u001b[48;2;35;0;0m\u001b[38;2;255;255;255mcategorize \u001b[48;2;0;0;277m\u001b[38;2;255;255;255mintents \u001b[48;2;0;0;225m\u001b[38;2;255;255;255minto \u001b[48;2;0;0;114m\u001b[38;2;255;255;255m3 \u001b[48;2;0;0;0m\u001b[38;2;255;255;255mclasses: \u001b[48;2;155;0;0m\u001b[38;2;255;255;255mbackground \u001b[48;2;0;0;0m\u001b[38;2;255;255;255minformation, \u001b[48;2;0;0;0m\u001b[38;2;255;255;255mmethod, \u001b[48;2;0;0;146m\u001b[38;2;255;255;255mand \u001b[48;2;24;0;0m\u001b[38;2;255;255;255mresult \u001b[48;2;0;0;0m\u001b[38;2;255;255;255mcomparison.\n",
            "37 1.0 0.8181468 0.2720653 \u001b[48;2;0;0;0m\u001b[38;2;255;255;255mBesides, \u001b[48;2;0;0;197m\u001b[38;2;255;255;255mCohan \u001b[48;2;0;0;121m\u001b[38;2;255;255;255mbuilds \u001b[48;2;0;0;72m\u001b[38;2;255;255;255ma \u001b[48;2;0;0;78m\u001b[38;2;255;255;255mcitation \u001b[48;2;0;0;83m\u001b[38;2;255;255;255mintent \u001b[48;2;435;0;0m\u001b[38;2;255;255;255mdataset \u001b[48;2;0;0;0m\u001b[38;2;255;255;255mSciCite.\n",
            "38 0.0 0.40336943 0.05562578 \u001b[48;2;0;0;5m\u001b[38;2;255;255;255mThose \u001b[48;2;0;0;30m\u001b[38;2;255;255;255mworks \u001b[48;2;0;0;0m\u001b[38;2;255;255;255msim- \u001b[48;2;448;0;0m\u001b[38;2;255;255;255mply \u001b[48;2;0;0;96m\u001b[38;2;255;255;255mclassify \u001b[48;2;0;0;116m\u001b[38;2;255;255;255mcitations \u001b[48;2;0;0;113m\u001b[38;2;255;255;255maccording \u001b[48;2;0;0;4m\u001b[38;2;255;255;255mto \u001b[48;2;0;0;158m\u001b[38;2;255;255;255mintents \u001b[48;2;212;0;0m\u001b[38;2;255;255;255mbut \u001b[48;2;103;0;0m\u001b[38;2;255;255;255mignore \u001b[48;2;0;0;0m\u001b[38;2;255;255;255mthe \u001b[48;2;0;0;17m\u001b[38;2;255;255;255msentiment \u001b[48;2;0;0;131m\u001b[38;2;255;255;255mciting \u001b[48;2;91;0;0m\u001b[38;2;255;255;255mpaper \u001b[48;2;0;0;74m\u001b[38;2;255;255;255mtowards \u001b[48;2;0;0;0m\u001b[38;2;255;255;255mreferences, \u001b[48;2;0;0;279m\u001b[38;2;255;255;255mwhich \u001b[48;2;0;0;142m\u001b[38;2;255;255;255mis \u001b[48;2;0;0;0m\u001b[38;2;255;255;255mvital.\n",
            "39 0.0 0.9624091 0.011413063 \u001b[48;2;0;0;7m\u001b[38;2;255;255;255mButt \u001b[48;2;0;0;189m\u001b[38;2;255;255;255met \u001b[48;2;0;0;0m\u001b[38;2;255;255;255mal. \u001b[48;2;0;0;0m\u001b[38;2;255;255;255m[6] \u001b[48;2;0;0;280m\u001b[38;2;255;255;255mutilize \u001b[48;2;0;0;0m\u001b[38;2;255;255;255mNaive-Bayes \u001b[48;2;0;0;107m\u001b[38;2;255;255;255mClassifier \u001b[48;2;0;0;162m\u001b[38;2;255;255;255mto \u001b[48;2;57;0;0m\u001b[38;2;255;255;255mpredict \u001b[48;2;0;0;106m\u001b[38;2;255;255;255mthe \u001b[48;2;0;0;0m\u001b[38;2;255;255;255msenti- \u001b[48;2;150;0;0m\u001b[38;2;255;255;255mment \u001b[48;2;0;0;110m\u001b[38;2;255;255;255mpolarity \u001b[48;2;0;0;92m\u001b[38;2;255;255;255mof \u001b[48;2;0;0;62m\u001b[38;2;255;255;255ma \u001b[48;2;137;0;0m\u001b[38;2;255;255;255msentence \u001b[48;2;73;0;0m\u001b[38;2;255;255;255mcontaining \u001b[48;2;0;0;62m\u001b[38;2;255;255;255ma \u001b[48;2;0;0;0m\u001b[38;2;255;255;255mcitation \u001b[48;2;236;0;0m\u001b[38;2;255;255;255mand \u001b[48;2;17;0;0m\u001b[38;2;255;255;255mits \u001b[48;2;0;0;0m\u001b[38;2;255;255;255mcontexts.\n",
            "40 0.0 0.69496757 0.09543521 \u001b[48;2;220;0;0m\u001b[38;2;255;255;255mWhereas \u001b[48;2;39;0;0m\u001b[38;2;255;255;255mLiu \u001b[48;2;0;0;197m\u001b[38;2;255;255;255met \u001b[48;2;0;0;0m\u001b[38;2;255;255;255mal. \u001b[48;2;0;0;0m\u001b[38;2;255;255;255m[23] \u001b[48;2;0;0;256m\u001b[38;2;255;255;255muse \u001b[48;2;0;0;29m\u001b[38;2;255;255;255maveraged \u001b[48;2;159;0;0m\u001b[38;2;255;255;255mword \u001b[48;2;178;0;0m\u001b[38;2;255;255;255membeddings \u001b[48;2;0;0;50m\u001b[38;2;255;255;255mto \u001b[48;2;44;0;0m\u001b[38;2;255;255;255mrepresent \u001b[48;2;70;0;0m\u001b[38;2;255;255;255msentence \u001b[48;2;72;0;0m\u001b[38;2;255;255;255mvectors \u001b[48;2;0;0;13m\u001b[38;2;255;255;255mand \u001b[48;2;0;0;50m\u001b[38;2;255;255;255mto \u001b[48;2;0;0;90m\u001b[38;2;255;255;255mclassify \u001b[48;2;0;0;93m\u001b[38;2;255;255;255msentiment \u001b[48;2;0;0;0m\u001b[38;2;255;255;255mpolarities.\n",
            "41 -1.0 0.92417884 -0.30483106 \u001b[48;2;0;0;0m\u001b[38;2;255;255;255mHowever, \u001b[48;2;0;0;182m\u001b[38;2;255;255;255mthis \u001b[48;2;0;0;71m\u001b[38;2;255;255;255mmethod \u001b[48;2;212;0;0m\u001b[38;2;255;255;255mgenerates \u001b[48;2;21;0;0m\u001b[38;2;255;255;255mthe \u001b[48;2;266;0;0m\u001b[38;2;255;255;255moverall \u001b[48;2;0;0;0m\u001b[38;2;255;255;255msentiment \u001b[48;2;0;0;121m\u001b[38;2;255;255;255mof \u001b[48;2;0;0;0m\u001b[38;2;255;255;255mtext, \u001b[48;2;179;0;0m\u001b[38;2;255;255;255mrather \u001b[48;2;60;0;0m\u001b[38;2;255;255;255mthan \u001b[48;2;21;0;0m\u001b[38;2;255;255;255mthe \u001b[48;2;4;0;0m\u001b[38;2;255;255;255mprecise \u001b[48;2;0;0;0m\u001b[38;2;255;255;255msentiment \u001b[48;2;121;0;0m\u001b[38;2;255;255;255mtowards \u001b[48;2;21;0;0m\u001b[38;2;255;255;255mthe \u001b[48;2;57;0;0m\u001b[38;2;255;255;255mcited \u001b[48;2;0;0;0m\u001b[38;2;255;255;255mpaper, \u001b[48;2;0;0;137m\u001b[38;2;255;255;255mwhich \u001b[48;2;0;0;124m\u001b[38;2;255;255;255mis \u001b[48;2;0;0;37m\u001b[38;2;255;255;255munable \u001b[48;2;0;0;112m\u001b[38;2;255;255;255mto \u001b[48;2;0;0;146m\u001b[38;2;255;255;255mapply \u001b[48;2;0;0;0m\u001b[38;2;255;255;255mdirectly.\n",
            "42 1.0 0.7434877 0.2475394 \u001b[48;2;0;0;0m\u001b[38;2;255;255;255m2.2 \u001b[48;2;0;0;0m\u001b[38;2;255;255;255mAspect-based \u001b[48;2;172;0;0m\u001b[38;2;255;255;255msentiment \u001b[48;2;0;0;120m\u001b[38;2;255;255;255manalysis \u001b[48;2;0;0;0m\u001b[38;2;255;255;255mAspect-based \u001b[48;2;172;0;0m\u001b[38;2;255;255;255msentiment \u001b[48;2;0;0;120m\u001b[38;2;255;255;255manalysis \u001b[48;2;0;0;0m\u001b[38;2;255;255;255m(ABSA) \u001b[48;2;0;0;175m\u001b[38;2;255;255;255mis \u001b[48;2;0;0;50m\u001b[38;2;255;255;255mproposed \u001b[48;2;26;0;0m\u001b[38;2;255;255;255mto \u001b[48;2;55;0;0m\u001b[38;2;255;255;255mdefine \u001b[48;2;5;0;0m\u001b[38;2;255;255;255msuch \u001b[48;2;0;0;285m\u001b[38;2;255;255;255ma \u001b[48;2;0;0;0m\u001b[38;2;255;255;255mtask.\n",
            "43 0.0 0.58881545 0.13415004 \u001b[48;2;0;0;0m\u001b[38;2;255;255;255mUsually, \u001b[48;2;132;0;0m\u001b[38;2;255;255;255mABSA \u001b[48;2;11;0;0m\u001b[38;2;255;255;255mconsists \u001b[48;2;0;0;166m\u001b[38;2;255;255;255mof \u001b[48;2;93;0;0m\u001b[38;2;255;255;255mtwo \u001b[48;2;0;0;0m\u001b[38;2;255;255;255mstages: \u001b[48;2;0;0;202m\u001b[38;2;255;255;255mlocating \u001b[48;2;16;0;0m\u001b[38;2;255;255;255maspects \u001b[48;2;0;0;62m\u001b[38;2;255;255;255mand \u001b[48;2;0;0;89m\u001b[38;2;255;255;255manalyzing \u001b[48;2;0;0;0m\u001b[38;2;255;255;255msentiment.\n",
            "44 1.0 0.87844086 0.273227 \u001b[48;2;96;0;0m\u001b[38;2;255;255;255msome \u001b[48;2;29;0;0m\u001b[38;2;255;255;255mworks \u001b[48;2;155;0;0m\u001b[38;2;255;255;255msolve \u001b[48;2;0;0;3m\u001b[38;2;255;255;255mthis \u001b[48;2;29;0;0m\u001b[38;2;255;255;255mproblem \u001b[48;2;39;0;0m\u001b[38;2;255;255;255malso \u001b[48;2;0;0;252m\u001b[38;2;255;255;255min \u001b[48;2;0;0;194m\u001b[38;2;255;255;255ma \u001b[48;2;0;0;0m\u001b[38;2;255;255;255mtwo- \u001b[48;2;170;0;0m\u001b[38;2;255;255;255mstage \u001b[48;2;0;0;0m\u001b[38;2;255;255;255mway, \u001b[48;2;45;0;0m\u001b[38;2;255;255;255mwhile \u001b[48;2;96;0;0m\u001b[38;2;255;255;255msome \u001b[48;2;0;0;0m\u001b[38;2;255;255;255mjointly.\n",
            "45 0.0 0.9868758 0.004261399 \u001b[48;2;0;0;0m\u001b[38;2;255;255;255mto \u001b[48;2;0;0;52m\u001b[38;2;255;255;255mdetect \u001b[48;2;0;0;40m\u001b[38;2;255;255;255mcitation \u001b[48;2;31;0;0m\u001b[38;2;255;255;255mspan \u001b[48;2;0;0;222m\u001b[38;2;255;255;255min \u001b[48;2;0;0;0m\u001b[38;2;255;255;255mWikipedia, \u001b[48;2;352;0;0m\u001b[38;2;255;255;255mFetahu \u001b[48;2;0;0;63m\u001b[38;2;255;255;255met \u001b[48;2;0;0;0m\u001b[38;2;255;255;255mal. \u001b[48;2;0;0;0m\u001b[38;2;255;255;255m[13] \u001b[48;2;0;0;182m\u001b[38;2;255;255;255mpropose \u001b[48;2;0;0;182m\u001b[38;2;255;255;255ma \u001b[48;2;109;0;0m\u001b[38;2;255;255;255msequence \u001b[48;2;0;0;37m\u001b[38;2;255;255;255mclassification \u001b[48;2;0;0;102m\u001b[38;2;255;255;255mmethod \u001b[48;2;0;0;252m\u001b[38;2;255;255;255musing \u001b[48;2;0;0;182m\u001b[38;2;255;255;255ma \u001b[48;2;1;0;0m\u001b[38;2;255;255;255mlinear \u001b[48;2;34;0;0m\u001b[38;2;255;255;255mchain \u001b[48;2;5;0;0m\u001b[38;2;255;255;255mCRF \u001b[48;2;0;0;0m\u001b[38;2;255;255;255mto \u001b[48;2;184;0;0m\u001b[38;2;255;255;255mdecide \u001b[48;2;28;0;0m\u001b[38;2;255;255;255mwhich \u001b[48;2;115;0;0m\u001b[38;2;255;255;255mtext \u001b[48;2;137;0;0m\u001b[38;2;255;255;255mfragments \u001b[48;2;0;0;74m\u001b[38;2;255;255;255mare \u001b[48;2;237;0;0m\u001b[38;2;255;255;255mcovered \u001b[48;2;0;0;36m\u001b[38;2;255;255;255mby \u001b[48;2;0;0;182m\u001b[38;2;255;255;255ma \u001b[48;2;0;0;40m\u001b[38;2;255;255;255mcitation \u001b[48;2;0;0;102m\u001b[38;2;255;255;255mat \u001b[48;2;98;0;0m\u001b[38;2;255;255;255mthe \u001b[48;2;0;0;0m\u001b[38;2;255;255;255msub-sentence \u001b[48;2;0;0;0m\u001b[38;2;255;255;255mlevel.\n",
            "46 0.0 0.92674637 0.008161283 \u001b[48;2;109;0;0m\u001b[38;2;255;255;255mWhereas \u001b[48;2;0;0;1m\u001b[38;2;255;255;255mKaplan \u001b[48;2;0;0;168m\u001b[38;2;255;255;255met \u001b[48;2;0;0;0m\u001b[38;2;255;255;255mal. \u001b[48;2;0;0;0m\u001b[38;2;255;255;255m[22] \u001b[48;2;0;0;131m\u001b[38;2;255;255;255mdetect \u001b[48;2;0;0;0m\u001b[38;2;255;255;255mnon-explicit \u001b[48;2;134;0;0m\u001b[38;2;255;255;255mciting \u001b[48;2;0;0;177m\u001b[38;2;255;255;255msentences \u001b[48;2;0;0;136m\u001b[38;2;255;255;255mthat \u001b[48;2;0;0;77m\u001b[38;2;255;255;255msurround \u001b[48;2;80;0;0m\u001b[38;2;255;255;255man \u001b[48;2;145;0;0m\u001b[38;2;255;255;255mexplicit \u001b[48;2;134;0;0m\u001b[38;2;255;255;255mciting \u001b[48;2;0;0;0m\u001b[38;2;255;255;255msentence, \u001b[48;2;0;0;64m\u001b[38;2;255;255;255mutilizing \u001b[48;2;0;0;0m\u001b[38;2;255;255;255mrelational, \u001b[48;2;0;0;0m\u001b[38;2;255;255;255mentity, \u001b[48;2;0;0;0m\u001b[38;2;255;255;255mlexical, \u001b[48;2;0;0;27m\u001b[38;2;255;255;255mand \u001b[48;2;107;0;0m\u001b[38;2;255;255;255mgrammatical \u001b[48;2;217;0;0m\u001b[38;2;255;255;255mcoherence \u001b[48;2;220;0;0m\u001b[38;2;255;255;255mbetween \u001b[48;2;0;0;0m\u001b[38;2;255;255;255mthem. \u001b[48;2;0;0;0m\u001b[38;2;255;255;255m[25][39]even \u001b[48;2;101;0;0m\u001b[38;2;255;255;255mtry \u001b[48;2;81;0;0m\u001b[38;2;255;255;255mto \u001b[48;2;106;0;0m\u001b[38;2;255;255;255mfind \u001b[48;2;0;0;126m\u001b[38;2;255;255;255mthe \u001b[48;2;0;0;114m\u001b[38;2;255;255;255mmost \u001b[48;2;0;0;20m\u001b[38;2;255;255;255mrelative \u001b[48;2;0;0;177m\u001b[38;2;255;255;255msentences \u001b[48;2;0;0;206m\u001b[38;2;255;255;255min \u001b[48;2;32;0;0m\u001b[38;2;255;255;255mreference \u001b[48;2;0;0;153m\u001b[38;2;255;255;255mpaper \u001b[48;2;0;0;239m\u001b[38;2;255;255;255mwith \u001b[48;2;0;0;126m\u001b[38;2;255;255;255mthe \u001b[48;2;134;0;0m\u001b[38;2;255;255;255mciting \u001b[48;2;0;0;0m\u001b[38;2;255;255;255msentences.\n",
            "47 0.0 0.9638036 0.011426595 \u001b[48;2;83;0;0m\u001b[38;2;255;255;255mQazvinian \u001b[48;2;0;0;26m\u001b[38;2;255;255;255mand \u001b[48;2;0;0;13m\u001b[38;2;255;255;255mRadev \u001b[48;2;0;0;0m\u001b[38;2;255;255;255m[29] \u001b[48;2;0;0;231m\u001b[38;2;255;255;255mproposed \u001b[48;2;0;0;308m\u001b[38;2;255;255;255ma \u001b[48;2;0;0;83m\u001b[38;2;255;255;255mmethod \u001b[48;2;114;0;0m\u001b[38;2;255;255;255mbased \u001b[48;2;0;0;100m\u001b[38;2;255;255;255mon \u001b[48;2;638;0;0m\u001b[38;2;255;255;255mprobabilistic \u001b[48;2;0;0;36m\u001b[38;2;255;255;255minference \u001b[48;2;0;0;86m\u001b[38;2;255;255;255mto \u001b[48;2;0;0;5m\u001b[38;2;255;255;255mextract \u001b[48;2;0;0;0m\u001b[38;2;255;255;255mnon-explicit \u001b[48;2;0;0;70m\u001b[38;2;255;255;255mciting \u001b[48;2;0;0;93m\u001b[38;2;255;255;255msentences \u001b[48;2;0;0;49m\u001b[38;2;255;255;255mby \u001b[48;2;9;0;0m\u001b[38;2;255;255;255mmodelling \u001b[48;2;0;0;137m\u001b[38;2;255;255;255mthe \u001b[48;2;0;0;93m\u001b[38;2;255;255;255msentences \u001b[48;2;0;0;196m\u001b[38;2;255;255;255min \u001b[48;2;0;0;74m\u001b[38;2;255;255;255man \u001b[48;2;63;0;0m\u001b[38;2;255;255;255marticle \u001b[48;2;0;0;26m\u001b[38;2;255;255;255mand \u001b[48;2;0;0;131m\u001b[38;2;255;255;255mtheir \u001b[48;2;492;0;0m\u001b[38;2;255;255;255mlexical \u001b[48;2;86;0;0m\u001b[38;2;255;255;255msimilarities \u001b[48;2;0;0;66m\u001b[38;2;255;255;255mas \u001b[48;2;0;0;308m\u001b[38;2;255;255;255ma \u001b[48;2;16;0;0m\u001b[38;2;255;255;255mMarkov \u001b[48;2;137;0;0m\u001b[38;2;255;255;255mRandom \u001b[48;2;62;0;0m\u001b[38;2;255;255;255mField \u001b[48;2;0;0;3m\u001b[38;2;255;255;255mtuned \u001b[48;2;0;0;86m\u001b[38;2;255;255;255mto \u001b[48;2;1;0;0m\u001b[38;2;255;255;255mdetect \u001b[48;2;0;0;137m\u001b[38;2;255;255;255mthe \u001b[48;2;76;0;0m\u001b[38;2;255;255;255mpatterns \u001b[48;2;0;0;174m\u001b[38;2;255;255;255mthat \u001b[48;2;87;0;0m\u001b[38;2;255;255;255mcontext \u001b[48;2;347;0;0m\u001b[38;2;255;255;255mdata \u001b[48;2;198;0;0m\u001b[38;2;255;255;255mcreate \u001b[48;2;0;0;26m\u001b[38;2;255;255;255mand \u001b[48;2;0;0;203m\u001b[38;2;255;255;255memploy \u001b[48;2;0;0;308m\u001b[38;2;255;255;255ma \u001b[48;2;91;0;0m\u001b[38;2;255;255;255mBelief \u001b[48;2;31;0;0m\u001b[38;2;255;255;255mPropagation \u001b[48;2;4;0;0m\u001b[38;2;255;255;255mmechanism \u001b[48;2;0;0;86m\u001b[38;2;255;255;255mto \u001b[48;2;1;0;0m\u001b[38;2;255;255;255mdetect \u001b[48;2;0;0;14m\u001b[38;2;255;255;255mlikely \u001b[48;2;87;0;0m\u001b[38;2;255;255;255mcontext \u001b[48;2;0;0;0m\u001b[38;2;255;255;255msentences.\n",
            "48 0.0 0.9965056 0.0008630434 \u001b[48;2;0;0;0m\u001b[38;2;255;255;255mAbu-Jbara \u001b[48;2;0;0;33m\u001b[38;2;255;255;255mand \u001b[48;2;209;0;0m\u001b[38;2;255;255;255mRadev \u001b[48;2;0;0;0m\u001b[38;2;255;255;255m[1] \u001b[48;2;209;0;0m\u001b[38;2;255;255;255mdetermine \u001b[48;2;0;0;102m\u001b[38;2;255;255;255mthe \u001b[48;2;71;0;0m\u001b[38;2;255;255;255mcitation \u001b[48;2;55;0;0m\u001b[38;2;255;255;255mblock \u001b[48;2;0;0;162m\u001b[38;2;255;255;255mby \u001b[48;2;0;0;4m\u001b[38;2;255;255;255mfirst \u001b[48;2;249;0;0m\u001b[38;2;255;255;255msegmenting \u001b[48;2;0;0;102m\u001b[38;2;255;255;255mthe \u001b[48;2;11;0;0m\u001b[38;2;255;255;255msentences \u001b[48;2;0;0;33m\u001b[38;2;255;255;255mand \u001b[48;2;0;0;17m\u001b[38;2;255;255;255mthen \u001b[48;2;0;0;140m\u001b[38;2;255;255;255mclassifying \u001b[48;2;0;0;70m\u001b[38;2;255;255;255meach \u001b[48;2;13;0;0m\u001b[38;2;255;255;255mword \u001b[48;2;0;0;237m\u001b[38;2;255;255;255min \u001b[48;2;0;0;102m\u001b[38;2;255;255;255mthe \u001b[48;2;263;0;0m\u001b[38;2;255;255;255msentence \u001b[48;2;0;0;323m\u001b[38;2;255;255;255mas \u001b[48;2;0;0;10m\u001b[38;2;255;255;255mbeing \u001b[48;2;0;0;84m\u001b[38;2;255;255;255minside \u001b[48;2;3;0;0m\u001b[38;2;255;255;255mor \u001b[48;2;0;0;93m\u001b[38;2;255;255;255moutside \u001b[48;2;0;0;102m\u001b[38;2;255;255;255mthe \u001b[48;2;71;0;0m\u001b[38;2;255;255;255mcitation \u001b[48;2;0;0;0m\u001b[38;2;255;255;255mblock.\n",
            "49 0.0 0.9977456 0.0002710603 \u001b[48;2;0;0;0m\u001b[38;2;255;255;255mFinally, \u001b[48;2;0;0;110m\u001b[38;2;255;255;255mthey \u001b[48;2;0;0;2m\u001b[38;2;255;255;255maggregate \u001b[48;2;0;0;182m\u001b[38;2;255;255;255mthe \u001b[48;2;0;0;96m\u001b[38;2;255;255;255mlabels \u001b[48;2;0;0;218m\u001b[38;2;255;255;255mof \u001b[48;2;0;0;117m\u001b[38;2;255;255;255mall \u001b[48;2;0;0;182m\u001b[38;2;255;255;255mthe \u001b[48;2;0;0;47m\u001b[38;2;255;255;255mwords \u001b[48;2;15;0;0m\u001b[38;2;255;255;255mcontained \u001b[48;2;0;0;109m\u001b[38;2;255;255;255min \u001b[48;2;0;0;0m\u001b[38;2;255;255;255ma \u001b[48;2;165;0;0m\u001b[38;2;255;255;255msegment \u001b[48;2;17;0;0m\u001b[38;2;255;255;255mto \u001b[48;2;21;0;0m\u001b[38;2;255;255;255massign \u001b[48;2;0;0;0m\u001b[38;2;255;255;255ma \u001b[48;2;0;0;34m\u001b[38;2;255;255;255mlabel \u001b[48;2;17;0;0m\u001b[38;2;255;255;255mto \u001b[48;2;0;0;182m\u001b[38;2;255;255;255mthe \u001b[48;2;127;0;0m\u001b[38;2;255;255;255mwhole \u001b[48;2;165;0;0m\u001b[38;2;255;255;255msegment \u001b[48;2;1;0;0m\u001b[38;2;255;255;255musing \u001b[48;2;125;0;0m\u001b[38;2;255;255;255mthree \u001b[48;2;65;0;0m\u001b[38;2;255;255;255mdifferent \u001b[48;2;0;0;34m\u001b[38;2;255;255;255mlabel \u001b[48;2;0;0;7m\u001b[38;2;255;255;255maggregation \u001b[48;2;0;0;0m\u001b[38;2;255;255;255mrules(majority \u001b[48;2;0;0;34m\u001b[38;2;255;255;255mlabel \u001b[48;2;0;0;218m\u001b[38;2;255;255;255mof \u001b[48;2;0;0;182m\u001b[38;2;255;255;255mthe \u001b[48;2;0;0;0m\u001b[38;2;255;255;255mwords, \u001b[48;2;0;0;133m\u001b[38;2;255;255;255mat \u001b[48;2;170;0;0m\u001b[38;2;255;255;255mleast \u001b[48;2;0;0;98m\u001b[38;2;255;255;255mone \u001b[48;2;0;0;218m\u001b[38;2;255;255;255mof \u001b[48;2;0;0;182m\u001b[38;2;255;255;255mthe \u001b[48;2;0;0;0m\u001b[38;2;255;255;255mwords, \u001b[48;2;27;0;0m\u001b[38;2;255;255;255mor \u001b[48;2;0;0;117m\u001b[38;2;255;255;255mall \u001b[48;2;0;0;218m\u001b[38;2;255;255;255mof \u001b[48;2;0;0;0m\u001b[38;2;255;255;255mthem).\n",
            "50 0.0 0.72722775 0.08964155 \u001b[48;2;0;0;25m\u001b[38;2;255;255;255mKaplan \u001b[48;2;0;0;230m\u001b[38;2;255;255;255met \u001b[48;2;0;0;0m\u001b[38;2;255;255;255mal. \u001b[48;2;0;0;0m\u001b[38;2;255;255;255m[21] \u001b[48;2;0;0;193m\u001b[38;2;255;255;255mproposed \u001b[48;2;0;0;88m\u001b[38;2;255;255;255ma \u001b[48;2;47;0;0m\u001b[38;2;255;255;255mnew \u001b[48;2;0;0;115m\u001b[38;2;255;255;255mmethod \u001b[48;2;1;0;0m\u001b[38;2;255;255;255mbased \u001b[48;2;0;0;105m\u001b[38;2;255;255;255mon \u001b[48;2;0;0;0m\u001b[38;2;255;255;255mcoreference-chains \u001b[48;2;0;0;65m\u001b[38;2;255;255;255mfor \u001b[48;2;0;0;9m\u001b[38;2;255;255;255mextracting \u001b[48;2;15;0;0m\u001b[38;2;255;255;255mcitation \u001b[48;2;103;0;0m\u001b[38;2;255;255;255mblocks \u001b[48;2;0;0;62m\u001b[38;2;255;255;255mfrom \u001b[48;2;165;0;0m\u001b[38;2;255;255;255mresearch \u001b[48;2;0;0;0m\u001b[38;2;255;255;255mpapers.\n",
            "51 0.0 0.9747224 0.00762015 \u001b[48;2;0;0;27m\u001b[38;2;255;255;255mGiven \u001b[48;2;0;0;0m\u001b[38;2;255;255;255maspects, \u001b[48;2;0;0;171m\u001b[38;2;255;255;255mSun \u001b[48;2;0;0;236m\u001b[38;2;255;255;255met \u001b[48;2;0;0;0m\u001b[38;2;255;255;255mal. \u001b[48;2;0;0;0m\u001b[38;2;255;255;255m[32] \u001b[48;2;24;0;0m\u001b[38;2;255;255;255mconstruct \u001b[48;2;5;0;0m\u001b[38;2;255;255;255man \u001b[48;2;141;0;0m\u001b[38;2;255;255;255mauxiliary \u001b[48;2;99;0;0m\u001b[38;2;255;255;255msentence \u001b[48;2;0;0;114m\u001b[38;2;255;255;255mfrom \u001b[48;2;0;0;10m\u001b[38;2;255;255;255ma \u001b[48;2;0;0;0m\u001b[38;2;255;255;255maspect, \u001b[48;2;0;0;16m\u001b[38;2;255;255;255mand \u001b[48;2;115;0;0m\u001b[38;2;255;255;255mfeed \u001b[48;2;171;0;0m\u001b[38;2;255;255;255mthe \u001b[48;2;0;0;0m\u001b[38;2;255;255;255msentence-pair \u001b[48;2;21;0;0m\u001b[38;2;255;255;255minto \u001b[48;2;0;0;0m\u001b[38;2;255;255;255mBERT-based \u001b[48;2;0;0;0m\u001b[38;2;255;255;255mmodel.\n",
            "52 0.0 0.85460603 0.027027406 \u001b[48;2;47;0;0m\u001b[38;2;255;255;255mGao \u001b[48;2;0;0;203m\u001b[38;2;255;255;255met \u001b[48;2;0;0;0m\u001b[38;2;255;255;255mal. \u001b[48;2;0;0;0m\u001b[38;2;255;255;255m[14] \u001b[48;2;0;0;103m\u001b[38;2;255;255;255mutilize \u001b[48;2;23;0;0m\u001b[38;2;255;255;255mthree \u001b[48;2;0;0;0m\u001b[38;2;255;255;255mtarget-dependent \u001b[48;2;145;0;0m\u001b[38;2;255;255;255mvariations \u001b[48;2;0;0;145m\u001b[38;2;255;255;255mof \u001b[48;2;0;0;39m\u001b[38;2;255;255;255mthe \u001b[48;2;0;0;0m\u001b[38;2;255;255;255m𝐵𝐸𝑅𝑇𝑏𝑎𝑠𝑒 \u001b[48;2;0;0;0m\u001b[38;2;255;255;255mmodel.\n",
            "53 0.0 0.5976957 0.13375564 \u001b[48;2;4;0;0m\u001b[38;2;255;255;255mBai \u001b[48;2;0;0;188m\u001b[38;2;255;255;255met \u001b[48;2;0;0;0m\u001b[38;2;255;255;255mal. \u001b[48;2;0;0;0m\u001b[38;2;255;255;255m[2] \u001b[48;2;0;0;220m\u001b[38;2;255;255;255mpropose \u001b[48;2;0;0;73m\u001b[38;2;255;255;255ma \u001b[48;2;174;0;0m\u001b[38;2;255;255;255mnovel \u001b[48;2;11;0;0m\u001b[38;2;255;255;255mrelational \u001b[48;2;20;0;0m\u001b[38;2;255;255;255mgraph \u001b[48;2;13;0;0m\u001b[38;2;255;255;255mattention \u001b[48;2;0;0;0m\u001b[38;2;255;255;255mnetwork3, \u001b[48;2;0;0;102m\u001b[38;2;255;255;255mwhich \u001b[48;2;10;0;0m\u001b[38;2;255;255;255mintegrates \u001b[48;2;95;0;0m\u001b[38;2;255;255;255mtyped \u001b[48;2;406;0;0m\u001b[38;2;255;255;255msyntactic \u001b[48;2;240;0;0m\u001b[38;2;255;255;255mdependency \u001b[48;2;0;0;0m\u001b[38;2;255;255;255minformation.\n",
            "54 1.0 0.6358963 0.19391598 \u001b[48;2;32;0;0m\u001b[38;2;255;255;255mAs \u001b[48;2;0;0;78m\u001b[38;2;255;255;255mthe \u001b[48;2;120;0;0m\u001b[38;2;255;255;255merrors \u001b[48;2;0;0;17m\u001b[38;2;255;255;255mare \u001b[48;2;362;0;0m\u001b[38;2;255;255;255mcumulated \u001b[48;2;0;0;134m\u001b[38;2;255;255;255min \u001b[48;2;0;0;78m\u001b[38;2;255;255;255mthe \u001b[48;2;0;0;0m\u001b[38;2;255;255;255mpipeline, \u001b[48;2;65;0;0m\u001b[38;2;255;255;255msome \u001b[48;2;237;0;0m\u001b[38;2;255;255;255mresearchers \u001b[48;2;0;0;79m\u001b[38;2;255;255;255mexplore \u001b[48;2;16;0;0m\u001b[38;2;255;255;255msolutions \u001b[48;2;0;0;158m\u001b[38;2;255;255;255mthat \u001b[48;2;0;0;71m\u001b[38;2;255;255;255mdetect \u001b[48;2;0;0;101m\u001b[38;2;255;255;255maspects \u001b[48;2;0;0;34m\u001b[38;2;255;255;255mand \u001b[48;2;0;0;53m\u001b[38;2;255;255;255mclassify \u001b[48;2;0;0;46m\u001b[38;2;255;255;255msentiment \u001b[48;2;0;0;0m\u001b[38;2;255;255;255mjointly.\n",
            "55 0.0 0.7061869 0.09563467 \u001b[48;2;0;0;14m\u001b[38;2;255;255;255mWang \u001b[48;2;0;0;315m\u001b[38;2;255;255;255met \u001b[48;2;0;0;0m\u001b[38;2;255;255;255mal. \u001b[48;2;0;0;0m\u001b[38;2;255;255;255m[37] \u001b[48;2;0;0;121m\u001b[38;2;255;255;255mpropose \u001b[48;2;0;0;141m\u001b[38;2;255;255;255ma \u001b[48;2;238;0;0m\u001b[38;2;255;255;255mlatent \u001b[48;2;0;0;40m\u001b[38;2;255;255;255maspect \u001b[48;2;57;0;0m\u001b[38;2;255;255;255mrating \u001b[48;2;0;0;78m\u001b[38;2;255;255;255manalysis \u001b[48;2;4;0;0m\u001b[38;2;255;255;255mproblem \u001b[48;2;0;0;46m\u001b[38;2;255;255;255mthat \u001b[48;2;113;0;0m\u001b[38;2;255;255;255maims \u001b[48;2;0;0;61m\u001b[38;2;255;255;255mat \u001b[48;2;84;0;0m\u001b[38;2;255;255;255manalyzing \u001b[48;2;0;0;0m\u001b[38;2;255;255;255mreviewers’ \u001b[48;2;238;0;0m\u001b[38;2;255;255;255mlatent \u001b[48;2;48;0;0m\u001b[38;2;255;255;255mopinions \u001b[48;2;0;0;24m\u001b[38;2;255;255;255mon \u001b[48;2;92;0;0m\u001b[38;2;255;255;255man \u001b[48;2;226;0;0m\u001b[38;2;255;255;255mentity \u001b[48;2;0;0;89m\u001b[38;2;255;255;255mfrom \u001b[48;2;176;0;0m\u001b[38;2;255;255;255mseveral \u001b[48;2;0;0;0m\u001b[38;2;255;255;255maspects.\n",
            "56 0.0 0.97764504 0.0071462896 \u001b[48;2;0;0;16m\u001b[38;2;255;255;255mFor \u001b[48;2;0;0;38m\u001b[38;2;255;255;255ma \u001b[48;2;0;0;55m\u001b[38;2;255;255;255mcertain \u001b[48;2;0;0;0m\u001b[38;2;255;255;255mentity, \u001b[48;2;0;0;35m\u001b[38;2;255;255;255mthey \u001b[48;2;61;0;0m\u001b[38;2;255;255;255mdefine \u001b[48;2;0;0;38m\u001b[38;2;255;255;255ma \u001b[48;2;124;0;0m\u001b[38;2;255;255;255mset \u001b[48;2;0;0;259m\u001b[38;2;255;255;255mof \u001b[48;2;380;0;0m\u001b[38;2;255;255;255mkeywords \u001b[48;2;0;0;259m\u001b[38;2;255;255;255mof \u001b[48;2;55;0;0m\u001b[38;2;255;255;255maspects \u001b[48;2;0;0;71m\u001b[38;2;255;255;255mand \u001b[48;2;0;0;114m\u001b[38;2;255;255;255msegment \u001b[48;2;9;0;0m\u001b[38;2;255;255;255mreviews \u001b[48;2;112;0;0m\u001b[38;2;255;255;255minto \u001b[48;2;0;0;16m\u001b[38;2;255;255;255mthe \u001b[48;2;175;0;0m\u001b[38;2;255;255;255maspect \u001b[48;2;0;0;0m\u001b[38;2;255;255;255mlevel.\n",
            "57 0.0 0.77298564 0.07484888 \u001b[48;2;58;0;0m\u001b[38;2;255;255;255mGiven \u001b[48;2;0;0;0m\u001b[38;2;255;255;255mas- \u001b[48;2;212;0;0m\u001b[38;2;255;255;255mpect \u001b[48;2;0;0;266m\u001b[38;2;255;255;255msegmentation \u001b[48;2;0;0;0m\u001b[38;2;255;255;255mresults, \u001b[48;2;145;0;0m\u001b[38;2;255;255;255mthey \u001b[48;2;0;0;87m\u001b[38;2;255;255;255muse \u001b[48;2;0;0;199m\u001b[38;2;255;255;255ma \u001b[48;2;152;0;0m\u001b[38;2;255;255;255mnovel \u001b[48;2;226;0;0m\u001b[38;2;255;255;255mlatent \u001b[48;2;0;0;26m\u001b[38;2;255;255;255mrating \u001b[48;2;88;0;0m\u001b[38;2;255;255;255mregression \u001b[48;2;9;0;0m\u001b[38;2;255;255;255mmodel \u001b[48;2;0;0;10m\u001b[38;2;255;255;255mto \u001b[48;2;69;0;0m\u001b[38;2;255;255;255mcalculate \u001b[48;2;0;0;7m\u001b[38;2;255;255;255maspect \u001b[48;2;0;0;68m\u001b[38;2;255;255;255mratings \u001b[48;2;0;0;85m\u001b[38;2;255;255;255mand \u001b[48;2;0;0;125m\u001b[38;2;255;255;255mcorresponding \u001b[48;2;0;0;0m\u001b[38;2;255;255;255mweights.\n",
            "58 1.0 0.6453116 0.20271339 \u001b[48;2;0;0;0m\u001b[38;2;255;255;255mHow- \u001b[48;2;0;0;0m\u001b[38;2;255;255;255mever, \u001b[48;2;0;0;95m\u001b[38;2;255;255;255mWang \u001b[48;2;0;0;129m\u001b[38;2;255;255;255met \u001b[48;2;0;0;0m\u001b[38;2;255;255;255mal. \u001b[48;2;0;0;156m\u001b[38;2;255;255;255mignore \u001b[48;2;0;0;130m\u001b[38;2;255;255;255mthe \u001b[48;2;0;0;0m\u001b[38;2;255;255;255minter-dependencies \u001b[48;2;174;0;0m\u001b[38;2;255;255;255mbetween \u001b[48;2;100;0;0m\u001b[38;2;255;255;255mwords \u001b[48;2;164;0;0m\u001b[38;2;255;255;255mand \u001b[48;2;0;0;0m\u001b[38;2;255;255;255msentences, \u001b[48;2;0;0;234m\u001b[38;2;255;255;255mwhich \u001b[48;2;0;0;33m\u001b[38;2;255;255;255mcauses \u001b[48;2;11;0;0m\u001b[38;2;255;255;255mgreat \u001b[48;2;173;0;0m\u001b[38;2;255;255;255minformation \u001b[48;2;0;0;0m\u001b[38;2;255;255;255mloss.\n",
            "59 1.0 0.8692124 0.28898394 \u001b[48;2;0;0;69m\u001b[38;2;255;255;255mThis \u001b[48;2;0;0;221m\u001b[38;2;255;255;255mclass \u001b[48;2;0;0;0m\u001b[38;2;255;255;255mprob- \u001b[48;2;419;0;0m\u001b[38;2;255;255;255mlem \u001b[48;2;0;0;145m\u001b[38;2;255;255;255mis \u001b[48;2;68;0;0m\u001b[38;2;255;255;255malso \u001b[48;2;96;0;0m\u001b[38;2;255;255;255mcalled \u001b[48;2;0;0;0m\u001b[38;2;255;255;255maspect-based \u001b[48;2;27;0;0m\u001b[38;2;255;255;255msentiment \u001b[48;2;0;0;30m\u001b[38;2;255;255;255manalysis \u001b[48;2;0;0;0m\u001b[38;2;255;255;255m(ABSA).\n",
            "60 0.0 0.9103922 0.02757253 \u001b[48;2;0;0;14m\u001b[38;2;255;255;255mRuder \u001b[48;2;0;0;0m\u001b[38;2;255;255;255m2https://github.com/allenai/scicite \u001b[48;2;0;0;0m\u001b[38;2;255;255;255m3https://github.com/muyeby/RGAT-ABSA \u001b[48;2;0;0;0m\u001b[38;2;255;255;255mPhocus: \u001b[48;2;0;0;123m\u001b[38;2;255;255;255mPicking \u001b[48;2;114;0;0m\u001b[38;2;255;255;255mValuable \u001b[48;2;115;0;0m\u001b[38;2;255;255;255mResearch \u001b[48;2;50;0;0m\u001b[38;2;255;255;255mfrom \u001b[48;2;0;0;29m\u001b[38;2;255;255;255ma \u001b[48;2;247;0;0m\u001b[38;2;255;255;255mSea \u001b[48;2;0;0;195m\u001b[38;2;255;255;255mof \u001b[48;2;0;0;67m\u001b[38;2;255;255;255mCitations \u001b[48;2;0;0;0m\u001b[38;2;255;255;255m, \u001b[48;2;0;0;0m\u001b[38;2;255;255;255m, \u001b[48;2;0;0;145m\u001b[38;2;255;255;255met \u001b[48;2;0;0;0m\u001b[38;2;255;255;255mal. \u001b[48;2;0;0;0m\u001b[38;2;255;255;255m[30] \u001b[48;2;0;0;68m\u001b[38;2;255;255;255mproposes \u001b[48;2;0;0;29m\u001b[38;2;255;255;255ma \u001b[48;2;106;0;0m\u001b[38;2;255;255;255mhierarchical \u001b[48;2;609;0;0m\u001b[38;2;255;255;255mbidirectional \u001b[48;2;0;0;109m\u001b[38;2;255;255;255mLSTM \u001b[48;2;15;0;0m\u001b[38;2;255;255;255mto \u001b[48;2;155;0;0m\u001b[38;2;255;255;255mmodel \u001b[48;2;94;0;0m\u001b[38;2;255;255;255mthe \u001b[48;2;0;0;0m\u001b[38;2;255;255;255minter-dependencies \u001b[48;2;0;0;195m\u001b[38;2;255;255;255mof \u001b[48;2;121;0;0m\u001b[38;2;255;255;255msentences \u001b[48;2;0;0;0m\u001b[38;2;255;255;255mwithin \u001b[48;2;0;0;29m\u001b[38;2;255;255;255ma \u001b[48;2;0;0;0m\u001b[38;2;255;255;255mreview.\n",
            "61 1.0 0.63934964 0.20824993 \u001b[48;2;0;0;75m\u001b[38;2;255;255;255mthe \u001b[48;2;188;0;0m\u001b[38;2;255;255;255maspect \u001b[48;2;0;0;41m\u001b[38;2;255;255;255mis \u001b[48;2;147;0;0m\u001b[38;2;255;255;255mrepresented \u001b[48;2;0;0;20m\u001b[38;2;255;255;255mby \u001b[48;2;0;0;75m\u001b[38;2;255;255;255mthe \u001b[48;2;250;0;0m\u001b[38;2;255;255;255maverage \u001b[48;2;0;0;199m\u001b[38;2;255;255;255mof \u001b[48;2;26;0;0m\u001b[38;2;255;255;255mits \u001b[48;2;14;0;0m\u001b[38;2;255;255;255mentity \u001b[48;2;0;0;192m\u001b[38;2;255;255;255mand \u001b[48;2;18;0;0m\u001b[38;2;255;255;255mattribute \u001b[48;2;0;0;0m\u001b[38;2;255;255;255membeddings.\n",
            "62 0.0 0.9804135 0.0061688814 \u001b[48;2;399;0;0m\u001b[38;2;255;255;255mHoang \u001b[48;2;0;0;207m\u001b[38;2;255;255;255met \u001b[48;2;0;0;0m\u001b[38;2;255;255;255mal. \u001b[48;2;0;0;0m\u001b[38;2;255;255;255m[18] \u001b[48;2;0;0;254m\u001b[38;2;255;255;255mpropose \u001b[48;2;0;0;27m\u001b[38;2;255;255;255mto \u001b[48;2;0;0;43m\u001b[38;2;255;255;255muse \u001b[48;2;0;0;146m\u001b[38;2;255;255;255ma \u001b[48;2;126;0;0m\u001b[38;2;255;255;255msentence \u001b[48;2;154;0;0m\u001b[38;2;255;255;255mpair \u001b[48;2;2;0;0m\u001b[38;2;255;255;255mclassifier \u001b[48;2;92;0;0m\u001b[38;2;255;255;255mmodel \u001b[48;2;0;0;43m\u001b[38;2;255;255;255mfrom \u001b[48;2;0;0;0m\u001b[38;2;255;255;255mBERT[11] \u001b[48;2;0;0;27m\u001b[38;2;255;255;255mto \u001b[48;2;7;0;0m\u001b[38;2;255;255;255msolve \u001b[48;2;0;0;193m\u001b[38;2;255;255;255mABSA \u001b[48;2;0;0;33m\u001b[38;2;255;255;255mat \u001b[48;2;126;0;0m\u001b[38;2;255;255;255msentence \u001b[48;2;6;0;0m\u001b[38;2;255;255;255mand \u001b[48;2;114;0;0m\u001b[38;2;255;255;255mtext \u001b[48;2;0;0;0m\u001b[38;2;255;255;255mlevels.\n",
            "63 0.0 0.6005634 0.13181485 \u001b[48;2;0;0;51m\u001b[38;2;255;255;255mHu \u001b[48;2;0;0;184m\u001b[38;2;255;255;255met \u001b[48;2;0;0;0m\u001b[38;2;255;255;255mal. \u001b[48;2;0;0;0m\u001b[38;2;255;255;255m[19] \u001b[48;2;0;0;239m\u001b[38;2;255;255;255mpropose \u001b[48;2;0;0;60m\u001b[38;2;255;255;255ma \u001b[48;2;0;0;0m\u001b[38;2;255;255;255mspan-based \u001b[48;2;0;0;0m\u001b[38;2;255;255;255mextract-then-classify \u001b[48;2;0;0;34m\u001b[38;2;255;255;255mframework \u001b[48;2;0;0;3m\u001b[38;2;255;255;255mbased \u001b[48;2;0;0;28m\u001b[38;2;255;255;255mon \u001b[48;2;0;0;0m\u001b[38;2;255;255;255mBERT4.\n",
            "64 0.0 0.89946806 0.033267274 \u001b[48;2;6;0;0m\u001b[38;2;255;255;255mXu \u001b[48;2;0;0;194m\u001b[38;2;255;255;255met \u001b[48;2;0;0;0m\u001b[38;2;255;255;255mal. \u001b[48;2;0;0;0m\u001b[38;2;255;255;255m[38] \u001b[48;2;41;0;0m\u001b[38;2;255;255;255mbuild \u001b[48;2;0;0;60m\u001b[38;2;255;255;255ma \u001b[48;2;0;0;0m\u001b[38;2;255;255;255mdataset, \u001b[48;2;0;0;0m\u001b[38;2;255;255;255mReviewRC5, \u001b[48;2;79;0;0m\u001b[38;2;255;255;255mand \u001b[48;2;0;0;91m\u001b[38;2;255;255;255mextend \u001b[48;2;8;0;0m\u001b[38;2;255;255;255mBERT \u001b[48;2;0;0;158m\u001b[38;2;255;255;255mwith \u001b[48;2;0;0;66m\u001b[38;2;255;255;255man \u001b[48;2;31;0;0m\u001b[38;2;255;255;255mextra \u001b[48;2;0;0;0m\u001b[38;2;255;255;255mtasking-specific \u001b[48;2;186;0;0m\u001b[38;2;255;255;255mlayer \u001b[48;2;0;0;148m\u001b[38;2;255;255;255mto \u001b[48;2;88;0;0m\u001b[38;2;255;255;255mtune \u001b[48;2;43;0;0m\u001b[38;2;255;255;255meach \u001b[48;2;0;0;0m\u001b[38;2;255;255;255mtask.\n",
            "65 0.0 0.92095387 0.0261534 \u001b[48;2;0;0;0m\u001b[38;2;255;255;255mWal- \u001b[48;2;318;0;0m\u001b[38;2;255;255;255mlaart \u001b[48;2;0;0;150m\u001b[38;2;255;255;255met \u001b[48;2;0;0;0m\u001b[38;2;255;255;255mal. \u001b[48;2;0;0;0m\u001b[38;2;255;255;255m[36] \u001b[48;2;0;0;44m\u001b[38;2;255;255;255mpropose \u001b[48;2;0;0;48m\u001b[38;2;255;255;255ma \u001b[48;2;0;0;0m\u001b[38;2;255;255;255mtwo-stage \u001b[48;2;0;0;19m\u001b[38;2;255;255;255malgorithm \u001b[48;2;0;0;0m\u001b[38;2;255;255;255mto \u001b[48;2;114;0;0m\u001b[38;2;255;255;255msolve \u001b[48;2;0;0;140m\u001b[38;2;255;255;255mthe \u001b[48;2;107;0;0m\u001b[38;2;255;255;255mABSA \u001b[48;2;0;0;113m\u001b[38;2;255;255;255mfor \u001b[48;2;0;0;0m\u001b[38;2;255;255;255mrestaurant \u001b[48;2;0;0;0m\u001b[38;2;255;255;255mreviews: \u001b[48;2;38;0;0m\u001b[38;2;255;255;255mpredicting \u001b[48;2;0;0;140m\u001b[38;2;255;255;255mthe \u001b[48;2;18;0;0m\u001b[38;2;255;255;255msentiment \u001b[48;2;0;0;254m\u001b[38;2;255;255;255mwith \u001b[48;2;0;0;48m\u001b[38;2;255;255;255ma \u001b[48;2;775;0;0m\u001b[38;2;255;255;255mlexicalized \u001b[48;2;117;0;0m\u001b[38;2;255;255;255mdomain \u001b[48;2;0;0;0m\u001b[38;2;255;255;255montology, \u001b[48;2;0;0;22m\u001b[38;2;255;255;255mand \u001b[48;2;0;0;88m\u001b[38;2;255;255;255musing \u001b[48;2;0;0;48m\u001b[38;2;255;255;255ma \u001b[48;2;229;0;0m\u001b[38;2;255;255;255mneural \u001b[48;2;123;0;0m\u001b[38;2;255;255;255mnetwork \u001b[48;2;0;0;254m\u001b[38;2;255;255;255mwith \u001b[48;2;0;0;48m\u001b[38;2;255;255;255ma \u001b[48;2;20;0;0m\u001b[38;2;255;255;255mrotatory \u001b[48;2;0;0;0m\u001b[38;2;255;255;255mat- \u001b[48;2;21;0;0m\u001b[38;2;255;255;255mtention \u001b[48;2;0;0;76m\u001b[38;2;255;255;255mmechanism \u001b[48;2;0;0;0m\u001b[38;2;255;255;255m(LCR-Rot) \u001b[48;2;0;0;182m\u001b[38;2;255;255;255mas \u001b[48;2;0;0;48m\u001b[38;2;255;255;255ma \u001b[48;2;53;0;0m\u001b[38;2;255;255;255mbackup \u001b[48;2;0;0;0m\u001b[38;2;255;255;255malgorithm.\n",
            "66 0.0 0.89787745 0.031027919 \u001b[48;2;0;0;131m\u001b[38;2;255;255;255mthe \u001b[48;2;112;0;0m\u001b[38;2;255;255;255morder \u001b[48;2;0;0;337m\u001b[38;2;255;255;255mof \u001b[48;2;4;0;0m\u001b[38;2;255;255;255mrotatory \u001b[48;2;0;0;16m\u001b[38;2;255;255;255mattention \u001b[48;2;0;0;57m\u001b[38;2;255;255;255mmechanism \u001b[48;2;0;0;217m\u001b[38;2;255;255;255moperation \u001b[48;2;0;0;1m\u001b[38;2;255;255;255mis \u001b[48;2;246;0;0m\u001b[38;2;255;255;255mchanged \u001b[48;2;56;0;0m\u001b[38;2;255;255;255mand \u001b[48;2;0;0;131m\u001b[38;2;255;255;255mthe \u001b[48;2;0;0;0m\u001b[38;2;255;255;255mro- \u001b[48;2;87;0;0m\u001b[38;2;255;255;255mtatory \u001b[48;2;0;0;16m\u001b[38;2;255;255;255mattention \u001b[48;2;0;0;57m\u001b[38;2;255;255;255mmechanism \u001b[48;2;0;0;1m\u001b[38;2;255;255;255mis \u001b[48;2;219;0;0m\u001b[38;2;255;255;255miterated \u001b[48;2;21;0;0m\u001b[38;2;255;255;255mmultiple \u001b[48;2;0;0;0m\u001b[38;2;255;255;255mtimes.\n",
            "67 0.0 0.9694002 0.009847933 \u001b[48;2;168;0;0m\u001b[38;2;255;255;255mTrusca \u001b[48;2;0;0;212m\u001b[38;2;255;255;255met \u001b[48;2;0;0;0m\u001b[38;2;255;255;255mal. \u001b[48;2;0;0;184m\u001b[38;2;255;255;255mextend \u001b[48;2;0;0;0m\u001b[38;2;255;255;255m[36] \u001b[48;2;0;0;196m\u001b[38;2;255;255;255mwith \u001b[48;2;163;0;0m\u001b[38;2;255;255;255mdeep \u001b[48;2;52;0;0m\u001b[38;2;255;255;255mcontextual \u001b[48;2;136;0;0m\u001b[38;2;255;255;255mword \u001b[48;2;175;0;0m\u001b[38;2;255;255;255membeddings \u001b[48;2;0;0;10m\u001b[38;2;255;255;255mand \u001b[48;2;0;0;163m\u001b[38;2;255;255;255madd \u001b[48;2;1;0;0m\u001b[38;2;255;255;255man \u001b[48;2;54;0;0m\u001b[38;2;255;255;255mextra \u001b[48;2;0;0;42m\u001b[38;2;255;255;255mattention \u001b[48;2;158;0;0m\u001b[38;2;255;255;255mlayer \u001b[48;2;109;0;0m\u001b[38;2;255;255;255mto \u001b[48;2;89;0;0m\u001b[38;2;255;255;255mits \u001b[48;2;0;0;0m\u001b[38;2;255;255;255mhigh-level \u001b[48;2;0;0;0m\u001b[38;2;255;255;255mrepresentations[34].\n",
            "68 0.0 0.72461206 0.09101525 \u001b[48;2;181;0;0m\u001b[38;2;255;255;255mTo \u001b[48;2;0;0;0m\u001b[38;2;255;255;255mad- \u001b[48;2;231;0;0m\u001b[38;2;255;255;255mdress \u001b[48;2;0;0;44m\u001b[38;2;255;255;255mthe \u001b[48;2;263;0;0m\u001b[38;2;255;255;255mimbalance \u001b[48;2;93;0;0m\u001b[38;2;255;255;255missue \u001b[48;2;20;0;0m\u001b[38;2;255;255;255mand \u001b[48;2;0;0;165m\u001b[38;2;255;255;255mutilize \u001b[48;2;0;0;44m\u001b[38;2;255;255;255mthe \u001b[48;2;152;0;0m\u001b[38;2;255;255;255minteraction \u001b[48;2;0;0;47m\u001b[38;2;255;255;255mbetween \u001b[48;2;6;0;0m\u001b[38;2;255;255;255maspect \u001b[48;2;0;0;0m\u001b[38;2;255;255;255mterms, \u001b[48;2;0;0;7m\u001b[38;2;255;255;255mLuo \u001b[48;2;0;0;203m\u001b[38;2;255;255;255met \u001b[48;2;0;0;0m\u001b[38;2;255;255;255mal. \u001b[48;2;0;0;0m\u001b[38;2;255;255;255m[24] \u001b[48;2;0;0;209m\u001b[38;2;255;255;255mpropose \u001b[48;2;0;0;220m\u001b[38;2;255;255;255ma \u001b[48;2;212;0;0m\u001b[38;2;255;255;255mgradient \u001b[48;2;146;0;0m\u001b[38;2;255;255;255mharmonized \u001b[48;2;20;0;0m\u001b[38;2;255;255;255mand \u001b[48;2;0;0;72m\u001b[38;2;255;255;255mcascaded \u001b[48;2;0;0;218m\u001b[38;2;255;255;255mlabelling \u001b[48;2;0;0;83m\u001b[38;2;255;255;255mmodel \u001b[48;2;34;0;0m\u001b[38;2;255;255;255mbased \u001b[48;2;0;0;233m\u001b[38;2;255;255;255mon \u001b[48;2;0;0;0m\u001b[38;2;255;255;255mBERT.\n",
            "69 0.0 0.6693631 0.109829955 \u001b[48;2;0;0;54m\u001b[38;2;255;255;255mChen \u001b[48;2;0;0;235m\u001b[38;2;255;255;255met \u001b[48;2;0;0;0m\u001b[38;2;255;255;255mal. \u001b[48;2;0;0;0m\u001b[38;2;255;255;255m[7] \u001b[48;2;0;0;186m\u001b[38;2;255;255;255mutilize \u001b[48;2;0;0;15m\u001b[38;2;255;255;255mdirectional \u001b[48;2;51;0;0m\u001b[38;2;255;255;255mgraph \u001b[48;2;601;0;0m\u001b[38;2;255;255;255mconvolutional \u001b[48;2;0;0;50m\u001b[38;2;255;255;255mnetworks \u001b[48;2;54;0;0m\u001b[38;2;255;255;255mto \u001b[48;2;0;0;119m\u001b[38;2;255;255;255mperform \u001b[48;2;0;0;0m\u001b[38;2;255;255;255mend-to-end \u001b[48;2;0;0;158m\u001b[38;2;255;255;255mABSA \u001b[48;2;0;0;0m\u001b[38;2;255;255;255mtask.\n",
            "70 0.0 0.8057475 0.06233421 \u001b[48;2;0;0;0m\u001b[38;2;255;255;255m2.3 \u001b[48;2;216;0;0m\u001b[38;2;255;255;255mranking \u001b[48;2;0;0;73m\u001b[38;2;255;255;255mmodel \u001b[48;2;78;0;0m\u001b[38;2;255;255;255mthe \u001b[48;2;216;0;0m\u001b[38;2;255;255;255mranking \u001b[48;2;0;0;73m\u001b[38;2;255;255;255mmodel \u001b[48;2;0;0;14m\u001b[38;2;255;255;255mis \u001b[48;2;262;0;0m\u001b[38;2;255;255;255mbased \u001b[48;2;0;0;75m\u001b[38;2;255;255;255mon \u001b[48;2;0;0;0m\u001b[38;2;255;255;255mLambdaMART, \u001b[48;2;0;0;164m\u001b[38;2;255;255;255mwhich \u001b[48;2;0;0;14m\u001b[38;2;255;255;255mis \u001b[48;2;78;0;0m\u001b[38;2;255;255;255mthe \u001b[48;2;6;0;0m\u001b[38;2;255;255;255mboosted \u001b[48;2;226;0;0m\u001b[38;2;255;255;255mtree \u001b[48;2;36;0;0m\u001b[38;2;255;255;255mversion \u001b[48;2;0;0;209m\u001b[38;2;255;255;255mof \u001b[48;2;0;0;0m\u001b[38;2;255;255;255mLambdaRank[5].\n",
            "71 0.0 0.58056176 0.12549528 \u001b[48;2;49;0;0m\u001b[38;2;255;255;255mThis \u001b[48;2;0;0;26m\u001b[38;2;255;255;255malgorithm \u001b[48;2;275;0;0m\u001b[38;2;255;255;255msolves \u001b[48;2;28;0;0m\u001b[38;2;255;255;255mthe \u001b[48;2;32;0;0m\u001b[38;2;255;255;255mgradients \u001b[48;2;0;0;250m\u001b[38;2;255;255;255mof \u001b[48;2;0;0;0m\u001b[38;2;255;255;255mnon-smooth \u001b[48;2;103;0;0m\u001b[38;2;255;255;255mcost \u001b[48;2;11;0;0m\u001b[38;2;255;255;255mfunctions \u001b[48;2;0;0;136m\u001b[38;2;255;255;255mused \u001b[48;2;0;0;174m\u001b[38;2;255;255;255min \u001b[48;2;243;0;0m\u001b[38;2;255;255;255mranking \u001b[48;2;0;0;0m\u001b[38;2;255;255;255mmodels.\n",
            "72 0.0 0.88934106 0.03191152 \u001b[48;2;112;0;0m\u001b[38;2;255;255;255mBurges \u001b[48;2;0;0;199m\u001b[38;2;255;255;255met \u001b[48;2;0;0;0m\u001b[38;2;255;255;255mal. \u001b[48;2;0;0;0m\u001b[38;2;255;255;255m[4] \u001b[48;2;62;0;0m\u001b[38;2;255;255;255mgive \u001b[48;2;83;0;0m\u001b[38;2;255;255;255ma \u001b[48;2;197;0;0m\u001b[38;2;255;255;255mreview \u001b[48;2;37;0;0m\u001b[38;2;255;255;255mon \u001b[48;2;0;0;0m\u001b[38;2;255;255;255mRankNet, \u001b[48;2;0;0;0m\u001b[38;2;255;255;255mLambdaRank, \u001b[48;2;0;0;126m\u001b[38;2;255;255;255mand \u001b[48;2;0;0;0m\u001b[38;2;255;255;255mLambdaMART.\n",
            "73 0.0 0.9680701 0.010272573 \u001b[48;2;0;0;98m\u001b[38;2;255;255;255mto \u001b[48;2;26;0;0m\u001b[38;2;255;255;255millustrate \u001b[48;2;0;0;38m\u001b[38;2;255;255;255mthe \u001b[48;2;158;0;0m\u001b[38;2;255;255;255mranking \u001b[48;2;0;0;0m\u001b[38;2;255;255;255mnetwork, \u001b[48;2;219;0;0m\u001b[38;2;255;255;255mwe \u001b[48;2;0;0;22m\u001b[38;2;255;255;255muse \u001b[48;2;0;0;0m\u001b[38;2;255;255;255m𝑐𝑖 \u001b[48;2;0;0;0m\u001b[38;2;255;255;255m𝑗 \u001b[48;2;0;0;98m\u001b[38;2;255;255;255mto \u001b[48;2;146;0;0m\u001b[38;2;255;255;255mdenote \u001b[48;2;0;0;38m\u001b[38;2;255;255;255mthe \u001b[48;2;0;0;0m\u001b[38;2;255;255;255m𝑗-th \u001b[48;2;0;0;0m\u001b[38;2;255;255;255mci- \u001b[48;2;105;0;0m\u001b[38;2;255;255;255mtation \u001b[48;2;0;0;145m\u001b[38;2;255;255;255mof \u001b[48;2;0;0;38m\u001b[38;2;255;255;255mthe \u001b[48;2;0;0;0m\u001b[38;2;255;255;255m𝑖-th \u001b[48;2;68;0;0m\u001b[38;2;255;255;255mreference \u001b[48;2;0;0;0m\u001b[38;2;255;255;255mpaper.\n",
            "74 0.0 0.9718694 0.008965656 \u001b[48;2;158;0;0m\u001b[38;2;255;255;255mOur \u001b[48;2;244;0;0m\u001b[38;2;255;255;255mranking \u001b[48;2;75;0;0m\u001b[38;2;255;255;255mnetwork \u001b[48;2;46;0;0m\u001b[38;2;255;255;255mreceives \u001b[48;2;164;0;0m\u001b[38;2;255;255;255man \u001b[48;2;208;0;0m\u001b[38;2;255;255;255mmatrix \u001b[48;2;65;0;0m\u001b[38;2;255;255;255mof \u001b[48;2;0;0;19m\u001b[38;2;255;255;255mshape \u001b[48;2;0;0;0m\u001b[38;2;255;255;255m((cid:205)𝑖 \u001b[48;2;0;0;0m\u001b[38;2;255;255;255m𝑛_𝑐𝑖𝑡𝑖, \u001b[48;2;0;0;0m\u001b[38;2;255;255;255m4), \u001b[48;2;0;0;53m\u001b[38;2;255;255;255mwhere \u001b[48;2;0;0;75m\u001b[38;2;255;255;255m4 \u001b[48;2;0;0;91m\u001b[38;2;255;255;255mstands \u001b[48;2;4;0;0m\u001b[38;2;255;255;255mfor \u001b[48;2;35;0;0m\u001b[38;2;255;255;255mthe \u001b[48;2;70;0;0m\u001b[38;2;255;255;255mfeature \u001b[48;2;0;0;0m\u001b[38;2;255;255;255mquater- \u001b[48;2;0;0;32m\u001b[38;2;255;255;255mnion \u001b[48;2;65;0;0m\u001b[38;2;255;255;255mof \u001b[48;2;0;0;0m\u001b[38;2;255;255;255m(au_overlap, \u001b[48;2;0;0;0m\u001b[38;2;255;255;255mn_cit, \u001b[48;2;0;0;0m\u001b[38;2;255;255;255mcit_word, \u001b[48;2;0;0;0m\u001b[38;2;255;255;255msen_label).\n",
            "75 0.0 0.9594502 0.0098012425 \u001b[48;2;0;0;87m\u001b[38;2;255;255;255mAmong \u001b[48;2;0;0;126m\u001b[38;2;255;255;255mwhich \u001b[48;2;0;0;0m\u001b[38;2;255;255;255mcit_word \u001b[48;2;0;0;120m\u001b[38;2;255;255;255mis \u001b[48;2;247;0;0m\u001b[38;2;255;255;255mcalculated \u001b[48;2;91;0;0m\u001b[38;2;255;255;255mas \u001b[48;2;24;0;0m\u001b[38;2;255;255;255mthe \u001b[48;2;174;0;0m\u001b[38;2;255;255;255mtotal \u001b[48;2;1;0;0m\u001b[38;2;255;255;255mnumber \u001b[48;2;0;0;230m\u001b[38;2;255;255;255mof \u001b[48;2;0;0;10m\u001b[38;2;255;255;255mwords \u001b[48;2;0;0;238m\u001b[38;2;255;255;255min \u001b[48;2;0;0;0m\u001b[38;2;255;255;255m𝑐𝑜𝑛𝑡𝑒𝑥𝑡_𝑎 \u001b[48;2;0;0;0m\u001b[38;2;255;255;255m+ \u001b[48;2;0;0;0m\u001b[38;2;255;255;255m𝑠𝑒𝑛𝑡𝑒𝑛𝑐𝑒 \u001b[48;2;0;0;0m\u001b[38;2;255;255;255m+ \u001b[48;2;0;0;0m\u001b[38;2;255;255;255m𝑐𝑜𝑛𝑡𝑒𝑥𝑡_𝑏.\n",
            "76 0.0 0.978639 0.006340697 \u001b[48;2;93;0;0m\u001b[38;2;255;255;255mThe \u001b[48;2;195;0;0m\u001b[38;2;255;255;255mnetwork \u001b[48;2;63;0;0m\u001b[38;2;255;255;255mcalculate \u001b[48;2;0;0;98m\u001b[38;2;255;255;255ma \u001b[48;2;19;0;0m\u001b[38;2;255;255;255mscore \u001b[48;2;0;0;0m\u001b[38;2;255;255;255m𝑠𝑖 \u001b[48;2;0;0;0m\u001b[38;2;255;255;255m𝑗 \u001b[48;2;0;0;223m\u001b[38;2;255;255;255mon \u001b[48;2;0;0;82m\u001b[38;2;255;255;255meach \u001b[48;2;25;0;0m\u001b[38;2;255;255;255mtime \u001b[48;2;0;0;158m\u001b[38;2;255;255;255mof \u001b[48;2;31;0;0m\u001b[38;2;255;255;255mcitation \u001b[48;2;0;0;0m\u001b[38;2;255;255;255m𝑐𝑖 \u001b[48;2;0;0;0m\u001b[38;2;255;255;255m𝑗 \u001b[48;2;0;0;0m\u001b[38;2;255;255;255mindividually, \u001b[48;2;135;0;0m\u001b[38;2;255;255;255maveraging \u001b[48;2;0;0;223m\u001b[38;2;255;255;255mon \u001b[48;2;0;0;67m\u001b[38;2;255;255;255mduplicate \u001b[48;2;0;0;214m\u001b[38;2;255;255;255mcitations \u001b[48;2;86;0;0m\u001b[38;2;255;255;255mto \u001b[48;2;0;0;0m\u001b[38;2;255;255;255m(cid:205)𝑗 \u001b[48;2;0;0;0m\u001b[38;2;255;255;255m𝑠𝑖 \u001b[48;2;0;0;0m\u001b[38;2;255;255;255m𝑗 \u001b[48;2;0;0;0m\u001b[38;2;255;255;255m.\n",
            "77 0.0 0.9817106 0.005577596 \u001b[48;2;131;0;0m\u001b[38;2;255;255;255mThen \u001b[48;2;0;0;0m\u001b[38;2;255;255;255m𝑠𝑖 \u001b[48;2;31;0;0m\u001b[38;2;255;255;255mis \u001b[48;2;146;0;0m\u001b[38;2;255;255;255mget \u001b[48;2;0;0;215m\u001b[38;2;255;255;255mthe \u001b[48;2;275;0;0m\u001b[38;2;255;255;255mscore \u001b[48;2;0;0;242m\u001b[38;2;255;255;255mof \u001b[48;2;0;0;123m\u001b[38;2;255;255;255meach \u001b[48;2;0;0;35m\u001b[38;2;255;255;255mreference \u001b[48;2;0;0;123m\u001b[38;2;255;255;255mpaper \u001b[48;2;0;0;0m\u001b[38;2;255;255;255m𝑠𝑖 \u001b[48;2;0;0;0m\u001b[38;2;255;255;255m= \u001b[48;2;58;0;0m\u001b[38;2;255;255;255mused \u001b[48;2;0;0;173m\u001b[38;2;255;255;255mto \u001b[48;2;95;0;0m\u001b[38;2;255;255;255mrank \u001b[48;2;18;0;0m\u001b[38;2;255;255;255mall \u001b[48;2;0;0;215m\u001b[38;2;255;255;255mthe \u001b[48;2;0;0;35m\u001b[38;2;255;255;255mreference \u001b[48;2;0;0;0m\u001b[38;2;255;255;255mpaper, \u001b[48;2;33;0;0m\u001b[38;2;255;255;255moutputting \u001b[48;2;0;0;0m\u001b[38;2;255;255;255m𝑟𝑖 \u001b[48;2;0;0;0m\u001b[38;2;255;255;255m.\n",
            "78 0.0 0.7482748 0.082791425 \u001b[48;2;0;0;158m\u001b[38;2;255;255;255m1 \u001b[48;2;0;0;0m\u001b[38;2;255;255;255m𝑛_𝑐𝑖𝑡𝑖 \u001b[48;2;0;0;0m\u001b[38;2;255;255;255m2.4 \u001b[48;2;0;0;104m\u001b[38;2;255;255;255mEvaluation \u001b[48;2;51;0;0m\u001b[38;2;255;255;255mmetrics \u001b[48;2;0;0;71m\u001b[38;2;255;255;255mIn \u001b[48;2;0;0;90m\u001b[38;2;255;255;255mthe \u001b[48;2;0;0;28m\u001b[38;2;255;255;255macademic \u001b[48;2;0;0;0m\u001b[38;2;255;255;255mfield, \u001b[48;2;7;0;0m\u001b[38;2;255;255;255mthere \u001b[48;2;0;0;90m\u001b[38;2;255;255;255mare \u001b[48;2;0;0;0m\u001b[38;2;255;255;255mjournal-level, \u001b[48;2;0;0;0m\u001b[38;2;255;255;255mauthor-level \u001b[48;2;78;0;0m\u001b[38;2;255;255;255mand \u001b[48;2;0;0;0m\u001b[38;2;255;255;255mpaper- \u001b[48;2;0;0;132m\u001b[38;2;255;255;255mlevel \u001b[48;2;51;0;0m\u001b[38;2;255;255;255mmetrics \u001b[48;2;0;0;153m\u001b[38;2;255;255;255mthat \u001b[48;2;0;0;147m\u001b[38;2;255;255;255mmeasure \u001b[48;2;92;0;0m\u001b[38;2;255;255;255mtheir \u001b[48;2;0;0;0m\u001b[38;2;255;255;255mimpacts.\n",
            "79 0.0 0.9683885 0.010188617 \u001b[48;2;146;0;0m\u001b[38;2;255;255;255mthe \u001b[48;2;116;0;0m\u001b[38;2;255;255;255mimpact \u001b[48;2;66;0;0m\u001b[38;2;255;255;255mFactor \u001b[48;2;0;0;0m\u001b[38;2;255;255;255m(IF)[26] \u001b[48;2;22;0;0m\u001b[38;2;255;255;255mand \u001b[48;2;0;0;150m\u001b[38;2;255;255;255mCiteScore6 \u001b[48;2;0;0;126m\u001b[38;2;255;255;255mare \u001b[48;2;0;0;30m\u001b[38;2;255;255;255mused \u001b[48;2;0;0;92m\u001b[38;2;255;255;255mto \u001b[48;2;188;0;0m\u001b[38;2;255;255;255mmeasure \u001b[48;2;146;0;0m\u001b[38;2;255;255;255mthe \u001b[48;2;116;0;0m\u001b[38;2;255;255;255mimpact \u001b[48;2;0;0;207m\u001b[38;2;255;255;255mof \u001b[48;2;0;0;193m\u001b[38;2;255;255;255ma \u001b[48;2;136;0;0m\u001b[38;2;255;255;255mjournal \u001b[48;2;148;0;0m\u001b[38;2;255;255;255mbased \u001b[48;2;0;0;3m\u001b[38;2;255;255;255mon \u001b[48;2;146;0;0m\u001b[38;2;255;255;255mthe \u001b[48;2;0;0;135m\u001b[38;2;255;255;255mnumber \u001b[48;2;0;0;207m\u001b[38;2;255;255;255mof \u001b[48;2;112;0;0m\u001b[38;2;255;255;255mtimes \u001b[48;2;0;0;144m\u001b[38;2;255;255;255marticles \u001b[48;2;0;0;99m\u001b[38;2;255;255;255mcited \u001b[48;2;79;0;0m\u001b[38;2;255;255;255mduring \u001b[48;2;0;0;193m\u001b[38;2;255;255;255ma \u001b[48;2;0;0;27m\u001b[38;2;255;255;255mfixed \u001b[48;2;73;0;0m\u001b[38;2;255;255;255mperiod \u001b[48;2;0;0;82m\u001b[38;2;255;255;255mpublished \u001b[48;2;0;0;81m\u001b[38;2;255;255;255mby \u001b[48;2;146;0;0m\u001b[38;2;255;255;255mthe \u001b[48;2;0;0;0m\u001b[38;2;255;255;255mjournal.\n",
            "80 0.0 0.7663433 0.050382692 \u001b[48;2;0;0;0m\u001b[38;2;255;255;255mBesides, \u001b[48;2;36;0;0m\u001b[38;2;255;255;255mJournal \u001b[48;2;0;0;0m\u001b[38;2;255;255;255mCita- \u001b[48;2;363;0;0m\u001b[38;2;255;255;255mtion \u001b[48;2;0;0;51m\u001b[38;2;255;255;255mReports \u001b[48;2;0;0;0m\u001b[38;2;255;255;255m(JCR) \u001b[48;2;23;0;0m\u001b[38;2;255;255;255mgive \u001b[48;2;67;0;0m\u001b[38;2;255;255;255mranking \u001b[48;2;0;0;74m\u001b[38;2;255;255;255mfor \u001b[48;2;0;0;0m\u001b[38;2;255;255;255mjournals7, \u001b[48;2;734;0;0m\u001b[38;2;255;255;255mEigenfactor \u001b[48;2;0;0;0m\u001b[38;2;255;255;255mscores[3] \u001b[48;2;258;0;0m\u001b[38;2;255;255;255mmeasure \u001b[48;2;27;0;0m\u001b[38;2;255;255;255mhow \u001b[48;2;92;0;0m\u001b[38;2;255;255;255mlikely \u001b[48;2;0;0;86m\u001b[38;2;255;255;255ma \u001b[48;2;36;0;0m\u001b[38;2;255;255;255mJournal \u001b[48;2;65;0;0m\u001b[38;2;255;255;255mis \u001b[48;2;277;0;0m\u001b[38;2;255;255;255mto \u001b[48;2;0;0;34m\u001b[38;2;255;255;255mbe \u001b[48;2;0;0;0m\u001b[38;2;255;255;255mused, \u001b[48;2;71;0;0m\u001b[38;2;255;255;255mand \u001b[48;2;78;0;0m\u001b[38;2;255;255;255mSCImago \u001b[48;2;36;0;0m\u001b[38;2;255;255;255mJournal \u001b[48;2;15;0;0m\u001b[38;2;255;255;255mRank \u001b[48;2;0;0;0m\u001b[38;2;255;255;255m(SJR)[15] \u001b[48;2;188;0;0m\u001b[38;2;255;255;255mregards \u001b[48;2;0;0;91m\u001b[38;2;255;255;255mthe \u001b[48;2;0;0;83m\u001b[38;2;255;255;255mcitations \u001b[48;2;0;0;37m\u001b[38;2;255;255;255missued \u001b[48;2;0;0;157m\u001b[38;2;255;255;255mby \u001b[48;2;0;0;19m\u001b[38;2;255;255;255mmore \u001b[48;2;0;0;159m\u001b[38;2;255;255;255mimport \u001b[48;2;0;0;0m\u001b[38;2;255;255;255mjour- \u001b[48;2;122;0;0m\u001b[38;2;255;255;255mnals \u001b[48;2;0;0;293m\u001b[38;2;255;255;255mas \u001b[48;2;0;0;19m\u001b[38;2;255;255;255mmore \u001b[48;2;0;0;25m\u001b[38;2;255;255;255mimportant \u001b[48;2;0;0;45m\u001b[38;2;255;255;255mthan \u001b[48;2;0;0;181m\u001b[38;2;255;255;255mthose \u001b[48;2;0;0;37m\u001b[38;2;255;255;255missued \u001b[48;2;0;0;157m\u001b[38;2;255;255;255mby \u001b[48;2;0;0;69m\u001b[38;2;255;255;255mless \u001b[48;2;0;0;25m\u001b[38;2;255;255;255mimportant \u001b[48;2;0;0;0m\u001b[38;2;255;255;255mones.\n",
            "81 0.0 0.725316 -0.044325665 \u001b[48;2;28;0;0m\u001b[38;2;255;255;255mWhereas \u001b[48;2;0;0;95m\u001b[38;2;255;255;255mSource \u001b[48;2;0;0;335m\u001b[38;2;255;255;255mNormalized \u001b[48;2;0;0;73m\u001b[38;2;255;255;255mImpact \u001b[48;2;0;0;24m\u001b[38;2;255;255;255mper \u001b[48;2;138;0;0m\u001b[38;2;255;255;255mPaper \u001b[48;2;0;0;0m\u001b[38;2;255;255;255m(SNIP)[27] \u001b[48;2;80;0;0m\u001b[38;2;255;255;255mindicates \u001b[48;2;0;0;5m\u001b[38;2;255;255;255mthat \u001b[48;2;0;0;72m\u001b[38;2;255;255;255ma \u001b[48;2;0;0;11m\u001b[38;2;255;255;255msingle \u001b[48;2;132;0;0m\u001b[38;2;255;255;255mcitation \u001b[48;2;114;0;0m\u001b[38;2;255;255;255mis \u001b[48;2;174;0;0m\u001b[38;2;255;255;255mmuch \u001b[48;2;224;0;0m\u001b[38;2;255;255;255mmore \u001b[48;2;222;0;0m\u001b[38;2;255;255;255mimportant \u001b[48;2;0;0;212m\u001b[38;2;255;255;255min \u001b[48;2;0;0;31m\u001b[38;2;255;255;255msubject \u001b[48;2;0;0;44m\u001b[38;2;255;255;255mareas \u001b[48;2;0;0;136m\u001b[38;2;255;255;255mwhere \u001b[48;2;0;0;60m\u001b[38;2;255;255;255mcitations \u001b[48;2;0;0;119m\u001b[38;2;255;255;255mare \u001b[48;2;0;0;0m\u001b[38;2;255;255;255mless, \u001b[48;2;35;0;0m\u001b[38;2;255;255;255mand \u001b[48;2;1;0;0m\u001b[38;2;255;255;255mvice \u001b[48;2;0;0;0m\u001b[38;2;255;255;255mversa.\n",
            "82 1.0 0.7341818 0.24124007 \u001b[48;2;0;0;0m\u001b[38;2;255;255;255mAuthor-level \u001b[48;2;15;0;0m\u001b[38;2;255;255;255mmetrics \u001b[48;2;0;0;104m\u001b[38;2;255;255;255minclude \u001b[48;2;0;0;0m\u001b[38;2;255;255;255mh-index, \u001b[48;2;0;0;0m\u001b[38;2;255;255;255mg-index, \u001b[48;2;0;0;0m\u001b[38;2;255;255;255mi10-index \u001b[48;2;0;0;3m\u001b[38;2;255;255;255mand \u001b[48;2;189;0;0m\u001b[38;2;255;255;255mso \u001b[48;2;0;0;0m\u001b[38;2;255;255;255mon.\n",
            "83 1.0 0.7452241 0.2481466 \u001b[48;2;0;0;0m\u001b[38;2;255;255;255mH-index \u001b[48;2;0;0;49m\u001b[38;2;255;255;255malso \u001b[48;2;17;0;0m\u001b[38;2;255;255;255mcalled \u001b[48;2;127;0;0m\u001b[38;2;255;255;255mindex \u001b[48;2;0;0;0m\u001b[38;2;255;255;255mℎ, \u001b[48;2;0;0;185m\u001b[38;2;255;255;255mis \u001b[48;2;0;0;129m\u001b[38;2;255;255;255mproposed \u001b[48;2;0;0;126m\u001b[38;2;255;255;255mby \u001b[48;2;92;0;0m\u001b[38;2;255;255;255mJorge \u001b[48;2;0;0;0m\u001b[38;2;255;255;255mE.\n",
            "84 0.0 0.9417643 0.017995702 \u001b[48;2;0;0;0m\u001b[38;2;255;255;255mHirsch[17], \u001b[48;2;32;0;0m\u001b[38;2;255;255;255mand \u001b[48;2;0;0;155m\u001b[38;2;255;255;255mits \u001b[48;2;81;0;0m\u001b[38;2;255;255;255mdefinition \u001b[48;2;198;0;0m\u001b[38;2;255;255;255mis \u001b[48;2;202;0;0m\u001b[38;2;255;255;255mthe \u001b[48;2;221;0;0m\u001b[38;2;255;255;255mnumber \u001b[48;2;0;0;20m\u001b[38;2;255;255;255mof \u001b[48;2;143;0;0m\u001b[38;2;255;255;255mpapers \u001b[48;2;0;0;211m\u001b[38;2;255;255;255mwith \u001b[48;2;151;0;0m\u001b[38;2;255;255;255mcitation \u001b[48;2;285;0;0m\u001b[38;2;255;255;255mnumbers \u001b[48;2;0;0;0m\u001b[38;2;255;255;255m4https://github.com/huminghao16/SpanABSA \u001b[48;2;0;0;0m\u001b[38;2;255;255;255m5https://howardhsu.github.io/dataset/ \u001b[48;2;0;0;0m\u001b[38;2;255;255;255m6https://service.elsevier.com/app/answers/detail/a_id/14880/supporthub/scopus/ \u001b[48;2;0;0;0m\u001b[38;2;255;255;255m7https://jcr.clarivate.com/jcr/home \u001b[48;2;0;0;0m\u001b[38;2;255;255;255mFigure \u001b[48;2;0;0;0m\u001b[38;2;255;255;255m2: \u001b[48;2;202;0;0m\u001b[38;2;255;255;255mthe \u001b[48;2;0;0;0m\u001b[38;2;255;255;255moverview \u001b[48;2;0;0;20m\u001b[38;2;255;255;255mof \u001b[48;2;0;0;0m\u001b[38;2;255;255;255mPhocus.\n",
            "85 0.0 0.5992739 0.05558582 \u001b[48;2;199;0;0m\u001b[38;2;255;255;255mhigher \u001b[48;2;0;0;119m\u001b[38;2;255;255;255mor \u001b[48;2;0;0;57m\u001b[38;2;255;255;255mequal \u001b[48;2;0;0;119m\u001b[38;2;255;255;255mto \u001b[48;2;0;0;0m\u001b[38;2;255;255;255mℎ.\n",
            "86 1.0 0.4674192 0.13309617 \u001b[48;2;0;0;244m\u001b[38;2;255;255;255mthe \u001b[48;2;0;0;0m\u001b[38;2;255;255;255mg-index \u001b[48;2;0;0;15m\u001b[38;2;255;255;255mis \u001b[48;2;227;0;0m\u001b[38;2;255;255;255mdefined \u001b[48;2;0;0;6m\u001b[38;2;255;255;255mas \u001b[48;2;0;0;244m\u001b[38;2;255;255;255mthe \u001b[48;2;217;0;0m\u001b[38;2;255;255;255mlargest \u001b[48;2;0;0;62m\u001b[38;2;255;255;255mnumber \u001b[48;2;38;0;0m\u001b[38;2;255;255;255msuch \u001b[48;2;0;0;175m\u001b[38;2;255;255;255mthat \u001b[48;2;0;0;244m\u001b[38;2;255;255;255mthe \u001b[48;2;74;0;0m\u001b[38;2;255;255;255mtop \u001b[48;2;0;0;0m\u001b[38;2;255;255;255m𝑔 \u001b[48;2;0;0;99m\u001b[38;2;255;255;255marticles \u001b[48;2;0;0;0m\u001b[38;2;255;255;255mreceived \u001b[48;2;206;0;0m\u001b[38;2;255;255;255mtogether \u001b[48;2;0;0;205m\u001b[38;2;255;255;255mat \u001b[48;2;90;0;0m\u001b[38;2;255;255;255mleast \u001b[48;2;0;0;0m\u001b[38;2;255;255;255m𝑔2 \u001b[48;2;0;0;0m\u001b[38;2;255;255;255mcitations[12].\n",
            "87 1.0 0.644362 0.19349603 \u001b[48;2;107;0;0m\u001b[38;2;255;255;255mGoogle \u001b[48;2;21;0;0m\u001b[38;2;255;255;255mScholar \u001b[48;2;0;0;33m\u001b[38;2;255;255;255mproposes \u001b[48;2;29;0;0m\u001b[38;2;255;255;255mthe \u001b[48;2;0;0;0m\u001b[38;2;255;255;255mi10-index \u001b[48;2;0;0;186m\u001b[38;2;255;255;255mthat \u001b[48;2;74;0;0m\u001b[38;2;255;255;255mis \u001b[48;2;29;0;0m\u001b[38;2;255;255;255mthe \u001b[48;2;70;0;0m\u001b[38;2;255;255;255mnumber \u001b[48;2;0;0;229m\u001b[38;2;255;255;255mof \u001b[48;2;0;0;91m\u001b[38;2;255;255;255ma \u001b[48;2;0;0;4m\u001b[38;2;255;255;255mpublication \u001b[48;2;0;0;227m\u001b[38;2;255;255;255mwith \u001b[48;2;0;0;132m\u001b[38;2;255;255;255mat \u001b[48;2;165;0;0m\u001b[38;2;255;255;255mleast \u001b[48;2;109;0;0m\u001b[38;2;255;255;255m10 \u001b[48;2;0;0;0m\u001b[38;2;255;255;255mcitations.\n",
            "88 -1.0 0.5979948 -0.19142449 \u001b[48;2;0;0;5m\u001b[38;2;255;255;255mThose \u001b[48;2;4;0;0m\u001b[38;2;255;255;255mmetrics \u001b[48;2;0;0;189m\u001b[38;2;255;255;255mare \u001b[48;2;276;0;0m\u001b[38;2;255;255;255mderived \u001b[48;2;0;0;127m\u001b[38;2;255;255;255mfrom \u001b[48;2;96;0;0m\u001b[38;2;255;255;255mcitations \u001b[48;2;8;0;0m\u001b[38;2;255;255;255mand \u001b[48;2;55;0;0m\u001b[38;2;255;255;255mdo \u001b[48;2;111;0;0m\u001b[38;2;255;255;255mnot \u001b[48;2;0;0;51m\u001b[38;2;255;255;255mreveal \u001b[48;2;0;0;233m\u001b[38;2;255;255;255mthe \u001b[48;2;37;0;0m\u001b[38;2;255;255;255mtruth \u001b[48;2;79;0;0m\u001b[38;2;255;255;255mamong \u001b[48;2;0;0;0m\u001b[38;2;255;255;255mcitations.\n",
            "89 1.0 0.67414623 0.2161239 \u001b[48;2;0;0;0m\u001b[38;2;255;255;255mPaper-level \u001b[48;2;0;0;112m\u001b[38;2;255;255;255mmetrics \u001b[48;2;0;0;31m\u001b[38;2;255;255;255mare \u001b[48;2;214;0;0m\u001b[38;2;255;255;255musually \u001b[48;2;24;0;0m\u001b[38;2;255;255;255mthe \u001b[48;2;0;0;28m\u001b[38;2;255;255;255mnumber \u001b[48;2;0;0;216m\u001b[38;2;255;255;255mof \u001b[48;2;0;0;0m\u001b[38;2;255;255;255mcitations.\n",
            "90 1.0 0.9608234 0.3117714 \u001b[48;2;0;0;0m\u001b[38;2;255;255;255mEspe- \u001b[48;2;0;0;0m\u001b[38;2;255;255;255mcially, \u001b[48;2;0;0;99m\u001b[38;2;255;255;255mSemantic \u001b[48;2;0;0;10m\u001b[38;2;255;255;255mScholar \u001b[48;2;86;0;0m\u001b[38;2;255;255;255mmakes \u001b[48;2;0;0;10m\u001b[38;2;255;255;255mthe \u001b[48;2;5;0;0m\u001b[38;2;255;255;255mfirst \u001b[48;2;0;0;242m\u001b[38;2;255;255;255mstep \u001b[48;2;0;0;15m\u001b[38;2;255;255;255mtowards \u001b[48;2;0;0;3m\u001b[38;2;255;255;255mcitation \u001b[48;2;0;0;0m\u001b[38;2;255;255;255mclassi- \u001b[48;2;0;0;0m\u001b[38;2;255;255;255mfication.\n",
            "91 0.0 0.7213809 0.09239727 \u001b[48;2;0;0;16m\u001b[38;2;255;255;255mIt \u001b[48;2;13;0;0m\u001b[38;2;255;255;255mdivided \u001b[48;2;0;0;99m\u001b[38;2;255;255;255mcitations \u001b[48;2;0;0;28m\u001b[38;2;255;255;255minto \u001b[48;2;144;0;0m\u001b[38;2;255;255;255m4 \u001b[48;2;0;0;0m\u001b[38;2;255;255;255mclasses: \u001b[48;2;57;0;0m\u001b[38;2;255;255;255mhighly \u001b[48;2;0;0;0m\u001b[38;2;255;255;255minfluential, \u001b[48;2;0;0;0m\u001b[38;2;255;255;255mback- \u001b[48;2;0;0;0m\u001b[38;2;255;255;255mground, \u001b[48;2;0;0;136m\u001b[38;2;255;255;255mmethod \u001b[48;2;14;0;0m\u001b[38;2;255;255;255mand \u001b[48;2;66;0;0m\u001b[38;2;255;255;255mresults \u001b[48;2;0;0;0m\u001b[38;2;255;255;255mcitations[35], \u001b[48;2;0;0;85m\u001b[38;2;255;255;255musing \u001b[48;2;129;0;0m\u001b[38;2;255;255;255mSVM \u001b[48;2;0;0;344m\u001b[38;2;255;255;255mwith \u001b[48;2;0;0;27m\u001b[38;2;255;255;255man \u001b[48;2;0;0;16m\u001b[38;2;255;255;255mRBF \u001b[48;2;0;0;6m\u001b[38;2;255;255;255mkernel \u001b[48;2;14;0;0m\u001b[38;2;255;255;255mand \u001b[48;2;42;0;0m\u001b[38;2;255;255;255mrandom \u001b[48;2;0;0;0m\u001b[38;2;255;255;255mforests.\n",
            "92 0.0 0.93562585 0.015018918 \u001b[48;2;0;0;34m\u001b[38;2;255;255;255mthe \u001b[48;2;0;0;47m\u001b[38;2;255;255;255mfeatures \u001b[48;2;0;0;25m\u001b[38;2;255;255;255mSemantic \u001b[48;2;294;0;0m\u001b[38;2;255;255;255mScholar \u001b[48;2;0;0;90m\u001b[38;2;255;255;255muse \u001b[48;2;51;0;0m\u001b[38;2;255;255;255mare \u001b[48;2;0;0;34m\u001b[38;2;255;255;255mthe \u001b[48;2;0;0;47m\u001b[38;2;255;255;255mtotal \u001b[48;2;0;0;11m\u001b[38;2;255;255;255mnumber \u001b[48;2;0;0;257m\u001b[38;2;255;255;255mof \u001b[48;2;44;0;0m\u001b[38;2;255;255;255mdirect \u001b[48;2;0;0;0m\u001b[38;2;255;255;255mcitations, \u001b[48;2;0;0;11m\u001b[38;2;255;255;255mnumber \u001b[48;2;0;0;257m\u001b[38;2;255;255;255mof \u001b[48;2;44;0;0m\u001b[38;2;255;255;255mdirect \u001b[48;2;0;0;133m\u001b[38;2;255;255;255mcitations \u001b[48;2;112;0;0m\u001b[38;2;255;255;255mper \u001b[48;2;0;0;0m\u001b[38;2;255;255;255msection, \u001b[48;2;0;0;34m\u001b[38;2;255;255;255mthe \u001b[48;2;0;0;47m\u001b[38;2;255;255;255mtotal \u001b[48;2;0;0;11m\u001b[38;2;255;255;255mnumber \u001b[48;2;0;0;257m\u001b[38;2;255;255;255mof \u001b[48;2;41;0;0m\u001b[38;2;255;255;255mindirect \u001b[48;2;0;0;133m\u001b[38;2;255;255;255mcitations \u001b[48;2;0;0;107m\u001b[38;2;255;255;255mand \u001b[48;2;0;0;11m\u001b[38;2;255;255;255mnumber \u001b[48;2;0;0;257m\u001b[38;2;255;255;255mof \u001b[48;2;41;0;0m\u001b[38;2;255;255;255mindirect \u001b[48;2;0;0;133m\u001b[38;2;255;255;255mcitations \u001b[48;2;112;0;0m\u001b[38;2;255;255;255mper \u001b[48;2;0;0;0m\u001b[38;2;255;255;255msection, \u001b[48;2;120;0;0m\u001b[38;2;255;255;255mauthor \u001b[48;2;0;0;0m\u001b[38;2;255;255;255moverlap, \u001b[48;2;102;0;0m\u001b[38;2;255;255;255mis \u001b[48;2;216;0;0m\u001b[38;2;255;255;255mconsidered \u001b[48;2;0;0;0m\u001b[38;2;255;255;255mhelp- \u001b[48;2;0;0;0m\u001b[38;2;255;255;255mful, \u001b[48;2;0;0;54m\u001b[38;2;255;255;255mcitation \u001b[48;2;140;0;0m\u001b[38;2;255;255;255mappears \u001b[48;2;0;0;143m\u001b[38;2;255;255;255min \u001b[48;2;76;0;0m\u001b[38;2;255;255;255mtable \u001b[48;2;0;0;107m\u001b[38;2;255;255;255mand \u001b[48;2;0;0;0m\u001b[38;2;255;255;255mcaption, \u001b[48;2;0;0;0m\u001b[38;2;255;255;255m1/number \u001b[48;2;0;0;257m\u001b[38;2;255;255;255mof \u001b[48;2;0;0;0m\u001b[38;2;255;255;255mreferences, \u001b[48;2;0;0;11m\u001b[38;2;255;255;255mnumber \u001b[48;2;0;0;257m\u001b[38;2;255;255;255mof \u001b[48;2;9;0;0m\u001b[38;2;255;255;255mpaper \u001b[48;2;0;0;0m\u001b[38;2;255;255;255mcitations/all \u001b[48;2;0;0;0m\u001b[38;2;255;255;255mcitations, \u001b[48;2;0;0;34m\u001b[38;2;255;255;255mthe \u001b[48;2;31;0;0m\u001b[38;2;255;255;255msimilarity \u001b[48;2;98;0;0m\u001b[38;2;255;255;255mbetween \u001b[48;2;0;0;0m\u001b[38;2;255;255;255mab- \u001b[48;2;0;0;0m\u001b[38;2;255;255;255mstracts, \u001b[48;2;0;0;0m\u001b[38;2;255;255;255mPageRank[28], \u001b[48;2;0;0;11m\u001b[38;2;255;255;255mnumber \u001b[48;2;0;0;257m\u001b[38;2;255;255;255mof \u001b[48;2;0;0;47m\u001b[38;2;255;255;255mtotal \u001b[48;2;0;0;152m\u001b[38;2;255;255;255mciting \u001b[48;2;0;0;70m\u001b[38;2;255;255;255mpapers \u001b[48;2;11;0;0m\u001b[38;2;255;255;255mafter \u001b[48;2;0;0;368m\u001b[38;2;255;255;255mtransitive \u001b[48;2;0;0;0m\u001b[38;2;255;255;255mclosure, \u001b[48;2;0;0;107m\u001b[38;2;255;255;255mand \u001b[48;2;29;0;0m\u001b[38;2;255;255;255mfield \u001b[48;2;0;0;257m\u001b[38;2;255;255;255mof \u001b[48;2;0;0;34m\u001b[38;2;255;255;255mthe \u001b[48;2;0;0;0m\u001b[38;2;255;255;255mcited \u001b[48;2;0;0;0m\u001b[38;2;255;255;255mpaper.\n",
            "93 0.0 0.8829109 0.03828675 \u001b[48;2;0;0;85m\u001b[38;2;255;255;255m3 \u001b[48;2;0;0;159m\u001b[38;2;255;255;255mMETHODOLOGY \u001b[48;2;0;0;242m\u001b[38;2;255;255;255mAs \u001b[48;2;0;0;103m\u001b[38;2;255;255;255mshown \u001b[48;2;0;0;283m\u001b[38;2;255;255;255min \u001b[48;2;91;0;0m\u001b[38;2;255;255;255mFigure \u001b[48;2;0;0;0m\u001b[38;2;255;255;255m??, \u001b[48;2;6;0;0m\u001b[38;2;255;255;255mour \u001b[48;2;109;0;0m\u001b[38;2;255;255;255malgorithm \u001b[48;2;0;0;0m\u001b[38;2;255;255;255mconsists \u001b[48;2;0;0;198m\u001b[38;2;255;255;255mof \u001b[48;2;0;0;63m\u001b[38;2;255;255;255m4 \u001b[48;2;0;0;0m\u001b[38;2;255;255;255mstages: \u001b[48;2;0;0;0m\u001b[38;2;255;255;255mpre- \u001b[48;2;0;0;0m\u001b[38;2;255;255;255mprocessing, \u001b[48;2;0;0;54m\u001b[38;2;255;255;255mcalculating \u001b[48;2;0;0;0m\u001b[38;2;255;255;255mfactors, \u001b[48;2;57;0;0m\u001b[38;2;255;255;255mevaluating \u001b[48;2;0;0;0m\u001b[38;2;255;255;255mcontribution, \u001b[48;2;0;0;28m\u001b[38;2;255;255;255mand \u001b[48;2;0;0;0m\u001b[38;2;255;255;255mprop- \u001b[48;2;395;0;0m\u001b[38;2;255;255;255magating \u001b[48;2;0;0;79m\u001b[38;2;255;255;255minfluential \u001b[48;2;0;0;0m\u001b[38;2;255;255;255mfactors.\n",
            "94 1.0 0.70980376 0.23304118 \u001b[48;2;0;0;194m\u001b[38;2;255;255;255mIn \u001b[48;2;0;0;0m\u001b[38;2;255;255;255mpre-processing \u001b[48;2;0;0;0m\u001b[38;2;255;255;255mstage, \u001b[48;2;166;0;0m\u001b[38;2;255;255;255mwe \u001b[48;2;123;0;0m\u001b[38;2;255;255;255mclean \u001b[48;2;111;0;0m\u001b[38;2;255;255;255mraw \u001b[48;2;0;0;0m\u001b[38;2;255;255;255mdata, \u001b[48;2;5;0;0m\u001b[38;2;255;255;255mand \u001b[48;2;0;0;19m\u001b[38;2;255;255;255mobtain \u001b[48;2;0;0;91m\u001b[38;2;255;255;255msimple \u001b[48;2;0;0;0m\u001b[38;2;255;255;255mfactors.\n",
            "95 1.0 0.80876946 0.25934651 \u001b[48;2;0;0;7m\u001b[38;2;255;255;255mComplex \u001b[48;2;0;0;0m\u001b[38;2;255;255;255mfactors, \u001b[48;2;0;0;93m\u001b[38;2;255;255;255mlike \u001b[48;2;0;0;203m\u001b[38;2;255;255;255msentiment \u001b[48;2;0;0;60m\u001b[38;2;255;255;255mpolarity \u001b[48;2;0;0;136m\u001b[38;2;255;255;255mare \u001b[48;2;231;0;0m\u001b[38;2;255;255;255mcalculated \u001b[48;2;0;0;76m\u001b[38;2;255;255;255min \u001b[48;2;72;0;0m\u001b[38;2;255;255;255msecond \u001b[48;2;0;0;0m\u001b[38;2;255;255;255mstage.\n",
            "96 0.0 0.96549946 0.008847812 \u001b[48;2;187;0;0m\u001b[38;2;255;255;255mWhen \u001b[48;2;0;0;113m\u001b[38;2;255;255;255mget \u001b[48;2;0;0;175m\u001b[38;2;255;255;255mall \u001b[48;2;0;0;111m\u001b[38;2;255;255;255mfactors \u001b[48;2;0;0;0m\u001b[38;2;255;255;255mneeded, \u001b[48;2;135;0;0m\u001b[38;2;255;255;255mwe \u001b[48;2;14;0;0m\u001b[38;2;255;255;255mclassify \u001b[48;2;0;0;101m\u001b[38;2;255;255;255mcitations \u001b[48;2;0;0;108m\u001b[38;2;255;255;255minto \u001b[48;2;10;0;0m\u001b[38;2;255;255;255mfour \u001b[48;2;0;0;28m\u001b[38;2;255;255;255mclasses \u001b[48;2;38;0;0m\u001b[38;2;255;255;255mand \u001b[48;2;0;0;52m\u001b[38;2;255;255;255mrank \u001b[48;2;0;0;175m\u001b[38;2;255;255;255mall \u001b[48;2;0;0;0m\u001b[38;2;255;255;255mreferences, \u001b[48;2;38;0;0m\u001b[38;2;255;255;255mand \u001b[48;2;148;0;0m\u001b[38;2;255;255;255mfigure \u001b[48;2;0;0;63m\u001b[38;2;255;255;255mout \u001b[48;2;0;0;222m\u001b[38;2;255;255;255mthe \u001b[48;2;183;0;0m\u001b[38;2;255;255;255mlocal \u001b[48;2;53;0;0m\u001b[38;2;255;255;255mcontribution \u001b[48;2;129;0;0m\u001b[38;2;255;255;255mfactor \u001b[48;2;0;0;183m\u001b[38;2;255;255;255mof \u001b[48;2;0;0;75m\u001b[38;2;255;255;255meach \u001b[48;2;0;0;0m\u001b[38;2;255;255;255mreference.\n",
            "97 1.0 0.68208104 0.22030418 \u001b[48;2;226;0;0m\u001b[38;2;255;255;255mWe \u001b[48;2;0;0;0m\u001b[38;2;255;255;255mini- \u001b[48;2;76;0;0m\u001b[38;2;255;255;255mtialize \u001b[48;2;0;0;171m\u001b[38;2;255;255;255mall \u001b[48;2;0;0;35m\u001b[38;2;255;255;255mnew \u001b[48;2;0;0;123m\u001b[38;2;255;255;255mpaper \u001b[48;2;0;0;139m\u001b[38;2;255;255;255mto \u001b[48;2;0;0;46m\u001b[38;2;255;255;255mthe \u001b[48;2;107;0;0m\u001b[38;2;255;255;255mdatabase \u001b[48;2;0;0;329m\u001b[38;2;255;255;255mwith \u001b[48;2;0;0;56m\u001b[38;2;255;255;255man \u001b[48;2;121;0;0m\u001b[38;2;255;255;255macademic \u001b[48;2;132;0;0m\u001b[38;2;255;255;255minfluential \u001b[48;2;145;0;0m\u001b[38;2;255;255;255mfactor \u001b[48;2;0;0;0m\u001b[38;2;255;255;255m1.0, \u001b[48;2;42;0;0m\u001b[38;2;255;255;255mand \u001b[48;2;313;0;0m\u001b[38;2;255;255;255mpropagate \u001b[48;2;0;0;155m\u001b[38;2;255;255;255mits \u001b[48;2;26;0;0m\u001b[38;2;255;255;255mimpact \u001b[48;2;0;0;93m\u001b[38;2;255;255;255mon \u001b[48;2;0;0;15m\u001b[38;2;255;255;255mreferences \u001b[48;2;0;0;0m\u001b[38;2;255;255;255miteratively.\n",
            "98 0.0 0.99470735 0.001672587 \u001b[48;2;0;0;37m\u001b[38;2;255;255;255mthe \u001b[48;2;134;0;0m\u001b[38;2;255;255;255mfactors \u001b[48;2;143;0;0m\u001b[38;2;255;255;255mextracted \u001b[48;2;0;0;207m\u001b[38;2;255;255;255mfrom \u001b[48;2;121;0;0m\u001b[38;2;255;255;255mpapers \u001b[48;2;0;0;90m\u001b[38;2;255;255;255mare \u001b[48;2;162;0;0m\u001b[38;2;255;255;255mlisted \u001b[48;2;45;0;0m\u001b[38;2;255;255;255mout \u001b[48;2;0;0;74m\u001b[38;2;255;255;255min \u001b[48;2;125;0;0m\u001b[38;2;255;255;255mTable \u001b[48;2;0;0;169m\u001b[38;2;255;255;255m1 \u001b[48;2;0;0;0m\u001b[38;2;255;255;255m3.1 \u001b[48;2;0;0;0m\u001b[38;2;255;255;255mPre-processing \u001b[48;2;97;0;0m\u001b[38;2;255;255;255mGiven \u001b[48;2;0;0;107m\u001b[38;2;255;255;255ma \u001b[48;2;73;0;0m\u001b[38;2;255;255;255mpaper \u001b[48;2;0;0;311m\u001b[38;2;255;255;255mof \u001b[48;2;201;0;0m\u001b[38;2;255;255;255mstring \u001b[48;2;0;0;0m\u001b[38;2;255;255;255mformat, \u001b[48;2;0;0;107m\u001b[38;2;255;255;255ma \u001b[48;2;0;0;19m\u001b[38;2;255;255;255mseries \u001b[48;2;0;0;311m\u001b[38;2;255;255;255mof \u001b[48;2;0;0;0m\u001b[38;2;255;255;255msteps \u001b[48;2;108;0;0m\u001b[38;2;255;255;255mprocess \u001b[48;2;0;0;37m\u001b[38;2;255;255;255mthe \u001b[48;2;218;0;0m\u001b[38;2;255;255;255mraw \u001b[48;2;179;0;0m\u001b[38;2;255;255;255mdata \u001b[48;2;19;0;0m\u001b[38;2;255;255;255mfor \u001b[48;2;0;0;37m\u001b[38;2;255;255;255mthe \u001b[48;2;0;0;25m\u001b[38;2;255;255;255mnext \u001b[48;2;0;0;0m\u001b[38;2;255;255;255mstage: \u001b[48;2;0;0;0m\u001b[38;2;255;255;255mparsing, \u001b[48;2;0;0;0m\u001b[38;2;255;255;255msegmentation, \u001b[48;2;0;0;43m\u001b[38;2;255;255;255mand \u001b[48;2;0;0;0m\u001b[38;2;255;255;255mmatching.\n",
            "99 0.0 0.7537458 0.07894694 \u001b[48;2;118;0;0m\u001b[38;2;255;255;255mParing \u001b[48;2;0;0;296m\u001b[38;2;255;255;255mis \u001b[48;2;0;0;56m\u001b[38;2;255;255;255maimed \u001b[48;2;0;0;261m\u001b[38;2;255;255;255mat \u001b[48;2;91;0;0m\u001b[38;2;255;255;255mdividing \u001b[48;2;52;0;0m\u001b[38;2;255;255;255mthe \u001b[48;2;153;0;0m\u001b[38;2;255;255;255minput \u001b[48;2;74;0;0m\u001b[38;2;255;255;255mtext \u001b[48;2;0;0;0m\u001b[38;2;255;255;255minto \u001b[48;2;0;0;0m\u001b[38;2;255;255;255mtitle, \u001b[48;2;0;0;0m\u001b[38;2;255;255;255mauthors, \u001b[48;2;0;0;0m\u001b[38;2;255;255;255msections, \u001b[48;2;46;0;0m\u001b[38;2;255;255;255mand \u001b[48;2;0;0;0m\u001b[38;2;255;255;255mreferences.\n",
            "100 0.0 0.84289855 0.04941755 \u001b[48;2;265;0;0m\u001b[38;2;255;255;255mWe \u001b[48;2;0;0;111m\u001b[38;2;255;255;255mutilize \u001b[48;2;7;0;0m\u001b[38;2;255;255;255mflari8 \u001b[48;2;0;0;48m\u001b[38;2;255;255;255mto \u001b[48;2;395;0;0m\u001b[38;2;255;255;255mparse \u001b[48;2;0;0;97m\u001b[38;2;255;255;255mthe \u001b[48;2;0;0;0m\u001b[38;2;255;255;255mtitle, \u001b[48;2;0;0;45m\u001b[38;2;255;255;255mauthors \u001b[48;2;0;0;81m\u001b[38;2;255;255;255mand \u001b[48;2;0;0;75m\u001b[38;2;255;255;255mpublish \u001b[48;2;78;0;0m\u001b[38;2;255;255;255myear \u001b[48;2;0;0;201m\u001b[38;2;255;255;255mof \u001b[48;2;0;0;97m\u001b[38;2;255;255;255mthe \u001b[48;2;108;0;0m\u001b[38;2;255;255;255minput \u001b[48;2;0;0;19m\u001b[38;2;255;255;255mpaper \u001b[48;2;0;0;81m\u001b[38;2;255;255;255mand \u001b[48;2;0;0;215m\u001b[38;2;255;255;255mits \u001b[48;2;0;0;0m\u001b[38;2;255;255;255mreferences.\n",
            "101 0.0 0.94552267 0.013662453 \u001b[48;2;205;0;0m\u001b[38;2;255;255;255mWe \u001b[48;2;77;0;0m\u001b[38;2;255;255;255msegment \u001b[48;2;0;0;34m\u001b[38;2;255;255;255mthe \u001b[48;2;222;0;0m\u001b[38;2;255;255;255minput \u001b[48;2;0;0;13m\u001b[38;2;255;255;255mpaper \u001b[48;2;0;0;32m\u001b[38;2;255;255;255minto \u001b[48;2;0;0;0m\u001b[38;2;255;255;255mtwo-level: \u001b[48;2;0;0;94m\u001b[38;2;255;255;255msection \u001b[48;2;0;0;1m\u001b[38;2;255;255;255mlevel \u001b[48;2;0;0;16m\u001b[38;2;255;255;255mand \u001b[48;2;77;0;0m\u001b[38;2;255;255;255msentence \u001b[48;2;0;0;0m\u001b[38;2;255;255;255mlevel.\n",
            "102 0.0 0.9920793 0.0024661175 \u001b[48;2;52;0;0m\u001b[38;2;255;255;255mSection \u001b[48;2;0;0;0m\u001b[38;2;255;255;255mseg- \u001b[48;2;171;0;0m\u001b[38;2;255;255;255mmentation \u001b[48;2;0;0;31m\u001b[38;2;255;255;255mis \u001b[48;2;212;0;0m\u001b[38;2;255;255;255mbased \u001b[48;2;0;0;23m\u001b[38;2;255;255;255mon \u001b[48;2;57;0;0m\u001b[38;2;255;255;255mkeywords \u001b[48;2;0;0;81m\u001b[38;2;255;255;255mmatching \u001b[48;2;0;0;8m\u001b[38;2;255;255;255mand \u001b[48;2;214;0;0m\u001b[38;2;255;255;255mclassified \u001b[48;2;0;0;33m\u001b[38;2;255;255;255minto \u001b[48;2;85;0;0m\u001b[38;2;255;255;255mthree \u001b[48;2;0;0;0m\u001b[38;2;255;255;255m8https://pypi.org/project/flair/ \u001b[48;2;0;0;47m\u001b[38;2;255;255;255mTable \u001b[48;2;0;0;0m\u001b[38;2;255;255;255m1: \u001b[48;2;224;0;0m\u001b[38;2;255;255;255mfactor \u001b[48;2;115;0;0m\u001b[38;2;255;255;255mlist \u001b[48;2;0;0;47m\u001b[38;2;255;255;255mTable \u001b[48;2;0;0;0m\u001b[38;2;255;255;255m2: \u001b[48;2;75;0;0m\u001b[38;2;255;255;255mthe \u001b[48;2;157;0;0m\u001b[38;2;255;255;255mclassifying \u001b[48;2;78;0;0m\u001b[38;2;255;255;255mstandards \u001b[48;2;0;0;95m\u001b[38;2;255;255;255mof \u001b[48;2;0;0;0m\u001b[38;2;255;255;255mPhocus.\n",
            "103 0.0 0.9787244 0.0031186694 \u001b[48;2;0;0;19m\u001b[38;2;255;255;255mDefinition \u001b[48;2;38;0;0m\u001b[38;2;255;255;255mRanges \u001b[48;2;0;0;100m\u001b[38;2;255;255;255mLabel \u001b[48;2;0;0;56m\u001b[38;2;255;255;255mDescription \u001b[48;2;93;0;0m\u001b[38;2;255;255;255mZhang \u001b[48;2;121;0;0m\u001b[38;2;255;255;255mand \u001b[48;2;231;0;0m\u001b[38;2;255;255;255mWen \u001b[48;2;0;0;212m\u001b[38;2;255;255;255met \u001b[48;2;0;0;0m\u001b[38;2;255;255;255mal.\n",
            "105 0.0 0.9896846 0.0028006544 \u001b[48;2;260;0;0m\u001b[38;2;255;255;255mSentences \u001b[48;2;0;0;107m\u001b[38;2;255;255;255mare \u001b[48;2;122;0;0m\u001b[38;2;255;255;255msegmented \u001b[48;2;0;0;231m\u001b[38;2;255;255;255musing \u001b[48;2;0;0;126m\u001b[38;2;255;255;255mregular \u001b[48;2;24;0;0m\u001b[38;2;255;255;255mexpression \u001b[48;2;0;0;182m\u001b[38;2;255;255;255mmatching \u001b[48;2;0;0;114m\u001b[38;2;255;255;255mand \u001b[48;2;0;0;107m\u001b[38;2;255;255;255mare \u001b[48;2;88;0;0m\u001b[38;2;255;255;255mthen \u001b[48;2;135;0;0m\u001b[38;2;255;255;255mlabelled \u001b[48;2;57;0;0m\u001b[38;2;255;255;255mby \u001b[48;2;5;0;0m\u001b[38;2;255;255;255mtheir \u001b[48;2;244;0;0m\u001b[38;2;255;255;255mID \u001b[48;2;43;0;0m\u001b[38;2;255;255;255maccording \u001b[48;2;0;0;54m\u001b[38;2;255;255;255mto \u001b[48;2;5;0;0m\u001b[38;2;255;255;255mtheir \u001b[48;2;0;0;23m\u001b[38;2;255;255;255mappearing \u001b[48;2;0;0;0m\u001b[38;2;255;255;255morder.\n",
            "106 0.0 0.79247624 0.06515047 \u001b[48;2;0;0;29m\u001b[38;2;255;255;255mReference \u001b[48;2;0;0;0m\u001b[38;2;255;255;255mparsing \u001b[48;2;0;0;188m\u001b[38;2;255;255;255mgenerates \u001b[48;2;0;0;0m\u001b[38;2;255;255;255mtitle, \u001b[48;2;0;0;0m\u001b[38;2;255;255;255mauthors, \u001b[48;2;31;0;0m\u001b[38;2;255;255;255mpublish \u001b[48;2;0;0;14m\u001b[38;2;255;255;255myear \u001b[48;2;0;0;12m\u001b[38;2;255;255;255mand \u001b[48;2;80;0;0m\u001b[38;2;255;255;255meven \u001b[48;2;0;0;91m\u001b[38;2;255;255;255mtheir \u001b[48;2;0;0;89m\u001b[38;2;255;255;255mcitation \u001b[48;2;39;0;0m\u001b[38;2;255;255;255mmarkers \u001b[48;2;0;0;185m\u001b[38;2;255;255;255min \u001b[48;2;12;0;0m\u001b[38;2;255;255;255mthe \u001b[48;2;0;0;0m\u001b[38;2;255;255;255mpaper.\n",
            "107 0.0 0.9694471 0.007511442 \u001b[48;2;95;0;0m\u001b[38;2;255;255;255mGiven \u001b[48;2;0;0;253m\u001b[38;2;255;255;255mthat \u001b[48;2;0;0;0m\u001b[38;2;255;255;255minformation, \u001b[48;2;320;0;0m\u001b[38;2;255;255;255mwe \u001b[48;2;6;0;0m\u001b[38;2;255;255;255mlocate \u001b[48;2;77;0;0m\u001b[38;2;255;255;255mcitations \u001b[48;2;0;0;51m\u001b[38;2;255;255;255min \u001b[48;2;0;0;34m\u001b[38;2;255;255;255meach \u001b[48;2;0;0;48m\u001b[38;2;255;255;255msentence \u001b[48;2;21;0;0m\u001b[38;2;255;255;255mand \u001b[48;2;44;0;0m\u001b[38;2;255;255;255mmatch \u001b[48;2;0;0;63m\u001b[38;2;255;255;255mcitation \u001b[48;2;30;0;0m\u001b[38;2;255;255;255mmarkers \u001b[48;2;0;0;273m\u001b[38;2;255;255;255mwith \u001b[48;2;15;0;0m\u001b[38;2;255;255;255mtheir \u001b[48;2;47;0;0m\u001b[38;2;255;255;255mcorresponding \u001b[48;2;106;0;0m\u001b[38;2;255;255;255mreference \u001b[48;2;0;0;0m\u001b[38;2;255;255;255mpapers.\n",
            "108 1.0 0.714867 0.21462154 \u001b[48;2;233;0;0m\u001b[38;2;255;255;255mThen \u001b[48;2;126;0;0m\u001b[38;2;255;255;255mwe \u001b[48;2;2;0;0m\u001b[38;2;255;255;255mcould \u001b[48;2;182;0;0m\u001b[38;2;255;255;255measily \u001b[48;2;183;0;0m\u001b[38;2;255;255;255mget \u001b[48;2;0;0;140m\u001b[38;2;255;255;255mthe \u001b[48;2;38;0;0m\u001b[38;2;255;255;255mfactor \u001b[48;2;0;0;0m\u001b[38;2;255;255;255mn_cit \u001b[48;2;0;0;82m\u001b[38;2;255;255;255mand \u001b[48;2;0;0;0m\u001b[38;2;255;255;255mcit_text.\n",
            "109 0.0 0.99302626 0.00217039 \u001b[48;2;120;0;0m\u001b[38;2;255;255;255mFactor \u001b[48;2;0;0;0m\u001b[38;2;255;255;255mau_overlap \u001b[48;2;121;0;0m\u001b[38;2;255;255;255mis \u001b[48;2;344;0;0m\u001b[38;2;255;255;255mcalculated \u001b[48;2;278;0;0m\u001b[38;2;255;255;255maccording \u001b[48;2;0;0;2m\u001b[38;2;255;255;255mto \u001b[48;2;0;0;116m\u001b[38;2;255;255;255mthe \u001b[48;2;1;0;0m\u001b[38;2;255;255;255mfollowing \u001b[48;2;0;0;0m\u001b[38;2;255;255;255mequation: \u001b[48;2;0;0;0m\u001b[38;2;255;255;255m𝑎𝑢_𝑜𝑣𝑒𝑟𝑙𝑎𝑝 \u001b[48;2;0;0;0m\u001b[38;2;255;255;255m= \u001b[48;2;0;0;201m\u001b[38;2;255;255;255m2 \u001b[48;2;0;0;0m\u001b[38;2;255;255;255m× \u001b[48;2;0;0;0m\u001b[38;2;255;255;255m𝐴∩𝐵 \u001b[48;2;0;0;0m\u001b[38;2;255;255;255m|𝐴 \u001b[48;2;0;0;0m\u001b[38;2;255;255;255m|+|𝐵 \u001b[48;2;0;0;0m\u001b[38;2;255;255;255m| \u001b[48;2;0;0;0m\u001b[38;2;255;255;255m(1) \u001b[48;2;18;0;0m\u001b[38;2;255;255;255mwhere \u001b[48;2;0;0;121m\u001b[38;2;255;255;255mA \u001b[48;2;121;0;0m\u001b[38;2;255;255;255mis \u001b[48;2;0;0;116m\u001b[38;2;255;255;255mthe \u001b[48;2;13;0;0m\u001b[38;2;255;255;255mauthor \u001b[48;2;0;0;62m\u001b[38;2;255;255;255mset \u001b[48;2;0;0;183m\u001b[38;2;255;255;255mof \u001b[48;2;0;0;45m\u001b[38;2;255;255;255mciting \u001b[48;2;0;0;0m\u001b[38;2;255;255;255mpaper, \u001b[48;2;105;0;0m\u001b[38;2;255;255;255mand \u001b[48;2;0;0;39m\u001b[38;2;255;255;255mB \u001b[48;2;121;0;0m\u001b[38;2;255;255;255mis \u001b[48;2;0;0;116m\u001b[38;2;255;255;255mthe \u001b[48;2;13;0;0m\u001b[38;2;255;255;255mauthor \u001b[48;2;0;0;62m\u001b[38;2;255;255;255mset \u001b[48;2;0;0;183m\u001b[38;2;255;255;255mof \u001b[48;2;0;0;0m\u001b[38;2;255;255;255mreference \u001b[48;2;0;0;0m\u001b[38;2;255;255;255mpaper.\n",
            "110 0.0 0.88954675 0.028465584 \u001b[48;2;0;0;0m\u001b[38;2;255;255;255m3.2 \u001b[48;2;0;0;177m\u001b[38;2;255;255;255mCalculating \u001b[48;2;0;0;27m\u001b[38;2;255;255;255mfactors \u001b[48;2;0;0;121m\u001b[38;2;255;255;255mThere \u001b[48;2;26;0;0m\u001b[38;2;255;255;255mare \u001b[48;2;309;0;0m\u001b[38;2;255;255;255mstill \u001b[48;2;0;0;124m\u001b[38;2;255;255;255mthree \u001b[48;2;0;0;27m\u001b[38;2;255;255;255mfactors \u001b[48;2;0;0;0m\u001b[38;2;255;255;255munsolved: \u001b[48;2;0;0;0m\u001b[38;2;255;255;255mcontext_a, \u001b[48;2;0;0;0m\u001b[38;2;255;255;255mcontext_b, \u001b[48;2;102;0;0m\u001b[38;2;255;255;255mand \u001b[48;2;0;0;0m\u001b[38;2;255;255;255msen_label.\n",
            "111 0.0 0.7708823 0.07491777 \u001b[48;2;215;0;0m\u001b[38;2;255;255;255mWe \u001b[48;2;0;0;41m\u001b[38;2;255;255;255mobtain \u001b[48;2;0;0;0m\u001b[38;2;255;255;255mcontext_a, \u001b[48;2;0;0;0m\u001b[38;2;255;255;255mcontext_b \u001b[48;2;0;0;318m\u001b[38;2;255;255;255mwith \u001b[48;2;0;0;0m\u001b[38;2;255;255;255mBERT, \u001b[48;2;43;0;0m\u001b[38;2;255;255;255mand \u001b[48;2;0;0;147m\u001b[38;2;255;255;255mpropose \u001b[48;2;0;0;170m\u001b[38;2;255;255;255ma \u001b[48;2;145;0;0m\u001b[38;2;255;255;255mnovel \u001b[48;2;0;0;0m\u001b[38;2;255;255;255maspect-based \u001b[48;2;123;0;0m\u001b[38;2;255;255;255msentiment \u001b[48;2;0;0;153m\u001b[38;2;255;255;255manalysis \u001b[48;2;0;0;65m\u001b[38;2;255;255;255malgorithm \u001b[48;2;0;0;111m\u001b[38;2;255;255;255mto \u001b[48;2;0;0;41m\u001b[38;2;255;255;255mclassify \u001b[48;2;0;0;36m\u001b[38;2;255;255;255mcitation \u001b[48;2;0;0;0m\u001b[38;2;255;255;255msentiment.\n",
            "112 0.0 0.6830573 0.10205717 \u001b[48;2;202;0;0m\u001b[38;2;255;255;255mWe \u001b[48;2;0;0;0m\u001b[38;2;255;255;255mfine-tune \u001b[48;2;50;0;0m\u001b[38;2;255;255;255mBERT \u001b[48;2;0;0;169m\u001b[38;2;255;255;255mon \u001b[48;2;0;0;82m\u001b[38;2;255;255;255ma \u001b[48;2;91;0;0m\u001b[38;2;255;255;255mmanually \u001b[48;2;0;0;72m\u001b[38;2;255;255;255mannotated \u001b[48;2;368;0;0m\u001b[38;2;255;255;255mdataset \u001b[48;2;0;0;0m\u001b[38;2;255;255;255mcontain- \u001b[48;2;182;0;0m\u001b[38;2;255;255;255ming \u001b[48;2;137;0;0m\u001b[38;2;255;255;255mover \u001b[48;2;0;0;0m\u001b[38;2;255;255;255m1,000 \u001b[48;2;0;0;123m\u001b[38;2;255;255;255msentence \u001b[48;2;0;0;140m\u001b[38;2;255;255;255mpairs \u001b[48;2;5;0;0m\u001b[38;2;255;255;255mlabelled \u001b[48;2;0;0;298m\u001b[38;2;255;255;255mas \u001b[48;2;0;0;0m\u001b[38;2;255;255;255m\"related\" \u001b[48;2;0;0;122m\u001b[38;2;255;255;255mor \u001b[48;2;0;0;0m\u001b[38;2;255;255;255m\"irrelevant\".\n",
            "113 0.0 0.8113841 0.059096217 \u001b[48;2;0;0;114m\u001b[38;2;255;255;255mEach \u001b[48;2;0;0;12m\u001b[38;2;255;255;255msentence \u001b[48;2;42;0;0m\u001b[38;2;255;255;255mpair \u001b[48;2;0;0;202m\u001b[38;2;255;255;255mis \u001b[48;2;227;0;0m\u001b[38;2;255;255;255mgenerated \u001b[48;2;0;0;131m\u001b[38;2;255;255;255mfrom \u001b[48;2;0;0;79m\u001b[38;2;255;255;255ma \u001b[48;2;26;0;0m\u001b[38;2;255;255;255msingle \u001b[48;2;140;0;0m\u001b[38;2;255;255;255macademic \u001b[48;2;0;0;0m\u001b[38;2;255;255;255mpaper.\n",
            "114 1.0 0.7225173 0.23399918 \u001b[48;2;302;0;0m\u001b[38;2;255;255;255mWe \u001b[48;2;2;0;0m\u001b[38;2;255;255;255mget \u001b[48;2;0;0;28m\u001b[38;2;255;255;255man \u001b[48;2;13;0;0m\u001b[38;2;255;255;255maccuracy \u001b[48;2;0;0;96m\u001b[38;2;255;255;255mof \u001b[48;2;0;0;0m\u001b[38;2;255;255;255m94.5% \u001b[48;2;0;0;208m\u001b[38;2;255;255;255mon \u001b[48;2;0;0;95m\u001b[38;2;255;255;255mthe \u001b[48;2;132;0;0m\u001b[38;2;255;255;255mevaluation \u001b[48;2;0;0;0m\u001b[38;2;255;255;255mdataset.\n",
            "115 0.0 0.98762256 0.001032651 \u001b[48;2;11;0;0m\u001b[38;2;255;255;255mTo \u001b[48;2;0;0;0m\u001b[38;2;255;255;255mob- \u001b[48;2;323;0;0m\u001b[38;2;255;255;255mtain \u001b[48;2;0;0;71m\u001b[38;2;255;255;255mthe \u001b[48;2;106;0;0m\u001b[38;2;255;255;255mcontext \u001b[48;2;0;0;368m\u001b[38;2;255;255;255mof \u001b[48;2;0;0;0m\u001b[38;2;255;255;255mcit_context, \u001b[48;2;130;0;0m\u001b[38;2;255;255;255mwe \u001b[48;2;0;0;80m\u001b[38;2;255;255;255mapply \u001b[48;2;0;0;71m\u001b[38;2;255;255;255mthe \u001b[48;2;128;0;0m\u001b[38;2;255;255;255mabove \u001b[48;2;0;0;119m\u001b[38;2;255;255;255mclassifier \u001b[48;2;0;0;0m\u001b[38;2;255;255;255mit- \u001b[48;2;0;0;126m\u001b[38;2;255;255;255meratively \u001b[48;2;0;0;102m\u001b[38;2;255;255;255mon \u001b[48;2;0;0;66m\u001b[38;2;255;255;255msentence \u001b[48;2;0;0;104m\u001b[38;2;255;255;255mpair \u001b[48;2;0;0;0m\u001b[38;2;255;255;255m(𝑆 \u001b[48;2;0;0;0m\u001b[38;2;255;255;255m[𝑠𝑒𝑛𝑡_𝑖𝑑 \u001b[48;2;0;0;0m\u001b[38;2;255;255;255m− \u001b[48;2;0;0;0m\u001b[38;2;255;255;255m𝑖], \u001b[48;2;0;0;0m\u001b[38;2;255;255;255m𝑆 \u001b[48;2;0;0;0m\u001b[38;2;255;255;255m[𝑠𝑒𝑛𝑡_𝑖𝑑]) \u001b[48;2;0;0;0m\u001b[38;2;255;255;255m(𝑆 \u001b[48;2;0;0;0m\u001b[38;2;255;255;255mrepresent- \u001b[48;2;207;0;0m\u001b[38;2;255;255;255ming \u001b[48;2;0;0;71m\u001b[38;2;255;255;255mthe \u001b[48;2;57;0;0m\u001b[38;2;255;255;255mlist \u001b[48;2;0;0;368m\u001b[38;2;255;255;255mof \u001b[48;2;0;0;76m\u001b[38;2;255;255;255mall \u001b[48;2;0;0;135m\u001b[38;2;255;255;255msentences \u001b[48;2;0;0;200m\u001b[38;2;255;255;255min \u001b[48;2;0;0;71m\u001b[38;2;255;255;255mthe \u001b[48;2;0;0;0m\u001b[38;2;255;255;255mpaper) \u001b[48;2;71;0;0m\u001b[38;2;255;255;255mwhere \u001b[48;2;0;0;0m\u001b[38;2;255;255;255m𝑖 \u001b[48;2;0;0;0m\u001b[38;2;255;255;255mincreases \u001b[48;2;0;0;0m\u001b[38;2;255;255;255mfrom \u001b[48;2;0;0;0m\u001b[38;2;255;255;255m1.\n",
            "116 0.0 0.990132 0.0009117503 \u001b[48;2;217;0;0m\u001b[38;2;255;255;255mOnce \u001b[48;2;0;0;155m\u001b[38;2;255;255;255man \u001b[48;2;0;0;0m\u001b[38;2;255;255;255m\"irrelevant\" \u001b[48;2;0;0;80m\u001b[38;2;255;255;255mpair \u001b[48;2;0;0;218m\u001b[38;2;255;255;255mis \u001b[48;2;0;0;0m\u001b[38;2;255;255;255mreported, \u001b[48;2;0;0;35m\u001b[38;2;255;255;255mthe \u001b[48;2;15;0;0m\u001b[38;2;255;255;255miteration \u001b[48;2;0;0;218m\u001b[38;2;255;255;255mis \u001b[48;2;16;0;0m\u001b[38;2;255;255;255maborted \u001b[48;2;76;0;0m\u001b[38;2;255;255;255mand \u001b[48;2;88;0;0m\u001b[38;2;255;255;255mwe \u001b[48;2;0;0;104m\u001b[38;2;255;255;255mtake \u001b[48;2;0;0;0m\u001b[38;2;255;255;255m𝑆 \u001b[48;2;0;0;0m\u001b[38;2;255;255;255m[𝑠𝑒𝑛𝑡_𝑖𝑑 \u001b[48;2;0;0;0m\u001b[38;2;255;255;255m− \u001b[48;2;0;0;0m\u001b[38;2;255;255;255m𝑖 \u001b[48;2;0;0;0m\u001b[38;2;255;255;255m: \u001b[48;2;0;0;0m\u001b[38;2;255;255;255m𝑠𝑒𝑛𝑡_𝑖𝑑] \u001b[48;2;0;0;200m\u001b[38;2;255;255;255mas \u001b[48;2;0;0;0m\u001b[38;2;255;255;255mcontext_a.\n",
            "117 0.0 0.86473423 0.037148762 \u001b[48;2;0;0;91m\u001b[38;2;255;255;255mAnother \u001b[48;2;0;0;0m\u001b[38;2;255;255;255mstop- \u001b[48;2;147;0;0m\u001b[38;2;255;255;255mping \u001b[48;2;0;0;150m\u001b[38;2;255;255;255mcriterion \u001b[48;2;0;0;81m\u001b[38;2;255;255;255mis \u001b[48;2;0;0;85m\u001b[38;2;255;255;255mthat \u001b[48;2;0;0;0m\u001b[38;2;255;255;255m𝑆 \u001b[48;2;0;0;0m\u001b[38;2;255;255;255m[𝑠𝑒𝑛𝑡_𝑖𝑑 \u001b[48;2;0;0;0m\u001b[38;2;255;255;255m− \u001b[48;2;0;0;0m\u001b[38;2;255;255;255m𝑖] \u001b[48;2;93;0;0m\u001b[38;2;255;255;255mshould \u001b[48;2;252;0;0m\u001b[38;2;255;255;255malways \u001b[48;2;22;0;0m\u001b[38;2;255;255;255mbe \u001b[48;2;8;0;0m\u001b[38;2;255;255;255min \u001b[48;2;0;0;146m\u001b[38;2;255;255;255mthe \u001b[48;2;0;0;108m\u001b[38;2;255;255;255msame \u001b[48;2;0;0;41m\u001b[38;2;255;255;255mparagraph \u001b[48;2;0;0;246m\u001b[38;2;255;255;255mwith \u001b[48;2;0;0;0m\u001b[38;2;255;255;255m𝑆 \u001b[48;2;0;0;0m\u001b[38;2;255;255;255m[𝑠𝑒𝑛𝑡_𝑖𝑑].\n",
            "118 0.0 0.9421475 0.01808467 \u001b[48;2;0;0;183m\u001b[38;2;255;255;255mA \u001b[48;2;0;0;118m\u001b[38;2;255;255;255msimilar \u001b[48;2;0;0;202m\u001b[38;2;255;255;255mprocedure \u001b[48;2;0;0;117m\u001b[38;2;255;255;255mis \u001b[48;2;0;0;56m\u001b[38;2;255;255;255mperformed \u001b[48;2;0;0;104m\u001b[38;2;255;255;255mon \u001b[48;2;0;0;0m\u001b[38;2;255;255;255m(𝑆 \u001b[48;2;0;0;0m\u001b[38;2;255;255;255m[𝑠𝑒𝑛𝑡_𝑖𝑑 \u001b[48;2;0;0;0m\u001b[38;2;255;255;255m+ \u001b[48;2;0;0;0m\u001b[38;2;255;255;255m𝑖], \u001b[48;2;0;0;0m\u001b[38;2;255;255;255m𝑆 \u001b[48;2;0;0;0m\u001b[38;2;255;255;255m[𝑠𝑒𝑛𝑡_𝑖𝑑]) \u001b[48;2;0;0;48m\u001b[38;2;255;255;255mto \u001b[48;2;36;0;0m\u001b[38;2;255;255;255mget \u001b[48;2;0;0;0m\u001b[38;2;255;255;255mcontext_b.\n",
            "119 1.0 0.52055913 0.17311247 \u001b[48;2;0;0;0m\u001b[38;2;255;255;255m3.3 \u001b[48;2;9;0;0m\u001b[38;2;255;255;255mEvaluating \u001b[48;2;0;0;71m\u001b[38;2;255;255;255mContribution \u001b[48;2;21;0;0m\u001b[38;2;255;255;255mAfter \u001b[48;2;0;0;26m\u001b[38;2;255;255;255mgathering \u001b[48;2;2;0;0m\u001b[38;2;255;255;255mall \u001b[48;2;87;0;0m\u001b[38;2;255;255;255mneeded \u001b[48;2;0;0;0m\u001b[38;2;255;255;255mfactors, \u001b[48;2;190;0;0m\u001b[38;2;255;255;255mwe \u001b[48;2;102;0;0m\u001b[38;2;255;255;255mtrain \u001b[48;2;76;0;0m\u001b[38;2;255;255;255ma \u001b[48;2;113;0;0m\u001b[38;2;255;255;255mclassifier \u001b[48;2;60;0;0m\u001b[38;2;255;255;255mto \u001b[48;2;40;0;0m\u001b[38;2;255;255;255mcategorize \u001b[48;2;0;0;274m\u001b[38;2;255;255;255mcitation \u001b[48;2;0;0;293m\u001b[38;2;255;255;255minto \u001b[48;2;30;0;0m\u001b[38;2;255;255;255m4 \u001b[48;2;0;0;0m\u001b[38;2;255;255;255mclasses: \u001b[48;2;0;0;68m\u001b[38;2;255;255;255mvery \u001b[48;2;0;0;0m\u001b[38;2;255;255;255mimportant, \u001b[48;2;0;0;0m\u001b[38;2;255;255;255mimportant, \u001b[48;2;0;0;0m\u001b[38;2;255;255;255mneutral, \u001b[48;2;0;0;92m\u001b[38;2;255;255;255mand \u001b[48;2;0;0;0m\u001b[38;2;255;255;255mterrible.\n",
            "120 0.0 0.7203516 0.09003112 \u001b[48;2;175;0;0m\u001b[38;2;255;255;255mAnd \u001b[48;2;166;0;0m\u001b[38;2;255;255;255mwe \u001b[48;2;33;0;0m\u001b[38;2;255;255;255malso \u001b[48;2;112;0;0m\u001b[38;2;255;255;255mtrain \u001b[48;2;0;0;11m\u001b[38;2;255;255;255ma \u001b[48;2;201;0;0m\u001b[38;2;255;255;255mranking \u001b[48;2;105;0;0m\u001b[38;2;255;255;255mmodel \u001b[48;2;11;0;0m\u001b[38;2;255;255;255mto \u001b[48;2;101;0;0m\u001b[38;2;255;255;255mpredict \u001b[48;2;0;0;52m\u001b[38;2;255;255;255mthe \u001b[48;2;62;0;0m\u001b[38;2;255;255;255mrelated \u001b[48;2;0;0;44m\u001b[38;2;255;255;255morder \u001b[48;2;0;0;215m\u001b[38;2;255;255;255mof \u001b[48;2;134;0;0m\u001b[38;2;255;255;255mreferences \u001b[48;2;0;0;199m\u001b[38;2;255;255;255min \u001b[48;2;0;0;52m\u001b[38;2;255;255;255mterms \u001b[48;2;0;0;215m\u001b[38;2;255;255;255mof \u001b[48;2;0;0;96m\u001b[38;2;255;255;255mtheir \u001b[48;2;0;0;59m\u001b[38;2;255;255;255mcontributions \u001b[48;2;11;0;0m\u001b[38;2;255;255;255mto \u001b[48;2;0;0;52m\u001b[38;2;255;255;255mthe \u001b[48;2;0;0;0m\u001b[38;2;255;255;255mpaper.\n",
            "121 0.0 0.8968546 0.03114404 \u001b[48;2;0;0;0m\u001b[38;2;255;255;255mFirst, \u001b[48;2;1;0;0m\u001b[38;2;255;255;255mwe \u001b[48;2;0;0;78m\u001b[38;2;255;255;255mclassify \u001b[48;2;0;0;115m\u001b[38;2;255;255;255mcitations \u001b[48;2;0;0;63m\u001b[38;2;255;255;255minto \u001b[48;2;32;0;0m\u001b[38;2;255;255;255mfour \u001b[48;2;25;0;0m\u001b[38;2;255;255;255mcategories \u001b[48;2;0;0;187m\u001b[38;2;255;255;255mwith \u001b[48;2;0;0;162m\u001b[38;2;255;255;255ma \u001b[48;2;104;0;0m\u001b[38;2;255;255;255mNaive \u001b[48;2;341;0;0m\u001b[38;2;255;255;255mBayesian \u001b[48;2;0;0;0m\u001b[38;2;255;255;255mclassifier.\n",
            "122 1.0 0.7532405 0.24567436 \u001b[48;2;14;0;0m\u001b[38;2;255;255;255mThe \u001b[48;2;12;0;0m\u001b[38;2;255;255;255mclassifying \u001b[48;2;79;0;0m\u001b[38;2;255;255;255mstandards \u001b[48;2;0;0;188m\u001b[38;2;255;255;255mare \u001b[48;2;60;0;0m\u001b[38;2;255;255;255mshown \u001b[48;2;0;0;112m\u001b[38;2;255;255;255min \u001b[48;2;68;0;0m\u001b[38;2;255;255;255mTable \u001b[48;2;0;0;0m\u001b[38;2;255;255;255m2, \u001b[48;2;48;0;0m\u001b[38;2;255;255;255mand \u001b[48;2;39;0;0m\u001b[38;2;255;255;255ma \u001b[48;2;273;0;0m\u001b[38;2;255;255;255mlarger \u001b[48;2;0;0;64m\u001b[38;2;255;255;255mnumber \u001b[48;2;0;0;207m\u001b[38;2;255;255;255mof \u001b[48;2;0;0;62m\u001b[38;2;255;255;255mlabels \u001b[48;2;20;0;0m\u001b[38;2;255;255;255mrepresents \u001b[48;2;174;0;0m\u001b[38;2;255;255;255mmore \u001b[48;2;0;0;0m\u001b[38;2;255;255;255mcontributions.\n",
            "123 0.0 0.6668432 0.108056456 \u001b[48;2;81;0;0m\u001b[38;2;255;255;255mthe \u001b[48;2;216;0;0m\u001b[38;2;255;255;255mranking \u001b[48;2;0;0;66m\u001b[38;2;255;255;255mmodel \u001b[48;2;0;0;12m\u001b[38;2;255;255;255mis \u001b[48;2;217;0;0m\u001b[38;2;255;255;255mbased \u001b[48;2;0;0;96m\u001b[38;2;255;255;255mon \u001b[48;2;0;0;0m\u001b[38;2;255;255;255mLambdaMART, \u001b[48;2;0;0;147m\u001b[38;2;255;255;255mwhich \u001b[48;2;0;0;12m\u001b[38;2;255;255;255mis \u001b[48;2;81;0;0m\u001b[38;2;255;255;255mthe \u001b[48;2;10;0;0m\u001b[38;2;255;255;255mboosted \u001b[48;2;228;0;0m\u001b[38;2;255;255;255mtree \u001b[48;2;39;0;0m\u001b[38;2;255;255;255mversion \u001b[48;2;0;0;216m\u001b[38;2;255;255;255mof \u001b[48;2;0;0;0m\u001b[38;2;255;255;255mLambdaRank[5].\n",
            "124 0.0 0.58056176 0.12549528 \u001b[48;2;49;0;0m\u001b[38;2;255;255;255mThis \u001b[48;2;0;0;26m\u001b[38;2;255;255;255malgorithm \u001b[48;2;275;0;0m\u001b[38;2;255;255;255msolves \u001b[48;2;28;0;0m\u001b[38;2;255;255;255mthe \u001b[48;2;32;0;0m\u001b[38;2;255;255;255mgradients \u001b[48;2;0;0;250m\u001b[38;2;255;255;255mof \u001b[48;2;0;0;0m\u001b[38;2;255;255;255mnon-smooth \u001b[48;2;103;0;0m\u001b[38;2;255;255;255mcost \u001b[48;2;11;0;0m\u001b[38;2;255;255;255mfunctions \u001b[48;2;0;0;136m\u001b[38;2;255;255;255mused \u001b[48;2;0;0;174m\u001b[38;2;255;255;255min \u001b[48;2;243;0;0m\u001b[38;2;255;255;255mranking \u001b[48;2;0;0;0m\u001b[38;2;255;255;255mmodels.\n",
            "125 0.0 0.82658285 0.051018078 \u001b[48;2;0;0;22m\u001b[38;2;255;255;255mBurges \u001b[48;2;0;0;199m\u001b[38;2;255;255;255met \u001b[48;2;0;0;0m\u001b[38;2;255;255;255mal. \u001b[48;2;0;0;0m\u001b[38;2;255;255;255m[4] \u001b[48;2;0;0;21m\u001b[38;2;255;255;255mgive \u001b[48;2;6;0;0m\u001b[38;2;255;255;255ma \u001b[48;2;50;0;0m\u001b[38;2;255;255;255mreview \u001b[48;2;0;0;32m\u001b[38;2;255;255;255mon \u001b[48;2;0;0;0m\u001b[38;2;255;255;255mRankNet, \u001b[48;2;0;0;0m\u001b[38;2;255;255;255mLambdaRank, \u001b[48;2;0;0;74m\u001b[38;2;255;255;255mand \u001b[48;2;0;0;0m\u001b[38;2;255;255;255mLamb- \u001b[48;2;0;0;0m\u001b[38;2;255;255;255mdaMART.\n",
            "126 1.0 0.6297834 0.19668037 \u001b[48;2;231;0;0m\u001b[38;2;255;255;255mBased \u001b[48;2;0;0;100m\u001b[38;2;255;255;255mon \u001b[48;2;0;0;220m\u001b[38;2;255;255;255mthe \u001b[48;2;0;0;74m\u001b[38;2;255;255;255mclasses \u001b[48;2;0;0;70m\u001b[38;2;255;255;255mand \u001b[48;2;0;0;26m\u001b[38;2;255;255;255morder \u001b[48;2;0;0;270m\u001b[38;2;255;255;255mof \u001b[48;2;0;0;0m\u001b[38;2;255;255;255mreferences, \u001b[48;2;159;0;0m\u001b[38;2;255;255;255mwe \u001b[48;2;0;0;37m\u001b[38;2;255;255;255mproject \u001b[48;2;79;0;0m\u001b[38;2;255;255;255mthem \u001b[48;2;0;0;54m\u001b[38;2;255;255;255minto \u001b[48;2;0;0;0m\u001b[38;2;255;255;255m[0, \u001b[48;2;0;0;0m\u001b[38;2;255;255;255m1] \u001b[48;2;12;0;0m\u001b[38;2;255;255;255mto \u001b[48;2;175;0;0m\u001b[38;2;255;255;255mget \u001b[48;2;96;0;0m\u001b[38;2;255;255;255mtheir \u001b[48;2;34;0;0m\u001b[38;2;255;255;255minfluential \u001b[48;2;0;0;0m\u001b[38;2;255;255;255mfactors.\n",
            "127 0.0 0.9257649 0.024416639 \u001b[48;2;0;0;0m\u001b[38;2;255;255;255mPhocus: \u001b[48;2;0;0;74m\u001b[38;2;255;255;255mPicking \u001b[48;2;14;0;0m\u001b[38;2;255;255;255mValuable \u001b[48;2;114;0;0m\u001b[38;2;255;255;255mResearch \u001b[48;2;0;0;33m\u001b[38;2;255;255;255mfrom \u001b[48;2;0;0;8m\u001b[38;2;255;255;255ma \u001b[48;2;109;0;0m\u001b[38;2;255;255;255mSea \u001b[48;2;0;0;75m\u001b[38;2;255;255;255mof \u001b[48;2;0;0;34m\u001b[38;2;255;255;255mCitations \u001b[48;2;0;0;0m\u001b[38;2;255;255;255m, \u001b[48;2;0;0;0m\u001b[38;2;255;255;255m, \u001b[48;2;0;0;0m\u001b[38;2;255;255;255m3.4 \u001b[48;2;312;0;0m\u001b[38;2;255;255;255mPropagating \u001b[48;2;0;0;73m\u001b[38;2;255;255;255minfluential \u001b[48;2;193;0;0m\u001b[38;2;255;255;255mfactors \u001b[48;2;250;0;0m\u001b[38;2;255;255;255mGiven \u001b[48;2;0;0;8m\u001b[38;2;255;255;255ma \u001b[48;2;124;0;0m\u001b[38;2;255;255;255mlist \u001b[48;2;0;0;75m\u001b[38;2;255;255;255mof \u001b[48;2;0;0;64m\u001b[38;2;255;255;255mreferences \u001b[48;2;75;0;0m\u001b[38;2;255;255;255mand \u001b[48;2;0;0;168m\u001b[38;2;255;255;255mtheir \u001b[48;2;0;0;73m\u001b[38;2;255;255;255minfluential \u001b[48;2;193;0;0m\u001b[38;2;255;255;255mfactors \u001b[48;2;0;0;75m\u001b[38;2;255;255;255mof \u001b[48;2;45;0;0m\u001b[38;2;255;255;255mthe \u001b[48;2;0;0;127m\u001b[38;2;255;255;255mciting \u001b[48;2;0;0;0m\u001b[38;2;255;255;255mpaper, \u001b[48;2;93;0;0m\u001b[38;2;255;255;255mwe \u001b[48;2;0;0;48m\u001b[38;2;255;255;255mdesign \u001b[48;2;0;0;0m\u001b[38;2;255;255;255msome \u001b[48;2;0;0;19m\u001b[38;2;255;255;255mrules \u001b[48;2;0;0;103m\u001b[38;2;255;255;255mto \u001b[48;2;0;0;106m\u001b[38;2;255;255;255mpropagate \u001b[48;2;0;0;168m\u001b[38;2;255;255;255mtheir \u001b[48;2;0;0;0m\u001b[38;2;255;255;255minfluence.\n",
            "128 1.0 0.90754825 0.29929963 \u001b[48;2;0;0;85m\u001b[38;2;255;255;255mThe \u001b[48;2;112;0;0m\u001b[38;2;255;255;255mmain \u001b[48;2;0;0;55m\u001b[38;2;255;255;255midea \u001b[48;2;0;0;84m\u001b[38;2;255;255;255mis \u001b[48;2;181;0;0m\u001b[38;2;255;255;255mshown \u001b[48;2;0;0;125m\u001b[38;2;255;255;255min \u001b[48;2;186;0;0m\u001b[38;2;255;255;255mFigure \u001b[48;2;0;0;0m\u001b[38;2;255;255;255m3.\n",
            "129 0.0 0.94013697 0.019359842 \u001b[48;2;0;0;0m\u001b[38;2;255;255;255m𝐴 \u001b[48;2;24;0;0m\u001b[38;2;255;255;255mdenote \u001b[48;2;0;0;53m\u001b[38;2;255;255;255ma \u001b[48;2;0;0;181m\u001b[38;2;255;255;255mciting \u001b[48;2;0;0;47m\u001b[38;2;255;255;255mpaper \u001b[48;2;0;0;298m\u001b[38;2;255;255;255mwith \u001b[48;2;197;0;0m\u001b[38;2;255;255;255macademic \u001b[48;2;147;0;0m\u001b[38;2;255;255;255minfluential \u001b[48;2;141;0;0m\u001b[38;2;255;255;255mfactor \u001b[48;2;0;0;0m\u001b[38;2;255;255;255m𝐴𝐹𝐴 \u001b[48;2;319;0;0m\u001b[38;2;255;255;255minitialized \u001b[48;2;108;0;0m\u001b[38;2;255;255;255mas \u001b[48;2;0;0;0m\u001b[38;2;255;255;255m1, \u001b[48;2;58;0;0m\u001b[38;2;255;255;255mset \u001b[48;2;0;0;0m\u001b[38;2;255;255;255m𝑅𝐴, \u001b[48;2;0;0;0m\u001b[38;2;255;255;255m𝐼 \u001b[48;2;0;0;0m\u001b[38;2;255;255;255m𝐹 \u001b[48;2;0;0;0m\u001b[38;2;255;255;255m𝑙 \u001b[48;2;0;0;0m\u001b[38;2;255;255;255m𝐴 \u001b[48;2;24;0;0m\u001b[38;2;255;255;255mdenote \u001b[48;2;0;0;308m\u001b[38;2;255;255;255mall \u001b[48;2;27;0;0m\u001b[38;2;255;255;255mreferences \u001b[48;2;31;0;0m\u001b[38;2;255;255;255mof \u001b[48;2;0;0;0m\u001b[38;2;255;255;255m𝐴, \u001b[48;2;0;0;93m\u001b[38;2;255;255;255mand \u001b[48;2;79;0;0m\u001b[38;2;255;255;255mtheir \u001b[48;2;0;0;129m\u001b[38;2;255;255;255mcorresponding \u001b[48;2;0;0;88m\u001b[38;2;255;255;255mlocal \u001b[48;2;193;0;0m\u001b[38;2;255;255;255mcontribution \u001b[48;2;159;0;0m\u001b[38;2;255;255;255mto \u001b[48;2;0;0;0m\u001b[38;2;255;255;255m𝐴, \u001b[48;2;0;0;93m\u001b[38;2;255;255;255mand \u001b[48;2;0;0;0m\u001b[38;2;255;255;255m𝐼 \u001b[48;2;0;0;0m\u001b[38;2;255;255;255m𝐹 \u001b[48;2;0;0;0m\u001b[38;2;255;255;255m𝑙 \u001b[48;2;0;0;0m\u001b[38;2;255;255;255m𝐴𝑖 \u001b[48;2;0;0;0m\u001b[38;2;255;255;255m∈ \u001b[48;2;0;0;0m\u001b[38;2;255;255;255m[−1, \u001b[48;2;0;0;0m\u001b[38;2;255;255;255m1] \u001b[48;2;111;0;0m\u001b[38;2;255;255;255mis \u001b[48;2;188;0;0m\u001b[38;2;255;255;255mthe \u001b[48;2;0;0;88m\u001b[38;2;255;255;255mlocal \u001b[48;2;193;0;0m\u001b[38;2;255;255;255mcontribution \u001b[48;2;31;0;0m\u001b[38;2;255;255;255mof \u001b[48;2;0;0;380m\u001b[38;2;255;255;255mreference \u001b[48;2;131;0;0m\u001b[38;2;255;255;255mi \u001b[48;2;159;0;0m\u001b[38;2;255;255;255mto \u001b[48;2;0;0;0m\u001b[38;2;255;255;255m𝐴. \u001b[48;2;0;0;0m\u001b[38;2;255;255;255m𝐶𝐴 \u001b[48;2;111;0;0m\u001b[38;2;255;255;255mis \u001b[48;2;188;0;0m\u001b[38;2;255;255;255mthe \u001b[48;2;58;0;0m\u001b[38;2;255;255;255mset \u001b[48;2;31;0;0m\u001b[38;2;255;255;255mof \u001b[48;2;0;0;308m\u001b[38;2;255;255;255mall \u001b[48;2;72;0;0m\u001b[38;2;255;255;255mpapers \u001b[48;2;0;0;158m\u001b[38;2;255;255;255mthat \u001b[48;2;0;0;242m\u001b[38;2;255;255;255mcite \u001b[48;2;0;0;0m\u001b[38;2;255;255;255m𝐴, \u001b[48;2;0;0;93m\u001b[38;2;255;255;255mand \u001b[48;2;0;0;102m\u001b[38;2;255;255;255mfor \u001b[48;2;0;0;0m\u001b[38;2;255;255;255m𝑗 \u001b[48;2;0;0;0m\u001b[38;2;255;255;255m∈ \u001b[48;2;0;0;0m\u001b[38;2;255;255;255m𝐶𝐴, \u001b[48;2;0;0;0m\u001b[38;2;255;255;255m𝐼 \u001b[48;2;0;0;0m\u001b[38;2;255;255;255m𝐹 \u001b[48;2;0;0;0m\u001b[38;2;255;255;255m𝑙 \u001b[48;2;0;0;0m\u001b[38;2;255;255;255m𝑗𝐴 \u001b[48;2;0;0;0m\u001b[38;2;255;255;255m∈ \u001b[48;2;0;0;0m\u001b[38;2;255;255;255m[−1, \u001b[48;2;0;0;0m\u001b[38;2;255;255;255m1] \u001b[48;2;111;0;0m\u001b[38;2;255;255;255mis \u001b[48;2;0;0;0m\u001b[38;2;255;255;255mA’s \u001b[48;2;0;0;88m\u001b[38;2;255;255;255mlocal \u001b[48;2;193;0;0m\u001b[38;2;255;255;255mcontribution \u001b[48;2;159;0;0m\u001b[38;2;255;255;255mto \u001b[48;2;0;0;0m\u001b[38;2;255;255;255m𝑗.\n",
            "130 0.0 0.5339481 0.15440084 \u001b[48;2;0;0;0m\u001b[38;2;255;255;255mThen, \u001b[48;2;66;0;0m\u001b[38;2;255;255;255mthe \u001b[48;2;47;0;0m\u001b[38;2;255;255;255macademic \u001b[48;2;138;0;0m\u001b[38;2;255;255;255minfluential \u001b[48;2;60;0;0m\u001b[38;2;255;255;255mfactor \u001b[48;2;0;0;1m\u001b[38;2;255;255;255mof \u001b[48;2;0;0;0m\u001b[38;2;255;255;255m𝐴 \u001b[48;2;0;0;0m\u001b[38;2;255;255;255mis: \u001b[48;2;0;0;0m\u001b[38;2;255;255;255m𝐴𝐹𝐴 \u001b[48;2;0;0;0m\u001b[38;2;255;255;255m= \u001b[48;2;0;0;0m\u001b[38;2;255;255;255m∑︁ \u001b[48;2;0;0;0m\u001b[38;2;255;255;255m𝐴𝐹 \u001b[48;2;0;0;0m\u001b[38;2;255;255;255m𝑗 \u001b[48;2;0;0;0m\u001b[38;2;255;255;255m𝐼 \u001b[48;2;0;0;0m\u001b[38;2;255;255;255m𝐹 \u001b[48;2;0;0;0m\u001b[38;2;255;255;255m𝑙 \u001b[48;2;0;0;0m\u001b[38;2;255;255;255m𝑗𝐴 \u001b[48;2;0;0;0m\u001b[38;2;255;255;255m(2) \u001b[48;2;0;0;0m\u001b[38;2;255;255;255m𝑗 \u001b[48;2;0;0;0m\u001b[38;2;255;255;255m∈𝐶𝐴 \u001b[48;2;58;0;0m\u001b[38;2;255;255;255mFor \u001b[48;2;0;0;88m\u001b[38;2;255;255;255mauthor \u001b[48;2;0;0;0m\u001b[38;2;255;255;255m𝑎 \u001b[48;2;0;0;16m\u001b[38;2;255;255;255mwho \u001b[48;2;137;0;0m\u001b[38;2;255;255;255mpublishes \u001b[48;2;0;0;45m\u001b[38;2;255;255;255ma \u001b[48;2;0;0;100m\u001b[38;2;255;255;255mset \u001b[48;2;0;0;1m\u001b[38;2;255;255;255mof \u001b[48;2;0;0;253m\u001b[38;2;255;255;255mpapers \u001b[48;2;0;0;0m\u001b[38;2;255;255;255m𝑃𝑎, \u001b[48;2;92;0;0m\u001b[38;2;255;255;255mand \u001b[48;2;0;0;154m\u001b[38;2;255;255;255mhis \u001b[48;2;0;0;109m\u001b[38;2;255;255;255mcontribution \u001b[48;2;0;0;60m\u001b[38;2;255;255;255mto \u001b[48;2;0;0;102m\u001b[38;2;255;255;255mpaper \u001b[48;2;0;0;0m\u001b[38;2;255;255;255m𝑖 \u001b[48;2;0;0;0m\u001b[38;2;255;255;255m∈ \u001b[48;2;0;0;0m\u001b[38;2;255;255;255m𝑃𝑎 \u001b[48;2;94;0;0m\u001b[38;2;255;255;255mis \u001b[48;2;0;0;0m\u001b[38;2;255;255;255m𝐶𝑖𝑎 \u001b[48;2;0;0;0m\u001b[38;2;255;255;255m∈ \u001b[48;2;0;0;0m\u001b[38;2;255;255;255m[0, \u001b[48;2;0;0;0m\u001b[38;2;255;255;255m1], \u001b[48;2;0;0;154m\u001b[38;2;255;255;255mhis \u001b[48;2;47;0;0m\u001b[38;2;255;255;255macademic \u001b[48;2;138;0;0m\u001b[38;2;255;255;255minfluential \u001b[48;2;60;0;0m\u001b[38;2;255;255;255mfactor \u001b[48;2;0;0;0m\u001b[38;2;255;255;255mis: \u001b[48;2;0;0;0m\u001b[38;2;255;255;255m∑︁ \u001b[48;2;0;0;0m\u001b[38;2;255;255;255m𝐴𝐹𝑎 \u001b[48;2;0;0;0m\u001b[38;2;255;255;255m= \u001b[48;2;0;0;0m\u001b[38;2;255;255;255m𝐶𝑖𝑎𝐴𝐹𝑖 \u001b[48;2;0;0;0m\u001b[38;2;255;255;255m(3) \u001b[48;2;0;0;0m\u001b[38;2;255;255;255m𝑖 \u001b[48;2;0;0;0m\u001b[38;2;255;255;255m∈𝑃𝑎 \u001b[48;2;58;0;0m\u001b[38;2;255;255;255mFor \u001b[48;2;0;0;102m\u001b[38;2;255;255;255mpaper \u001b[48;2;0;0;0m\u001b[38;2;255;255;255m𝐴, \u001b[48;2;92;0;0m\u001b[38;2;255;255;255mand \u001b[48;2;0;0;63m\u001b[38;2;255;255;255mits \u001b[48;2;0;0;0m\u001b[38;2;255;255;255m𝑁 \u001b[48;2;0;0;0m\u001b[38;2;255;255;255mauthors, \u001b[48;2;0;0;0m\u001b[38;2;255;255;255m(cid:205)𝑁 \u001b[48;2;0;0;0m\u001b[38;2;255;255;255m𝑖 \u001b[48;2;0;0;0m\u001b[38;2;255;255;255m𝐶𝐴𝑖 \u001b[48;2;0;0;0m\u001b[38;2;255;255;255m≡ \u001b[48;2;0;0;0m\u001b[38;2;255;255;255m1.\n",
            "131 0.0 0.34963197 -0.008152504 \u001b[48;2;0;0;119m\u001b[38;2;255;255;255mThere \u001b[48;2;0;0;159m\u001b[38;2;255;255;255mare \u001b[48;2;0;0;108m\u001b[38;2;255;255;255mtwo \u001b[48;2;5;0;0m\u001b[38;2;255;255;255mproblems \u001b[48;2;43;0;0m\u001b[38;2;255;255;255mto \u001b[48;2;92;0;0m\u001b[38;2;255;255;255mprove \u001b[48;2;43;0;0m\u001b[38;2;255;255;255mto \u001b[48;2;78;0;0m\u001b[38;2;255;255;255mensure \u001b[48;2;0;0;161m\u001b[38;2;255;255;255mthat \u001b[48;2;39;0;0m\u001b[38;2;255;255;255mour \u001b[48;2;79;0;0m\u001b[38;2;255;255;255mmethod \u001b[48;2;0;0;151m\u001b[38;2;255;255;255mis \u001b[48;2;0;0;0m\u001b[38;2;255;255;255mlogical.\n",
            "132 1.0 0.73355097 0.23774679 \u001b[48;2;83;0;0m\u001b[38;2;255;255;255mThe \u001b[48;2;212;0;0m\u001b[38;2;255;255;255mfirst \u001b[48;2;0;0;66m\u001b[38;2;255;255;255mone \u001b[48;2;0;0;14m\u001b[38;2;255;255;255mis \u001b[48;2;0;0;201m\u001b[38;2;255;255;255mmargin \u001b[48;2;0;0;0m\u001b[38;2;255;255;255meffects.\n",
            "133 0.0 0.83398104 0.044989437 \u001b[48;2;213;0;0m\u001b[38;2;255;255;255mAnd \u001b[48;2;0;0;105m\u001b[38;2;255;255;255mthe \u001b[48;2;39;0;0m\u001b[38;2;255;255;255msecond \u001b[48;2;0;0;202m\u001b[38;2;255;255;255mone \u001b[48;2;0;0;105m\u001b[38;2;255;255;255mthe \u001b[48;2;101;0;0m\u001b[38;2;255;255;255mpropagation \u001b[48;2;0;0;0m\u001b[38;2;255;255;255mrules.\n",
            "134 0.0 0.8181945 0.0582661 \u001b[48;2;0;0;110m\u001b[38;2;255;255;255m4 \u001b[48;2;0;0;108m\u001b[38;2;255;255;255mexperiments \u001b[48;2;64;0;0m\u001b[38;2;255;255;255mWe \u001b[48;2;0;0;283m\u001b[38;2;255;255;255mconduct \u001b[48;2;0;0;73m\u001b[38;2;255;255;255mseveral \u001b[48;2;0;0;108m\u001b[38;2;255;255;255mexperiments \u001b[48;2;0;0;150m\u001b[38;2;255;255;255mto \u001b[48;2;30;0;0m\u001b[38;2;255;255;255mdemonstrate \u001b[48;2;41;0;0m\u001b[38;2;255;255;255mour \u001b[48;2;156;0;0m\u001b[38;2;255;255;255mnew \u001b[48;2;0;0;105m\u001b[38;2;255;255;255mmetrics \u001b[48;2;0;0;260m\u001b[38;2;255;255;255mthat \u001b[48;2;158;0;0m\u001b[38;2;255;255;255mmeasure \u001b[48;2;0;0;11m\u001b[38;2;255;255;255mthe \u001b[48;2;172;0;0m\u001b[38;2;255;255;255minfluential \u001b[48;2;265;0;0m\u001b[38;2;255;255;255mfactors \u001b[48;2;0;0;69m\u001b[38;2;255;255;255mof \u001b[48;2;0;0;31m\u001b[38;2;255;255;255man \u001b[48;2;158;0;0m\u001b[38;2;255;255;255mindividual \u001b[48;2;72;0;0m\u001b[38;2;255;255;255mscientist \u001b[48;2;16;0;0m\u001b[38;2;255;255;255mor \u001b[48;2;98;0;0m\u001b[38;2;255;255;255mscholar \u001b[48;2;99;0;0m\u001b[38;2;255;255;255mand \u001b[48;2;0;0;11m\u001b[38;2;255;255;255mthe \u001b[48;2;26;0;0m\u001b[38;2;255;255;255mcitation \u001b[48;2;73;0;0m\u001b[38;2;255;255;255mimpact \u001b[48;2;0;0;69m\u001b[38;2;255;255;255mof \u001b[48;2;0;0;11m\u001b[38;2;255;255;255mthe \u001b[48;2;0;0;0m\u001b[38;2;255;255;255mpublications.\n",
            "135 0.0 0.597833 0.13233642 \u001b[48;2;23;0;0m\u001b[38;2;255;255;255mAs \u001b[48;2;0;0;3m\u001b[38;2;255;255;255mthe \u001b[48;2;141;0;0m\u001b[38;2;255;255;255minfluential \u001b[48;2;231;0;0m\u001b[38;2;255;255;255mfactor \u001b[48;2;0;0;252m\u001b[38;2;255;255;255mof \u001b[48;2;0;0;81m\u001b[38;2;255;255;255ma \u001b[48;2;38;0;0m\u001b[38;2;255;255;255mpaper \u001b[48;2;6;0;0m\u001b[38;2;255;255;255mis \u001b[48;2;0;0;3m\u001b[38;2;255;255;255mthe \u001b[48;2;345;0;0m\u001b[38;2;255;255;255mweighted \u001b[48;2;92;0;0m\u001b[38;2;255;255;255msum \u001b[48;2;0;0;252m\u001b[38;2;255;255;255mof \u001b[48;2;79;0;0m\u001b[38;2;255;255;255mall \u001b[48;2;23;0;0m\u001b[38;2;255;255;255mpapers \u001b[48;2;0;0;43m\u001b[38;2;255;255;255mthat \u001b[48;2;4;0;0m\u001b[38;2;255;255;255mcite \u001b[48;2;0;0;68m\u001b[38;2;255;255;255mit \u001b[48;2;0;0;56m\u001b[38;2;255;255;255mand \u001b[48;2;0;0;185m\u001b[38;2;255;255;255mits \u001b[48;2;0;0;58m\u001b[38;2;255;255;255mcorresponding \u001b[48;2;0;0;78m\u001b[38;2;255;255;255mcontribution \u001b[48;2;0;0;64m\u001b[38;2;255;255;255mto \u001b[48;2;0;0;0m\u001b[38;2;255;255;255mthem, \u001b[48;2;0;0;3m\u001b[38;2;255;255;255mthe \u001b[48;2;206;0;0m\u001b[38;2;255;255;255mfinal \u001b[48;2;0;0;56m\u001b[38;2;255;255;255mand \u001b[48;2;0;0;161m\u001b[38;2;255;255;255mfull \u001b[48;2;0;0;36m\u001b[38;2;255;255;255mnetwork \u001b[48;2;0;0;252m\u001b[38;2;255;255;255mof \u001b[48;2;38;0;0m\u001b[38;2;255;255;255mpaper \u001b[48;2;0;0;56m\u001b[38;2;255;255;255mand \u001b[48;2;0;0;36m\u001b[38;2;255;255;255mnetwork \u001b[48;2;67;0;0m\u001b[38;2;255;255;255mshould \u001b[48;2;0;0;174m\u001b[38;2;255;255;255mbe \u001b[48;2;0;0;0m\u001b[38;2;255;255;255mconstructed.\n",
            "136 -1.0 0.91709363 -0.29669717 \u001b[48;2;0;0;0m\u001b[38;2;255;255;255mHowever, \u001b[48;2;86;0;0m\u001b[38;2;255;255;255mwe \u001b[48;2;106;0;0m\u001b[38;2;255;255;255mcannot \u001b[48;2;0;0;245m\u001b[38;2;255;255;255mcomplete \u001b[48;2;0;0;74m\u001b[38;2;255;255;255mthis \u001b[48;2;0;0;27m\u001b[38;2;255;255;255mjob \u001b[48;2;90;0;0m\u001b[38;2;255;255;255myet \u001b[48;2;0;0;20m\u001b[38;2;255;255;255mout \u001b[48;2;0;0;207m\u001b[38;2;255;255;255mof \u001b[48;2;64;0;0m\u001b[38;2;255;255;255mno \u001b[48;2;0;0;114m\u001b[38;2;255;255;255maccess \u001b[48;2;0;0;116m\u001b[38;2;255;255;255mto \u001b[48;2;0;0;49m\u001b[38;2;255;255;255msome \u001b[48;2;0;0;0m\u001b[38;2;255;255;255mdatabases, \u001b[48;2;215;0;0m\u001b[38;2;255;255;255mnot \u001b[48;2;0;0;156m\u001b[38;2;255;255;255menough \u001b[48;2;12;0;0m\u001b[38;2;255;255;255mtime \u001b[48;2;185;0;0m\u001b[38;2;255;255;255mor \u001b[48;2;31;0;0m\u001b[38;2;255;255;255mcomputational \u001b[48;2;0;0;0m\u001b[38;2;255;255;255mresources.\n",
            "137 0.0 0.77324516 0.06673339 \u001b[48;2;263;0;0m\u001b[38;2;255;255;255mWe \u001b[48;2;209;0;0m\u001b[38;2;255;255;255mwill \u001b[48;2;117;0;0m\u001b[38;2;255;255;255mselect \u001b[48;2;3;0;0m\u001b[38;2;255;255;255msome \u001b[48;2;85;0;0m\u001b[38;2;255;255;255mscholars \u001b[48;2;0;0;133m\u001b[38;2;255;255;255mand \u001b[48;2;0;0;132m\u001b[38;2;255;255;255mtheir \u001b[48;2;24;0;0m\u001b[38;2;255;255;255mpublications \u001b[48;2;0;0;60m\u001b[38;2;255;255;255mas \u001b[48;2;0;0;0m\u001b[38;2;255;255;255mtargets, \u001b[48;2;0;0;133m\u001b[38;2;255;255;255mand \u001b[48;2;0;0;205m\u001b[38;2;255;255;255mutilize \u001b[48;2;158;0;0m\u001b[38;2;255;255;255mprimary \u001b[48;2;0;0;94m\u001b[38;2;255;255;255mcitation \u001b[48;2;0;0;133m\u001b[38;2;255;255;255mand \u001b[48;2;0;0;13m\u001b[38;2;255;255;255msecondary \u001b[48;2;0;0;94m\u001b[38;2;255;255;255mcitation \u001b[48;2;0;0;0m\u001b[38;2;255;255;255mrelationships.\n",
            "138 1.0 0.9159192 0.30393574 \u001b[48;2;0;0;0m\u001b[38;2;255;255;255mBesides, \u001b[48;2;148;0;0m\u001b[38;2;255;255;255mwe \u001b[48;2;80;0;0m\u001b[38;2;255;255;255malso \u001b[48;2;0;0;36m\u001b[38;2;255;255;255mcompare \u001b[48;2;41;0;0m\u001b[38;2;255;255;255mour \u001b[48;2;0;0;44m\u001b[38;2;255;255;255mmodules \u001b[48;2;0;0;156m\u001b[38;2;255;255;255mto \u001b[48;2;50;0;0m\u001b[38;2;255;255;255mother \u001b[48;2;0;0;0m\u001b[38;2;255;255;255mstate-of-art \u001b[48;2;0;0;245m\u001b[38;2;255;255;255malgorithms \u001b[48;2;0;0;156m\u001b[38;2;255;255;255mto \u001b[48;2;0;0;9m\u001b[38;2;255;255;255mshow \u001b[48;2;0;0;156m\u001b[38;2;255;255;255mthe \u001b[48;2;85;0;0m\u001b[38;2;255;255;255mimprovement \u001b[48;2;148;0;0m\u001b[38;2;255;255;255mwe \u001b[48;2;0;0;0m\u001b[38;2;255;255;255machieve.\n",
            "139 0.0 0.7198026 0.088017575 \u001b[48;2;0;0;0m\u001b[38;2;255;255;255m4.1 \u001b[48;2;112;0;0m\u001b[38;2;255;255;255mPeer \u001b[48;2;84;0;0m\u001b[38;2;255;255;255mComparison \u001b[48;2;0;0;5m\u001b[38;2;255;255;255mScholar \u001b[48;2;0;0;90m\u001b[38;2;255;255;255mand \u001b[48;2;0;0;243m\u001b[38;2;255;255;255mtheir \u001b[48;2;0;0;0m\u001b[38;2;255;255;255mpublications.\n",
            "140 0.0 0.7200868 0.07501191 \u001b[48;2;91;0;0m\u001b[38;2;255;255;255mLet \u001b[48;2;64;0;0m\u001b[38;2;255;255;255mScholar \u001b[48;2;183;0;0m\u001b[38;2;255;255;255mY \u001b[48;2;0;0;43m\u001b[38;2;255;255;255mdenote \u001b[48;2;0;0;94m\u001b[38;2;255;255;255msome \u001b[48;2;0;0;0m\u001b[38;2;255;255;255mscholar.\n",
            "141 1.0 0.7692116 0.22616486 \u001b[48;2;155;0;0m\u001b[38;2;255;255;255mWe \u001b[48;2;68;0;0m\u001b[38;2;255;255;255mwill \u001b[48;2;176;0;0m\u001b[38;2;255;255;255mshow \u001b[48;2;0;0;195m\u001b[38;2;255;255;255mthe \u001b[48;2;166;0;0m\u001b[38;2;255;255;255mdifference \u001b[48;2;0;0;10m\u001b[38;2;255;255;255mbetween \u001b[48;2;0;0;65m\u001b[38;2;255;255;255mScholar \u001b[48;2;25;0;0m\u001b[38;2;255;255;255mY \u001b[48;2;0;0;125m\u001b[38;2;255;255;255mand \u001b[48;2;0;0;195m\u001b[38;2;255;255;255mthe \u001b[48;2;105;0;0m\u001b[38;2;255;255;255mTuring \u001b[48;2;0;0;52m\u001b[38;2;255;255;255mAward \u001b[48;2;0;0;185m\u001b[38;2;255;255;255mwinner \u001b[48;2;0;0;0m\u001b[38;2;255;255;255mPat.\n",
            "142 0.0 0.6888446 0.022174248 \u001b[48;2;0;0;0m\u001b[38;2;255;255;255mHanrahan9.\n",
            "143 -1.0 0.43729177 -0.010896514 \u001b[48;2;123;0;0m\u001b[38;2;255;255;255mAs \u001b[48;2;0;0;205m\u001b[38;2;255;255;255mwe \u001b[48;2;0;0;0m\u001b[38;2;255;255;255memphasize, \u001b[48;2;0;0;0m\u001b[38;2;255;255;255mPat.\n",
            "144 1.0 0.69975436 0.15296678 \u001b[48;2;293;0;0m\u001b[38;2;255;255;255mHanrahan \u001b[48;2;0;0;177m\u001b[38;2;255;255;255mis \u001b[48;2;41;0;0m\u001b[38;2;255;255;255mmuch \u001b[48;2;86;0;0m\u001b[38;2;255;255;255mmore \u001b[48;2;48;0;0m\u001b[38;2;255;255;255minfluential \u001b[48;2;0;0;92m\u001b[38;2;255;255;255mthan \u001b[48;2;0;0;68m\u001b[38;2;255;255;255mscholar \u001b[48;2;9;0;0m\u001b[38;2;255;255;255mY \u001b[48;2;0;0;177m\u001b[38;2;255;255;255mis \u001b[48;2;273;0;0m\u001b[38;2;255;255;255mnot \u001b[48;2;172;0;0m\u001b[38;2;255;255;255monly \u001b[48;2;0;0;77m\u001b[38;2;255;255;255mfor \u001b[48;2;0;0;287m\u001b[38;2;255;255;255mthat \u001b[48;2;0;0;36m\u001b[38;2;255;255;255mhe \u001b[48;2;20;0;0m\u001b[38;2;255;255;255mwins \u001b[48;2;157;0;0m\u001b[38;2;255;255;255mTuring \u001b[48;2;0;0;0m\u001b[38;2;255;255;255mAward, \u001b[48;2;0;0;6m\u001b[38;2;255;255;255mbut \u001b[48;2;0;0;136m\u001b[38;2;255;255;255malso \u001b[48;2;0;0;177m\u001b[38;2;255;255;255mis \u001b[48;2;106;0;0m\u001b[38;2;255;255;255mbased \u001b[48;2;0;0;141m\u001b[38;2;255;255;255mon \u001b[48;2;84;0;0m\u001b[38;2;255;255;255msolid \u001b[48;2;35;0;0m\u001b[38;2;255;255;255mstatistics \u001b[48;2;0;0;265m\u001b[38;2;255;255;255mof \u001b[48;2;0;0;0m\u001b[38;2;255;255;255mcitations.\n",
            "145 0.0 0.6073557 0.102033414 \u001b[48;2;0;0;21m\u001b[38;2;255;255;255mFor \u001b[48;2;0;0;0m\u001b[38;2;255;255;255mexample, \u001b[48;2;0;0;0m\u001b[38;2;255;255;255mHe \u001b[48;2;0;0;122m\u001b[38;2;255;255;255met \u001b[48;2;0;0;0m\u001b[38;2;255;255;255mal. \u001b[48;2;0;0;0m\u001b[38;2;255;255;255m[16] \u001b[48;2;0;0;82m\u001b[38;2;255;255;255mtake \u001b[48;2;0;0;272m\u001b[38;2;255;255;255mone \u001b[48;2;49;0;0m\u001b[38;2;255;255;255mpaper \u001b[48;2;0;0;251m\u001b[38;2;255;255;255mof \u001b[48;2;116;0;0m\u001b[38;2;255;255;255mscholar \u001b[48;2;184;0;0m\u001b[38;2;255;255;255mY \u001b[48;2;0;0;49m\u001b[38;2;255;255;255mas \u001b[48;2;0;0;22m\u001b[38;2;255;255;255ma \u001b[48;2;0;0;0m\u001b[38;2;255;255;255mbase- \u001b[48;2;154;0;0m\u001b[38;2;255;255;255mline \u001b[48;2;0;0;120m\u001b[38;2;255;255;255mthat \u001b[48;2;0;0;142m\u001b[38;2;255;255;255mperforms \u001b[48;2;40;0;0m\u001b[38;2;255;255;255monly \u001b[48;2;0;0;23m\u001b[38;2;255;255;255mbetter \u001b[48;2;50;0;0m\u001b[38;2;255;255;255mthan \u001b[48;2;0;0;272m\u001b[38;2;255;255;255mone \u001b[48;2;0;0;32m\u001b[38;2;255;255;255mbaseline \u001b[48;2;0;0;79m\u001b[38;2;255;255;255mamong \u001b[48;2;0;0;0m\u001b[38;2;255;255;255meleven.\n",
            "146 0.0 0.50924885 0.15968305 \u001b[48;2;240;0;0m\u001b[38;2;255;255;255mTable \u001b[48;2;0;0;76m\u001b[38;2;255;255;255m4 \u001b[48;2;0;0;131m\u001b[38;2;255;255;255mshows \u001b[48;2;26;0;0m\u001b[38;2;255;255;255mevaluation \u001b[48;2;0;0;54m\u001b[38;2;255;255;255mresults \u001b[48;2;0;0;120m\u001b[38;2;255;255;255mof \u001b[48;2;237;0;0m\u001b[38;2;255;255;255mscholar \u001b[48;2;0;0;6m\u001b[38;2;255;255;255mY \u001b[48;2;0;0;48m\u001b[38;2;255;255;255mand \u001b[48;2;0;0;0m\u001b[38;2;255;255;255mPat.\n",
            "147 0.0 0.8334315 0.054445926 \u001b[48;2;537;0;0m\u001b[38;2;255;255;255mHanrahan \u001b[48;2;0;0;175m\u001b[38;2;255;255;255mon \u001b[48;2;0;0;0m\u001b[38;2;255;255;255mAminer10, \u001b[48;2;14;0;0m\u001b[38;2;255;255;255mGoogle \u001b[48;2;0;0;0m\u001b[38;2;255;255;255mScholar11, \u001b[48;2;0;0;89m\u001b[38;2;255;255;255mSemantic \u001b[48;2;0;0;100m\u001b[38;2;255;255;255mScholar12 \u001b[48;2;0;0;2m\u001b[38;2;255;255;255mand \u001b[48;2;0;0;0m\u001b[38;2;255;255;255mPhocus.\n",
            "148 0.0 0.68568426 0.0953731 \u001b[48;2;185;0;0m\u001b[38;2;255;255;255mTable \u001b[48;2;0;0;42m\u001b[38;2;255;255;255m3 \u001b[48;2;204;0;0m\u001b[38;2;255;255;255mlists \u001b[48;2;90;0;0m\u001b[38;2;255;255;255mthe \u001b[48;2;0;0;18m\u001b[38;2;255;255;255mnumber \u001b[48;2;0;0;216m\u001b[38;2;255;255;255mof \u001b[48;2;0;0;50m\u001b[38;2;255;255;255mpublications \u001b[48;2;0;0;12m\u001b[38;2;255;255;255mand \u001b[48;2;0;0;213m\u001b[38;2;255;255;255mcitations \u001b[48;2;0;0;216m\u001b[38;2;255;255;255mof \u001b[48;2;138;0;0m\u001b[38;2;255;255;255mscholar \u001b[48;2;29;0;0m\u001b[38;2;255;255;255mY \u001b[48;2;0;0;12m\u001b[38;2;255;255;255mand \u001b[48;2;0;0;0m\u001b[38;2;255;255;255mPat.\n",
            "149 0.0 0.6717929 0.06542124 \u001b[48;2;0;0;0m\u001b[38;2;255;255;255mHanrahan.\n",
            "150 1.0 0.79236186 0.21159537 \u001b[48;2;0;0;0m\u001b[38;2;255;255;255mIt’s \u001b[48;2;0;0;87m\u001b[38;2;255;255;255mobviously \u001b[48;2;0;0;269m\u001b[38;2;255;255;255mthat \u001b[48;2;0;0;135m\u001b[38;2;255;255;255mscholar \u001b[48;2;95;0;0m\u001b[38;2;255;255;255mY \u001b[48;2;0;0;30m\u001b[38;2;255;255;255mis \u001b[48;2;38;0;0m\u001b[38;2;255;255;255mmore \u001b[48;2;0;0;0m\u001b[38;2;255;255;255mproduc- \u001b[48;2;303;0;0m\u001b[38;2;255;255;255mtive \u001b[48;2;0;0;107m\u001b[38;2;255;255;255mthan \u001b[48;2;0;0;0m\u001b[38;2;255;255;255mPat.\n",
            "151 0.0 0.6717929 0.06542124 \u001b[48;2;0;0;0m\u001b[38;2;255;255;255mHanrahan.\n",
            "153 1.0 0.9003292 0.27290836 \u001b[48;2;163;0;0m\u001b[38;2;255;255;255mis \u001b[48;2;205;0;0m\u001b[38;2;255;255;255mthe \u001b[48;2;31;0;0m\u001b[38;2;255;255;255mnumber \u001b[48;2;0;0;96m\u001b[38;2;255;255;255mof \u001b[48;2;0;0;76m\u001b[38;2;255;255;255mhighly \u001b[48;2;0;0;149m\u001b[38;2;255;255;255minfluential \u001b[48;2;0;0;0m\u001b[38;2;255;255;255mcitations.\n",
            "154 1.0 0.71884835 0.2393481 \u001b[48;2;0;0;0m\u001b[38;2;255;255;255mH-index, \u001b[48;2;0;0;31m\u001b[38;2;255;255;255malso \u001b[48;2;41;0;0m\u001b[38;2;255;255;255mcalled \u001b[48;2;189;0;0m\u001b[38;2;255;255;255mindex \u001b[48;2;0;0;0m\u001b[38;2;255;255;255mℎ, \u001b[48;2;0;0;214m\u001b[38;2;255;255;255mis \u001b[48;2;0;0;95m\u001b[38;2;255;255;255mproposed \u001b[48;2;0;0;78m\u001b[38;2;255;255;255mby \u001b[48;2;115;0;0m\u001b[38;2;255;255;255mJorge \u001b[48;2;0;0;0m\u001b[38;2;255;255;255mE.\n",
            "155 0.0 0.9019865 0.018921414 \u001b[48;2;0;0;0m\u001b[38;2;255;255;255mHirsch[17], \u001b[48;2;0;0;87m\u001b[38;2;255;255;255mand \u001b[48;2;0;0;237m\u001b[38;2;255;255;255mits \u001b[48;2;0;0;40m\u001b[38;2;255;255;255mdefinition \u001b[48;2;20;0;0m\u001b[38;2;255;255;255mis \u001b[48;2;10;0;0m\u001b[38;2;255;255;255mthe \u001b[48;2;71;0;0m\u001b[38;2;255;255;255mnumber \u001b[48;2;0;0;124m\u001b[38;2;255;255;255mof \u001b[48;2;120;0;0m\u001b[38;2;255;255;255mpapers \u001b[48;2;0;0;251m\u001b[38;2;255;255;255mwith \u001b[48;2;57;0;0m\u001b[38;2;255;255;255mcitation \u001b[48;2;71;0;0m\u001b[38;2;255;255;255mnumber \u001b[48;2;246;0;0m\u001b[38;2;255;255;255mhigher \u001b[48;2;0;0;63m\u001b[38;2;255;255;255mor \u001b[48;2;91;0;0m\u001b[38;2;255;255;255mequal \u001b[48;2;103;0;0m\u001b[38;2;255;255;255mto \u001b[48;2;0;0;0m\u001b[38;2;255;255;255mℎ \u001b[48;2;0;0;0m\u001b[38;2;255;255;255m.\n",
            "156 1.0 0.4674192 0.13309617 \u001b[48;2;0;0;244m\u001b[38;2;255;255;255mthe \u001b[48;2;0;0;0m\u001b[38;2;255;255;255mg-index \u001b[48;2;0;0;15m\u001b[38;2;255;255;255mis \u001b[48;2;227;0;0m\u001b[38;2;255;255;255mdefined \u001b[48;2;0;0;6m\u001b[38;2;255;255;255mas \u001b[48;2;0;0;244m\u001b[38;2;255;255;255mthe \u001b[48;2;217;0;0m\u001b[38;2;255;255;255mlargest \u001b[48;2;0;0;62m\u001b[38;2;255;255;255mnumber \u001b[48;2;38;0;0m\u001b[38;2;255;255;255msuch \u001b[48;2;0;0;175m\u001b[38;2;255;255;255mthat \u001b[48;2;0;0;244m\u001b[38;2;255;255;255mthe \u001b[48;2;74;0;0m\u001b[38;2;255;255;255mtop \u001b[48;2;0;0;0m\u001b[38;2;255;255;255m𝑔 \u001b[48;2;0;0;99m\u001b[38;2;255;255;255marticles \u001b[48;2;0;0;0m\u001b[38;2;255;255;255mreceived \u001b[48;2;206;0;0m\u001b[38;2;255;255;255mtogether \u001b[48;2;0;0;205m\u001b[38;2;255;255;255mat \u001b[48;2;90;0;0m\u001b[38;2;255;255;255mleast \u001b[48;2;0;0;0m\u001b[38;2;255;255;255m𝑔2 \u001b[48;2;0;0;0m\u001b[38;2;255;255;255mcitations[12].\n",
            "157 1.0 0.5898951 0.18368734 \u001b[48;2;46;0;0m\u001b[38;2;255;255;255mGoogle \u001b[48;2;0;0;31m\u001b[38;2;255;255;255mScholar \u001b[48;2;0;0;63m\u001b[38;2;255;255;255mproposes \u001b[48;2;0;0;0m\u001b[38;2;255;255;255mi10-index \u001b[48;2;0;0;185m\u001b[38;2;255;255;255mthat \u001b[48;2;96;0;0m\u001b[38;2;255;255;255mis \u001b[48;2;76;0;0m\u001b[38;2;255;255;255mthe \u001b[48;2;40;0;0m\u001b[38;2;255;255;255mnumber \u001b[48;2;0;0;217m\u001b[38;2;255;255;255mof \u001b[48;2;0;0;138m\u001b[38;2;255;255;255ma \u001b[48;2;0;0;68m\u001b[38;2;255;255;255mpublication \u001b[48;2;0;0;232m\u001b[38;2;255;255;255mwith \u001b[48;2;0;0;111m\u001b[38;2;255;255;255mat \u001b[48;2;158;0;0m\u001b[38;2;255;255;255mleast \u001b[48;2;76;0;0m\u001b[38;2;255;255;255m10 \u001b[48;2;0;0;0m\u001b[38;2;255;255;255mcita- \u001b[48;2;0;0;0m\u001b[38;2;255;255;255mtions.\n",
            "158 -1.0 0.5979948 -0.19142449 \u001b[48;2;0;0;5m\u001b[38;2;255;255;255mThose \u001b[48;2;4;0;0m\u001b[38;2;255;255;255mmetrics \u001b[48;2;0;0;189m\u001b[38;2;255;255;255mare \u001b[48;2;276;0;0m\u001b[38;2;255;255;255mderived \u001b[48;2;0;0;127m\u001b[38;2;255;255;255mfrom \u001b[48;2;96;0;0m\u001b[38;2;255;255;255mcitations \u001b[48;2;8;0;0m\u001b[38;2;255;255;255mand \u001b[48;2;55;0;0m\u001b[38;2;255;255;255mdo \u001b[48;2;111;0;0m\u001b[38;2;255;255;255mnot \u001b[48;2;0;0;51m\u001b[38;2;255;255;255mreveal \u001b[48;2;0;0;233m\u001b[38;2;255;255;255mthe \u001b[48;2;37;0;0m\u001b[38;2;255;255;255mtruth \u001b[48;2;79;0;0m\u001b[38;2;255;255;255mamong \u001b[48;2;0;0;0m\u001b[38;2;255;255;255mcitations.\n",
            "159 1.0 0.93453026 0.30361038 \u001b[48;2;72;0;0m\u001b[38;2;255;255;255mSemantic \u001b[48;2;83;0;0m\u001b[38;2;255;255;255mScholar \u001b[48;2;125;0;0m\u001b[38;2;255;255;255mmakes \u001b[48;2;0;0;24m\u001b[38;2;255;255;255mthe \u001b[48;2;7;0;0m\u001b[38;2;255;255;255mfirst \u001b[48;2;0;0;322m\u001b[38;2;255;255;255mstep \u001b[48;2;28;0;0m\u001b[38;2;255;255;255mtowards \u001b[48;2;94;0;0m\u001b[38;2;255;255;255mcitation \u001b[48;2;0;0;0m\u001b[38;2;255;255;255mclassification.\n",
            "160 0.0 0.75048286 0.08268637 \u001b[48;2;29;0;0m\u001b[38;2;255;255;255mIt \u001b[48;2;46;0;0m\u001b[38;2;255;255;255mdivided \u001b[48;2;0;0;34m\u001b[38;2;255;255;255mcitations \u001b[48;2;0;0;2m\u001b[38;2;255;255;255minto \u001b[48;2;206;0;0m\u001b[38;2;255;255;255m4 \u001b[48;2;0;0;0m\u001b[38;2;255;255;255mclasses: \u001b[48;2;66;0;0m\u001b[38;2;255;255;255mhighly \u001b[48;2;0;0;0m\u001b[38;2;255;255;255minfluential, \u001b[48;2;0;0;0m\u001b[38;2;255;255;255mbackground, \u001b[48;2;0;0;53m\u001b[38;2;255;255;255mmethod \u001b[48;2;43;0;0m\u001b[38;2;255;255;255mand \u001b[48;2;90;0;0m\u001b[38;2;255;255;255mresults \u001b[48;2;0;0;0m\u001b[38;2;255;255;255mcitations[35], \u001b[48;2;0;0;0m\u001b[38;2;255;255;255mus- \u001b[48;2;270;0;0m\u001b[38;2;255;255;255ming \u001b[48;2;148;0;0m\u001b[38;2;255;255;255mSVM \u001b[48;2;0;0;399m\u001b[38;2;255;255;255mwith \u001b[48;2;0;0;223m\u001b[38;2;255;255;255ma \u001b[48;2;0;0;32m\u001b[38;2;255;255;255mRBF \u001b[48;2;7;0;0m\u001b[38;2;255;255;255mkernel \u001b[48;2;43;0;0m\u001b[38;2;255;255;255mand \u001b[48;2;16;0;0m\u001b[38;2;255;255;255mrandom \u001b[48;2;0;0;0m\u001b[38;2;255;255;255mforests.\n",
            "161 0.0 0.9403981 0.012655254 \u001b[48;2;3;0;0m\u001b[38;2;255;255;255mthe \u001b[48;2;0;0;67m\u001b[38;2;255;255;255mfeatures \u001b[48;2;0;0;0m\u001b[38;2;255;255;255mSeman- \u001b[48;2;411;0;0m\u001b[38;2;255;255;255mtic \u001b[48;2;118;0;0m\u001b[38;2;255;255;255mScholar \u001b[48;2;0;0;66m\u001b[38;2;255;255;255muse \u001b[48;2;0;0;93m\u001b[38;2;255;255;255mare \u001b[48;2;0;0;53m\u001b[38;2;255;255;255mtotal \u001b[48;2;0;0;19m\u001b[38;2;255;255;255mnumber \u001b[48;2;0;0;231m\u001b[38;2;255;255;255mof \u001b[48;2;29;0;0m\u001b[38;2;255;255;255mdirect \u001b[48;2;0;0;0m\u001b[38;2;255;255;255mcitations, \u001b[48;2;0;0;19m\u001b[38;2;255;255;255mnumber \u001b[48;2;0;0;231m\u001b[38;2;255;255;255mof \u001b[48;2;29;0;0m\u001b[38;2;255;255;255mdirect \u001b[48;2;0;0;126m\u001b[38;2;255;255;255mcitations \u001b[48;2;51;0;0m\u001b[38;2;255;255;255mper \u001b[48;2;0;0;0m\u001b[38;2;255;255;255msection, \u001b[48;2;0;0;53m\u001b[38;2;255;255;255mtotal \u001b[48;2;0;0;19m\u001b[38;2;255;255;255mnumber \u001b[48;2;0;0;231m\u001b[38;2;255;255;255mof \u001b[48;2;37;0;0m\u001b[38;2;255;255;255mindirect \u001b[48;2;0;0;126m\u001b[38;2;255;255;255mcitations \u001b[48;2;0;0;110m\u001b[38;2;255;255;255mand \u001b[48;2;0;0;19m\u001b[38;2;255;255;255mnumber \u001b[48;2;0;0;231m\u001b[38;2;255;255;255mof \u001b[48;2;37;0;0m\u001b[38;2;255;255;255mindirect \u001b[48;2;0;0;126m\u001b[38;2;255;255;255mcitations \u001b[48;2;51;0;0m\u001b[38;2;255;255;255mper \u001b[48;2;0;0;0m\u001b[38;2;255;255;255msection, \u001b[48;2;56;0;0m\u001b[38;2;255;255;255mauthor \u001b[48;2;0;0;0m\u001b[38;2;255;255;255moverlap, \u001b[48;2;123;0;0m\u001b[38;2;255;255;255mis \u001b[48;2;173;0;0m\u001b[38;2;255;255;255mconsidered \u001b[48;2;0;0;0m\u001b[38;2;255;255;255mhelp- \u001b[48;2;0;0;0m\u001b[38;2;255;255;255mful, \u001b[48;2;0;0;42m\u001b[38;2;255;255;255mcitation \u001b[48;2;98;0;0m\u001b[38;2;255;255;255mappears \u001b[48;2;0;0;147m\u001b[38;2;255;255;255min \u001b[48;2;84;0;0m\u001b[38;2;255;255;255mtable \u001b[48;2;0;0;110m\u001b[38;2;255;255;255mand \u001b[48;2;0;0;0m\u001b[38;2;255;255;255mcaption, \u001b[48;2;0;0;0m\u001b[38;2;255;255;255m1/number \u001b[48;2;0;0;231m\u001b[38;2;255;255;255mof \u001b[48;2;0;0;0m\u001b[38;2;255;255;255mreferences, \u001b[48;2;0;0;19m\u001b[38;2;255;255;255mnumber \u001b[48;2;0;0;231m\u001b[38;2;255;255;255mof \u001b[48;2;0;0;29m\u001b[38;2;255;255;255mpaper \u001b[48;2;0;0;0m\u001b[38;2;255;255;255mcitations/all \u001b[48;2;0;0;0m\u001b[38;2;255;255;255mcitations, \u001b[48;2;11;0;0m\u001b[38;2;255;255;255msimilarity \u001b[48;2;33;0;0m\u001b[38;2;255;255;255mbetween \u001b[48;2;0;0;0m\u001b[38;2;255;255;255mabstracts, \u001b[48;2;0;0;0m\u001b[38;2;255;255;255mPageRank[28], \u001b[48;2;0;0;19m\u001b[38;2;255;255;255mnumber \u001b[48;2;0;0;231m\u001b[38;2;255;255;255mof \u001b[48;2;0;0;53m\u001b[38;2;255;255;255mtotal \u001b[48;2;0;0;149m\u001b[38;2;255;255;255mciting \u001b[48;2;0;0;97m\u001b[38;2;255;255;255mpapers \u001b[48;2;19;0;0m\u001b[38;2;255;255;255mafter \u001b[48;2;0;0;318m\u001b[38;2;255;255;255mtransitive \u001b[48;2;0;0;0m\u001b[38;2;255;255;255mclosure, \u001b[48;2;0;0;110m\u001b[38;2;255;255;255mand \u001b[48;2;0;0;11m\u001b[38;2;255;255;255mfield \u001b[48;2;0;0;231m\u001b[38;2;255;255;255mof \u001b[48;2;3;0;0m\u001b[38;2;255;255;255mthe \u001b[48;2;0;0;0m\u001b[38;2;255;255;255mcited \u001b[48;2;0;0;0m\u001b[38;2;255;255;255mpaper.\n",
            "162 0.0 0.9320645 0.014084853 \u001b[48;2;360;0;0m\u001b[38;2;255;255;255mWe \u001b[48;2;125;0;0m\u001b[38;2;255;255;255mcollect \u001b[48;2;51;0;0m\u001b[38;2;255;255;255mXX \u001b[48;2;0;0;84m\u001b[38;2;255;255;255mpapers \u001b[48;2;0;0;141m\u001b[38;2;255;255;255mthat \u001b[48;2;42;0;0m\u001b[38;2;255;255;255mcite \u001b[48;2;0;0;75m\u001b[38;2;255;255;255mscholar \u001b[48;2;149;0;0m\u001b[38;2;255;255;255mY \u001b[48;2;0;0;69m\u001b[38;2;255;255;255mfrom \u001b[48;2;0;0;0m\u001b[38;2;255;255;255m78663, \u001b[48;2;156;0;0m\u001b[38;2;255;255;255mand \u001b[48;2;51;0;0m\u001b[38;2;255;255;255mXX \u001b[48;2;0;0;84m\u001b[38;2;255;255;255mpapers \u001b[48;2;0;0;141m\u001b[38;2;255;255;255mthat \u001b[48;2;42;0;0m\u001b[38;2;255;255;255mcite \u001b[48;2;0;0;10m\u001b[38;2;255;255;255mPatrick \u001b[48;2;194;0;0m\u001b[38;2;255;255;255mHanrahan \u001b[48;2;0;0;69m\u001b[38;2;255;255;255mfrom \u001b[48;2;0;0;0m\u001b[38;2;255;255;255m56383.\n",
            "163 1.0 0.42844743 0.06986505 \u001b[48;2;38;0;0m\u001b[38;2;255;255;255mOnly \u001b[48;2;0;0;257m\u001b[38;2;255;255;255mutilizing \u001b[48;2;0;0;106m\u001b[38;2;255;255;255mprimary \u001b[48;2;0;0;0m\u001b[38;2;255;255;255mcitations, \u001b[48;2;185;0;0m\u001b[38;2;255;255;255mwe \u001b[48;2;116;0;0m\u001b[38;2;255;255;255mget \u001b[48;2;0;0;51m\u001b[38;2;255;255;255mthe \u001b[48;2;67;0;0m\u001b[38;2;255;255;255mglobal \u001b[48;2;57;0;0m\u001b[38;2;255;255;255macademic \u001b[48;2;0;0;0m\u001b[38;2;255;255;255minflu- \u001b[48;2;197;0;0m\u001b[38;2;255;255;255mential \u001b[48;2;23;0;0m\u001b[38;2;255;255;255mfactors \u001b[48;2;0;0;224m\u001b[38;2;255;255;255mof \u001b[48;2;0;0;2m\u001b[38;2;255;255;255mscholar \u001b[48;2;0;0;20m\u001b[38;2;255;255;255mY \u001b[48;2;86;0;0m\u001b[38;2;255;255;255mand \u001b[48;2;0;0;40m\u001b[38;2;255;255;255mPatrick \u001b[48;2;124;0;0m\u001b[38;2;255;255;255mHanrahan \u001b[48;2;4;0;0m\u001b[38;2;255;255;255mis \u001b[48;2;0;0;0m\u001b[38;2;255;255;255m0.40 \u001b[48;2;86;0;0m\u001b[38;2;255;255;255mand \u001b[48;2;0;0;0m\u001b[38;2;255;255;255m0.52 \u001b[48;2;0;0;0m\u001b[38;2;255;255;255mrespectively.\n",
            "164 0.0 0.75681776 0.078491874 \u001b[48;2;178;0;0m\u001b[38;2;255;255;255mFigure \u001b[48;2;0;0;210m\u001b[38;2;255;255;255m4 \u001b[48;2;0;0;0m\u001b[38;2;255;255;255m4.2 \u001b[48;2;0;0;64m\u001b[38;2;255;255;255mMathematical \u001b[48;2;245;0;0m\u001b[38;2;255;255;255mInvariance \u001b[48;2;6;0;0m\u001b[38;2;255;255;255mto \u001b[48;2;24;0;0m\u001b[38;2;255;255;255mverify \u001b[48;2;0;0;121m\u001b[38;2;255;255;255mthe \u001b[48;2;0;0;0m\u001b[38;2;255;255;255mmodel, \u001b[48;2;228;0;0m\u001b[38;2;255;255;255mwe \u001b[48;2;0;0;60m\u001b[38;2;255;255;255mconduct \u001b[48;2;0;0;76m\u001b[38;2;255;255;255ma \u001b[48;2;112;0;0m\u001b[38;2;255;255;255mseries \u001b[48;2;0;0;266m\u001b[38;2;255;255;255mof \u001b[48;2;0;0;16m\u001b[38;2;255;255;255mexperiments \u001b[48;2;6;0;0m\u001b[38;2;255;255;255mto \u001b[48;2;100;0;0m\u001b[38;2;255;255;255mprove \u001b[48;2;0;0;0m\u001b[38;2;255;255;255mit’s \u001b[48;2;0;0;0m\u001b[38;2;255;255;255mreasonable.\n",
            "165 0.0 0.9772027 0.0047535016 \u001b[48;2;0;0;0m\u001b[38;2;255;255;255mFirst, \u001b[48;2;80;0;0m\u001b[38;2;255;255;255mgiven \u001b[48;2;0;0;129m\u001b[38;2;255;255;255ma \u001b[48;2;41;0;0m\u001b[38;2;255;255;255mset \u001b[48;2;0;0;296m\u001b[38;2;255;255;255mof \u001b[48;2;5;0;0m\u001b[38;2;255;255;255mreferences \u001b[48;2;0;0;97m\u001b[38;2;255;255;255mwithin \u001b[48;2;0;0;129m\u001b[38;2;255;255;255ma \u001b[48;2;0;0;0m\u001b[38;2;255;255;255mpaper, \u001b[48;2;0;0;117m\u001b[38;2;255;255;255mremoving \u001b[48;2;17;0;0m\u001b[38;2;255;255;255manyone \u001b[48;2;71;0;0m\u001b[38;2;255;255;255mreference \u001b[48;2;0;0;138m\u001b[38;2;255;255;255mfrom \u001b[48;2;0;0;75m\u001b[38;2;255;255;255mthe \u001b[48;2;41;0;0m\u001b[38;2;255;255;255mset \u001b[48;2;0;0;0m\u001b[38;2;255;255;255mwon’t \u001b[48;2;12;0;0m\u001b[38;2;255;255;255mchange \u001b[48;2;0;0;75m\u001b[38;2;255;255;255mthe \u001b[48;2;120;0;0m\u001b[38;2;255;255;255mrelated \u001b[48;2;0;0;110m\u001b[38;2;255;255;255morder \u001b[48;2;0;0;296m\u001b[38;2;255;255;255mof \u001b[48;2;119;0;0m\u001b[38;2;255;255;255mleft \u001b[48;2;0;0;0m\u001b[38;2;255;255;255mrefer- \u001b[48;2;0;0;0m\u001b[38;2;255;255;255mences.\n",
            "166 0.0 0.9469555 0.011975344 \u001b[48;2;64;0;0m\u001b[38;2;255;255;255mAnd \u001b[48;2;1;0;0m\u001b[38;2;255;255;255mwhen \u001b[48;2;0;0;153m\u001b[38;2;255;255;255mremoving \u001b[48;2;0;0;66m\u001b[38;2;255;255;255ma \u001b[48;2;0;0;71m\u001b[38;2;255;255;255mreference \u001b[48;2;0;0;147m\u001b[38;2;255;255;255mat \u001b[48;2;0;0;66m\u001b[38;2;255;255;255ma \u001b[48;2;0;0;0m\u001b[38;2;255;255;255mtime, \u001b[48;2;164;0;0m\u001b[38;2;255;255;255mthe \u001b[48;2;89;0;0m\u001b[38;2;255;255;255mleft \u001b[48;2;121;0;0m\u001b[38;2;255;255;255mreferences \u001b[48;2;132;0;0m\u001b[38;2;255;255;255malso \u001b[48;2;99;0;0m\u001b[38;2;255;255;255mkeep \u001b[48;2;49;0;0m\u001b[38;2;255;255;255mrelated \u001b[48;2;0;0;0m\u001b[38;2;255;255;255morders.\n",
            "167 0.0 0.85409486 0.04505445 \u001b[48;2;0;0;0m\u001b[38;2;255;255;255m, \u001b[48;2;0;0;0m\u001b[38;2;255;255;255m, \u001b[48;2;147;0;0m\u001b[38;2;255;255;255mZhang \u001b[48;2;67;0;0m\u001b[38;2;255;255;255mand \u001b[48;2;50;0;0m\u001b[38;2;255;255;255mWen \u001b[48;2;0;0;225m\u001b[38;2;255;255;255met \u001b[48;2;0;0;0m\u001b[38;2;255;255;255mal.\n",
            "168 0.0 0.9703761 0.008742957 \u001b[48;2;66;0;0m\u001b[38;2;255;255;255mTable \u001b[48;2;0;0;0m\u001b[38;2;255;255;255m5: \u001b[48;2;0;0;230m\u001b[38;2;255;255;255mfeatures \u001b[48;2;0;0;232m\u001b[38;2;255;255;255mused \u001b[48;2;0;0;142m\u001b[38;2;255;255;255mfor \u001b[48;2;2;0;0m\u001b[38;2;255;255;255mcitation \u001b[48;2;0;0;36m\u001b[38;2;255;255;255mspan \u001b[48;2;0;0;134m\u001b[38;2;255;255;255mFeature \u001b[48;2;0;0;39m\u001b[38;2;255;255;255mDescription \u001b[48;2;140;0;0m\u001b[38;2;255;255;255mdistance \u001b[48;2;22;0;0m\u001b[38;2;255;255;255mposition \u001b[48;2;118;0;0m\u001b[38;2;255;255;255msegment \u001b[48;2;0;0;108m\u001b[38;2;255;255;255mthe \u001b[48;2;140;0;0m\u001b[38;2;255;255;255mdistance \u001b[48;2;0;0;0m\u001b[38;2;255;255;255m(in \u001b[48;2;0;0;0m\u001b[38;2;255;255;255mwords) \u001b[48;2;129;0;0m\u001b[38;2;255;255;255mbetween \u001b[48;2;0;0;108m\u001b[38;2;255;255;255mthe \u001b[48;2;221;0;0m\u001b[38;2;255;255;255mword \u001b[48;2;73;0;0m\u001b[38;2;255;255;255mand \u001b[48;2;0;0;108m\u001b[38;2;255;255;255mthe \u001b[48;2;143;0;0m\u001b[38;2;255;255;255mtarget \u001b[48;2;0;0;0m\u001b[38;2;255;255;255mcitaion.\n",
            "169 0.0 0.93082917 0.017071726 \u001b[48;2;0;0;200m\u001b[38;2;255;255;255mThis \u001b[48;2;0;0;66m\u001b[38;2;255;255;255mfeature \u001b[48;2;0;0;145m\u001b[38;2;255;255;255mtakes \u001b[48;2;0;0;70m\u001b[38;2;255;255;255mthe \u001b[48;2;0;0;59m\u001b[38;2;255;255;255mvalue \u001b[48;2;0;0;68m\u001b[38;2;255;255;255m1 \u001b[48;2;40;0;0m\u001b[38;2;255;255;255mif \u001b[48;2;0;0;70m\u001b[38;2;255;255;255mthe \u001b[48;2;236;0;0m\u001b[38;2;255;255;255mword \u001b[48;2;0;0;42m\u001b[38;2;255;255;255mcomes \u001b[48;2;265;0;0m\u001b[38;2;255;255;255mbefore \u001b[48;2;0;0;70m\u001b[38;2;255;255;255mthe \u001b[48;2;188;0;0m\u001b[38;2;255;255;255mtarget \u001b[48;2;0;0;0m\u001b[38;2;255;255;255mcitation, \u001b[48;2;78;0;0m\u001b[38;2;255;255;255mand \u001b[48;2;47;0;0m\u001b[38;2;255;255;255m0 \u001b[48;2;0;0;0m\u001b[38;2;255;255;255motherwise.\n",
            "170 0.0 0.993274 0.0005518277 \u001b[48;2;59;0;0m\u001b[38;2;255;255;255mAfter \u001b[48;2;37;0;0m\u001b[38;2;255;255;255msplitting \u001b[48;2;0;0;91m\u001b[38;2;255;255;255mthe \u001b[48;2;171;0;0m\u001b[38;2;255;255;255msentence \u001b[48;2;10;0;0m\u001b[38;2;255;255;255minto \u001b[48;2;301;0;0m\u001b[38;2;255;255;255msegments \u001b[48;2;0;0;101m\u001b[38;2;255;255;255mby \u001b[48;2;0;0;155m\u001b[38;2;255;255;255mpunctuation \u001b[48;2;0;0;15m\u001b[38;2;255;255;255mand \u001b[48;2;0;0;211m\u001b[38;2;255;255;255mcoordination \u001b[48;2;0;0;0m\u001b[38;2;255;255;255mconjunctions, \u001b[48;2;76;0;0m\u001b[38;2;255;255;255mthis \u001b[48;2;182;0;0m\u001b[38;2;255;255;255mfeature \u001b[48;2;81;0;0m\u001b[38;2;255;255;255mtakes \u001b[48;2;0;0;91m\u001b[38;2;255;255;255mthe \u001b[48;2;101;0;0m\u001b[38;2;255;255;255mvalue \u001b[48;2;70;0;0m\u001b[38;2;255;255;255m1 \u001b[48;2;112;0;0m\u001b[38;2;255;255;255mif \u001b[48;2;0;0;91m\u001b[38;2;255;255;255mthe \u001b[48;2;181;0;0m\u001b[38;2;255;255;255mword \u001b[48;2;0;0;40m\u001b[38;2;255;255;255moccurs \u001b[48;2;0;0;138m\u001b[38;2;255;255;255min \u001b[48;2;0;0;91m\u001b[38;2;255;255;255mthe \u001b[48;2;58;0;0m\u001b[38;2;255;255;255msame \u001b[48;2;108;0;0m\u001b[38;2;255;255;255msegment \u001b[48;2;0;0;206m\u001b[38;2;255;255;255mwith \u001b[48;2;0;0;91m\u001b[38;2;255;255;255mthe \u001b[48;2;216;0;0m\u001b[38;2;255;255;255mtarget \u001b[48;2;0;0;0m\u001b[38;2;255;255;255mreference, \u001b[48;2;0;0;15m\u001b[38;2;255;255;255mand \u001b[48;2;28;0;0m\u001b[38;2;255;255;255m0 \u001b[48;2;0;0;0m\u001b[38;2;255;255;255motherwise.\n",
            "171 0.0 0.96895593 0.008112253 \u001b[48;2;0;0;0m\u001b[38;2;255;255;255mpos_tag \u001b[48;2;0;0;213m\u001b[38;2;255;255;255mthe \u001b[48;2;0;0;12m\u001b[38;2;255;255;255mpart \u001b[48;2;0;0;150m\u001b[38;2;255;255;255mof \u001b[48;2;81;0;0m\u001b[38;2;255;255;255mspeech \u001b[48;2;121;0;0m\u001b[38;2;255;255;255mtag \u001b[48;2;0;0;150m\u001b[38;2;255;255;255mof \u001b[48;2;0;0;213m\u001b[38;2;255;255;255mthe \u001b[48;2;0;0;0m\u001b[38;2;255;255;255mword, \u001b[48;2;0;0;213m\u001b[38;2;255;255;255mthe \u001b[48;2;0;0;32m\u001b[38;2;255;255;255mword \u001b[48;2;0;0;0m\u001b[38;2;255;255;255mbefore, \u001b[48;2;122;0;0m\u001b[38;2;255;255;255mand \u001b[48;2;0;0;213m\u001b[38;2;255;255;255mthe \u001b[48;2;0;0;32m\u001b[38;2;255;255;255mword \u001b[48;2;0;0;0m\u001b[38;2;255;255;255mafter.\n",
            "172 0.0 0.95677346 0.00268933 \u001b[48;2;0;0;179m\u001b[38;2;255;255;255mdTreeDistance \u001b[48;2;124;0;0m\u001b[38;2;255;255;255mLength \u001b[48;2;0;0;103m\u001b[38;2;255;255;255mof \u001b[48;2;0;0;158m\u001b[38;2;255;255;255mthe \u001b[48;2;0;0;32m\u001b[38;2;255;255;255mshortest \u001b[48;2;182;0;0m\u001b[38;2;255;255;255mdependency \u001b[48;2;0;0;22m\u001b[38;2;255;255;255mpath \u001b[48;2;0;0;0m\u001b[38;2;255;255;255m(in \u001b[48;2;0;0;158m\u001b[38;2;255;255;255mthe \u001b[48;2;182;0;0m\u001b[38;2;255;255;255mdependency \u001b[48;2;154;0;0m\u001b[38;2;255;255;255mparse \u001b[48;2;0;0;0m\u001b[38;2;255;255;255mtree) \u001b[48;2;0;0;204m\u001b[38;2;255;255;255mthat \u001b[48;2;0;0;96m\u001b[38;2;255;255;255mconnects \u001b[48;2;0;0;158m\u001b[38;2;255;255;255mthe \u001b[48;2;295;0;0m\u001b[38;2;255;255;255mword \u001b[48;2;0;0;54m\u001b[38;2;255;255;255mto \u001b[48;2;0;0;158m\u001b[38;2;255;255;255mthe \u001b[48;2;177;0;0m\u001b[38;2;255;255;255mtarget \u001b[48;2;0;0;1m\u001b[38;2;255;255;255mreference \u001b[48;2;62;0;0m\u001b[38;2;255;255;255mor \u001b[48;2;26;0;0m\u001b[38;2;255;255;255mits \u001b[48;2;0;0;0m\u001b[38;2;255;255;255mrepresentative.\n",
            "173 0.0 0.9430888 0.015940601 \u001b[48;2;0;0;97m\u001b[38;2;255;255;255mlca \u001b[48;2;0;0;235m\u001b[38;2;255;255;255mthe \u001b[48;2;114;0;0m\u001b[38;2;255;255;255mtype \u001b[48;2;0;0;232m\u001b[38;2;255;255;255mof \u001b[48;2;0;0;235m\u001b[38;2;255;255;255mthe \u001b[48;2;194;0;0m\u001b[38;2;255;255;255mnode \u001b[48;2;0;0;63m\u001b[38;2;255;255;255min \u001b[48;2;0;0;235m\u001b[38;2;255;255;255mthe \u001b[48;2;193;0;0m\u001b[38;2;255;255;255mdependency \u001b[48;2;263;0;0m\u001b[38;2;255;255;255mparse \u001b[48;2;159;0;0m\u001b[38;2;255;255;255mtree \u001b[48;2;0;0;6m\u001b[38;2;255;255;255mthat \u001b[48;2;0;0;35m\u001b[38;2;255;255;255mis \u001b[48;2;0;0;235m\u001b[38;2;255;255;255mthe \u001b[48;2;6;0;0m\u001b[38;2;255;255;255mleast \u001b[48;2;0;0;42m\u001b[38;2;255;255;255mcommon \u001b[48;2;57;0;0m\u001b[38;2;255;255;255mancestor \u001b[48;2;0;0;232m\u001b[38;2;255;255;255mof \u001b[48;2;0;0;235m\u001b[38;2;255;255;255mthe \u001b[48;2;220;0;0m\u001b[38;2;255;255;255mword \u001b[48;2;0;0;50m\u001b[38;2;255;255;255mand \u001b[48;2;0;0;235m\u001b[38;2;255;255;255mthe \u001b[48;2;125;0;0m\u001b[38;2;255;255;255mtarget \u001b[48;2;0;0;0m\u001b[38;2;255;255;255mreference.\n",
            "174 0.0 0.7656606 0.06174262 \u001b[48;2;195;0;0m\u001b[38;2;255;255;255mTable \u001b[48;2;0;0;0m\u001b[38;2;255;255;255m6: \u001b[48;2;70;0;0m\u001b[38;2;255;255;255mresults \u001b[48;2;0;0;93m\u001b[38;2;255;255;255mfor \u001b[48;2;102;0;0m\u001b[38;2;255;255;255mthree \u001b[48;2;243;0;0m\u001b[38;2;255;255;255mdifferent \u001b[48;2;124;0;0m\u001b[38;2;255;255;255mmodels \u001b[48;2;0;0;93m\u001b[38;2;255;255;255mfor \u001b[48;2;0;0;60m\u001b[38;2;255;255;255mcitation \u001b[48;2;22;0;0m\u001b[38;2;255;255;255mspan \u001b[48;2;22;0;0m\u001b[38;2;255;255;255mModel \u001b[48;2;0;0;183m\u001b[38;2;255;255;255mPrecision \u001b[48;2;0;0;129m\u001b[38;2;255;255;255mRecall \u001b[48;2;0;0;2m\u001b[38;2;255;255;255mF1 \u001b[48;2;189;0;0m\u001b[38;2;255;255;255mSVM \u001b[48;2;105;0;0m\u001b[38;2;255;255;255mLR \u001b[48;2;0;0;105m\u001b[38;2;255;255;255mCRF \u001b[48;2;0;0;0m\u001b[38;2;255;255;255m0.78 \u001b[48;2;0;0;0m\u001b[38;2;255;255;255m0.68 \u001b[48;2;0;0;0m\u001b[38;2;255;255;255m0.65 \u001b[48;2;0;0;0m\u001b[38;2;255;255;255m0.56 \u001b[48;2;0;0;0m\u001b[38;2;255;255;255m0.67 \u001b[48;2;0;0;0m\u001b[38;2;255;255;255m0.64 \u001b[48;2;0;0;0m\u001b[38;2;255;255;255m0.65 \u001b[48;2;0;0;0m\u001b[38;2;255;255;255m0.67 \u001b[48;2;0;0;0m\u001b[38;2;255;255;255m0.64 \u001b[48;2;0;0;0m\u001b[38;2;255;255;255mAlso, \u001b[48;2;0;0;66m\u001b[38;2;255;255;255mthe \u001b[48;2;111;0;0m\u001b[38;2;255;255;255mfinal \u001b[48;2;0;0;235m\u001b[38;2;255;255;255mscore \u001b[48;2;114;0;0m\u001b[38;2;255;255;255mshould \u001b[48;2;0;0;101m\u001b[38;2;255;255;255mbe \u001b[48;2;128;0;0m\u001b[38;2;255;255;255mstable \u001b[48;2;0;0;139m\u001b[38;2;255;255;255mand \u001b[48;2;0;0;248m\u001b[38;2;255;255;255minsensitive \u001b[48;2;0;0;216m\u001b[38;2;255;255;255mto \u001b[48;2;0;0;0m\u001b[38;2;255;255;255mpropa- \u001b[48;2;158;0;0m\u001b[38;2;255;255;255mgating \u001b[48;2;0;0;143m\u001b[38;2;255;255;255morder \u001b[48;2;0;0;226m\u001b[38;2;255;255;255munder \u001b[48;2;0;0;230m\u001b[38;2;255;255;255ma \u001b[48;2;13;0;0m\u001b[38;2;255;255;255mcertain \u001b[48;2;0;0;0m\u001b[38;2;255;255;255mpaper \u001b[48;2;0;0;0m\u001b[38;2;255;255;255mpool.\n",
            "175 0.0 0.6433955 0.10176828 \u001b[48;2;127;0;0m\u001b[38;2;255;255;255mOur \u001b[48;2;10;0;0m\u001b[38;2;255;255;255mstrategy \u001b[48;2;186;0;0m\u001b[38;2;255;255;255mstarts \u001b[48;2;0;0;87m\u001b[38;2;255;255;255mfrom \u001b[48;2;0;0;161m\u001b[38;2;255;255;255ma \u001b[48;2;4;0;0m\u001b[38;2;255;255;255mdefault \u001b[48;2;43;0;0m\u001b[38;2;255;255;255minfluential \u001b[48;2;75;0;0m\u001b[38;2;255;255;255mfactor \u001b[48;2;0;0;0m\u001b[38;2;255;255;255m1.0, \u001b[48;2;0;0;208m\u001b[38;2;255;255;255mtraversing \u001b[48;2;0;0;181m\u001b[38;2;255;255;255mthrough \u001b[48;2;0;0;136m\u001b[38;2;255;255;255meach \u001b[48;2;66;0;0m\u001b[38;2;255;255;255mpaper \u001b[48;2;0;0;149m\u001b[38;2;255;255;255mand \u001b[48;2;335;0;0m\u001b[38;2;255;255;255mupdating \u001b[48;2;0;0;64m\u001b[38;2;255;255;255mthe \u001b[48;2;43;0;0m\u001b[38;2;255;255;255minfluential \u001b[48;2;75;0;0m\u001b[38;2;255;255;255mfactor \u001b[48;2;0;0;0m\u001b[38;2;255;255;255msuccessively.\n",
            "176 1.0 0.73755 0.21772213 \u001b[48;2;0;0;35m\u001b[38;2;255;255;255mIt \u001b[48;2;0;0;166m\u001b[38;2;255;255;255mis \u001b[48;2;47;0;0m\u001b[38;2;255;255;255mproven \u001b[48;2;0;0;186m\u001b[38;2;255;255;255mthrough \u001b[48;2;0;0;40m\u001b[38;2;255;255;255mexperiments \u001b[48;2;0;0;157m\u001b[38;2;255;255;255mthat \u001b[48;2;125;0;0m\u001b[38;2;255;255;255mregardless \u001b[48;2;0;0;151m\u001b[38;2;255;255;255mof \u001b[48;2;0;0;161m\u001b[38;2;255;255;255mthe \u001b[48;2;300;0;0m\u001b[38;2;255;255;255mupdating \u001b[48;2;0;0;0m\u001b[38;2;255;255;255morder, \u001b[48;2;0;0;161m\u001b[38;2;255;255;255mthe \u001b[48;2;78;0;0m\u001b[38;2;255;255;255mfinal \u001b[48;2;82;0;0m\u001b[38;2;255;255;255mscore \u001b[48;2;0;0;151m\u001b[38;2;255;255;255mof \u001b[48;2;0;0;23m\u001b[38;2;255;255;255meach \u001b[48;2;173;0;0m\u001b[38;2;255;255;255mpaper \u001b[48;2;237;0;0m\u001b[38;2;255;255;255mremains \u001b[48;2;0;0;161m\u001b[38;2;255;255;255mthe \u001b[48;2;0;0;0m\u001b[38;2;255;255;255msame.\n",
            "177 0.0 0.65592545 0.11163474 \u001b[48;2;0;0;0m\u001b[38;2;255;255;255m4.3 \u001b[48;2;0;0;108m\u001b[38;2;255;255;255mCitation \u001b[48;2;19;0;0m\u001b[38;2;255;255;255mSpan \u001b[48;2;260;0;0m\u001b[38;2;255;255;255mWe \u001b[48;2;0;0;244m\u001b[38;2;255;255;255mconduct \u001b[48;2;162;0;0m\u001b[38;2;255;255;255msome \u001b[48;2;0;0;87m\u001b[38;2;255;255;255mexperiments \u001b[48;2;0;0;24m\u001b[38;2;255;255;255mguided \u001b[48;2;0;0;58m\u001b[38;2;255;255;255mby \u001b[48;2;0;0;0m\u001b[38;2;255;255;255m[1] \u001b[48;2;0;0;78m\u001b[38;2;255;255;255mas \u001b[48;2;86;0;0m\u001b[38;2;255;255;255mour \u001b[48;2;0;0;0m\u001b[38;2;255;255;255mbaseline.\n",
            "178 0.0 0.9344512 -0.003901302 \u001b[48;2;144;0;0m\u001b[38;2;255;255;255mWe \u001b[48;2;149;0;0m\u001b[38;2;255;255;255mannotate \u001b[48;2;0;0;162m\u001b[38;2;255;255;255mthe \u001b[48;2;0;0;29m\u001b[38;2;255;255;255mcitation \u001b[48;2;43;0;0m\u001b[38;2;255;255;255mspan \u001b[48;2;0;0;174m\u001b[38;2;255;255;255mfor \u001b[48;2;61;0;0m\u001b[38;2;255;255;255mabout \u001b[48;2;0;0;246m\u001b[38;2;255;255;255m345 \u001b[48;2;0;0;188m\u001b[38;2;255;255;255mciting \u001b[48;2;0;0;18m\u001b[38;2;255;255;255msentences \u001b[48;2;0;0;50m\u001b[38;2;255;255;255mas \u001b[48;2;145;0;0m\u001b[38;2;255;255;255mour \u001b[48;2;236;0;0m\u001b[38;2;255;255;255mdata \u001b[48;2;178;0;0m\u001b[38;2;255;255;255mset \u001b[48;2;58;0;0m\u001b[38;2;255;255;255mto \u001b[48;2;89;0;0m\u001b[38;2;255;255;255mtrain \u001b[48;2;0;0;50m\u001b[38;2;255;255;255mand \u001b[48;2;27;0;0m\u001b[38;2;255;255;255mtest \u001b[48;2;0;0;162m\u001b[38;2;255;255;255mthe \u001b[48;2;85;0;0m\u001b[38;2;255;255;255mbaseline \u001b[48;2;0;0;0m\u001b[38;2;255;255;255mmodel.\n",
            "179 0.0 0.9691198 0.009763515 \u001b[48;2;0;0;0m\u001b[38;2;255;255;255mFirst, \u001b[48;2;171;0;0m\u001b[38;2;255;255;255mwe \u001b[48;2;0;0;137m\u001b[38;2;255;255;255muse \u001b[48;2;25;0;0m\u001b[38;2;255;255;255mthe \u001b[48;2;122;0;0m\u001b[38;2;255;255;255mtokenizer \u001b[48;2;0;0;143m\u001b[38;2;255;255;255mtool \u001b[48;2;0;0;169m\u001b[38;2;255;255;255mthat \u001b[48;2;0;0;100m\u001b[38;2;255;255;255mSpaCy13 \u001b[48;2;142;0;0m\u001b[38;2;255;255;255mprovides \u001b[48;2;0;0;26m\u001b[38;2;255;255;255mto \u001b[48;2;253;0;0m\u001b[38;2;255;255;255msegment \u001b[48;2;25;0;0m\u001b[38;2;255;255;255mthe \u001b[48;2;157;0;0m\u001b[38;2;255;255;255mtext \u001b[48;2;0;0;163m\u001b[38;2;255;255;255mof \u001b[48;2;0;0;114m\u001b[38;2;255;255;255meach \u001b[48;2;0;0;0m\u001b[38;2;255;255;255mciting \u001b[48;2;0;0;1m\u001b[38;2;255;255;255msentence \u001b[48;2;51;0;0m\u001b[38;2;255;255;255minto \u001b[48;2;0;0;0m\u001b[38;2;255;255;255mtokens, \u001b[48;2;0;0;185m\u001b[38;2;255;255;255mand \u001b[48;2;0;0;137m\u001b[38;2;255;255;255muse \u001b[48;2;194;0;0m\u001b[38;2;255;255;255mtagger \u001b[48;2;0;0;185m\u001b[38;2;255;255;255mand \u001b[48;2;0;0;233m\u001b[38;2;255;255;255mparser \u001b[48;2;0;0;143m\u001b[38;2;255;255;255mtool \u001b[48;2;0;0;26m\u001b[38;2;255;255;255mto \u001b[48;2;0;0;66m\u001b[38;2;255;255;255massign \u001b[48;2;0;0;0m\u001b[38;2;255;255;255mpart-of-speech-tags \u001b[48;2;0;0;185m\u001b[38;2;255;255;255mand \u001b[48;2;0;0;50m\u001b[38;2;255;255;255mdependency \u001b[48;2;0;0;63m\u001b[38;2;255;255;255mlabels \u001b[48;2;0;0;26m\u001b[38;2;255;255;255mto \u001b[48;2;0;0;114m\u001b[38;2;255;255;255meach \u001b[48;2;0;0;0m\u001b[38;2;255;255;255mtoken.\n",
            "180 0.0 0.95337766 0.013973597 \u001b[48;2;0;0;0m\u001b[38;2;255;255;255mThen, \u001b[48;2;4;0;0m\u001b[38;2;255;255;255mwe \u001b[48;2;77;0;0m\u001b[38;2;255;255;255mextract \u001b[48;2;0;0;35m\u001b[38;2;255;255;255mfeatures \u001b[48;2;145;0;0m\u001b[38;2;255;255;255mlisted \u001b[48;2;0;0;109m\u001b[38;2;255;255;255min \u001b[48;2;24;0;0m\u001b[38;2;255;255;255mTable \u001b[48;2;0;0;0m\u001b[38;2;255;255;255m5. \u001b[48;2;0;0;140m\u001b[38;2;255;255;255mas \u001b[48;2;0;0;67m\u001b[38;2;255;255;255mthe \u001b[48;2;145;0;0m\u001b[38;2;255;255;255minput \u001b[48;2;0;0;110m\u001b[38;2;255;255;255mof \u001b[48;2;0;0;67m\u001b[38;2;255;255;255mthe \u001b[48;2;178;0;0m\u001b[38;2;255;255;255mbaseline \u001b[48;2;0;0;0m\u001b[38;2;255;255;255mmodel.\n",
            "181 0.0 0.8037749 0.06286172 \u001b[48;2;77;0;0m\u001b[38;2;255;255;255mThe \u001b[48;2;264;0;0m\u001b[38;2;255;255;255mtraining \u001b[48;2;0;0;114m\u001b[38;2;255;255;255mis \u001b[48;2;94;0;0m\u001b[38;2;255;255;255mperformed \u001b[48;2;0;0;113m\u001b[38;2;255;255;255musing \u001b[48;2;0;0;0m\u001b[38;2;255;255;255mSVM, \u001b[48;2;156;0;0m\u001b[38;2;255;255;255mLogistic \u001b[48;2;0;0;0m\u001b[38;2;255;255;255mRegression, \u001b[48;2;0;0;60m\u001b[38;2;255;255;255mand \u001b[48;2;0;0;0m\u001b[38;2;255;255;255mCRF, \u001b[48;2;0;0;0m\u001b[38;2;255;255;255mrespectively.\n",
            "182 1.0 0.6594789 0.2149906 \u001b[48;2;283;0;0m\u001b[38;2;255;255;255mWe \u001b[48;2;14;0;0m\u001b[38;2;255;255;255muse \u001b[48;2;0;0;0m\u001b[38;2;255;255;255m10-fold \u001b[48;2;0;0;0m\u001b[38;2;255;255;255mcross-validation \u001b[48;2;0;0;107m\u001b[38;2;255;255;255mfor \u001b[48;2;0;0;4m\u001b[38;2;255;255;255mtraining \u001b[48;2;0;0;71m\u001b[38;2;255;255;255mand \u001b[48;2;0;0;0m\u001b[38;2;255;255;255mtesting.\n",
            "183 0.0 0.77603036 0.03913781 \u001b[48;2;207;0;0m\u001b[38;2;255;255;255mTable \u001b[48;2;39;0;0m\u001b[38;2;255;255;255m6 \u001b[48;2;199;0;0m\u001b[38;2;255;255;255mlists \u001b[48;2;0;0;53m\u001b[38;2;255;255;255mthe \u001b[48;2;0;0;0m\u001b[38;2;255;255;255mprecision, \u001b[48;2;0;0;0m\u001b[38;2;255;255;255mrecall, \u001b[48;2;0;0;104m\u001b[38;2;255;255;255mand \u001b[48;2;76;0;0m\u001b[38;2;255;255;255mF1 \u001b[48;2;0;0;83m\u001b[38;2;255;255;255mfor \u001b[48;2;0;0;53m\u001b[38;2;255;255;255mthe \u001b[48;2;0;0;13m\u001b[38;2;255;255;255mthree \u001b[48;2;0;0;0m\u001b[38;2;255;255;255mmodel.\n",
            "184 -1.0 0.53751713 -0.13196827 \u001b[48;2;0;0;0m\u001b[38;2;255;255;255m13https://spacy.io/ \u001b[48;2;0;0;142m\u001b[38;2;255;255;255m5 \u001b[48;2;0;0;4m\u001b[38;2;255;255;255mRESULTS \u001b[48;2;0;0;93m\u001b[38;2;255;255;255mAs \u001b[48;2;0;0;11m\u001b[38;2;255;255;255mshown \u001b[48;2;0;0;156m\u001b[38;2;255;255;255min \u001b[48;2;152;0;0m\u001b[38;2;255;255;255mTable \u001b[48;2;0;0;0m\u001b[38;2;255;255;255m4, \u001b[48;2;278;0;0m\u001b[38;2;255;255;255mPhocus \u001b[48;2;2;0;0m\u001b[38;2;255;255;255mfigures \u001b[48;2;0;0;2m\u001b[38;2;255;255;255mout \u001b[48;2;0;0;150m\u001b[38;2;255;255;255mthat \u001b[48;2;0;0;114m\u001b[38;2;255;255;255mthe \u001b[48;2;139;0;0m\u001b[38;2;255;255;255mglobal \u001b[48;2;0;0;46m\u001b[38;2;255;255;255macademic \u001b[48;2;116;0;0m\u001b[38;2;255;255;255minfluential \u001b[48;2;283;0;0m\u001b[38;2;255;255;255mfactors \u001b[48;2;0;0;148m\u001b[38;2;255;255;255mof \u001b[48;2;105;0;0m\u001b[38;2;255;255;255mscholar \u001b[48;2;63;0;0m\u001b[38;2;255;255;255mY \u001b[48;2;88;0;0m\u001b[38;2;255;255;255mand \u001b[48;2;0;0;95m\u001b[38;2;255;255;255mPatrick \u001b[48;2;0;0;136m\u001b[38;2;255;255;255mHanrahan \u001b[48;2;0;0;79m\u001b[38;2;255;255;255mare \u001b[48;2;0;0;0m\u001b[38;2;255;255;255m0.40 \u001b[48;2;88;0;0m\u001b[38;2;255;255;255mand \u001b[48;2;0;0;0m\u001b[38;2;255;255;255m0.52 \u001b[48;2;0;0;0m\u001b[38;2;255;255;255mrespectively, \u001b[48;2;88;0;0m\u001b[38;2;255;255;255mand \u001b[48;2;0;0;95m\u001b[38;2;255;255;255mPatrick \u001b[48;2;0;0;136m\u001b[38;2;255;255;255mHanrahan \u001b[48;2;55;0;0m\u001b[38;2;255;255;255mis \u001b[48;2;0;0;0m\u001b[38;2;255;255;255m30% \u001b[48;2;383;0;0m\u001b[38;2;255;255;255mhigher \u001b[48;2;0;0;22m\u001b[38;2;255;255;255mthan \u001b[48;2;105;0;0m\u001b[38;2;255;255;255mscholar \u001b[48;2;0;0;0m\u001b[38;2;255;255;255mY.\n",
            "185 -1.0 0.6161946 -0.09371985 \u001b[48;2;0;0;0m\u001b[38;2;255;255;255mIt’s \u001b[48;2;0;0;154m\u001b[38;2;255;255;255mthe \u001b[48;2;0;0;44m\u001b[38;2;255;255;255mresults \u001b[48;2;0;0;167m\u001b[38;2;255;255;255mthat \u001b[48;2;0;0;14m\u001b[38;2;255;255;255monly \u001b[48;2;0;0;116m\u001b[38;2;255;255;255mutilize \u001b[48;2;174;0;0m\u001b[38;2;255;255;255mprimary \u001b[48;2;63;0;0m\u001b[38;2;255;255;255mcitation \u001b[48;2;0;0;0m\u001b[38;2;255;255;255mdata.\n",
            "186 -1.0 0.6530272 -0.11223403 \u001b[48;2;336;0;0m\u001b[38;2;255;255;255mWhile \u001b[48;2;0;0;109m\u001b[38;2;255;255;255mthe \u001b[48;2;0;0;35m\u001b[38;2;255;255;255mevaluation \u001b[48;2;0;0;21m\u001b[38;2;255;255;255mresults \u001b[48;2;0;0;155m\u001b[38;2;255;255;255mfrom \u001b[48;2;0;0;0m\u001b[38;2;255;255;255mAminer, \u001b[48;2;0;0;139m\u001b[38;2;255;255;255mGoogle \u001b[48;2;0;0;32m\u001b[38;2;255;255;255mscholar \u001b[48;2;15;0;0m\u001b[38;2;255;255;255mand \u001b[48;2;14;0;0m\u001b[38;2;255;255;255meven \u001b[48;2;0;0;96m\u001b[38;2;255;255;255mSemantic \u001b[48;2;0;0;32m\u001b[38;2;255;255;255mscholar \u001b[48;2;41;0;0m\u001b[38;2;255;255;255mshows \u001b[48;2;0;0;264m\u001b[38;2;255;255;255mthat \u001b[48;2;0;0;32m\u001b[38;2;255;255;255mscholar \u001b[48;2;55;0;0m\u001b[38;2;255;255;255mY \u001b[48;2;139;0;0m\u001b[38;2;255;255;255mis \u001b[48;2;176;0;0m\u001b[38;2;255;255;255mmore \u001b[48;2;211;0;0m\u001b[38;2;255;255;255mproductive \u001b[48;2;15;0;0m\u001b[38;2;255;255;255mand \u001b[48;2;78;0;0m\u001b[38;2;255;255;255minfluential \u001b[48;2;12;0;0m\u001b[38;2;255;255;255mthan \u001b[48;2;0;0;53m\u001b[38;2;255;255;255mPatrick \u001b[48;2;0;0;0m\u001b[38;2;255;255;255mHanrahan.\n",
            "187 0.0 0.9210105 0.025794558 \u001b[48;2;0;0;90m\u001b[38;2;255;255;255m6 \u001b[48;2;0;0;130m\u001b[38;2;255;255;255mCONCLUSION \u001b[48;2;0;0;194m\u001b[38;2;255;255;255mIn \u001b[48;2;0;0;51m\u001b[38;2;255;255;255mthis \u001b[48;2;0;0;0m\u001b[38;2;255;255;255mpaper, \u001b[48;2;230;0;0m\u001b[38;2;255;255;255mwe \u001b[48;2;184;0;0m\u001b[38;2;255;255;255mcome \u001b[48;2;294;0;0m\u001b[38;2;255;255;255mup \u001b[48;2;0;0;181m\u001b[38;2;255;255;255mwith \u001b[48;2;0;0;0m\u001b[38;2;255;255;255mPhocus, \u001b[48;2;0;0;99m\u001b[38;2;255;255;255ma \u001b[48;2;334;0;0m\u001b[38;2;255;255;255mnovel \u001b[48;2;83;0;0m\u001b[38;2;255;255;255mset \u001b[48;2;0;0;194m\u001b[38;2;255;255;255mof \u001b[48;2;81;0;0m\u001b[38;2;255;255;255macademic \u001b[48;2;134;0;0m\u001b[38;2;255;255;255mevaluation \u001b[48;2;18;0;0m\u001b[38;2;255;255;255mmetrics \u001b[48;2;0;0;67m\u001b[38;2;255;255;255mfor \u001b[48;2;0;0;62m\u001b[38;2;255;255;255mauthors \u001b[48;2;81;0;0m\u001b[38;2;255;255;255mand \u001b[48;2;46;0;0m\u001b[38;2;255;255;255mpublications \u001b[48;2;0;0;10m\u001b[38;2;255;255;255mbased \u001b[48;2;0;0;88m\u001b[38;2;255;255;255mon \u001b[48;2;0;0;85m\u001b[38;2;255;255;255mcitation \u001b[48;2;0;0;127m\u001b[38;2;255;255;255mjudgements \u001b[48;2;0;0;116m\u001b[38;2;255;255;255mthat \u001b[48;2;0;0;200m\u001b[38;2;255;255;255mutilize \u001b[48;2;0;0;0m\u001b[38;2;255;255;255maspect-based \u001b[48;2;36;0;0m\u001b[38;2;255;255;255msentiment \u001b[48;2;0;0;0m\u001b[38;2;255;255;255manalysis.\n",
            "188 1.0 0.81384706 0.27032688 \u001b[48;2;156;0;0m\u001b[38;2;255;255;255mTo \u001b[48;2;66;0;0m\u001b[38;2;255;255;255mverify \u001b[48;2;169;0;0m\u001b[38;2;255;255;255mour \u001b[48;2;0;0;28m\u001b[38;2;255;255;255mevaluation \u001b[48;2;0;0;0m\u001b[38;2;255;255;255mmechanism, \u001b[48;2;140;0;0m\u001b[38;2;255;255;255mpeer \u001b[48;2;0;0;120m\u001b[38;2;255;255;255mcomparison \u001b[48;2;0;0;101m\u001b[38;2;255;255;255mand \u001b[48;2;0;0;288m\u001b[38;2;255;255;255mablation \u001b[48;2;0;0;81m\u001b[38;2;255;255;255mstudies \u001b[48;2;0;0;64m\u001b[38;2;255;255;255mhave \u001b[48;2;179;0;0m\u001b[38;2;255;255;255mbeen \u001b[48;2;0;0;0m\u001b[38;2;255;255;255mconducted.\n",
            "189 0.0 0.5610974 0.13187799 \u001b[48;2;0;0;117m\u001b[38;2;255;255;255mthe \u001b[48;2;122;0;0m\u001b[38;2;255;255;255mresults \u001b[48;2;0;0;74m\u001b[38;2;255;255;255mshow \u001b[48;2;0;0;94m\u001b[38;2;255;255;255mthat \u001b[48;2;109;0;0m\u001b[38;2;255;255;255mour \u001b[48;2;0;0;66m\u001b[38;2;255;255;255mmetrics \u001b[48;2;0;0;49m\u001b[38;2;255;255;255mare \u001b[48;2;64;0;0m\u001b[38;2;255;255;255mable \u001b[48;2;0;0;95m\u001b[38;2;255;255;255mto \u001b[48;2;140;0;0m\u001b[38;2;255;255;255midentify \u001b[48;2;0;0;117m\u001b[38;2;255;255;255mthe \u001b[48;2;251;0;0m\u001b[38;2;255;255;255mtruly \u001b[48;2;391;0;0m\u001b[38;2;255;255;255mworthiness \u001b[48;2;0;0;26m\u001b[38;2;255;255;255mof \u001b[48;2;0;0;203m\u001b[38;2;255;255;255ma \u001b[48;2;70;0;0m\u001b[38;2;255;255;255mpaper \u001b[48;2;41;0;0m\u001b[38;2;255;255;255mor \u001b[48;2;0;0;203m\u001b[38;2;255;255;255ma \u001b[48;2;0;0;0m\u001b[38;2;255;255;255mscholar, \u001b[48;2;0;0;126m\u001b[38;2;255;255;255mwhich \u001b[48;2;0;0;109m\u001b[38;2;255;255;255mis \u001b[48;2;35;0;0m\u001b[38;2;255;255;255mdifficult \u001b[48;2;0;0;95m\u001b[38;2;255;255;255mto \u001b[48;2;83;0;0m\u001b[38;2;255;255;255mcitation \u001b[48;2;128;0;0m\u001b[38;2;255;255;255mtimes \u001b[48;2;97;0;0m\u001b[38;2;255;255;255mbased \u001b[48;2;0;0;0m\u001b[38;2;255;255;255mmetrics, \u001b[48;2;0;0;165m\u001b[38;2;255;255;255mlike \u001b[48;2;0;0;0m\u001b[38;2;255;255;255mh-index, \u001b[48;2;0;0;0m\u001b[38;2;255;255;255mg-index \u001b[48;2;0;0;100m\u001b[38;2;255;255;255mand \u001b[48;2;0;0;0m\u001b[38;2;255;255;255mothers.\n",
            "190 1.0 0.8299846 0.2489496 \u001b[48;2;0;0;182m\u001b[38;2;255;255;255mPhocus \u001b[48;2;108;0;0m\u001b[38;2;255;255;255mstill \u001b[48;2;0;0;116m\u001b[38;2;255;255;255mneed \u001b[48;2;0;0;0m\u001b[38;2;255;255;255mimprovements.\n",
            "191 -1.0 0.57431465 -0.16756499 \u001b[48;2;0;0;34m\u001b[38;2;255;255;255mAs \u001b[48;2;0;0;29m\u001b[38;2;255;255;255mshown \u001b[48;2;0;0;263m\u001b[38;2;255;255;255min \u001b[48;2;0;0;114m\u001b[38;2;255;255;255mSection \u001b[48;2;0;0;0m\u001b[38;2;255;255;255mExper- \u001b[48;2;0;0;0m\u001b[38;2;255;255;255miments, \u001b[48;2;183;0;0m\u001b[38;2;255;255;255mwe \u001b[48;2;215;0;0m\u001b[38;2;255;255;255monly \u001b[48;2;0;0;166m\u001b[38;2;255;255;255muse \u001b[48;2;123;0;0m\u001b[38;2;255;255;255mprimary \u001b[48;2;0;0;37m\u001b[38;2;255;255;255mcitation \u001b[48;2;0;0;0m\u001b[38;2;255;255;255mdata, \u001b[48;2;0;0;143m\u001b[38;2;255;255;255mwhich \u001b[48;2;0;0;29m\u001b[38;2;255;255;255mis \u001b[48;2;201;0;0m\u001b[38;2;255;255;255mnot \u001b[48;2;16;0;0m\u001b[38;2;255;255;255menough \u001b[48;2;0;0;159m\u001b[38;2;255;255;255mto \u001b[48;2;52;0;0m\u001b[38;2;255;255;255mfully \u001b[48;2;226;0;0m\u001b[38;2;255;255;255mprove \u001b[48;2;31;0;0m\u001b[38;2;255;255;255mthe \u001b[48;2;0;0;82m\u001b[38;2;255;255;255mreliability \u001b[48;2;0;0;134m\u001b[38;2;255;255;255mof \u001b[48;2;0;0;0m\u001b[38;2;255;255;255mPhocus.\n",
            "192 1.0 0.51410145 0.16153763 \u001b[48;2;0;0;0m\u001b[38;2;255;255;255mBesides, \u001b[48;2;0;0;250m\u001b[38;2;255;255;255musing \u001b[48;2;5;0;0m\u001b[38;2;255;255;255mmore \u001b[48;2;131;0;0m\u001b[38;2;255;255;255mdata \u001b[48;2;151;0;0m\u001b[38;2;255;255;255msuch \u001b[48;2;0;0;235m\u001b[38;2;255;255;255mas \u001b[48;2;44;0;0m\u001b[38;2;255;255;255msecondary \u001b[48;2;0;0;60m\u001b[38;2;255;255;255mand \u001b[48;2;2;0;0m\u001b[38;2;255;255;255mtertiary \u001b[48;2;0;0;78m\u001b[38;2;255;255;255mcitations \u001b[48;2;0;0;11m\u001b[38;2;255;255;255mcould \u001b[48;2;166;0;0m\u001b[38;2;255;255;255mfurther \u001b[48;2;128;0;0m\u001b[38;2;255;255;255mreflect \u001b[48;2;0;0;98m\u001b[38;2;255;255;255mthe \u001b[48;2;168;0;0m\u001b[38;2;255;255;255mgaps \u001b[48;2;154;0;0m\u001b[38;2;255;255;255mbetween \u001b[48;2;59;0;0m\u001b[38;2;255;255;255mscholars \u001b[48;2;0;0;60m\u001b[38;2;255;255;255mand \u001b[48;2;154;0;0m\u001b[38;2;255;255;255mbetween \u001b[48;2;0;0;0m\u001b[38;2;255;255;255mmetrics.\n",
            "193 1.0 0.48693487 0.14511934 \u001b[48;2;0;0;137m\u001b[38;2;255;255;255mThere \u001b[48;2;0;0;21m\u001b[38;2;255;255;255mare \u001b[48;2;295;0;0m\u001b[38;2;255;255;255mstill \u001b[48;2;97;0;0m\u001b[38;2;255;255;255mmany \u001b[48;2;55;0;0m\u001b[38;2;255;255;255mproblems \u001b[48;2;0;0;0m\u001b[38;2;255;255;255munsolved, \u001b[48;2;0;0;2m\u001b[38;2;255;255;255msuch \u001b[48;2;0;0;237m\u001b[38;2;255;255;255mas \u001b[48;2;0;0;0m\u001b[38;2;255;255;255m“citation \u001b[48;2;0;0;0m\u001b[38;2;255;255;255mcircles” \u001b[48;2;0;0;0m\u001b[38;2;255;255;255m(groups \u001b[48;2;0;0;173m\u001b[38;2;255;255;255mof \u001b[48;2;79;0;0m\u001b[38;2;255;255;255mresearchers \u001b[48;2;60;0;0m\u001b[38;2;255;255;255mwho \u001b[48;2;0;0;77m\u001b[38;2;255;255;255mcite \u001b[48;2;58;0;0m\u001b[38;2;255;255;255mone \u001b[48;2;0;0;0m\u001b[38;2;255;255;255manother’s \u001b[48;2;0;0;0m\u001b[38;2;255;255;255mwork), \u001b[48;2;0;0;44m\u001b[38;2;255;255;255mand \u001b[48;2;0;0;0m\u001b[38;2;255;255;255mself-citation.\n"
          ]
        }
      ]
    },
    {
      "cell_type": "code",
      "source": [
        "errs"
      ],
      "metadata": {
        "id": "sfr8lMzYMJNq",
        "outputId": "15f2441c-98fb-42fc-f82e-1a7b99df1fce",
        "colab": {
          "base_uri": "https://localhost:8080/"
        }
      },
      "execution_count": 181,
      "outputs": [
        {
          "output_type": "execute_result",
          "data": {
            "text/plain": [
              "[0, 89, 137]"
            ]
          },
          "metadata": {},
          "execution_count": 181
        }
      ]
    },
    {
      "cell_type": "code",
      "source": [
        "print(color_by_attn(content[86],tokenizer,preprocesser_model,encoder_model))"
      ],
      "metadata": {
        "id": "5W-uSOK4MKgk",
        "outputId": "47509aa2-4ec2-40a6-d5b2-d187fd5e516d",
        "colab": {
          "base_uri": "https://localhost:8080/",
          "height": 312
        }
      },
      "execution_count": null,
      "outputs": [
        {
          "output_type": "error",
          "ename": "IndexError",
          "evalue": "ignored",
          "traceback": [
            "\u001b[0;31m---------------------------------------------------------------------------\u001b[0m",
            "\u001b[0;31mIndexError\u001b[0m                                Traceback (most recent call last)",
            "\u001b[0;32m<ipython-input-51-9a638c6f8473>\u001b[0m in \u001b[0;36m<module>\u001b[0;34m()\u001b[0m\n\u001b[0;32m----> 1\u001b[0;31m \u001b[0mprint\u001b[0m\u001b[0;34m(\u001b[0m\u001b[0mcolor_by_attn\u001b[0m\u001b[0;34m(\u001b[0m\u001b[0mcontent\u001b[0m\u001b[0;34m[\u001b[0m\u001b[0;36m86\u001b[0m\u001b[0;34m]\u001b[0m\u001b[0;34m,\u001b[0m\u001b[0mtokenizer\u001b[0m\u001b[0;34m,\u001b[0m\u001b[0mpreprocesser_model\u001b[0m\u001b[0;34m,\u001b[0m\u001b[0mencoder_model\u001b[0m\u001b[0;34m)\u001b[0m\u001b[0;34m)\u001b[0m\u001b[0;34m\u001b[0m\u001b[0;34m\u001b[0m\u001b[0m\n\u001b[0m",
            "\u001b[0;32m<ipython-input-44-0f6592054b79>\u001b[0m in \u001b[0;36mcolor_by_attn\u001b[0;34m(text, toker, preper, encoder)\u001b[0m\n\u001b[1;32m      4\u001b[0m   \u001b[0mprocessed\u001b[0m\u001b[0;34m=\u001b[0m \u001b[0mprocess_for_input\u001b[0m\u001b[0;34m(\u001b[0m\u001b[0mtext\u001b[0m\u001b[0;34m)\u001b[0m\u001b[0;34m\u001b[0m\u001b[0;34m\u001b[0m\u001b[0m\n\u001b[1;32m      5\u001b[0m \u001b[0;34m\u001b[0m\u001b[0m\n\u001b[0;32m----> 6\u001b[0;31m   \u001b[0mwords\u001b[0m\u001b[0;34m,\u001b[0m \u001b[0mat\u001b[0m\u001b[0;34m=\u001b[0m\u001b[0mget_attn_for_words\u001b[0m\u001b[0;34m(\u001b[0m\u001b[0mprocessed\u001b[0m\u001b[0;34m,\u001b[0m\u001b[0mtokenizer\u001b[0m\u001b[0;34m,\u001b[0m\u001b[0mpreprocesser_model\u001b[0m\u001b[0;34m,\u001b[0m\u001b[0mencoder_model\u001b[0m\u001b[0;34m)\u001b[0m\u001b[0;34m\u001b[0m\u001b[0;34m\u001b[0m\u001b[0m\n\u001b[0m\u001b[1;32m      7\u001b[0m \u001b[0;34m\u001b[0m\u001b[0m\n\u001b[1;32m      8\u001b[0m   \u001b[0mws\u001b[0m\u001b[0;34m=\u001b[0m\u001b[0mconv_bytes_strs\u001b[0m\u001b[0;34m(\u001b[0m\u001b[0mwords\u001b[0m\u001b[0;34m)\u001b[0m\u001b[0;34m\u001b[0m\u001b[0;34m\u001b[0m\u001b[0m\n",
            "\u001b[0;32m<ipython-input-39-3ba09b0bc540>\u001b[0m in \u001b[0;36mget_attn_for_words\u001b[0;34m(context, tokenizer, prep, encoder)\u001b[0m\n\u001b[1;32m     12\u001b[0m   \u001b[0;32mfor\u001b[0m \u001b[0mi\u001b[0m\u001b[0;34m,\u001b[0m\u001b[0mtok\u001b[0m \u001b[0;32min\u001b[0m \u001b[0menumerate\u001b[0m\u001b[0;34m(\u001b[0m\u001b[0mtokens\u001b[0m\u001b[0;34m)\u001b[0m\u001b[0;34m:\u001b[0m\u001b[0;34m\u001b[0m\u001b[0;34m\u001b[0m\u001b[0m\n\u001b[1;32m     13\u001b[0m     \u001b[0;32mif\u001b[0m \u001b[0;32mnot\u001b[0m \u001b[0mindicies\u001b[0m\u001b[0;34m[\u001b[0m\u001b[0mi\u001b[0m\u001b[0;34m]\u001b[0m\u001b[0;34m:\u001b[0m\u001b[0;34m\u001b[0m\u001b[0;34m\u001b[0m\u001b[0m\n\u001b[0;32m---> 14\u001b[0;31m       \u001b[0mattn\u001b[0m\u001b[0;34m[\u001b[0m\u001b[0;36m0\u001b[0m\u001b[0;34m]\u001b[0m\u001b[0;34m[\u001b[0m\u001b[0mix\u001b[0m\u001b[0;34m]\u001b[0m\u001b[0;34m+=\u001b[0m\u001b[0mattn\u001b[0m\u001b[0;34m[\u001b[0m\u001b[0;36m0\u001b[0m\u001b[0;34m]\u001b[0m\u001b[0;34m[\u001b[0m\u001b[0mi\u001b[0m\u001b[0;34m]\u001b[0m\u001b[0;34m\u001b[0m\u001b[0;34m\u001b[0m\u001b[0m\n\u001b[0m\u001b[1;32m     15\u001b[0m       \u001b[0mfull_words\u001b[0m\u001b[0;34m[\u001b[0m\u001b[0mix\u001b[0m\u001b[0;34m]\u001b[0m\u001b[0;34m+=\u001b[0m\u001b[0mtok\u001b[0m\u001b[0;34m[\u001b[0m\u001b[0;36m2\u001b[0m\u001b[0;34m:\u001b[0m\u001b[0;34m]\u001b[0m\u001b[0;34m\u001b[0m\u001b[0;34m\u001b[0m\u001b[0m\n\u001b[1;32m     16\u001b[0m     \u001b[0;32melse\u001b[0m\u001b[0;34m:\u001b[0m\u001b[0;34m\u001b[0m\u001b[0;34m\u001b[0m\u001b[0m\n",
            "\u001b[0;31mIndexError\u001b[0m: index 131 is out of bounds for axis 0 with size 125"
          ]
        }
      ]
    },
    {
      "cell_type": "code",
      "source": [
        "content[134]"
      ],
      "metadata": {
        "id": "igoZJhU3MWaO"
      },
      "execution_count": null,
      "outputs": []
    },
    {
      "cell_type": "code",
      "source": [
        "re.split('\\d{1,}https:',content[134]) #remove subscripts"
      ],
      "metadata": {
        "id": "_BQ6mWooOfj5"
      },
      "execution_count": null,
      "outputs": []
    },
    {
      "cell_type": "code",
      "source": [
        "re.split('Table \\d{1,}:',content[134]) #remove tables"
      ],
      "metadata": {
        "id": "mwEOZ1WSPiAc"
      },
      "execution_count": null,
      "outputs": []
    },
    {
      "cell_type": "code",
      "source": [
        "re.split('Figure \\d{1,}:',content[134]) #remove tables"
      ],
      "metadata": {
        "id": "YtulqK88P_wX"
      },
      "execution_count": null,
      "outputs": []
    }
  ],
  "metadata": {
    "colab": {
      "name": "input.ipynb",
      "provenance": [],
      "toc_visible": true
    },
    "kernelspec": {
      "display_name": "Python 3",
      "name": "python3"
    },
    "language_info": {
      "name": "python"
    },
    "orig_nbformat": 4
  },
  "nbformat": 4,
  "nbformat_minor": 0
}